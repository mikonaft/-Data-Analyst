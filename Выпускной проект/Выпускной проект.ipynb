{
 "cells": [
  {
   "cell_type": "markdown",
   "metadata": {},
   "source": [
    "# E-commerce — Выявление профилей потребления"
   ]
  },
  {
   "cell_type": "markdown",
   "metadata": {},
   "source": [
    "## Материалы:\n",
    "* [Презентация](https://docs.google.com/presentation/d/1u6BVBcCylTOCx4NNpXACgtzV1U5LRiEIIMdhxvSyHM0/edit?usp=sharing)"
   ]
  },
  {
   "cell_type": "markdown",
   "metadata": {},
   "source": [
    "## Описание проекта"
   ]
  },
  {
   "cell_type": "markdown",
   "metadata": {},
   "source": [
    "Интернет-магазин товаров для дома «Пока все ещё тут» в срочном порядке ищет аналитиков. \n",
    "\n",
    "Вы поможете нашему магазину стать лучше, а клиентам — обустроить дом своей мечты. Наши ближайшие задачи — расчёт метрик и создание гипотез на основе полученных данных.\n",
    "«Пока все ещё тут» — мы создаём уют!"
   ]
  },
  {
   "cell_type": "markdown",
   "metadata": {},
   "source": [
    "## Задачи проекта"
   ]
  },
  {
   "cell_type": "markdown",
   "metadata": {},
   "source": [
    "   - Сегментировать покупателей по профилю потребления\n",
    "   - Проведите исследовательский анализ данных\n",
    "   - Сегментируйте покупателей на основе истории их покупок"
   ]
  },
  {
   "cell_type": "markdown",
   "metadata": {},
   "source": [
    "## Описание данных"
   ]
  },
  {
   "cell_type": "markdown",
   "metadata": {},
   "source": [
    "Датасет описывает транзакции интернет-магазина товаров для дома и быта «Пока\n",
    "все ещё тут».\n",
    "\n",
    "Колонки в `/datasets/ecom_dataset_upd.csv`:\n",
    "   - `date` — дата заказа;\n",
    "   - `customer_id` — идентификатор покупателя;\n",
    "   - `order_id` — идентификатор заказа;\n",
    "   - `product` — наименование товара;\n",
    "   - `quantity` — количество товара в заказе;\n",
    "   - `price` — цена товара."
   ]
  },
  {
   "cell_type": "markdown",
   "metadata": {},
   "source": [
    "## Этапы исследования проекта"
   ]
  },
  {
   "cell_type": "markdown",
   "metadata": {},
   "source": [
    "   - Загрузка библиотек и чтение данных\n",
    "   - Предобработка данных\n",
    "   - Исследовательский анализ данных\n",
    "   - Сегментация покупателей, гипотезы\n",
    "   - Выводы\n",
    "   - Презентация\n"
   ]
  },
  {
   "cell_type": "markdown",
   "metadata": {},
   "source": [
    "## Загрузка библиотек и чтение данных"
   ]
  },
  {
   "cell_type": "code",
   "execution_count": 1,
   "metadata": {},
   "outputs": [
    {
     "name": "stdout",
     "output_type": "stream",
     "text": [
      "Requirement already satisfied: nltk in /opt/conda/lib/python3.9/site-packages (3.6.1)\n",
      "Requirement already satisfied: click in /opt/conda/lib/python3.9/site-packages (from nltk) (8.1.3)\n",
      "Requirement already satisfied: joblib in /opt/conda/lib/python3.9/site-packages (from nltk) (1.1.0)\n",
      "Requirement already satisfied: tqdm in /opt/conda/lib/python3.9/site-packages (from nltk) (4.61.2)\n",
      "Requirement already satisfied: regex in /opt/conda/lib/python3.9/site-packages (from nltk) (2022.8.17)\n",
      "Requirement already satisfied: pymorphy2 in /opt/conda/lib/python3.9/site-packages (0.9.1)\n",
      "Requirement already satisfied: docopt>=0.6 in /opt/conda/lib/python3.9/site-packages (from pymorphy2) (0.6.2)\n",
      "Requirement already satisfied: pymorphy2-dicts-ru<3.0,>=2.4 in /opt/conda/lib/python3.9/site-packages (from pymorphy2) (2.4.417127.4579844)\n",
      "Requirement already satisfied: dawg-python>=0.7.1 in /opt/conda/lib/python3.9/site-packages (from pymorphy2) (0.7.2)\n"
     ]
    }
   ],
   "source": [
    "!pip install nltk\n",
    "!pip install pymorphy2"
   ]
  },
  {
   "cell_type": "code",
   "execution_count": 2,
   "metadata": {},
   "outputs": [],
   "source": [
    "import pandas as pd\n",
    "import seaborn as sns\n",
    "import matplotlib.pyplot as plt\n",
    "import numpy as np\n",
    "from sklearn.preprocessing import StandardScaler\n",
    "from scipy.cluster.hierarchy import dendrogram, linkage\n",
    "from sklearn.cluster import KMeans\n",
    "from scipy import stats\n",
    "import pymorphy2\n",
    "import urllib\n",
    "morph = pymorphy2.MorphAnalyzer() #сразу же инициализируем морфанализатор\n",
    "import re\n",
    "import requests\n",
    "from nltk.tokenize import word_tokenize\n",
    "from nltk.corpus import stopwords\n",
    "import warnings\n",
    "warnings.filterwarnings(\"ignore\")"
   ]
  },
  {
   "cell_type": "code",
   "execution_count": 3,
   "metadata": {},
   "outputs": [],
   "source": [
    "pd.options.display.max_colwidth = 100"
   ]
  },
  {
   "cell_type": "code",
   "execution_count": 4,
   "metadata": {},
   "outputs": [],
   "source": [
    "try:\n",
    "    df = pd.read_csv('/datasets/ecomme_dataset_upd.csv')\n",
    "except:\n",
    "    df = pd.read_csv('https://code.s3.yandex.net/datasets/ecom_dataset_upd.csv')"
   ]
  },
  {
   "cell_type": "code",
   "execution_count": 5,
   "metadata": {},
   "outputs": [
    {
     "data": {
      "text/html": [
       "<div>\n",
       "<style scoped>\n",
       "    .dataframe tbody tr th:only-of-type {\n",
       "        vertical-align: middle;\n",
       "    }\n",
       "\n",
       "    .dataframe tbody tr th {\n",
       "        vertical-align: top;\n",
       "    }\n",
       "\n",
       "    .dataframe thead th {\n",
       "        text-align: right;\n",
       "    }\n",
       "</style>\n",
       "<table border=\"1\" class=\"dataframe\">\n",
       "  <thead>\n",
       "    <tr style=\"text-align: right;\">\n",
       "      <th></th>\n",
       "      <th>date</th>\n",
       "      <th>customer_id</th>\n",
       "      <th>order_id</th>\n",
       "      <th>product</th>\n",
       "      <th>quantity</th>\n",
       "      <th>price</th>\n",
       "    </tr>\n",
       "  </thead>\n",
       "  <tbody>\n",
       "    <tr>\n",
       "      <th>0</th>\n",
       "      <td>2018100100</td>\n",
       "      <td>ee47d746-6d2f-4d3c-9622-c31412542920</td>\n",
       "      <td>68477</td>\n",
       "      <td>Комнатное растение в горшке Алое Вера, d12, h30</td>\n",
       "      <td>1</td>\n",
       "      <td>142.0</td>\n",
       "    </tr>\n",
       "    <tr>\n",
       "      <th>1</th>\n",
       "      <td>2018100100</td>\n",
       "      <td>ee47d746-6d2f-4d3c-9622-c31412542920</td>\n",
       "      <td>68477</td>\n",
       "      <td>Комнатное растение в горшке Кофе Арабика, d12, h25</td>\n",
       "      <td>1</td>\n",
       "      <td>194.0</td>\n",
       "    </tr>\n",
       "    <tr>\n",
       "      <th>2</th>\n",
       "      <td>2018100100</td>\n",
       "      <td>ee47d746-6d2f-4d3c-9622-c31412542920</td>\n",
       "      <td>68477</td>\n",
       "      <td>Радермахера d-12 см h-20 см</td>\n",
       "      <td>1</td>\n",
       "      <td>112.0</td>\n",
       "    </tr>\n",
       "    <tr>\n",
       "      <th>3</th>\n",
       "      <td>2018100100</td>\n",
       "      <td>ee47d746-6d2f-4d3c-9622-c31412542920</td>\n",
       "      <td>68477</td>\n",
       "      <td>Хризолидокарпус Лутесценс d-9 см</td>\n",
       "      <td>1</td>\n",
       "      <td>179.0</td>\n",
       "    </tr>\n",
       "    <tr>\n",
       "      <th>4</th>\n",
       "      <td>2018100100</td>\n",
       "      <td>ee47d746-6d2f-4d3c-9622-c31412542920</td>\n",
       "      <td>68477</td>\n",
       "      <td>Циперус Зумула d-12 см h-25 см</td>\n",
       "      <td>1</td>\n",
       "      <td>112.0</td>\n",
       "    </tr>\n",
       "  </tbody>\n",
       "</table>\n",
       "</div>"
      ],
      "text/plain": [
       "         date                           customer_id  order_id  \\\n",
       "0  2018100100  ee47d746-6d2f-4d3c-9622-c31412542920     68477   \n",
       "1  2018100100  ee47d746-6d2f-4d3c-9622-c31412542920     68477   \n",
       "2  2018100100  ee47d746-6d2f-4d3c-9622-c31412542920     68477   \n",
       "3  2018100100  ee47d746-6d2f-4d3c-9622-c31412542920     68477   \n",
       "4  2018100100  ee47d746-6d2f-4d3c-9622-c31412542920     68477   \n",
       "\n",
       "                                              product  quantity  price  \n",
       "0     Комнатное растение в горшке Алое Вера, d12, h30         1  142.0  \n",
       "1  Комнатное растение в горшке Кофе Арабика, d12, h25         1  194.0  \n",
       "2                         Радермахера d-12 см h-20 см         1  112.0  \n",
       "3                    Хризолидокарпус Лутесценс d-9 см         1  179.0  \n",
       "4                      Циперус Зумула d-12 см h-25 см         1  112.0  "
      ]
     },
     "execution_count": 5,
     "metadata": {},
     "output_type": "execute_result"
    }
   ],
   "source": [
    "# Посмотрим на первые 5 строк датасета\n",
    "df.head()"
   ]
  },
  {
   "cell_type": "code",
   "execution_count": 6,
   "metadata": {},
   "outputs": [
    {
     "name": "stdout",
     "output_type": "stream",
     "text": [
      "<class 'pandas.core.frame.DataFrame'>\n",
      "RangeIndex: 7474 entries, 0 to 7473\n",
      "Data columns (total 6 columns):\n",
      " #   Column       Non-Null Count  Dtype  \n",
      "---  ------       --------------  -----  \n",
      " 0   date         7474 non-null   int64  \n",
      " 1   customer_id  7474 non-null   object \n",
      " 2   order_id     7474 non-null   int64  \n",
      " 3   product      7474 non-null   object \n",
      " 4   quantity     7474 non-null   int64  \n",
      " 5   price        7474 non-null   float64\n",
      "dtypes: float64(1), int64(3), object(2)\n",
      "memory usage: 350.5+ KB\n"
     ]
    }
   ],
   "source": [
    "# Посмотрим общую информацию о датасете\n",
    "df.info()"
   ]
  },
  {
   "cell_type": "markdown",
   "metadata": {},
   "source": [
    "В рамках предобработки предполагается выполнить следующие действия:\n",
    "\n",
    "* Проверить таблицу на наличие полных дубликатов\n",
    "* Количество 7474 значений во всех столбцах указывает на отсутствие пропусков в данных\n",
    "* Привести тип в столбце `date` к типу даты из формата целого числа"
   ]
  },
  {
   "cell_type": "markdown",
   "metadata": {},
   "source": [
    "## Предобработка данных"
   ]
  },
  {
   "cell_type": "markdown",
   "metadata": {},
   "source": [
    "### Работа с столбцом даты"
   ]
  },
  {
   "cell_type": "markdown",
   "metadata": {},
   "source": [
    "Как и было отмечено в первичном анализе датасета, столбец `date` необходимо перевести в формат даты."
   ]
  },
  {
   "cell_type": "code",
   "execution_count": 7,
   "metadata": {},
   "outputs": [],
   "source": [
    "df['date'] = pd.to_datetime(df['date'], format='%Y%m%d%H')"
   ]
  },
  {
   "cell_type": "code",
   "execution_count": 8,
   "metadata": {},
   "outputs": [
    {
     "data": {
      "text/plain": [
       "0      2018-10-01 00:00:00\n",
       "1      2018-10-01 00:00:00\n",
       "2      2018-10-01 00:00:00\n",
       "3      2018-10-01 00:00:00\n",
       "4      2018-10-01 00:00:00\n",
       "               ...        \n",
       "7469   2020-01-30 21:00:00\n",
       "7470   2020-01-30 22:00:00\n",
       "7471   2020-01-31 02:00:00\n",
       "7472   2020-01-31 12:00:00\n",
       "7473   2020-01-31 15:00:00\n",
       "Name: date, Length: 7474, dtype: datetime64[ns]"
      ]
     },
     "execution_count": 8,
     "metadata": {},
     "output_type": "execute_result"
    }
   ],
   "source": [
    "df['date']"
   ]
  },
  {
   "cell_type": "markdown",
   "metadata": {},
   "source": [
    "Подготовим дополнительные столбцы с датой без времени, с временем, месяцем и днем недели для дальнейшего изучения"
   ]
  },
  {
   "cell_type": "code",
   "execution_count": 9,
   "metadata": {},
   "outputs": [],
   "source": [
    "df['month'] = df['date'].values.astype('datetime64[M]')"
   ]
  },
  {
   "cell_type": "markdown",
   "metadata": {},
   "source": [
    "Посмотрим какой временной отрезок охватывает датасет"
   ]
  },
  {
   "cell_type": "code",
   "execution_count": 10,
   "metadata": {},
   "outputs": [
    {
     "name": "stdout",
     "output_type": "stream",
     "text": [
      "Самая раняя дата: 2018-10-01 00:00:00\n",
      "Самая поздняя дата: 2020-01-31 15:00:00\n",
      "Количество дней в исследуемом периоде: 487\n"
     ]
    }
   ],
   "source": [
    "print('Самая раняя дата:', np.min(df['date']))\n",
    "print('Самая поздняя дата:', np.max(df['date']))\n",
    "print('Количество дней в исследуемом периоде:', (np.max(df['date']) - np.min(df['date'])).days)"
   ]
  },
  {
   "cell_type": "markdown",
   "metadata": {},
   "source": [
    "Как мы видим датасет охватывает период с 1 октября 2018 года по 31 января 2020 года, но целиком представлен лишь 2019 год, что мешает корректно сравнивать показатели по годам."
   ]
  },
  {
   "cell_type": "markdown",
   "metadata": {},
   "source": [
    "### Проверка на пропуски"
   ]
  },
  {
   "cell_type": "markdown",
   "metadata": {},
   "source": [
    "Проверим отсутствие пропусков в данных"
   ]
  },
  {
   "cell_type": "code",
   "execution_count": 11,
   "metadata": {},
   "outputs": [
    {
     "data": {
      "text/plain": [
       "date           0\n",
       "customer_id    0\n",
       "order_id       0\n",
       "product        0\n",
       "quantity       0\n",
       "price          0\n",
       "month          0\n",
       "dtype: int64"
      ]
     },
     "execution_count": 11,
     "metadata": {},
     "output_type": "execute_result"
    }
   ],
   "source": [
    "df.isna().sum()"
   ]
  },
  {
   "cell_type": "markdown",
   "metadata": {},
   "source": [
    "Как и подметили в первичном осмотре данных пропуски в столбцах отсутствуют."
   ]
  },
  {
   "cell_type": "markdown",
   "metadata": {},
   "source": [
    "### Проверка на дубликаты"
   ]
  },
  {
   "cell_type": "markdown",
   "metadata": {},
   "source": [
    "Проверим отсутствие дубликатов в данных"
   ]
  },
  {
   "cell_type": "code",
   "execution_count": 12,
   "metadata": {},
   "outputs": [
    {
     "name": "stdout",
     "output_type": "stream",
     "text": [
      "Количество полных дубликатов в данных: 0\n"
     ]
    }
   ],
   "source": [
    "print('Количество полных дубликатов в данных:', sum(df.duplicated()))"
   ]
  },
  {
   "cell_type": "markdown",
   "metadata": {},
   "source": [
    "Приведем столбец `product` к нижнему регистру для поиска неявных дубликатов"
   ]
  },
  {
   "cell_type": "code",
   "execution_count": 13,
   "metadata": {},
   "outputs": [],
   "source": [
    "df['product'] = df['product'].replace({'ё': 'е', 'Ё': 'Е',' {2,}': ' '}, regex=True)\\\n",
    "                             .str.strip()"
   ]
  },
  {
   "cell_type": "markdown",
   "metadata": {},
   "source": [
    "Как видим, полных дубликатов в таблице нет."
   ]
  },
  {
   "cell_type": "markdown",
   "metadata": {},
   "source": [
    "Посчитаем количество клиентов и заказов в оригинальном датасете."
   ]
  },
  {
   "cell_type": "code",
   "execution_count": 14,
   "metadata": {},
   "outputs": [
    {
     "name": "stdout",
     "output_type": "stream",
     "text": [
      "Количество клиентов: 2451\n",
      "Количество заказов: 3521\n"
     ]
    }
   ],
   "source": [
    "print('Количество клиентов:',df['customer_id'].nunique())\n",
    "print('Количество заказов:',df['order_id'].nunique())"
   ]
  },
  {
   "cell_type": "markdown",
   "metadata": {},
   "source": [
    "В датасете мы имеем 2451 уникальных клиентов, которые совершили 3521 заказов на общую сумму 5 357 944 рублей."
   ]
  },
  {
   "cell_type": "code",
   "execution_count": 15,
   "metadata": {},
   "outputs": [
    {
     "data": {
      "text/html": [
       "<div>\n",
       "<style scoped>\n",
       "    .dataframe tbody tr th:only-of-type {\n",
       "        vertical-align: middle;\n",
       "    }\n",
       "\n",
       "    .dataframe tbody tr th {\n",
       "        vertical-align: top;\n",
       "    }\n",
       "\n",
       "    .dataframe thead th {\n",
       "        text-align: right;\n",
       "    }\n",
       "</style>\n",
       "<table border=\"1\" class=\"dataframe\">\n",
       "  <thead>\n",
       "    <tr style=\"text-align: right;\">\n",
       "      <th></th>\n",
       "      <th>date</th>\n",
       "      <th>customer_id</th>\n",
       "      <th>order_id</th>\n",
       "      <th>product</th>\n",
       "      <th>quantity</th>\n",
       "      <th>price</th>\n",
       "      <th>month</th>\n",
       "    </tr>\n",
       "  </thead>\n",
       "  <tbody>\n",
       "    <tr>\n",
       "      <th>15</th>\n",
       "      <td>2018-10-01 18:00:00</td>\n",
       "      <td>17213b88-1514-47a4-b8aa-ce51378ab34e</td>\n",
       "      <td>68476</td>\n",
       "      <td>Мини-сковорода Marmiton \"Сердце\" с антипригарным покрытием 12 см, LG17085</td>\n",
       "      <td>1</td>\n",
       "      <td>239.0</td>\n",
       "      <td>2018-10-01</td>\n",
       "    </tr>\n",
       "    <tr>\n",
       "      <th>16</th>\n",
       "      <td>2018-10-01 18:00:00</td>\n",
       "      <td>17213b88-1514-47a4-b8aa-ce51378ab34e</td>\n",
       "      <td>68476</td>\n",
       "      <td>Сковорода алюминиевая с антипригарным покрытием MARBLE ALPENKOK d = 26 см AK-0039A/26N</td>\n",
       "      <td>1</td>\n",
       "      <td>824.0</td>\n",
       "      <td>2018-10-01</td>\n",
       "    </tr>\n",
       "    <tr>\n",
       "      <th>17</th>\n",
       "      <td>2018-10-01 18:00:00</td>\n",
       "      <td>17213b88-1514-47a4-b8aa-ce51378ab34e</td>\n",
       "      <td>68476</td>\n",
       "      <td>Стеклянная крышка для сковороды ALPENKOK 26 см AK-26GL</td>\n",
       "      <td>1</td>\n",
       "      <td>262.0</td>\n",
       "      <td>2018-10-01</td>\n",
       "    </tr>\n",
       "    <tr>\n",
       "      <th>18</th>\n",
       "      <td>2018-10-01 18:00:00</td>\n",
       "      <td>17213b88-1514-47a4-b8aa-ce51378ab34e</td>\n",
       "      <td>68476</td>\n",
       "      <td>Сушилка для белья напольная Colombo Star 18, 3679</td>\n",
       "      <td>1</td>\n",
       "      <td>1049.0</td>\n",
       "      <td>2018-10-01</td>\n",
       "    </tr>\n",
       "    <tr>\n",
       "      <th>19</th>\n",
       "      <td>2018-10-01 21:00:00</td>\n",
       "      <td>b731df05-98fa-4610-8496-716ec530a02c</td>\n",
       "      <td>68474</td>\n",
       "      <td>Доска гладильная Eurogold Professional 130х48 см металлическая сетка 35748W</td>\n",
       "      <td>1</td>\n",
       "      <td>3299.0</td>\n",
       "      <td>2018-10-01</td>\n",
       "    </tr>\n",
       "    <tr>\n",
       "      <th>...</th>\n",
       "      <td>...</td>\n",
       "      <td>...</td>\n",
       "      <td>...</td>\n",
       "      <td>...</td>\n",
       "      <td>...</td>\n",
       "      <td>...</td>\n",
       "      <td>...</td>\n",
       "    </tr>\n",
       "    <tr>\n",
       "      <th>6716</th>\n",
       "      <td>2019-10-30 07:00:00</td>\n",
       "      <td>ffaeab76-3a8d-49ee-860f-17273b2fc8a2</td>\n",
       "      <td>73136</td>\n",
       "      <td>Таз пластмассовый со стиральной доской (Иж), 1404021</td>\n",
       "      <td>1</td>\n",
       "      <td>397.0</td>\n",
       "      <td>2019-10-01</td>\n",
       "    </tr>\n",
       "    <tr>\n",
       "      <th>6717</th>\n",
       "      <td>2019-10-30 09:00:00</td>\n",
       "      <td>344aa778-e436-419e-a9c6-9b8f37b7c1df</td>\n",
       "      <td>73137</td>\n",
       "      <td>Сумка-тележка 2-х колесная Gimi Argo синяя</td>\n",
       "      <td>1</td>\n",
       "      <td>1087.0</td>\n",
       "      <td>2019-10-01</td>\n",
       "    </tr>\n",
       "    <tr>\n",
       "      <th>6728</th>\n",
       "      <td>2019-10-31 00:00:00</td>\n",
       "      <td>ffaeab76-3a8d-49ee-860f-17273b2fc8a2</td>\n",
       "      <td>73136</td>\n",
       "      <td>Таз пластмассовый со стиральной доской (Иж), 1404021</td>\n",
       "      <td>1</td>\n",
       "      <td>397.0</td>\n",
       "      <td>2019-10-01</td>\n",
       "    </tr>\n",
       "    <tr>\n",
       "      <th>6729</th>\n",
       "      <td>2019-10-31 02:00:00</td>\n",
       "      <td>ffaeab76-3a8d-49ee-860f-17273b2fc8a2</td>\n",
       "      <td>73136</td>\n",
       "      <td>Таз пластмассовый со стиральной доской (Иж), 1404021</td>\n",
       "      <td>1</td>\n",
       "      <td>397.0</td>\n",
       "      <td>2019-10-01</td>\n",
       "    </tr>\n",
       "    <tr>\n",
       "      <th>6736</th>\n",
       "      <td>2019-10-31 16:00:00</td>\n",
       "      <td>344aa778-e436-419e-a9c6-9b8f37b7c1df</td>\n",
       "      <td>73137</td>\n",
       "      <td>Сумка-тележка 2-х колесная Gimi Argo синяя</td>\n",
       "      <td>1</td>\n",
       "      <td>1087.0</td>\n",
       "      <td>2019-10-01</td>\n",
       "    </tr>\n",
       "  </tbody>\n",
       "</table>\n",
       "<p>2369 rows × 7 columns</p>\n",
       "</div>"
      ],
      "text/plain": [
       "                    date                           customer_id  order_id  \\\n",
       "15   2018-10-01 18:00:00  17213b88-1514-47a4-b8aa-ce51378ab34e     68476   \n",
       "16   2018-10-01 18:00:00  17213b88-1514-47a4-b8aa-ce51378ab34e     68476   \n",
       "17   2018-10-01 18:00:00  17213b88-1514-47a4-b8aa-ce51378ab34e     68476   \n",
       "18   2018-10-01 18:00:00  17213b88-1514-47a4-b8aa-ce51378ab34e     68476   \n",
       "19   2018-10-01 21:00:00  b731df05-98fa-4610-8496-716ec530a02c     68474   \n",
       "...                  ...                                   ...       ...   \n",
       "6716 2019-10-30 07:00:00  ffaeab76-3a8d-49ee-860f-17273b2fc8a2     73136   \n",
       "6717 2019-10-30 09:00:00  344aa778-e436-419e-a9c6-9b8f37b7c1df     73137   \n",
       "6728 2019-10-31 00:00:00  ffaeab76-3a8d-49ee-860f-17273b2fc8a2     73136   \n",
       "6729 2019-10-31 02:00:00  ffaeab76-3a8d-49ee-860f-17273b2fc8a2     73136   \n",
       "6736 2019-10-31 16:00:00  344aa778-e436-419e-a9c6-9b8f37b7c1df     73137   \n",
       "\n",
       "                                                                                     product  \\\n",
       "15                 Мини-сковорода Marmiton \"Сердце\" с антипригарным покрытием 12 см, LG17085   \n",
       "16    Сковорода алюминиевая с антипригарным покрытием MARBLE ALPENKOK d = 26 см AK-0039A/26N   \n",
       "17                                    Стеклянная крышка для сковороды ALPENKOK 26 см AK-26GL   \n",
       "18                                         Сушилка для белья напольная Colombo Star 18, 3679   \n",
       "19               Доска гладильная Eurogold Professional 130х48 см металлическая сетка 35748W   \n",
       "...                                                                                      ...   \n",
       "6716                                    Таз пластмассовый со стиральной доской (Иж), 1404021   \n",
       "6717                                              Сумка-тележка 2-х колесная Gimi Argo синяя   \n",
       "6728                                    Таз пластмассовый со стиральной доской (Иж), 1404021   \n",
       "6729                                    Таз пластмассовый со стиральной доской (Иж), 1404021   \n",
       "6736                                              Сумка-тележка 2-х колесная Gimi Argo синяя   \n",
       "\n",
       "      quantity   price      month  \n",
       "15           1   239.0 2018-10-01  \n",
       "16           1   824.0 2018-10-01  \n",
       "17           1   262.0 2018-10-01  \n",
       "18           1  1049.0 2018-10-01  \n",
       "19           1  3299.0 2018-10-01  \n",
       "...        ...     ...        ...  \n",
       "6716         1   397.0 2019-10-01  \n",
       "6717         1  1087.0 2019-10-01  \n",
       "6728         1   397.0 2019-10-01  \n",
       "6729         1   397.0 2019-10-01  \n",
       "6736         1  1087.0 2019-10-01  \n",
       "\n",
       "[2369 rows x 7 columns]"
      ]
     },
     "execution_count": 15,
     "metadata": {},
     "output_type": "execute_result"
    }
   ],
   "source": [
    "df[df.duplicated(subset = ['customer_id', 'order_id', 'product', 'quantity', 'price'], \\\n",
    "                 keep=False)]"
   ]
  },
  {
   "cell_type": "markdown",
   "metadata": {},
   "source": [
    "То есть клиент в одном заказе покупает разные позиции и все они проходят под одним id заказа (тут все логично), но мы видим, что есть такие заказы (к примеру, 73136), где покупается один и тот же товар одним и тем же клиентом, в одном и том же количестве, по одной и той же цене, под одним id заказа, но при этом в разное время. Это похоже на задублированные заказы. Если их оставить, то это может исказить данные нашего исследования. Отфильтруем такие заказы.\n",
    "\n",
    "Уберем параметр keep=False, только первая запись будет считаться уникальной, а все остальные одинаковые будут считаться дубликатами."
   ]
  },
  {
   "cell_type": "code",
   "execution_count": 16,
   "metadata": {},
   "outputs": [
    {
     "data": {
      "text/plain": [
       "'Процент задублированных заказов: 24.9%'"
      ]
     },
     "execution_count": 16,
     "metadata": {},
     "output_type": "execute_result"
    }
   ],
   "source": [
    "\"Процент задублированных заказов: {:.1%}\".format(\\\n",
    "    len(df[df.duplicated(subset=['customer_id','order_id', 'product', 'quantity', 'price'])])\n",
    "                                                 / df.shape[0]\n",
    "                                                )"
   ]
  },
  {
   "cell_type": "code",
   "execution_count": 17,
   "metadata": {},
   "outputs": [
    {
     "data": {
      "text/plain": [
       "'Количество строк в датасете с задублированными заказами: 1864'"
      ]
     },
     "execution_count": 17,
     "metadata": {},
     "output_type": "execute_result"
    }
   ],
   "source": [
    "f\"Количество строк в датасете с задублированными заказами: {len(df[df.duplicated(subset = ['customer_id', 'order_id', 'product', 'quantity', 'price'])])}\""
   ]
  },
  {
   "cell_type": "markdown",
   "metadata": {},
   "source": [
    "Будем считать актуальным тот заказ, который был совершен самым последним по дате.\n",
    "\n",
    "Удаляем из нашего датасета строки с одинаковыми customer_id, order_id, product, 'quantity', 'price' и оставляем только самую последнюю строку-дубли"
   ]
  },
  {
   "cell_type": "code",
   "execution_count": 18,
   "metadata": {},
   "outputs": [],
   "source": [
    "df = df.sort_values(by='date')\\\n",
    ".drop_duplicates(subset = ['customer_id', 'order_id', 'product', 'quantity', 'price'],\\\n",
    "                 keep='last')"
   ]
  },
  {
   "cell_type": "markdown",
   "metadata": {},
   "source": [
    "Проверим ранее задублированный заказ 73136."
   ]
  },
  {
   "cell_type": "code",
   "execution_count": 19,
   "metadata": {},
   "outputs": [
    {
     "data": {
      "text/html": [
       "<div>\n",
       "<style scoped>\n",
       "    .dataframe tbody tr th:only-of-type {\n",
       "        vertical-align: middle;\n",
       "    }\n",
       "\n",
       "    .dataframe tbody tr th {\n",
       "        vertical-align: top;\n",
       "    }\n",
       "\n",
       "    .dataframe thead th {\n",
       "        text-align: right;\n",
       "    }\n",
       "</style>\n",
       "<table border=\"1\" class=\"dataframe\">\n",
       "  <thead>\n",
       "    <tr style=\"text-align: right;\">\n",
       "      <th></th>\n",
       "      <th>date</th>\n",
       "      <th>customer_id</th>\n",
       "      <th>order_id</th>\n",
       "      <th>product</th>\n",
       "      <th>quantity</th>\n",
       "      <th>price</th>\n",
       "      <th>month</th>\n",
       "    </tr>\n",
       "  </thead>\n",
       "  <tbody>\n",
       "    <tr>\n",
       "      <th>6729</th>\n",
       "      <td>2019-10-31 02:00:00</td>\n",
       "      <td>ffaeab76-3a8d-49ee-860f-17273b2fc8a2</td>\n",
       "      <td>73136</td>\n",
       "      <td>Таз пластмассовый со стиральной доской (Иж), 1404021</td>\n",
       "      <td>1</td>\n",
       "      <td>397.0</td>\n",
       "      <td>2019-10-01</td>\n",
       "    </tr>\n",
       "  </tbody>\n",
       "</table>\n",
       "</div>"
      ],
      "text/plain": [
       "                    date                           customer_id  order_id  \\\n",
       "6729 2019-10-31 02:00:00  ffaeab76-3a8d-49ee-860f-17273b2fc8a2     73136   \n",
       "\n",
       "                                                   product  quantity  price  \\\n",
       "6729  Таз пластмассовый со стиральной доской (Иж), 1404021         1  397.0   \n",
       "\n",
       "          month  \n",
       "6729 2019-10-01  "
      ]
     },
     "execution_count": 19,
     "metadata": {},
     "output_type": "execute_result"
    }
   ],
   "source": [
    "df.query('order_id==73136')"
   ]
  },
  {
   "cell_type": "markdown",
   "metadata": {},
   "source": [
    "Все в порядке: остался только самый поздний по дате заказ пластмассового таза со стиральной доской.\n",
    "\n",
    "Теперь еще посмотрим на строки, где одинаковые айдишники заказа и купленные товары."
   ]
  },
  {
   "cell_type": "code",
   "execution_count": 20,
   "metadata": {},
   "outputs": [
    {
     "data": {
      "text/html": [
       "<div>\n",
       "<style scoped>\n",
       "    .dataframe tbody tr th:only-of-type {\n",
       "        vertical-align: middle;\n",
       "    }\n",
       "\n",
       "    .dataframe tbody tr th {\n",
       "        vertical-align: top;\n",
       "    }\n",
       "\n",
       "    .dataframe thead th {\n",
       "        text-align: right;\n",
       "    }\n",
       "</style>\n",
       "<table border=\"1\" class=\"dataframe\">\n",
       "  <thead>\n",
       "    <tr style=\"text-align: right;\">\n",
       "      <th></th>\n",
       "      <th>date</th>\n",
       "      <th>customer_id</th>\n",
       "      <th>order_id</th>\n",
       "      <th>product</th>\n",
       "      <th>quantity</th>\n",
       "      <th>price</th>\n",
       "      <th>month</th>\n",
       "    </tr>\n",
       "  </thead>\n",
       "  <tbody>\n",
       "    <tr>\n",
       "      <th>512</th>\n",
       "      <td>2018-10-28 22:00:00</td>\n",
       "      <td>0b5ce2c7-acef-4a9a-b821-61a44ed05557</td>\n",
       "      <td>68785</td>\n",
       "      <td>Сиденье в ванну раздвижное, белый, СВ5, НИКА</td>\n",
       "      <td>1</td>\n",
       "      <td>374.0</td>\n",
       "      <td>2018-10-01</td>\n",
       "    </tr>\n",
       "    <tr>\n",
       "      <th>538</th>\n",
       "      <td>2018-10-30 21:00:00</td>\n",
       "      <td>c1dd5c0e-51db-4a5d-91a3-5374cb20043d</td>\n",
       "      <td>68785</td>\n",
       "      <td>Сиденье в ванну раздвижное, белый, СВ5, НИКА</td>\n",
       "      <td>1</td>\n",
       "      <td>374.0</td>\n",
       "      <td>2018-10-01</td>\n",
       "    </tr>\n",
       "    <tr>\n",
       "      <th>1154</th>\n",
       "      <td>2018-12-10 12:00:00</td>\n",
       "      <td>2f955596-4b13-432e-93f3-6433395aafe6</td>\n",
       "      <td>69283</td>\n",
       "      <td>Сушилка для белья на батарею НИКА СБ6-65 двухъярусная</td>\n",
       "      <td>1</td>\n",
       "      <td>164.0</td>\n",
       "      <td>2018-12-01</td>\n",
       "    </tr>\n",
       "    <tr>\n",
       "      <th>1160</th>\n",
       "      <td>2018-12-10 16:00:00</td>\n",
       "      <td>e3805ccd-2d64-4d0e-92dd-902293555c35</td>\n",
       "      <td>69283</td>\n",
       "      <td>Сушилка для белья на батарею НИКА СБ6-65 двухъярусная</td>\n",
       "      <td>1</td>\n",
       "      <td>164.0</td>\n",
       "      <td>2018-12-01</td>\n",
       "    </tr>\n",
       "    <tr>\n",
       "      <th>1196</th>\n",
       "      <td>2018-12-13 19:00:00</td>\n",
       "      <td>70d60304-4b3c-4f34-9430-1872ec6e6309</td>\n",
       "      <td>69345</td>\n",
       "      <td>Сушилка для белья Attribute ПРИМА 18 м синяя ADP618</td>\n",
       "      <td>1</td>\n",
       "      <td>974.0</td>\n",
       "      <td>2018-12-01</td>\n",
       "    </tr>\n",
       "    <tr>\n",
       "      <th>...</th>\n",
       "      <td>...</td>\n",
       "      <td>...</td>\n",
       "      <td>...</td>\n",
       "      <td>...</td>\n",
       "      <td>...</td>\n",
       "      <td>...</td>\n",
       "      <td>...</td>\n",
       "    </tr>\n",
       "    <tr>\n",
       "      <th>6508</th>\n",
       "      <td>2019-10-04 08:00:00</td>\n",
       "      <td>25a8cd52-3efa-48ee-a6bd-d413d7e2b42f</td>\n",
       "      <td>72845</td>\n",
       "      <td>Муляж Яблоко зеленый 9 см полиуретан</td>\n",
       "      <td>40</td>\n",
       "      <td>59.0</td>\n",
       "      <td>2019-10-01</td>\n",
       "    </tr>\n",
       "    <tr>\n",
       "      <th>6538</th>\n",
       "      <td>2019-10-07 20:00:00</td>\n",
       "      <td>2ac05362-3ca7-4d19-899c-7ba266902611</td>\n",
       "      <td>72845</td>\n",
       "      <td>Муляж Яблоко зеленый 9 см полиуретан</td>\n",
       "      <td>40</td>\n",
       "      <td>59.0</td>\n",
       "      <td>2019-10-01</td>\n",
       "    </tr>\n",
       "    <tr>\n",
       "      <th>6576</th>\n",
       "      <td>2019-10-10 22:00:00</td>\n",
       "      <td>31a39955-8a93-42f3-8839-04a9693632a7</td>\n",
       "      <td>72778</td>\n",
       "      <td>Шеффлера Голд Капелла d-12 см h-25 см</td>\n",
       "      <td>1</td>\n",
       "      <td>149.0</td>\n",
       "      <td>2019-10-01</td>\n",
       "    </tr>\n",
       "    <tr>\n",
       "      <th>6601</th>\n",
       "      <td>2019-10-13 15:00:00</td>\n",
       "      <td>b1dbc7c4-3c84-40a7-80c9-46e2f79d24ad</td>\n",
       "      <td>72950</td>\n",
       "      <td>Кастрюля эмалированная Стэма С-1624 12 л цилиндрическая без рисунка 1506037</td>\n",
       "      <td>1</td>\n",
       "      <td>974.0</td>\n",
       "      <td>2019-10-01</td>\n",
       "    </tr>\n",
       "    <tr>\n",
       "      <th>6606</th>\n",
       "      <td>2019-10-14 09:00:00</td>\n",
       "      <td>2f1671cc-47eb-49bb-a40b-808375f4218b</td>\n",
       "      <td>72950</td>\n",
       "      <td>Кастрюля эмалированная Стэма С-1624 12 л цилиндрическая без рисунка 1506037</td>\n",
       "      <td>1</td>\n",
       "      <td>974.0</td>\n",
       "      <td>2019-10-01</td>\n",
       "    </tr>\n",
       "  </tbody>\n",
       "</table>\n",
       "<p>63 rows × 7 columns</p>\n",
       "</div>"
      ],
      "text/plain": [
       "                    date                           customer_id  order_id  \\\n",
       "512  2018-10-28 22:00:00  0b5ce2c7-acef-4a9a-b821-61a44ed05557     68785   \n",
       "538  2018-10-30 21:00:00  c1dd5c0e-51db-4a5d-91a3-5374cb20043d     68785   \n",
       "1154 2018-12-10 12:00:00  2f955596-4b13-432e-93f3-6433395aafe6     69283   \n",
       "1160 2018-12-10 16:00:00  e3805ccd-2d64-4d0e-92dd-902293555c35     69283   \n",
       "1196 2018-12-13 19:00:00  70d60304-4b3c-4f34-9430-1872ec6e6309     69345   \n",
       "...                  ...                                   ...       ...   \n",
       "6508 2019-10-04 08:00:00  25a8cd52-3efa-48ee-a6bd-d413d7e2b42f     72845   \n",
       "6538 2019-10-07 20:00:00  2ac05362-3ca7-4d19-899c-7ba266902611     72845   \n",
       "6576 2019-10-10 22:00:00  31a39955-8a93-42f3-8839-04a9693632a7     72778   \n",
       "6601 2019-10-13 15:00:00  b1dbc7c4-3c84-40a7-80c9-46e2f79d24ad     72950   \n",
       "6606 2019-10-14 09:00:00  2f1671cc-47eb-49bb-a40b-808375f4218b     72950   \n",
       "\n",
       "                                                                          product  \\\n",
       "512                                  Сиденье в ванну раздвижное, белый, СВ5, НИКА   \n",
       "538                                  Сиденье в ванну раздвижное, белый, СВ5, НИКА   \n",
       "1154                        Сушилка для белья на батарею НИКА СБ6-65 двухъярусная   \n",
       "1160                        Сушилка для белья на батарею НИКА СБ6-65 двухъярусная   \n",
       "1196                          Сушилка для белья Attribute ПРИМА 18 м синяя ADP618   \n",
       "...                                                                           ...   \n",
       "6508                                         Муляж Яблоко зеленый 9 см полиуретан   \n",
       "6538                                         Муляж Яблоко зеленый 9 см полиуретан   \n",
       "6576                                        Шеффлера Голд Капелла d-12 см h-25 см   \n",
       "6601  Кастрюля эмалированная Стэма С-1624 12 л цилиндрическая без рисунка 1506037   \n",
       "6606  Кастрюля эмалированная Стэма С-1624 12 л цилиндрическая без рисунка 1506037   \n",
       "\n",
       "      quantity  price      month  \n",
       "512          1  374.0 2018-10-01  \n",
       "538          1  374.0 2018-10-01  \n",
       "1154         1  164.0 2018-12-01  \n",
       "1160         1  164.0 2018-12-01  \n",
       "1196         1  974.0 2018-12-01  \n",
       "...        ...    ...        ...  \n",
       "6508        40   59.0 2019-10-01  \n",
       "6538        40   59.0 2019-10-01  \n",
       "6576         1  149.0 2019-10-01  \n",
       "6601         1  974.0 2019-10-01  \n",
       "6606         1  974.0 2019-10-01  \n",
       "\n",
       "[63 rows x 7 columns]"
      ]
     },
     "execution_count": 20,
     "metadata": {},
     "output_type": "execute_result"
    }
   ],
   "source": [
    "df[df.duplicated(subset=['order_id', 'product', 'price', 'quantity'], keep=False)]"
   ]
  },
  {
   "cell_type": "code",
   "execution_count": 21,
   "metadata": {},
   "outputs": [
    {
     "data": {
      "text/plain": [
       "'Процент одинаковых заказов c одинаковым айди у разных пользователей 0.6%'"
      ]
     },
     "execution_count": 21,
     "metadata": {},
     "output_type": "execute_result"
    }
   ],
   "source": [
    "f\"Процент одинаковых заказов c одинаковым айди у разных пользователей {len(df[df.duplicated(subset=['order_id', 'product', 'quantity', 'price'])])/df.shape[0]:.1%}\""
   ]
  },
  {
   "cell_type": "markdown",
   "metadata": {},
   "source": [
    "Один и тот же заказ, сделанный разными пользователями. Это, похоже, на ошибку. Удалим их все из нашего датасета."
   ]
  },
  {
   "cell_type": "code",
   "execution_count": 22,
   "metadata": {},
   "outputs": [],
   "source": [
    "df = df.drop_duplicates(subset=['order_id', 'product', 'quantity', 'price'], keep=False)"
   ]
  },
  {
   "cell_type": "code",
   "execution_count": 23,
   "metadata": {},
   "outputs": [
    {
     "name": "stdout",
     "output_type": "stream",
     "text": [
      "<class 'pandas.core.frame.DataFrame'>\n",
      "Int64Index: 5547 entries, 0 to 7473\n",
      "Data columns (total 7 columns):\n",
      " #   Column       Non-Null Count  Dtype         \n",
      "---  ------       --------------  -----         \n",
      " 0   date         5547 non-null   datetime64[ns]\n",
      " 1   customer_id  5547 non-null   object        \n",
      " 2   order_id     5547 non-null   int64         \n",
      " 3   product      5547 non-null   object        \n",
      " 4   quantity     5547 non-null   int64         \n",
      " 5   price        5547 non-null   float64       \n",
      " 6   month        5547 non-null   datetime64[ns]\n",
      "dtypes: datetime64[ns](2), float64(1), int64(2), object(2)\n",
      "memory usage: 346.7+ KB\n"
     ]
    }
   ],
   "source": [
    "df.info()"
   ]
  },
  {
   "cell_type": "markdown",
   "metadata": {},
   "source": [
    "### Работа с данными в датасете"
   ]
  },
  {
   "cell_type": "markdown",
   "metadata": {},
   "source": [
    "Добавим столбец с выручкой "
   ]
  },
  {
   "cell_type": "code",
   "execution_count": 24,
   "metadata": {},
   "outputs": [],
   "source": [
    "df['total_price'] = df['quantity'] * df['price']"
   ]
  },
  {
   "cell_type": "markdown",
   "metadata": {},
   "source": [
    "Посмотрим общую выручку по всему датасету"
   ]
  },
  {
   "cell_type": "code",
   "execution_count": 25,
   "metadata": {},
   "outputs": [
    {
     "name": "stdout",
     "output_type": "stream",
     "text": [
      "Общая выручка равна: 4602612.42 рублей\n"
     ]
    }
   ],
   "source": [
    "print('Общая выручка равна:', round(df['total_price'].sum(), 2), 'рублей')"
   ]
  },
  {
   "cell_type": "code",
   "execution_count": 26,
   "metadata": {},
   "outputs": [
    {
     "name": "stdout",
     "output_type": "stream",
     "text": [
      "Количество клиентов: 2415\n",
      "Количество заказов: 3494\n"
     ]
    }
   ],
   "source": [
    "print('Количество клиентов:',df['customer_id'].nunique())\n",
    "print('Количество заказов:',df['order_id'].nunique())"
   ]
  },
  {
   "cell_type": "markdown",
   "metadata": {},
   "source": [
    "### Выводы по предобработке данных"
   ]
  },
  {
   "cell_type": "markdown",
   "metadata": {},
   "source": [
    "По итогам предобработки данных следующие выводы:\n",
    "- 2415 уникальных клиентов\n",
    "- 3494 заказов\n",
    "- Пропуски и дубликаты отсутствуют\n",
    "- Период составляет 487 дней (менее 1.5 года) c 2018 по 2020 годы\n",
    "- Поле даты было приведено к формату даты"
   ]
  },
  {
   "cell_type": "markdown",
   "metadata": {},
   "source": [
    "## Исследовательский анализ данных"
   ]
  },
  {
   "cell_type": "markdown",
   "metadata": {},
   "source": [
    "### Определение товарных категорий"
   ]
  },
  {
   "cell_type": "code",
   "execution_count": 27,
   "metadata": {},
   "outputs": [],
   "source": [
    "\"\"\" Функция для предобработки и токенизации текста:\n",
    "\n",
    "Функция очищает строку от знаков препинания, токенизирует (разбивает на слова) с помощью токенизатора из библиотеки nltk,\n",
    "убирает стоп-слова, слова, проверяет, есть ли в слове смесь букв из кириллицы и латиницы, если да - заменяет латинские буквы на кириллические\n",
    "и оставляет в списке только слова с буквами русского алфавита и дефисом, где не меньше 3 символа. \n",
    "\n",
    "Аргументы:\n",
    "    text - строка \n",
    "    \n",
    "Вывод:\n",
    "    good_tokens - список слов \n",
    "\"\"\"\n",
    "def preprocessing(text):\n",
    "    # удаляем пунктуацию\n",
    "    text = re.sub(r'[!\\\"#$%&\\'()*+,./:;<=>?@^_`{|}~]|( -)|(\\[)|(\\])', '', text)\n",
    "    tokens =  word_tokenize(text)\n",
    "    good_tokens = []\n",
    "    for token in tokens:\n",
    "        # убираем стоп-слова и оставляем только слова, \n",
    "        #в которых кириллические буквы и больше 3\n",
    "        if token not in stopwords.words('russian') and re.fullmatch(r'[ABCEHKMOPTXacpmeoxy-]+[а-яА-Я]{2,}', token) is not None:\n",
    "            #заменяем латинские буквы на кириллические (Tepмокружка)\n",
    "            token = token.translate(str.maketrans('ABCEHKMOPTXacpmeoxy','АВСЕНКМОРТХасрмеоху'))\n",
    "            good_tokens.append(token)\n",
    "        elif token not in stopwords.words('russian') and re.fullmatch(r'[а-яА-Я-]{3,}', token) is not None:\n",
    "            good_tokens.append(token)\n",
    "    return good_tokens"
   ]
  },
  {
   "cell_type": "code",
   "execution_count": 28,
   "metadata": {},
   "outputs": [],
   "source": [
    "\"\"\"\n",
    "Функция для лемматизации текста:\n",
    "\n",
    "Функция берет на вход строку, предобрабатывает ее с помощью встроенной функции preprocessing и возвращает только имена существительные \n",
    "в начальной форме, склеенные в строку через пробел. Для лемматизации и морфологического анализа используется библиотека pymorphy.\n",
    "\n",
    "Аргументы:\n",
    "    text - строка с текстом \n",
    "    \n",
    "Вывод:\n",
    "    key_lemmas - строка со словами в начальной форме. \n",
    "\n",
    "\"\"\"\n",
    "def lemmatize_text(text):\n",
    "    lemmas = []\n",
    "    tokens = preprocessing(text)\n",
    "    #print(tokens)\n",
    "    for token in tokens:\n",
    "        morph_analized = morph.parse(token) # морф анализ\n",
    "        #print(morph_analized[0].word)\n",
    "        if morph_analized[0].word == 'мята': #затычка для \"мяты\" (у pymorphy выигрывает разбор через прилагательное мятый)\n",
    "            lemmas.append('мята')\n",
    "        elif morph_analized[0].word == 'гвоздика': #затычка для \"гвоздики\" (у pymorphy выигрывает разбор через существительное \"гвоздик\")\n",
    "            lemmas.append('гвоздика')\n",
    "        elif morph_analized[0].word == 'петля': # иначе выигрывает анализ через \"петлить\"\n",
    "            lemmas.append('петля')\n",
    "        elif morph_analized[0].word == 'сверел':\n",
    "            lemmas.append('сверло')\n",
    "        elif morph_analized[0].word == 'космея':\n",
    "            lemmas.append('космея')\n",
    "        elif morph_analized[0].word == 'совок':\n",
    "             lemmas.append('совок')\n",
    "        else:\n",
    "            lemmas.append(morph_analized[0].normal_form) #извлекаем лемму-начальную форму слова\n",
    "    #склеиваем список в строку, разделяя леммы пробелом\n",
    "    key_lemmas = ' '.join(lemmas).strip()        \n",
    "    return key_lemmas"
   ]
  },
  {
   "cell_type": "code",
   "execution_count": 29,
   "metadata": {},
   "outputs": [
    {
     "name": "stdout",
     "output_type": "stream",
     "text": [
      "CPU times: user 2 µs, sys: 0 ns, total: 2 µs\n",
      "Wall time: 4.77 µs\n"
     ]
    }
   ],
   "source": [
    "%time\n",
    "df['product_lemmas'] = df['product'].apply(lemmatize_text)"
   ]
  },
  {
   "cell_type": "code",
   "execution_count": 30,
   "metadata": {},
   "outputs": [
    {
     "data": {
      "text/html": [
       "<div>\n",
       "<style scoped>\n",
       "    .dataframe tbody tr th:only-of-type {\n",
       "        vertical-align: middle;\n",
       "    }\n",
       "\n",
       "    .dataframe tbody tr th {\n",
       "        vertical-align: top;\n",
       "    }\n",
       "\n",
       "    .dataframe thead th {\n",
       "        text-align: right;\n",
       "    }\n",
       "</style>\n",
       "<table border=\"1\" class=\"dataframe\">\n",
       "  <thead>\n",
       "    <tr style=\"text-align: right;\">\n",
       "      <th></th>\n",
       "      <th>date</th>\n",
       "      <th>customer_id</th>\n",
       "      <th>order_id</th>\n",
       "      <th>product</th>\n",
       "      <th>quantity</th>\n",
       "      <th>price</th>\n",
       "      <th>month</th>\n",
       "      <th>total_price</th>\n",
       "      <th>product_lemmas</th>\n",
       "    </tr>\n",
       "  </thead>\n",
       "  <tbody>\n",
       "    <tr>\n",
       "      <th>0</th>\n",
       "      <td>2018-10-01</td>\n",
       "      <td>ee47d746-6d2f-4d3c-9622-c31412542920</td>\n",
       "      <td>68477</td>\n",
       "      <td>Комнатное растение в горшке Алое Вера, d12, h30</td>\n",
       "      <td>1</td>\n",
       "      <td>142.0</td>\n",
       "      <td>2018-10-01</td>\n",
       "      <td>142.0</td>\n",
       "      <td>комнатный растение горшок алый вера</td>\n",
       "    </tr>\n",
       "    <tr>\n",
       "      <th>1</th>\n",
       "      <td>2018-10-01</td>\n",
       "      <td>ee47d746-6d2f-4d3c-9622-c31412542920</td>\n",
       "      <td>68477</td>\n",
       "      <td>Комнатное растение в горшке Кофе Арабика, d12, h25</td>\n",
       "      <td>1</td>\n",
       "      <td>194.0</td>\n",
       "      <td>2018-10-01</td>\n",
       "      <td>194.0</td>\n",
       "      <td>комнатный растение горшок кофе арабика</td>\n",
       "    </tr>\n",
       "    <tr>\n",
       "      <th>2</th>\n",
       "      <td>2018-10-01</td>\n",
       "      <td>ee47d746-6d2f-4d3c-9622-c31412542920</td>\n",
       "      <td>68477</td>\n",
       "      <td>Радермахера d-12 см h-20 см</td>\n",
       "      <td>1</td>\n",
       "      <td>112.0</td>\n",
       "      <td>2018-10-01</td>\n",
       "      <td>112.0</td>\n",
       "      <td>радермахер</td>\n",
       "    </tr>\n",
       "    <tr>\n",
       "      <th>3</th>\n",
       "      <td>2018-10-01</td>\n",
       "      <td>ee47d746-6d2f-4d3c-9622-c31412542920</td>\n",
       "      <td>68477</td>\n",
       "      <td>Хризолидокарпус Лутесценс d-9 см</td>\n",
       "      <td>1</td>\n",
       "      <td>179.0</td>\n",
       "      <td>2018-10-01</td>\n",
       "      <td>179.0</td>\n",
       "      <td>хризолидокарпус лутесценс</td>\n",
       "    </tr>\n",
       "    <tr>\n",
       "      <th>4</th>\n",
       "      <td>2018-10-01</td>\n",
       "      <td>ee47d746-6d2f-4d3c-9622-c31412542920</td>\n",
       "      <td>68477</td>\n",
       "      <td>Циперус Зумула d-12 см h-25 см</td>\n",
       "      <td>1</td>\n",
       "      <td>112.0</td>\n",
       "      <td>2018-10-01</td>\n",
       "      <td>112.0</td>\n",
       "      <td>циперус зумул</td>\n",
       "    </tr>\n",
       "  </tbody>\n",
       "</table>\n",
       "</div>"
      ],
      "text/plain": [
       "        date                           customer_id  order_id  \\\n",
       "0 2018-10-01  ee47d746-6d2f-4d3c-9622-c31412542920     68477   \n",
       "1 2018-10-01  ee47d746-6d2f-4d3c-9622-c31412542920     68477   \n",
       "2 2018-10-01  ee47d746-6d2f-4d3c-9622-c31412542920     68477   \n",
       "3 2018-10-01  ee47d746-6d2f-4d3c-9622-c31412542920     68477   \n",
       "4 2018-10-01  ee47d746-6d2f-4d3c-9622-c31412542920     68477   \n",
       "\n",
       "                                              product  quantity  price  \\\n",
       "0     Комнатное растение в горшке Алое Вера, d12, h30         1  142.0   \n",
       "1  Комнатное растение в горшке Кофе Арабика, d12, h25         1  194.0   \n",
       "2                         Радермахера d-12 см h-20 см         1  112.0   \n",
       "3                    Хризолидокарпус Лутесценс d-9 см         1  179.0   \n",
       "4                      Циперус Зумула d-12 см h-25 см         1  112.0   \n",
       "\n",
       "       month  total_price                          product_lemmas  \n",
       "0 2018-10-01        142.0     комнатный растение горшок алый вера  \n",
       "1 2018-10-01        194.0  комнатный растение горшок кофе арабика  \n",
       "2 2018-10-01        112.0                              радермахер  \n",
       "3 2018-10-01        179.0               хризолидокарпус лутесценс  \n",
       "4 2018-10-01        112.0                           циперус зумул  "
      ]
     },
     "execution_count": 30,
     "metadata": {},
     "output_type": "execute_result"
    }
   ],
   "source": [
    "df.head()"
   ]
  },
  {
   "cell_type": "code",
   "execution_count": 31,
   "metadata": {},
   "outputs": [
    {
     "data": {
      "text/plain": [
       "пеларгония розебудный укоренить черенок             234\n",
       "сумка-тележка колёсный синий                         57\n",
       "пеларгония зональный диам сиреневый полумахровый     53\n",
       "сушилка бельё потолочный лиана                       51\n",
       "сумка-тележка хозяйственный синий                    49\n",
       "                                                   ... \n",
       "фиттония скелетон                                     1\n",
       "сумка-тележка хозяйственный оранжевый                 1\n",
       "набор бокал император франция                         1\n",
       "земляника барон солемахер                             1\n",
       "пружина дверной оцинковать крепление                  1\n",
       "Name: product_lemmas, Length: 1986, dtype: int64"
      ]
     },
     "execution_count": 31,
     "metadata": {},
     "output_type": "execute_result"
    }
   ],
   "source": [
    "df['product_lemmas'].value_counts().sort_values(ascending=False)"
   ]
  },
  {
   "cell_type": "markdown",
   "metadata": {},
   "source": [
    "Отдельно создадим список с ключевыми словами - возьмем только первые в названии, если это не набор."
   ]
  },
  {
   "cell_type": "code",
   "execution_count": 32,
   "metadata": {},
   "outputs": [
    {
     "name": "stdout",
     "output_type": "stream",
     "text": [
      "Длина списка с ключевыми словами (существительные и прилагательные): 449\n"
     ]
    }
   ],
   "source": [
    "key_wrds = []\n",
    "for elem in df['product_lemmas'].unique().tolist():\n",
    "    if elem.split()[0] == 'набор': # если набор, нужно смотреть его состав\n",
    "        if elem.split()[1] in key_wrds:\n",
    "            \n",
    "            continue\n",
    "        else:\n",
    "            key_wrds.append(elem.split()[1])\n",
    "    else:\n",
    "        if elem.split()[0] in key_wrds:\n",
    "            continue\n",
    "        else:\n",
    "            key_wrds.append(elem.split()[0])\n",
    "print('Длина списка с ключевыми словами (существительные и прилагательные):', len(key_wrds))"
   ]
  },
  {
   "cell_type": "code",
   "execution_count": 33,
   "metadata": {},
   "outputs": [
    {
     "data": {
      "text/plain": [
       "['комнатный',\n",
       " 'радермахер',\n",
       " 'хризолидокарпус',\n",
       " 'циперус',\n",
       " 'шеффлера',\n",
       " 'юкка',\n",
       " 'таз',\n",
       " 'настенный',\n",
       " 'чехол',\n",
       " 'вешалка']"
      ]
     },
     "execution_count": 33,
     "metadata": {},
     "output_type": "execute_result"
    }
   ],
   "source": [
    "key_wrds[:10]"
   ]
  },
  {
   "cell_type": "markdown",
   "metadata": {},
   "source": [
    "Попробуем убрать прилагательные из этого списка и отсортируем в алфавитном порядке."
   ]
  },
  {
   "cell_type": "code",
   "execution_count": 34,
   "metadata": {},
   "outputs": [
    {
     "name": "stdout",
     "output_type": "stream",
     "text": [
      "Длина списка с ключевыми словами (только существительными): 405\n"
     ]
    },
    {
     "data": {
      "text/plain": [
       "['агератум',\n",
       " 'адиантум',\n",
       " 'азалия',\n",
       " 'аквилегия',\n",
       " 'алиссума',\n",
       " 'алоэ',\n",
       " 'альбук',\n",
       " 'амариллис',\n",
       " 'анемон',\n",
       " 'антижир']"
      ]
     },
     "execution_count": 34,
     "metadata": {},
     "output_type": "execute_result"
    }
   ],
   "source": [
    "for elem in key_wrds:\n",
    "    #убираем прилагательные\n",
    "    if elem.endswith(('ый', 'ий')):\n",
    "        key_wrds.remove(elem)\n",
    "print('Длина списка с ключевыми словами (только существительными):', len(key_wrds))\n",
    "sorted(key_wrds)[:10]"
   ]
  },
  {
   "cell_type": "code",
   "execution_count": 35,
   "metadata": {},
   "outputs": [
    {
     "data": {
      "text/plain": [
       "['автоматический щётка мытьё окно ручка',\n",
       " 'агератум рассада однолетний цвет кассета',\n",
       " 'адиантум лиза',\n",
       " 'азалия индик биколор',\n",
       " 'азалия индик розовый',\n",
       " 'азалия индик фиолетовый',\n",
       " 'аквилегия махровый тауэр смесь окраска объём',\n",
       " 'аквилегия обыкновенный барлоу микс объём',\n",
       " 'алиссума лобулярия снежный одежда',\n",
       " 'алиссума рассада однолетний цвет кассета']"
      ]
     },
     "execution_count": 35,
     "metadata": {},
     "output_type": "execute_result"
    }
   ],
   "source": [
    "sorted(df['product_lemmas'].unique().tolist())[:10]"
   ]
  },
  {
   "cell_type": "markdown",
   "metadata": {},
   "source": [
    "На основе всех этих списков попробуем вручную создать словарь с категориями товаров.\n",
    "\n",
    "Тестовая ячейка для проверки, работы с текстом"
   ]
  },
  {
   "cell_type": "code",
   "execution_count": 36,
   "metadata": {},
   "outputs": [
    {
     "data": {
      "text/html": [
       "<div>\n",
       "<style scoped>\n",
       "    .dataframe tbody tr th:only-of-type {\n",
       "        vertical-align: middle;\n",
       "    }\n",
       "\n",
       "    .dataframe tbody tr th {\n",
       "        vertical-align: top;\n",
       "    }\n",
       "\n",
       "    .dataframe thead th {\n",
       "        text-align: right;\n",
       "    }\n",
       "</style>\n",
       "<table border=\"1\" class=\"dataframe\">\n",
       "  <thead>\n",
       "    <tr style=\"text-align: right;\">\n",
       "      <th></th>\n",
       "      <th>date</th>\n",
       "      <th>customer_id</th>\n",
       "      <th>order_id</th>\n",
       "      <th>product</th>\n",
       "      <th>quantity</th>\n",
       "      <th>price</th>\n",
       "      <th>month</th>\n",
       "      <th>total_price</th>\n",
       "      <th>product_lemmas</th>\n",
       "    </tr>\n",
       "  </thead>\n",
       "  <tbody>\n",
       "    <tr>\n",
       "      <th>12</th>\n",
       "      <td>2018-10-01 13:00:00</td>\n",
       "      <td>4d93d3f6-8b24-403b-a74b-f5173e40d7db</td>\n",
       "      <td>68485</td>\n",
       "      <td>Чехол Eurogold Clean Basic хлопок для досок 120х38-120х42 см C42</td>\n",
       "      <td>1</td>\n",
       "      <td>187.0</td>\n",
       "      <td>2018-10-01</td>\n",
       "      <td>187.0</td>\n",
       "      <td>чехол хлопок доска</td>\n",
       "    </tr>\n",
       "    <tr>\n",
       "      <th>1087</th>\n",
       "      <td>2018-12-03 12:00:00</td>\n",
       "      <td>4c012ce2-d9fa-402b-b07b-9a9a5e405c44</td>\n",
       "      <td>69184</td>\n",
       "      <td>Чехол Eurogold Clean Basic хлопок для досок 120х38-120х42 см C42</td>\n",
       "      <td>1</td>\n",
       "      <td>187.0</td>\n",
       "      <td>2018-12-01</td>\n",
       "      <td>187.0</td>\n",
       "      <td>чехол хлопок доска</td>\n",
       "    </tr>\n",
       "    <tr>\n",
       "      <th>2977</th>\n",
       "      <td>2019-04-20 14:00:00</td>\n",
       "      <td>1a44dab1-2a18-4c95-83a1-b64e4e883f5f</td>\n",
       "      <td>71211</td>\n",
       "      <td>Чехол Eurogold Clean Basic хлопок для досок 120х38-120х42 см C42</td>\n",
       "      <td>1</td>\n",
       "      <td>187.0</td>\n",
       "      <td>2019-04-01</td>\n",
       "      <td>187.0</td>\n",
       "      <td>чехол хлопок доска</td>\n",
       "    </tr>\n",
       "    <tr>\n",
       "      <th>3189</th>\n",
       "      <td>2019-04-26 14:00:00</td>\n",
       "      <td>8f00cdbf-0de2-4bad-a84f-e437ba684f30</td>\n",
       "      <td>71294</td>\n",
       "      <td>Чехол Eurogold Clean Premium хлопок, поролон, для досок 110х30-114x34 см C34F3</td>\n",
       "      <td>1</td>\n",
       "      <td>217.0</td>\n",
       "      <td>2019-04-01</td>\n",
       "      <td>217.0</td>\n",
       "      <td>чехол хлопок поролон доска</td>\n",
       "    </tr>\n",
       "    <tr>\n",
       "      <th>6824</th>\n",
       "      <td>2019-11-10 22:00:00</td>\n",
       "      <td>2a6ab3d5-85c0-47af-81dc-ec0da34d903c</td>\n",
       "      <td>111477</td>\n",
       "      <td>Чехол Eurogold Clean Basic хлопок для досок 120х38-120х42 см C42</td>\n",
       "      <td>1</td>\n",
       "      <td>187.0</td>\n",
       "      <td>2019-11-01</td>\n",
       "      <td>187.0</td>\n",
       "      <td>чехол хлопок доска</td>\n",
       "    </tr>\n",
       "  </tbody>\n",
       "</table>\n",
       "</div>"
      ],
      "text/plain": [
       "                    date                           customer_id  order_id  \\\n",
       "12   2018-10-01 13:00:00  4d93d3f6-8b24-403b-a74b-f5173e40d7db     68485   \n",
       "1087 2018-12-03 12:00:00  4c012ce2-d9fa-402b-b07b-9a9a5e405c44     69184   \n",
       "2977 2019-04-20 14:00:00  1a44dab1-2a18-4c95-83a1-b64e4e883f5f     71211   \n",
       "3189 2019-04-26 14:00:00  8f00cdbf-0de2-4bad-a84f-e437ba684f30     71294   \n",
       "6824 2019-11-10 22:00:00  2a6ab3d5-85c0-47af-81dc-ec0da34d903c    111477   \n",
       "\n",
       "                                                                             product  \\\n",
       "12                  Чехол Eurogold Clean Basic хлопок для досок 120х38-120х42 см C42   \n",
       "1087                Чехол Eurogold Clean Basic хлопок для досок 120х38-120х42 см C42   \n",
       "2977                Чехол Eurogold Clean Basic хлопок для досок 120х38-120х42 см C42   \n",
       "3189  Чехол Eurogold Clean Premium хлопок, поролон, для досок 110х30-114x34 см C34F3   \n",
       "6824                Чехол Eurogold Clean Basic хлопок для досок 120х38-120х42 см C42   \n",
       "\n",
       "      quantity  price      month  total_price              product_lemmas  \n",
       "12           1  187.0 2018-10-01        187.0          чехол хлопок доска  \n",
       "1087         1  187.0 2018-12-01        187.0          чехол хлопок доска  \n",
       "2977         1  187.0 2019-04-01        187.0          чехол хлопок доска  \n",
       "3189         1  217.0 2019-04-01        217.0  чехол хлопок поролон доска  \n",
       "6824         1  187.0 2019-11-01        187.0          чехол хлопок доска  "
      ]
     },
     "execution_count": 36,
     "metadata": {},
     "output_type": "execute_result"
    }
   ],
   "source": [
    "df[df['product_lemmas'].str.contains(r'чехол хлопок')].head()"
   ]
  },
  {
   "cell_type": "markdown",
   "metadata": {},
   "source": [
    "### Словарь категорий товаров"
   ]
  },
  {
   "cell_type": "markdown",
   "metadata": {},
   "source": [
    "Создадим словарь словарных категорий на основе тех списков слов, что мы выделили выше.\n",
    "\n",
    "Ключ словаря - товарная категория. Значения словаря - список лемм, характерных для этой категории."
   ]
  },
  {
   "cell_type": "code",
   "execution_count": 37,
   "metadata": {},
   "outputs": [],
   "source": [
    "product_cats = {'plants_seeds': [\n",
    "    'ампельный',\n",
    "    'вечноцветущий',\n",
    "    'зональный',\n",
    "    'комнатный',\n",
    "    'лекарственный',\n",
    "    'многолетний',\n",
    "    'низкорослый',\n",
    "    'однолетний',\n",
    "    'позднеспелый',\n",
    "    'почвопокровный',\n",
    "    'плющелистный',\n",
    "    'раннеспелый',\n",
    "    'скороспелый',\n",
    "    'среднеспелый',\n",
    "    'розебудный',\n",
    "    'микс объём',\n",
    "    'растение',\n",
    "    'черенок',\n",
    "    'кассета',\n",
    "    'кустовой',\n",
    "    'рассада',\n",
    "    'горшок',\n",
    "    'чашелист',\n",
    "    'чайногибридный',\n",
    "    'одноголовый',\n",
    "    'очиток',\n",
    "    'подвесной кашпо',\n",
    "    'азалия',\n",
    "    'агератум',\n",
    "    'адиантум',\n",
    "    'аквилегия',\n",
    "    'аллисума',\n",
    "    'алоэ вера',\n",
    "    'альбук',\n",
    "    'амариллис',\n",
    "    'анемон',\n",
    "    'алиссума',\n",
    "    'арбуз волгоградец',\n",
    "    'арбуз огонёк',\n",
    "    'арбуз сибирский',\n",
    "    'арбуз холодок',\n",
    "    'арбуз шуга бейбить',\n",
    "    'антуриум',\n",
    "    'аптения',\n",
    "    'артемизия',\n",
    "    'аспарагус',\n",
    "    'афеляндр',\n",
    "    'бадан',\n",
    "    'базилик',\n",
    "    'баклажан самурай',\n",
    "    'бальзамин',\n",
    "    'бакоп',\n",
    "    'барвинок',\n",
    "    'бархатцы',\n",
    "    'бегония',\n",
    "    'буддлей',\n",
    "    'бузульник',\n",
    "    'валериан',\n",
    "    'вербейник',\n",
    "    'вербена',\n",
    "    'вероника',\n",
    "    'виола',\n",
    "    'высокорослый',\n",
    "    'гардения',\n",
    "    'газаний',\n",
    "    'гайлардия',\n",
    "    'гвоздика',\n",
    "    'георгин',\n",
    "    'герань', \n",
    "    'гербер',\n",
    "    'гиацинт',\n",
    "    'гимнокалициум',\n",
    "    'гиностемма',\n",
    "    'гипсофил',\n",
    "    'глоксиния',\n",
    "    'годеция',\n",
    "    'горох',\n",
    "    'гортензия', \n",
    "    'девичий виноград',\n",
    "    'декабрист горшок',\n",
    "    'дендробиум',\n",
    "    'драцена',\n",
    "    'душица',\n",
    "    'дыня алтайский',\n",
    "    'дыня дин',\n",
    "    'дыня золотой',\n",
    "    'дыня колхозница',\n",
    "    'дыня медовый',\n",
    "    'дыня млада',\n",
    "    'дыня награда',\n",
    "    'дыня симпатия',\n",
    "    'ель канадский', \n",
    "    'ель сербский',\n",
    "    'джункус',\n",
    "    'диффенбахий',\n",
    "    'замиокулькас',\n",
    "    'зверобой',\n",
    "    'земляника',\n",
    "    'змееголовник',\n",
    "    'импатиенс',\n",
    "    'иссоп',\n",
    "    'кабачок',\n",
    "    'каланхий',\n",
    "    'калатея',\n",
    "    'календула',\n",
    "    'калибрахоа',\n",
    "    'калла',\n",
    "    'каллуна',\n",
    "    'калоцефалус',\n",
    "    'камнеломка',\n",
    "    'кампанула',\n",
    "    'капсикума',\n",
    "    'капуста', \n",
    "    'кассета',\n",
    "    'кипарисовик',\n",
    "    'клён',\n",
    "    'квадро цвет венга',\n",
    "    'кипарисовик',\n",
    "    'клубника альба',\n",
    "    'клубника мара',\n",
    "    'клубника хонь',\n",
    "    'колокольчик',\n",
    "    'крассула',\n",
    "    'космея ', # затычка, чтобы не ловить таз \"Космея\"\n",
    "    'кореопсис',\n",
    "    'котовник',\n",
    "    'кореопсис',\n",
    "    'кофе ',  # затычка, чтобы не ловить в \"кофейный\"\n",
    "    'лобелия',\n",
    "    'луковица',\n",
    "    'лаванда',\n",
    "    'лаватер',\n",
    "    'лавр',\n",
    "    'лантан',\n",
    "    'лапчатка',\n",
    "    'лен небесный',\n",
    "    'лобулярия',\n",
    "    'литопс',\n",
    "    'мединилла',\n",
    "    'мята',\n",
    "    'мирт',\n",
    "    'мимоза',\n",
    "    'морковь детский',\n",
    "    'молодило',\n",
    "    'муррайя',\n",
    "    'монард',\n",
    "    'нолин',\n",
    "    'незабудка',\n",
    "    'нефролепис',\n",
    "    'настурция',\n",
    "    'нивянник',\n",
    "    'овсянница',\n",
    "    'огурец засолочный',\n",
    "    'осина',\n",
    "    'пеларгония',\n",
    "    'петуния',\n",
    "    'петрушка',\n",
    "    'пиретрум',\n",
    "    'портулак',\n",
    "    'примула',\n",
    "    'пряный трава',\n",
    "    'пуансетие',\n",
    "    'пуансеттие',\n",
    "    'папоротник',\n",
    "    'платикодон',\n",
    "    'пахир',\n",
    "    'пеперомия',\n",
    "    'радермахер', \n",
    "    'роза мини',\n",
    "    'роза корда',\n",
    "    'роза патио',\n",
    "    'роза мин',\n",
    "    'роза палас',\n",
    "    'розмарин',\n",
    "    'ранункулус',\n",
    "    'рудбекия',\n",
    "    'суккулента',\n",
    "    'сантолина',\n",
    "    'салат рукол',\n",
    "    'спатифиллум',\n",
    "    'соланум',\n",
    "    'солидаго',\n",
    "    'скиммия',\n",
    "    'спатифиллум',\n",
    "    'смолёвка',\n",
    "    'сорт ', #затычка чтобы не цеплять \"ассортимент\"\n",
    "    'тимьян',\n",
    "    'томат помидор',\n",
    "    'тюльпан',\n",
    "    'томат балконный',\n",
    "    'хризолидокарпус', \n",
    "    'хризантема',\n",
    "    'чабёр',\n",
    "    'циперус',\n",
    "    'цикламен',\n",
    "    'цинерария',\n",
    "    'цинния',\n",
    "    'цитрофортунелла',\n",
    "    'укроп',\n",
    "    'шеффлера',\n",
    "    'фиалка',\n",
    "    'флокс',\n",
    "    'фиттония',\n",
    "    'фикус',\n",
    "    'фаленопсис',\n",
    "    'фатсия',\n",
    "    'физостегия',\n",
    "    'хамедорей',\n",
    "    'хлорофитум',\n",
    "    'хризантема',\n",
    "    'эхеверие',\n",
    "    'эхинокактус',\n",
    "    'эвкалипт',\n",
    "    'эшшольция',\n",
    "    'эпипремнум',\n",
    "    'эпипремнум',\n",
    "    'энотера',\n",
    "    'эхинокактус',\n",
    "    'юкка',\n",
    "    'ясколка',\n",
    "    'чабёр'],\n",
    "             \n",
    "'kitchen': [\n",
    "    'вилка',\n",
    "    'венчик',\n",
    "    'выпечка',\n",
    "    'ёмкость',\n",
    "    'зажигалка',\n",
    "    'нож',\n",
    "    'банк',\n",
    "    'блюдо',\n",
    "    'блюдце',\n",
    "    'бульонница',\n",
    "    'бокал',\n",
    "    'доска разделочный',\n",
    "    'измельчитель',\n",
    "    'картофелемялка',\n",
    "    'кастрюля',\n",
    "    'кипятильник',\n",
    "    'кисточка',\n",
    "    'ковш',\n",
    "    'коврик сушка',\n",
    "    'кувшин',\n",
    "    'кружка',\n",
    "    'кухонный',\n",
    "    'крышка',\n",
    "    'кондитерский',\n",
    "    'кекс',\n",
    "    'лопатка',\n",
    "    'лоток',\n",
    "    'ложка столовая',\n",
    "    'мантоварка',\n",
    "    'маслёнка',\n",
    "    'миксер',\n",
    "    'миска',\n",
    "    'ножеточка',\n",
    "    'набор столовый',\n",
    "    'овощерезка',\n",
    "    'овощечистка',\n",
    "    'овощеварка',\n",
    "    'орехоколка',\n",
    "    'отделитель',\n",
    "    'противень',\n",
    "    'пресс чеснок',\n",
    "    'пикник',\n",
    "    'половник',\n",
    "    'посуда',\n",
    "    'подставка',\n",
    "    'просеиватель',\n",
    "    'разделочный доска',\n",
    "    'рассекатель',\n",
    "    'рыбочистка',\n",
    "    'сковорода',\n",
    "    'cтоловый',\n",
    "    'соковыжималка',\n",
    "    'стакан',\n",
    "    'салатник',\n",
    "    'салфетка',\n",
    "    'салфетница',\n",
    "    'сахарница',\n",
    "    'сито',\n",
    "    'скалка',\n",
    "    'столовая',\n",
    "    'соковарка',\n",
    "    'сотейник',\n",
    "    'тортница',\n",
    "    'тарелка',\n",
    "    'толкушка',\n",
    "    'тёрка',\n",
    "    'термос',\n",
    "    'фужер',\n",
    "    'штопор',\n",
    "    'экран',\n",
    "    'чайный',\n",
    "    'чайник',\n",
    "    'хлебница',\n",
    "    'яйцо'\n",
    "\n",
    "],\n",
    "'bathroom_wc': [\n",
    "    'ванна',\n",
    "    'ванная',\n",
    "    'вантуз',\n",
    "    'дозатор',\n",
    "    'держатель туалетный',\n",
    "    'ёрш',\n",
    "    'карниз',\n",
    "    'подголовник',\n",
    "    'штора'\n",
    "],\n",
    "\n",
    "'cleaning_washing': [\n",
    "    'антижир',\n",
    "    'антинакипин',\n",
    "    'бак',\n",
    "    'биопорошок',\n",
    "    'ведро',\n",
    "    'веник',\n",
    "    'гель',\n",
    "    'губка',\n",
    "    'гладильный',\n",
    "    'зубной паста',\n",
    "    'кондиционер',\n",
    "    'концентрат',\n",
    "    'микрофибра',\n",
    "    'мыло',\n",
    "    'мытьё',\n",
    "    'мойка',\n",
    "    'ополаскиватель', \n",
    "    'отбеливатель',\n",
    "    'отжим',\n",
    "    'паста зубной',\n",
    "    'подкладка',\n",
    "    'пена',\n",
    "    'перчатка',\n",
    "    'прищепка',\n",
    "    'ролик',\n",
    "    'соль',\n",
    "    'смётка',\n",
    "    'совок',\n",
    "    'скребок',\n",
    "    'сетка глажение',\n",
    "    'сушилка',\n",
    "    'средство',\n",
    "    'сетка стирка',\n",
    "    'таз', \n",
    "    'тряпкодержатель',\n",
    "    'утюг',\n",
    "    'чехол гладильный',\n",
    "    'чехол хлопок',\n",
    "    'поролон доска',\n",
    "    'подрукавник',\n",
    "    'чистить',\n",
    "    'чистка',\n",
    "    'щётка',\n",
    "    'швабра',\n",
    "    \n",
    "],\n",
    "\n",
    "'home_linen':[\n",
    "    'наволочка',\n",
    "    'наматрасник',\n",
    "    'наматрацник',\n",
    "    'наматрицник-чехол',\n",
    "    'одеяло',\n",
    "    'подушка',\n",
    "    'покрывало',\n",
    "    'полотенце',\n",
    "    'простыня',\n",
    "    'постельный бельё',\n",
    "    'пододеяльник',\n",
    "    'плед',\n",
    "    'скатерть',\n",
    "    'халат'\n",
    "],\n",
    "                \n",
    "\n",
    "'storage': [\n",
    "    'бидон',\n",
    "    'вешалка',\n",
    "    'вешалка-плечики',\n",
    "    'вкладыш',\n",
    "    'крючок',\n",
    "    'ключница',\n",
    "    'корзина',\n",
    "    'коробка',\n",
    "    'комод',\n",
    "    'контейнер',\n",
    "    'котёл',\n",
    "    'короб',\n",
    "    'кофр',\n",
    "    'корыто',\n",
    "    'мешок',\n",
    "    'урна',\n",
    "    'пакет хранение',\n",
    "    'плечики',\n",
    "    'полка',\n",
    "    'подставка обувь',\n",
    "    'ручка мебельный',\n",
    "    'стеллаж',\n",
    "    'чехол одежда',\n",
    "    'чехол платье',\n",
    "    'чехол костюм',\n",
    "    'чехол короткий',\n",
    "    'этажерка',\n",
    "    'ящик'\n",
    "\n",
    "],\n",
    "\n",
    "'bags_carts': [\n",
    "    'сумка',\n",
    "    'тележка'\n",
    "],\n",
    "\n",
    "'home_decor': [\n",
    "    'муляж',\n",
    "    'коврик',\n",
    "    'ковёр',\n",
    "    'ваза',\n",
    "    'весы',\n",
    "    'декоративный композиция',\n",
    "    'искусственный цвет',\n",
    "    'искусственный композиция',\n",
    "    'цветок искусственный',\n",
    "    'искусственный лиана',\n",
    "    'пуф',\n",
    "    'светильник',\n",
    "    'термометр',\n",
    "    'ложка обувной',\n",
    "    'фоторамка',\n",
    "],\n",
    " \n",
    "'renovation': [\n",
    "    'верёвка',\n",
    "    'завёртка',\n",
    "    'крепёж',\n",
    "    'насадка',\n",
    "    'напильник',\n",
    "    'пружина',\n",
    "    'пробка электрический',\n",
    "    'петля',\n",
    "    'паста полировка',\n",
    "    'стяжка',\n",
    "    'сверло',\n",
    "    'сверло-фреза',\n",
    "    'инструмент',\n",
    "    'набор сверло',\n",
    "    'решётка вентиляционный',\n",
    "    'ручка-скоба',\n",
    "    'сварка',\n",
    "    'стремянка',\n",
    "    'лестница-стремянка',\n",
    "    'линейка',\n",
    "    'угольник',\n",
    "    'уголок оконный',\n",
    "    'фиксатор-шар',\n",
    "    'фал капроновый',\n",
    "    'шило',\n",
    "    'шнур',\n",
    "    'шпагат',\n",
    "    'шпингалет',\n",
    "    'штангенциркуль'\n",
    "]              \n",
    "}"
   ]
  },
  {
   "cell_type": "markdown",
   "metadata": {},
   "source": [
    "### Функция для категоризации товаров"
   ]
  },
  {
   "cell_type": "code",
   "execution_count": 38,
   "metadata": {},
   "outputs": [],
   "source": [
    "\"\"\"\n",
    "Функция на вход принимает строку,\n",
    "в цикле перебирает ключи и значения словаря с продуктовыми категориями. \n",
    "Если значение из словаря найдено в строке, \n",
    "функция возвращает ключ - категорию товара и цикл прерывается.\n",
    "\n",
    "\n",
    "Аргументы:\n",
    "    string - строка \n",
    "    \n",
    "Вывод:\n",
    "    key - строка (ключ словаря)\n",
    "\n",
    "\"\"\"\n",
    "def categorize_products(string):\n",
    "    for key,value in product_cats.items():\n",
    "            for elem in value:\n",
    "                if elem in string:\n",
    "                    return key\n",
    "                    break               "
   ]
  },
  {
   "cell_type": "code",
   "execution_count": 39,
   "metadata": {},
   "outputs": [
    {
     "name": "stdout",
     "output_type": "stream",
     "text": [
      "наматрицник-чехол\n"
     ]
    }
   ],
   "source": [
    "for key,value in product_cats.items():\n",
    "    for elem in value:\n",
    "        if elem in 'наматрицник-чехол стебель бамбук односпальный':\n",
    "            print(elem)\n",
    "            break    "
   ]
  },
  {
   "cell_type": "code",
   "execution_count": 40,
   "metadata": {},
   "outputs": [],
   "source": [
    "df['product_category'] = df['product_lemmas'].apply(categorize_products)"
   ]
  },
  {
   "cell_type": "markdown",
   "metadata": {},
   "source": [
    "Посмотрим на случайной выборке из 10 записей, что у нас получилось."
   ]
  },
  {
   "cell_type": "code",
   "execution_count": 41,
   "metadata": {},
   "outputs": [
    {
     "data": {
      "text/html": [
       "<div>\n",
       "<style scoped>\n",
       "    .dataframe tbody tr th:only-of-type {\n",
       "        vertical-align: middle;\n",
       "    }\n",
       "\n",
       "    .dataframe tbody tr th {\n",
       "        vertical-align: top;\n",
       "    }\n",
       "\n",
       "    .dataframe thead th {\n",
       "        text-align: right;\n",
       "    }\n",
       "</style>\n",
       "<table border=\"1\" class=\"dataframe\">\n",
       "  <thead>\n",
       "    <tr style=\"text-align: right;\">\n",
       "      <th></th>\n",
       "      <th>date</th>\n",
       "      <th>customer_id</th>\n",
       "      <th>order_id</th>\n",
       "      <th>product</th>\n",
       "      <th>quantity</th>\n",
       "      <th>price</th>\n",
       "      <th>month</th>\n",
       "      <th>total_price</th>\n",
       "      <th>product_lemmas</th>\n",
       "      <th>product_category</th>\n",
       "    </tr>\n",
       "  </thead>\n",
       "  <tbody>\n",
       "    <tr>\n",
       "      <th>6278</th>\n",
       "      <td>2019-09-08 10:00:00</td>\n",
       "      <td>01626eda-0717-4a39-826e-1982a358576d</td>\n",
       "      <td>72546</td>\n",
       "      <td>Сушилка для белья напольная НИКА СБП1/С 18 м</td>\n",
       "      <td>1</td>\n",
       "      <td>599.0</td>\n",
       "      <td>2019-09-01</td>\n",
       "      <td>599.0</td>\n",
       "      <td>сушилка бельё напольный ник</td>\n",
       "      <td>cleaning_washing</td>\n",
       "    </tr>\n",
       "    <tr>\n",
       "      <th>6628</th>\n",
       "      <td>2019-10-16 14:00:00</td>\n",
       "      <td>a9187687-5125-4b85-b01b-7169ad5ca71e</td>\n",
       "      <td>72991</td>\n",
       "      <td>Гладильная доска Березка 115х35 см</td>\n",
       "      <td>1</td>\n",
       "      <td>439.0</td>\n",
       "      <td>2019-10-01</td>\n",
       "      <td>439.0</td>\n",
       "      <td>гладильный доска берёзка</td>\n",
       "      <td>cleaning_washing</td>\n",
       "    </tr>\n",
       "    <tr>\n",
       "      <th>7174</th>\n",
       "      <td>2019-12-29 13:00:00</td>\n",
       "      <td>0d7bd2fb-a17c-4532-a50e-92b92ebd7240</td>\n",
       "      <td>106024</td>\n",
       "      <td>Петуния махровая рассада однолетних цветов в горшке диам. 12 см</td>\n",
       "      <td>1</td>\n",
       "      <td>116.0</td>\n",
       "      <td>2019-12-01</td>\n",
       "      <td>116.0</td>\n",
       "      <td>петуния махровый рассада однолетний цвет горшок диам</td>\n",
       "      <td>plants_seeds</td>\n",
       "    </tr>\n",
       "    <tr>\n",
       "      <th>941</th>\n",
       "      <td>2018-11-23 20:00:00</td>\n",
       "      <td>278cffb9-4414-449a-8cb8-ffdbef1bf1d8</td>\n",
       "      <td>69100</td>\n",
       "      <td>Перчатки резиновые универсальные Centi, р-р M, York, G9212</td>\n",
       "      <td>1</td>\n",
       "      <td>74.0</td>\n",
       "      <td>2018-11-01</td>\n",
       "      <td>74.0</td>\n",
       "      <td>перчатка резиновый универсальный р-р</td>\n",
       "      <td>cleaning_washing</td>\n",
       "    </tr>\n",
       "    <tr>\n",
       "      <th>6602</th>\n",
       "      <td>2019-10-13 17:00:00</td>\n",
       "      <td>5901a4c4-768d-4dc5-9d81-3546e29820fb</td>\n",
       "      <td>72951</td>\n",
       "      <td>Пеларгония зональная Ринго Вайт d-7 см h-10 см укорененный черенок</td>\n",
       "      <td>1</td>\n",
       "      <td>74.0</td>\n",
       "      <td>2019-10-01</td>\n",
       "      <td>74.0</td>\n",
       "      <td>пеларгония зональный ринго вайта укоренить черенок</td>\n",
       "      <td>plants_seeds</td>\n",
       "    </tr>\n",
       "    <tr>\n",
       "      <th>7416</th>\n",
       "      <td>2020-01-22 21:00:00</td>\n",
       "      <td>15c71d7e-076e-48b9-be42-f198b8eedf98</td>\n",
       "      <td>107414</td>\n",
       "      <td>Сушилка для белья НИКА СБ1 18 м</td>\n",
       "      <td>1</td>\n",
       "      <td>532.0</td>\n",
       "      <td>2020-01-01</td>\n",
       "      <td>532.0</td>\n",
       "      <td>сушилка бельё ник</td>\n",
       "      <td>cleaning_washing</td>\n",
       "    </tr>\n",
       "    <tr>\n",
       "      <th>7044</th>\n",
       "      <td>2019-12-13 00:00:00</td>\n",
       "      <td>31619e40-cf5f-4fad-9eae-f0a8a8c984fc</td>\n",
       "      <td>102067</td>\n",
       "      <td>Рассада Дыни сорт Казачка, горшок 9*9см</td>\n",
       "      <td>1</td>\n",
       "      <td>38.0</td>\n",
       "      <td>2019-12-01</td>\n",
       "      <td>38.0</td>\n",
       "      <td>рассада дыня сорт казачок горшок</td>\n",
       "      <td>plants_seeds</td>\n",
       "    </tr>\n",
       "    <tr>\n",
       "      <th>7232</th>\n",
       "      <td>2020-01-04 16:00:00</td>\n",
       "      <td>fd9e34ca-13c6-486d-bc47-366fbfe488f8</td>\n",
       "      <td>104993</td>\n",
       "      <td>Скатерть 350х150 см WELLNESS MT355-Джулия*16 36% полиэстер 64% хлопок</td>\n",
       "      <td>1</td>\n",
       "      <td>2249.0</td>\n",
       "      <td>2020-01-01</td>\n",
       "      <td>2249.0</td>\n",
       "      <td>скатерть полиэстер хлопок</td>\n",
       "      <td>home_linen</td>\n",
       "    </tr>\n",
       "    <tr>\n",
       "      <th>1544</th>\n",
       "      <td>2019-01-18 20:00:00</td>\n",
       "      <td>cf2b0635-67bb-423b-85a4-a342c58bd1ca</td>\n",
       "      <td>69873</td>\n",
       "      <td>Шеффлера Лузеана d-9 см</td>\n",
       "      <td>1</td>\n",
       "      <td>164.0</td>\n",
       "      <td>2019-01-01</td>\n",
       "      <td>164.0</td>\n",
       "      <td>шеффлера лузеана</td>\n",
       "      <td>plants_seeds</td>\n",
       "    </tr>\n",
       "    <tr>\n",
       "      <th>5822</th>\n",
       "      <td>2019-07-10 23:00:00</td>\n",
       "      <td>42d3cb27-6519-4627-9b4a-5aa8ee600203</td>\n",
       "      <td>14897</td>\n",
       "      <td>Кофе Арабика в горшке d-7 см</td>\n",
       "      <td>1</td>\n",
       "      <td>22.0</td>\n",
       "      <td>2019-07-01</td>\n",
       "      <td>22.0</td>\n",
       "      <td>кофе арабика горшок</td>\n",
       "      <td>plants_seeds</td>\n",
       "    </tr>\n",
       "  </tbody>\n",
       "</table>\n",
       "</div>"
      ],
      "text/plain": [
       "                    date                           customer_id  order_id  \\\n",
       "6278 2019-09-08 10:00:00  01626eda-0717-4a39-826e-1982a358576d     72546   \n",
       "6628 2019-10-16 14:00:00  a9187687-5125-4b85-b01b-7169ad5ca71e     72991   \n",
       "7174 2019-12-29 13:00:00  0d7bd2fb-a17c-4532-a50e-92b92ebd7240    106024   \n",
       "941  2018-11-23 20:00:00  278cffb9-4414-449a-8cb8-ffdbef1bf1d8     69100   \n",
       "6602 2019-10-13 17:00:00  5901a4c4-768d-4dc5-9d81-3546e29820fb     72951   \n",
       "7416 2020-01-22 21:00:00  15c71d7e-076e-48b9-be42-f198b8eedf98    107414   \n",
       "7044 2019-12-13 00:00:00  31619e40-cf5f-4fad-9eae-f0a8a8c984fc    102067   \n",
       "7232 2020-01-04 16:00:00  fd9e34ca-13c6-486d-bc47-366fbfe488f8    104993   \n",
       "1544 2019-01-18 20:00:00  cf2b0635-67bb-423b-85a4-a342c58bd1ca     69873   \n",
       "5822 2019-07-10 23:00:00  42d3cb27-6519-4627-9b4a-5aa8ee600203     14897   \n",
       "\n",
       "                                                                    product  \\\n",
       "6278                           Сушилка для белья напольная НИКА СБП1/С 18 м   \n",
       "6628                                     Гладильная доска Березка 115х35 см   \n",
       "7174        Петуния махровая рассада однолетних цветов в горшке диам. 12 см   \n",
       "941              Перчатки резиновые универсальные Centi, р-р M, York, G9212   \n",
       "6602     Пеларгония зональная Ринго Вайт d-7 см h-10 см укорененный черенок   \n",
       "7416                                        Сушилка для белья НИКА СБ1 18 м   \n",
       "7044                                Рассада Дыни сорт Казачка, горшок 9*9см   \n",
       "7232  Скатерть 350х150 см WELLNESS MT355-Джулия*16 36% полиэстер 64% хлопок   \n",
       "1544                                                Шеффлера Лузеана d-9 см   \n",
       "5822                                           Кофе Арабика в горшке d-7 см   \n",
       "\n",
       "      quantity   price      month  total_price  \\\n",
       "6278         1   599.0 2019-09-01        599.0   \n",
       "6628         1   439.0 2019-10-01        439.0   \n",
       "7174         1   116.0 2019-12-01        116.0   \n",
       "941          1    74.0 2018-11-01         74.0   \n",
       "6602         1    74.0 2019-10-01         74.0   \n",
       "7416         1   532.0 2020-01-01        532.0   \n",
       "7044         1    38.0 2019-12-01         38.0   \n",
       "7232         1  2249.0 2020-01-01       2249.0   \n",
       "1544         1   164.0 2019-01-01        164.0   \n",
       "5822         1    22.0 2019-07-01         22.0   \n",
       "\n",
       "                                            product_lemmas  product_category  \n",
       "6278                           сушилка бельё напольный ник  cleaning_washing  \n",
       "6628                              гладильный доска берёзка  cleaning_washing  \n",
       "7174  петуния махровый рассада однолетний цвет горшок диам      plants_seeds  \n",
       "941                   перчатка резиновый универсальный р-р  cleaning_washing  \n",
       "6602    пеларгония зональный ринго вайта укоренить черенок      plants_seeds  \n",
       "7416                                     сушилка бельё ник  cleaning_washing  \n",
       "7044                      рассада дыня сорт казачок горшок      plants_seeds  \n",
       "7232                             скатерть полиэстер хлопок        home_linen  \n",
       "1544                                      шеффлера лузеана      plants_seeds  \n",
       "5822                                   кофе арабика горшок      plants_seeds  "
      ]
     },
     "execution_count": 41,
     "metadata": {},
     "output_type": "execute_result"
    }
   ],
   "source": [
    "df.sample(10)"
   ]
  },
  {
   "cell_type": "markdown",
   "metadata": {},
   "source": [
    "Проверим пропуски в столбце с категорией товаров."
   ]
  },
  {
   "cell_type": "code",
   "execution_count": 42,
   "metadata": {},
   "outputs": [
    {
     "data": {
      "text/html": [
       "<div>\n",
       "<style scoped>\n",
       "    .dataframe tbody tr th:only-of-type {\n",
       "        vertical-align: middle;\n",
       "    }\n",
       "\n",
       "    .dataframe tbody tr th {\n",
       "        vertical-align: top;\n",
       "    }\n",
       "\n",
       "    .dataframe thead th {\n",
       "        text-align: right;\n",
       "    }\n",
       "</style>\n",
       "<table border=\"1\" class=\"dataframe\">\n",
       "  <thead>\n",
       "    <tr style=\"text-align: right;\">\n",
       "      <th></th>\n",
       "      <th>date</th>\n",
       "      <th>customer_id</th>\n",
       "      <th>order_id</th>\n",
       "      <th>product</th>\n",
       "      <th>quantity</th>\n",
       "      <th>price</th>\n",
       "      <th>month</th>\n",
       "      <th>total_price</th>\n",
       "      <th>product_lemmas</th>\n",
       "      <th>product_category</th>\n",
       "    </tr>\n",
       "  </thead>\n",
       "  <tbody>\n",
       "    <tr>\n",
       "      <th>888</th>\n",
       "      <td>2018-11-20 20:00:00</td>\n",
       "      <td>5dc4e41f-a869-4fac-ae05-f448acdb548d</td>\n",
       "      <td>69066</td>\n",
       "      <td>Фен дорожный DELTA DL-0904 бордовый с черным 2 режима мощности 1400 Вт Россия</td>\n",
       "      <td>1</td>\n",
       "      <td>592.0</td>\n",
       "      <td>2018-11-01</td>\n",
       "      <td>592.0</td>\n",
       "      <td>фен дорожный бордовый чёрный режим мощность россия</td>\n",
       "      <td>None</td>\n",
       "    </tr>\n",
       "    <tr>\n",
       "      <th>1995</th>\n",
       "      <td>2019-02-24 19:00:00</td>\n",
       "      <td>4220b0e0-441f-4605-b345-a34f8db95e96</td>\n",
       "      <td>70433</td>\n",
       "      <td>Увлажняющая маска Brown Rice Moisture 330 мл Корея 599928</td>\n",
       "      <td>1</td>\n",
       "      <td>442.0</td>\n",
       "      <td>2019-02-01</td>\n",
       "      <td>442.0</td>\n",
       "      <td>увлажнять маска корея</td>\n",
       "      <td>None</td>\n",
       "    </tr>\n",
       "    <tr>\n",
       "      <th>6799</th>\n",
       "      <td>2019-11-08 00:00:00</td>\n",
       "      <td>c728c3b3-0da6-44f3-aa26-15a65efd0df1</td>\n",
       "      <td>101909</td>\n",
       "      <td>Увлажняющая маска Brown Rice Moisture 330 мл Корея 599928</td>\n",
       "      <td>1</td>\n",
       "      <td>442.0</td>\n",
       "      <td>2019-11-01</td>\n",
       "      <td>442.0</td>\n",
       "      <td>увлажнять маска корея</td>\n",
       "      <td>None</td>\n",
       "    </tr>\n",
       "  </tbody>\n",
       "</table>\n",
       "</div>"
      ],
      "text/plain": [
       "                    date                           customer_id  order_id  \\\n",
       "888  2018-11-20 20:00:00  5dc4e41f-a869-4fac-ae05-f448acdb548d     69066   \n",
       "1995 2019-02-24 19:00:00  4220b0e0-441f-4605-b345-a34f8db95e96     70433   \n",
       "6799 2019-11-08 00:00:00  c728c3b3-0da6-44f3-aa26-15a65efd0df1    101909   \n",
       "\n",
       "                                                                            product  \\\n",
       "888   Фен дорожный DELTA DL-0904 бордовый с черным 2 режима мощности 1400 Вт Россия   \n",
       "1995                      Увлажняющая маска Brown Rice Moisture 330 мл Корея 599928   \n",
       "6799                      Увлажняющая маска Brown Rice Moisture 330 мл Корея 599928   \n",
       "\n",
       "      quantity  price      month  total_price  \\\n",
       "888          1  592.0 2018-11-01        592.0   \n",
       "1995         1  442.0 2019-02-01        442.0   \n",
       "6799         1  442.0 2019-11-01        442.0   \n",
       "\n",
       "                                          product_lemmas product_category  \n",
       "888   фен дорожный бордовый чёрный режим мощность россия             None  \n",
       "1995                               увлажнять маска корея             None  \n",
       "6799                               увлажнять маска корея             None  "
      ]
     },
     "execution_count": 42,
     "metadata": {},
     "output_type": "execute_result"
    }
   ],
   "source": [
    "df[df['product_category'].isna()]"
   ]
  },
  {
   "cell_type": "markdown",
   "metadata": {},
   "source": [
    "Фен и увлажняющая маска выбиваются из ассортимента данного магазина. Заполним пропуск значением \"no_category\"."
   ]
  },
  {
   "cell_type": "code",
   "execution_count": 43,
   "metadata": {},
   "outputs": [],
   "source": [
    "df['product_category'] = df['product_category'].fillna('no_category')"
   ]
  },
  {
   "cell_type": "markdown",
   "metadata": {},
   "source": [
    "**Вывод**\n",
    "\n",
    "Итого, у нас получилось выделить 9 товарных категорий:\n",
    "\n",
    "* растения и семена (plants_seeds)\n",
    "* уборка (cleaning_washing)\n",
    "* кухня (kitchen)\n",
    "* тележки-сумки (bags_carts)\n",
    "* ванная и туалет (bathroom_wc)\n",
    "* домашний текстиль (home_linen)\n",
    "* ремонт (renovation)\n",
    "* хранение (storage)\n",
    "* декор и уют (home_decor)\n",
    "\n",
    "Обнаружены два товара (`фен и увлажняющая маска`), которые выбиваются из основного ассортимента магазина. Возможно, таких больше и есть небольшая погрешность в обработке категорий. Для более точного анализа этого вопроса требуется дополнительное время. Но этих результатов будет вполне достаточно."
   ]
  },
  {
   "cell_type": "markdown",
   "metadata": {},
   "source": [
    "### Изучение данных"
   ]
  },
  {
   "cell_type": "code",
   "execution_count": 44,
   "metadata": {},
   "outputs": [
    {
     "data": {
      "text/html": [
       "<div>\n",
       "<style scoped>\n",
       "    .dataframe tbody tr th:only-of-type {\n",
       "        vertical-align: middle;\n",
       "    }\n",
       "\n",
       "    .dataframe tbody tr th {\n",
       "        vertical-align: top;\n",
       "    }\n",
       "\n",
       "    .dataframe thead th {\n",
       "        text-align: right;\n",
       "    }\n",
       "</style>\n",
       "<table border=\"1\" class=\"dataframe\">\n",
       "  <thead>\n",
       "    <tr style=\"text-align: right;\">\n",
       "      <th></th>\n",
       "      <th>order_id</th>\n",
       "      <th>quantity</th>\n",
       "      <th>price</th>\n",
       "      <th>total_price</th>\n",
       "    </tr>\n",
       "  </thead>\n",
       "  <tbody>\n",
       "    <tr>\n",
       "      <th>count</th>\n",
       "      <td>5547.000000</td>\n",
       "      <td>5547.000000</td>\n",
       "      <td>5547.000000</td>\n",
       "      <td>5547.000000</td>\n",
       "    </tr>\n",
       "    <tr>\n",
       "      <th>mean</th>\n",
       "      <td>55872.630611</td>\n",
       "      <td>2.581035</td>\n",
       "      <td>530.321270</td>\n",
       "      <td>829.748047</td>\n",
       "    </tr>\n",
       "    <tr>\n",
       "      <th>std</th>\n",
       "      <td>32492.785380</td>\n",
       "      <td>16.473007</td>\n",
       "      <td>973.564348</td>\n",
       "      <td>9203.683024</td>\n",
       "    </tr>\n",
       "    <tr>\n",
       "      <th>min</th>\n",
       "      <td>12624.000000</td>\n",
       "      <td>1.000000</td>\n",
       "      <td>9.000000</td>\n",
       "      <td>9.000000</td>\n",
       "    </tr>\n",
       "    <tr>\n",
       "      <th>25%</th>\n",
       "      <td>14810.000000</td>\n",
       "      <td>1.000000</td>\n",
       "      <td>90.000000</td>\n",
       "      <td>120.000000</td>\n",
       "    </tr>\n",
       "    <tr>\n",
       "      <th>50%</th>\n",
       "      <td>69189.000000</td>\n",
       "      <td>1.000000</td>\n",
       "      <td>150.000000</td>\n",
       "      <td>194.000000</td>\n",
       "    </tr>\n",
       "    <tr>\n",
       "      <th>75%</th>\n",
       "      <td>71933.500000</td>\n",
       "      <td>1.000000</td>\n",
       "      <td>524.000000</td>\n",
       "      <td>734.000000</td>\n",
       "    </tr>\n",
       "    <tr>\n",
       "      <th>max</th>\n",
       "      <td>112789.000000</td>\n",
       "      <td>1000.000000</td>\n",
       "      <td>14917.000000</td>\n",
       "      <td>675000.000000</td>\n",
       "    </tr>\n",
       "  </tbody>\n",
       "</table>\n",
       "</div>"
      ],
      "text/plain": [
       "            order_id     quantity         price    total_price\n",
       "count    5547.000000  5547.000000   5547.000000    5547.000000\n",
       "mean    55872.630611     2.581035    530.321270     829.748047\n",
       "std     32492.785380    16.473007    973.564348    9203.683024\n",
       "min     12624.000000     1.000000      9.000000       9.000000\n",
       "25%     14810.000000     1.000000     90.000000     120.000000\n",
       "50%     69189.000000     1.000000    150.000000     194.000000\n",
       "75%     71933.500000     1.000000    524.000000     734.000000\n",
       "max    112789.000000  1000.000000  14917.000000  675000.000000"
      ]
     },
     "execution_count": 44,
     "metadata": {},
     "output_type": "execute_result"
    }
   ],
   "source": [
    "df.describe()"
   ]
  },
  {
   "cell_type": "code",
   "execution_count": 45,
   "metadata": {},
   "outputs": [
    {
     "data": {
      "image/png": "[encoded data removed]",
      "text/plain": [
       "<Figure size 864x72 with 1 Axes>"
      ]
     },
     "metadata": {
      "needs_background": "light"
     },
     "output_type": "display_data"
    },
    {
     "data": {
      "image/png": "[encoded data removed]",
      "text/plain": [
       "<Figure size 864x72 with 1 Axes>"
      ]
     },
     "metadata": {
      "needs_background": "light"
     },
     "output_type": "display_data"
    }
   ],
   "source": [
    "for column in ['quantity', 'price']:    \n",
    "    g = sns.catplot(x=column, kind=\"box\", \n",
    "                    data= df, orient='h', palette = 'pastel')\n",
    "    g.fig.set_figwidth(12)\n",
    "    g.fig.set_figheight(1)\n",
    "plt.title('Данные с выбросами.'+ \"\\n\")\n",
    "plt.xlabel(column);"
   ]
  },
  {
   "cell_type": "markdown",
   "metadata": {},
   "source": [
    "- У нас есть выбросы по количеству закупаемого товара - минимальное количество не больше 1 позиции, максимальное - 1000 позиций в заказе, а среднее значительно выше медианы (2.6 и 1).\n",
    "\n",
    "- По общей сумме заказов тоже очень большой разброс значений и есть выбросы: средняя сумма стоимости заказа равна 829 рублей, медиана - 194 рублей, минимальная общая сумма заказа - 9 рублей, максимальная - 675 000 тыс рублей.\n",
    "\n",
    "- У цены также большой разборс значений: минимальная цена за позицию 9 рублей, максимальное - 14 917 рублей, среднее - 530, а медиана, понятно, сильно отличается - 150 рублей."
   ]
  },
  {
   "cell_type": "markdown",
   "metadata": {},
   "source": [
    "#### Сначала разберемся с количеством товаров в заказе."
   ]
  },
  {
   "cell_type": "code",
   "execution_count": 46,
   "metadata": {},
   "outputs": [
    {
     "data": {
      "text/plain": [
       "count    5547.000000\n",
       "mean        2.581035\n",
       "std        16.473007\n",
       "min         1.000000\n",
       "25%         1.000000\n",
       "50%         1.000000\n",
       "75%         1.000000\n",
       "max      1000.000000\n",
       "Name: quantity, dtype: float64"
      ]
     },
     "execution_count": 46,
     "metadata": {},
     "output_type": "execute_result"
    }
   ],
   "source": [
    "df['quantity'].describe()"
   ]
  },
  {
   "cell_type": "code",
   "execution_count": 47,
   "metadata": {},
   "outputs": [
    {
     "data": {
      "image/png": "[encoded data removed]",
      "text/plain": [
       "<Figure size 1080x288 with 1 Axes>"
      ]
     },
     "metadata": {
      "needs_background": "light"
     },
     "output_type": "display_data"
    }
   ],
   "source": [
    "# построим диаграмму размаха по столбцу с количеством товара\n",
    "plt.figure(figsize=(15,4))\n",
    "sns.boxplot(x='quantity', data=df) \n",
    "plt.title('Распределение количества товара в заказе по сырым данным')\n",
    "plt.show()"
   ]
  },
  {
   "cell_type": "markdown",
   "metadata": {},
   "source": [
    "Разброс в количестве купленного товара достаточно большой (стандартное отклонение около 16 шт.), и есть \"всплески\" (максимум составляет 1 000 шт.). При этом большинство клиентов покупает товар в количестве 1 шт. (первый, второй и третий квартили равны 1). Среднее количество купленного товара отличается от медианного (1 шт.), что связано с \"всплесками\" (\"выбросами\"), и составляет около 2-3 шт."
   ]
  },
  {
   "cell_type": "markdown",
   "metadata": {},
   "source": [
    "Подавлющееся число заказов всего на 1 товар, однако среднее значение почти равно 2.6 \n",
    "Судя по всему, выбросы серьёзно искажают данные. Посмотрим на границу по 99 перцентилю распределения."
   ]
  },
  {
   "cell_type": "code",
   "execution_count": 48,
   "metadata": {},
   "outputs": [
    {
     "data": {
      "text/plain": [
       "25.54"
      ]
     },
     "execution_count": 48,
     "metadata": {},
     "output_type": "execute_result"
    }
   ],
   "source": [
    "# сначала посмотрим на новое максимальное значение\n",
    "max_quantity = df['quantity'].quantile(.99)\n",
    "round(max_quantity,2)"
   ]
  },
  {
   "cell_type": "code",
   "execution_count": 49,
   "metadata": {},
   "outputs": [],
   "source": [
    "# удаляем из датасета аномальные значения \n",
    "df = df[(df['quantity'] < max_quantity)]"
   ]
  },
  {
   "cell_type": "markdown",
   "metadata": {},
   "source": [
    "#### Посмотрим на аномалии и выбросы в цене"
   ]
  },
  {
   "cell_type": "code",
   "execution_count": 50,
   "metadata": {},
   "outputs": [
    {
     "data": {
      "text/plain": [
       "count     5491.000000\n",
       "mean       534.493914\n",
       "std        977.296911\n",
       "min          9.000000\n",
       "25%         90.000000\n",
       "50%        150.000000\n",
       "75%        524.000000\n",
       "max      14917.000000\n",
       "Name: price, dtype: float64"
      ]
     },
     "execution_count": 50,
     "metadata": {},
     "output_type": "execute_result"
    }
   ],
   "source": [
    "df['price'].describe()"
   ]
  },
  {
   "cell_type": "code",
   "execution_count": 51,
   "metadata": {},
   "outputs": [
    {
     "data": {
      "image/png": "[encoded data removed]",
      "text/plain": [
       "<Figure size 1080x288 with 1 Axes>"
      ]
     },
     "metadata": {
      "needs_background": "light"
     },
     "output_type": "display_data"
    }
   ],
   "source": [
    "# построим диаграмму размаха по столбцу со стоимостью заказа\n",
    "plt.figure(figsize=(15,4))\n",
    "sns.boxplot(x='price', data=df) \n",
    "plt.title('Распределение стоимости заказа')\n",
    "plt.show()"
   ]
  },
  {
   "cell_type": "markdown",
   "metadata": {},
   "source": [
    "Разброс по ценам товаров для отфильтрованных данных всё ещё достаточно большой (стандартное отклонение около 750), и есть \"всплески\" (максимум составляет 14 917). При этом большинство клиентов покупает товар в пределах до 500 (минимальная стоимость равна 9 ден.ед., первый квартиль - 90, медиана составляет 150, а третий квартиль - 502). Средняя стоимость единицы купленного товара отличается от медианной, что связано с \"всплесками\" (\"выбросами\"), и составляет около 470."
   ]
  },
  {
   "cell_type": "markdown",
   "metadata": {},
   "source": [
    "Посмотрим заказ стоимостью 14917"
   ]
  },
  {
   "cell_type": "code",
   "execution_count": 52,
   "metadata": {},
   "outputs": [
    {
     "data": {
      "text/html": [
       "<div>\n",
       "<style scoped>\n",
       "    .dataframe tbody tr th:only-of-type {\n",
       "        vertical-align: middle;\n",
       "    }\n",
       "\n",
       "    .dataframe tbody tr th {\n",
       "        vertical-align: top;\n",
       "    }\n",
       "\n",
       "    .dataframe thead th {\n",
       "        text-align: right;\n",
       "    }\n",
       "</style>\n",
       "<table border=\"1\" class=\"dataframe\">\n",
       "  <thead>\n",
       "    <tr style=\"text-align: right;\">\n",
       "      <th></th>\n",
       "      <th>date</th>\n",
       "      <th>customer_id</th>\n",
       "      <th>order_id</th>\n",
       "      <th>product</th>\n",
       "      <th>quantity</th>\n",
       "      <th>price</th>\n",
       "      <th>month</th>\n",
       "      <th>total_price</th>\n",
       "      <th>product_lemmas</th>\n",
       "      <th>product_category</th>\n",
       "    </tr>\n",
       "  </thead>\n",
       "  <tbody>\n",
       "    <tr>\n",
       "      <th>5992</th>\n",
       "      <td>2019-07-29 17:00:00</td>\n",
       "      <td>0d87f4ae-465a-4fac-81e6-5d629761783e</td>\n",
       "      <td>72139</td>\n",
       "      <td>Сушилка уличная Leifheit 85210 LINOMATIC V 400 40 м 175х237х237 см зеленая</td>\n",
       "      <td>1</td>\n",
       "      <td>14917.0</td>\n",
       "      <td>2019-07-01</td>\n",
       "      <td>14917.0</td>\n",
       "      <td>сушилка уличный зелёный</td>\n",
       "      <td>cleaning_washing</td>\n",
       "    </tr>\n",
       "  </tbody>\n",
       "</table>\n",
       "</div>"
      ],
      "text/plain": [
       "                    date                           customer_id  order_id  \\\n",
       "5992 2019-07-29 17:00:00  0d87f4ae-465a-4fac-81e6-5d629761783e     72139   \n",
       "\n",
       "                                                                         product  \\\n",
       "5992  Сушилка уличная Leifheit 85210 LINOMATIC V 400 40 м 175х237х237 см зеленая   \n",
       "\n",
       "      quantity    price      month  total_price           product_lemmas  \\\n",
       "5992         1  14917.0 2019-07-01      14917.0  сушилка уличный зелёный   \n",
       "\n",
       "      product_category  \n",
       "5992  cleaning_washing  "
      ]
     },
     "execution_count": 52,
     "metadata": {},
     "output_type": "execute_result"
    }
   ],
   "source": [
    "df[(df['price'] == 14917)]"
   ]
  },
  {
   "cell_type": "code",
   "execution_count": 53,
   "metadata": {
    "scrolled": true
   },
   "outputs": [
    {
     "data": {
      "text/html": [
       "<div>\n",
       "<style scoped>\n",
       "    .dataframe tbody tr th:only-of-type {\n",
       "        vertical-align: middle;\n",
       "    }\n",
       "\n",
       "    .dataframe tbody tr th {\n",
       "        vertical-align: top;\n",
       "    }\n",
       "\n",
       "    .dataframe thead th {\n",
       "        text-align: right;\n",
       "    }\n",
       "</style>\n",
       "<table border=\"1\" class=\"dataframe\">\n",
       "  <thead>\n",
       "    <tr style=\"text-align: right;\">\n",
       "      <th></th>\n",
       "      <th>order_id</th>\n",
       "      <th>quantity</th>\n",
       "      <th>price</th>\n",
       "      <th>total_price</th>\n",
       "    </tr>\n",
       "  </thead>\n",
       "  <tbody>\n",
       "    <tr>\n",
       "      <th>count</th>\n",
       "      <td>5491.000000</td>\n",
       "      <td>5491.000000</td>\n",
       "      <td>5491.000000</td>\n",
       "      <td>5491.000000</td>\n",
       "    </tr>\n",
       "    <tr>\n",
       "      <th>mean</th>\n",
       "      <td>55723.569295</td>\n",
       "      <td>1.721544</td>\n",
       "      <td>534.493914</td>\n",
       "      <td>654.188748</td>\n",
       "    </tr>\n",
       "    <tr>\n",
       "      <th>std</th>\n",
       "      <td>32624.044561</td>\n",
       "      <td>2.537272</td>\n",
       "      <td>977.296911</td>\n",
       "      <td>1202.232643</td>\n",
       "    </tr>\n",
       "    <tr>\n",
       "      <th>min</th>\n",
       "      <td>12624.000000</td>\n",
       "      <td>1.000000</td>\n",
       "      <td>9.000000</td>\n",
       "      <td>9.000000</td>\n",
       "    </tr>\n",
       "    <tr>\n",
       "      <th>25%</th>\n",
       "      <td>14805.000000</td>\n",
       "      <td>1.000000</td>\n",
       "      <td>90.000000</td>\n",
       "      <td>120.000000</td>\n",
       "    </tr>\n",
       "    <tr>\n",
       "      <th>50%</th>\n",
       "      <td>69175.000000</td>\n",
       "      <td>1.000000</td>\n",
       "      <td>150.000000</td>\n",
       "      <td>188.000000</td>\n",
       "    </tr>\n",
       "    <tr>\n",
       "      <th>75%</th>\n",
       "      <td>71940.000000</td>\n",
       "      <td>1.000000</td>\n",
       "      <td>524.000000</td>\n",
       "      <td>712.000000</td>\n",
       "    </tr>\n",
       "    <tr>\n",
       "      <th>max</th>\n",
       "      <td>112789.000000</td>\n",
       "      <td>25.000000</td>\n",
       "      <td>14917.000000</td>\n",
       "      <td>24370.000000</td>\n",
       "    </tr>\n",
       "  </tbody>\n",
       "</table>\n",
       "</div>"
      ],
      "text/plain": [
       "            order_id     quantity         price   total_price\n",
       "count    5491.000000  5491.000000   5491.000000   5491.000000\n",
       "mean    55723.569295     1.721544    534.493914    654.188748\n",
       "std     32624.044561     2.537272    977.296911   1202.232643\n",
       "min     12624.000000     1.000000      9.000000      9.000000\n",
       "25%     14805.000000     1.000000     90.000000    120.000000\n",
       "50%     69175.000000     1.000000    150.000000    188.000000\n",
       "75%     71940.000000     1.000000    524.000000    712.000000\n",
       "max    112789.000000    25.000000  14917.000000  24370.000000"
      ]
     },
     "execution_count": 53,
     "metadata": {},
     "output_type": "execute_result"
    }
   ],
   "source": [
    "df.describe()"
   ]
  },
  {
   "cell_type": "markdown",
   "metadata": {},
   "source": [
    "Все аномалии и выбросы были отброшены из датасета, можно продолжать исследование."
   ]
  },
  {
   "cell_type": "markdown",
   "metadata": {},
   "source": [
    "### Количество уникальных покупателей"
   ]
  },
  {
   "cell_type": "code",
   "execution_count": 54,
   "metadata": {},
   "outputs": [
    {
     "data": {
      "text/plain": [
       "'Количество уникальных покупателей: 2372'"
      ]
     },
     "execution_count": 54,
     "metadata": {},
     "output_type": "execute_result"
    }
   ],
   "source": [
    "uniq_clients = len(df['customer_id'].unique())\n",
    "f\"Количество уникальных покупателей: {uniq_clients}\""
   ]
  },
  {
   "cell_type": "markdown",
   "metadata": {},
   "source": [
    "### Топ-10 самых востребованных товаров"
   ]
  },
  {
   "cell_type": "code",
   "execution_count": 55,
   "metadata": {},
   "outputs": [
    {
     "data": {
      "text/html": [
       "<div>\n",
       "<style scoped>\n",
       "    .dataframe tbody tr th:only-of-type {\n",
       "        vertical-align: middle;\n",
       "    }\n",
       "\n",
       "    .dataframe tbody tr th {\n",
       "        vertical-align: top;\n",
       "    }\n",
       "\n",
       "    .dataframe thead th {\n",
       "        text-align: right;\n",
       "    }\n",
       "</style>\n",
       "<table border=\"1\" class=\"dataframe\">\n",
       "  <thead>\n",
       "    <tr style=\"text-align: right;\">\n",
       "      <th></th>\n",
       "      <th>product_name</th>\n",
       "      <th>quantity_bought</th>\n",
       "    </tr>\n",
       "  </thead>\n",
       "  <tbody>\n",
       "    <tr>\n",
       "      <th>0</th>\n",
       "      <td>Пеларгония розебудная Red Pandora укорененный черенок</td>\n",
       "      <td>65</td>\n",
       "    </tr>\n",
       "    <tr>\n",
       "      <th>1</th>\n",
       "      <td>Пеларгония розебудная Prins Nikolai укорененный черенок</td>\n",
       "      <td>54</td>\n",
       "    </tr>\n",
       "    <tr>\n",
       "      <th>2</th>\n",
       "      <td>Пеларгония зональная диам. 12 см сиреневый полумахровый</td>\n",
       "      <td>53</td>\n",
       "    </tr>\n",
       "    <tr>\n",
       "      <th>3</th>\n",
       "      <td>Сумка-тележка 2-х колесная Gimi Argo синяя</td>\n",
       "      <td>47</td>\n",
       "    </tr>\n",
       "    <tr>\n",
       "      <th>4</th>\n",
       "      <td>Пеларгония розебудная Mary укорененный черенок</td>\n",
       "      <td>40</td>\n",
       "    </tr>\n",
       "    <tr>\n",
       "      <th>5</th>\n",
       "      <td>Пеларгония розебудная Queen Ingrid укорененный черенок</td>\n",
       "      <td>31</td>\n",
       "    </tr>\n",
       "    <tr>\n",
       "      <th>6</th>\n",
       "      <td>Пеларгония розебудная Margaretha укорененный черенок</td>\n",
       "      <td>31</td>\n",
       "    </tr>\n",
       "    <tr>\n",
       "      <th>7</th>\n",
       "      <td>Пеларгония зональная махровая лососевая</td>\n",
       "      <td>25</td>\n",
       "    </tr>\n",
       "    <tr>\n",
       "      <th>8</th>\n",
       "      <td>Пеларгония зональная Ринго Вайт d-7 см h-10 см укорененный черенок</td>\n",
       "      <td>25</td>\n",
       "    </tr>\n",
       "    <tr>\n",
       "      <th>9</th>\n",
       "      <td>Пеларгония зональная диам. 12 см коралловая полумахровая</td>\n",
       "      <td>24</td>\n",
       "    </tr>\n",
       "  </tbody>\n",
       "</table>\n",
       "</div>"
      ],
      "text/plain": [
       "                                                         product_name  \\\n",
       "0               Пеларгония розебудная Red Pandora укорененный черенок   \n",
       "1             Пеларгония розебудная Prins Nikolai укорененный черенок   \n",
       "2             Пеларгония зональная диам. 12 см сиреневый полумахровый   \n",
       "3                          Сумка-тележка 2-х колесная Gimi Argo синяя   \n",
       "4                      Пеларгония розебудная Mary укорененный черенок   \n",
       "5              Пеларгония розебудная Queen Ingrid укорененный черенок   \n",
       "6                Пеларгония розебудная Margaretha укорененный черенок   \n",
       "7                             Пеларгония зональная махровая лососевая   \n",
       "8  Пеларгония зональная Ринго Вайт d-7 см h-10 см укорененный черенок   \n",
       "9            Пеларгония зональная диам. 12 см коралловая полумахровая   \n",
       "\n",
       "   quantity_bought  \n",
       "0               65  \n",
       "1               54  \n",
       "2               53  \n",
       "3               47  \n",
       "4               40  \n",
       "5               31  \n",
       "6               31  \n",
       "7               25  \n",
       "8               25  \n",
       "9               24  "
      ]
     },
     "execution_count": 55,
     "metadata": {},
     "output_type": "execute_result"
    }
   ],
   "source": [
    "(df['product'].value_counts()\n",
    " .head(10)\n",
    " .to_frame()\n",
    " .reset_index()\n",
    " .rename(columns={'index':'product_name', 'product': 'quantity_bought'}))"
   ]
  },
  {
   "cell_type": "markdown",
   "metadata": {},
   "source": [
    "### Динамика продаж по месяцам"
   ]
  },
  {
   "cell_type": "code",
   "execution_count": 56,
   "metadata": {},
   "outputs": [
    {
     "data": {
      "text/html": [
       "<div>\n",
       "<style scoped>\n",
       "    .dataframe tbody tr th:only-of-type {\n",
       "        vertical-align: middle;\n",
       "    }\n",
       "\n",
       "    .dataframe tbody tr th {\n",
       "        vertical-align: top;\n",
       "    }\n",
       "\n",
       "    .dataframe thead th {\n",
       "        text-align: right;\n",
       "    }\n",
       "</style>\n",
       "<table border=\"1\" class=\"dataframe\">\n",
       "  <thead>\n",
       "    <tr style=\"text-align: right;\">\n",
       "      <th></th>\n",
       "      <th>month</th>\n",
       "      <th>total_price</th>\n",
       "    </tr>\n",
       "  </thead>\n",
       "  <tbody>\n",
       "    <tr>\n",
       "      <th>0</th>\n",
       "      <td>2018-10-01</td>\n",
       "      <td>323466.000000</td>\n",
       "    </tr>\n",
       "    <tr>\n",
       "      <th>1</th>\n",
       "      <td>2018-11-01</td>\n",
       "      <td>305872.000000</td>\n",
       "    </tr>\n",
       "    <tr>\n",
       "      <th>2</th>\n",
       "      <td>2018-12-01</td>\n",
       "      <td>295583.000000</td>\n",
       "    </tr>\n",
       "    <tr>\n",
       "      <th>4</th>\n",
       "      <td>2019-02-01</td>\n",
       "      <td>295458.000000</td>\n",
       "    </tr>\n",
       "    <tr>\n",
       "      <th>6</th>\n",
       "      <td>2019-04-01</td>\n",
       "      <td>294496.000000</td>\n",
       "    </tr>\n",
       "    <tr>\n",
       "      <th>5</th>\n",
       "      <td>2019-03-01</td>\n",
       "      <td>241406.000000</td>\n",
       "    </tr>\n",
       "    <tr>\n",
       "      <th>9</th>\n",
       "      <td>2019-07-01</td>\n",
       "      <td>226600.000000</td>\n",
       "    </tr>\n",
       "    <tr>\n",
       "      <th>7</th>\n",
       "      <td>2019-05-01</td>\n",
       "      <td>207198.000000</td>\n",
       "    </tr>\n",
       "    <tr>\n",
       "      <th>14</th>\n",
       "      <td>2019-12-01</td>\n",
       "      <td>202885.333333</td>\n",
       "    </tr>\n",
       "    <tr>\n",
       "      <th>12</th>\n",
       "      <td>2019-10-01</td>\n",
       "      <td>193857.000000</td>\n",
       "    </tr>\n",
       "    <tr>\n",
       "      <th>8</th>\n",
       "      <td>2019-06-01</td>\n",
       "      <td>187531.000000</td>\n",
       "    </tr>\n",
       "    <tr>\n",
       "      <th>10</th>\n",
       "      <td>2019-08-01</td>\n",
       "      <td>180910.000000</td>\n",
       "    </tr>\n",
       "    <tr>\n",
       "      <th>15</th>\n",
       "      <td>2020-01-01</td>\n",
       "      <td>174036.333333</td>\n",
       "    </tr>\n",
       "    <tr>\n",
       "      <th>11</th>\n",
       "      <td>2019-09-01</td>\n",
       "      <td>169762.000000</td>\n",
       "    </tr>\n",
       "    <tr>\n",
       "      <th>3</th>\n",
       "      <td>2019-01-01</td>\n",
       "      <td>164298.000000</td>\n",
       "    </tr>\n",
       "    <tr>\n",
       "      <th>13</th>\n",
       "      <td>2019-11-01</td>\n",
       "      <td>128791.750000</td>\n",
       "    </tr>\n",
       "  </tbody>\n",
       "</table>\n",
       "</div>"
      ],
      "text/plain": [
       "        month    total_price\n",
       "0  2018-10-01  323466.000000\n",
       "1  2018-11-01  305872.000000\n",
       "2  2018-12-01  295583.000000\n",
       "4  2019-02-01  295458.000000\n",
       "6  2019-04-01  294496.000000\n",
       "5  2019-03-01  241406.000000\n",
       "9  2019-07-01  226600.000000\n",
       "7  2019-05-01  207198.000000\n",
       "14 2019-12-01  202885.333333\n",
       "12 2019-10-01  193857.000000\n",
       "8  2019-06-01  187531.000000\n",
       "10 2019-08-01  180910.000000\n",
       "15 2020-01-01  174036.333333\n",
       "11 2019-09-01  169762.000000\n",
       "3  2019-01-01  164298.000000\n",
       "13 2019-11-01  128791.750000"
      ]
     },
     "execution_count": 56,
     "metadata": {},
     "output_type": "execute_result"
    }
   ],
   "source": [
    "grouped_by_month = df.groupby('month').agg({'total_price':'sum'}).reset_index()\n",
    "grouped_by_month.sort_values(by='total_price', ascending=False)"
   ]
  },
  {
   "cell_type": "code",
   "execution_count": 57,
   "metadata": {},
   "outputs": [
    {
     "data": {
      "image/png": "[encoded data removed]",
      "text/plain": [
       "<Figure size 432x288 with 1 Axes>"
      ]
     },
     "metadata": {
      "needs_background": "light"
     },
     "output_type": "display_data"
    }
   ],
   "source": [
    "sns.lineplot(data=grouped_by_month, x=\"month\", y=\"total_price\", marker='o')\n",
    "plt.xticks(rotation=45)\n",
    "plt.title('Распределение выручки по месяцам \\n', fontsize=15)\n",
    "plt.ylabel('Общая выручка в месяц\\n')\n",
    "plt.xlabel('\\n Месяц покупки')\n",
    "plt.show();"
   ]
  },
  {
   "cell_type": "markdown",
   "metadata": {},
   "source": [
    "В целом выручка распределяется равномерно, если не считать внезапный и при этом очень высокий рост выручки в июне. По данным описательной статистики есть выбросы и это, похоже, они: слишком высокий пик на фоне всего остального. Дальше мы этот вопрос обязательно исследуем."
   ]
  },
  {
   "cell_type": "markdown",
   "metadata": {},
   "source": [
    "### Ассортимент товаров"
   ]
  },
  {
   "cell_type": "markdown",
   "metadata": {},
   "source": [
    "Посмотрим на распределение количества уникальных товаров в каждой товарной категории в наших транзакциях."
   ]
  },
  {
   "cell_type": "code",
   "execution_count": 58,
   "metadata": {},
   "outputs": [
    {
     "data": {
      "text/html": [
       "<style  type=\"text/css\" >\n",
       "#T_988d6_row0_col1,#T_988d6_row0_col2{\n",
       "            background-color:  #08306b;\n",
       "            color:  #f1f1f1;\n",
       "        }#T_988d6_row1_col1,#T_988d6_row1_col2{\n",
       "            background-color:  #9cc9e1;\n",
       "            color:  #000000;\n",
       "        }#T_988d6_row2_col1,#T_988d6_row2_col2{\n",
       "            background-color:  #add0e6;\n",
       "            color:  #000000;\n",
       "        }#T_988d6_row3_col1,#T_988d6_row3_col2{\n",
       "            background-color:  #d3e4f3;\n",
       "            color:  #000000;\n",
       "        }#T_988d6_row4_col1,#T_988d6_row4_col2{\n",
       "            background-color:  #dae8f6;\n",
       "            color:  #000000;\n",
       "        }#T_988d6_row5_col1,#T_988d6_row5_col2{\n",
       "            background-color:  #e1edf8;\n",
       "            color:  #000000;\n",
       "        }#T_988d6_row6_col1,#T_988d6_row6_col2{\n",
       "            background-color:  #e3eef8;\n",
       "            color:  #000000;\n",
       "        }#T_988d6_row7_col1,#T_988d6_row7_col2{\n",
       "            background-color:  #eaf2fb;\n",
       "            color:  #000000;\n",
       "        }#T_988d6_row8_col1,#T_988d6_row8_col2{\n",
       "            background-color:  #ebf3fb;\n",
       "            color:  #000000;\n",
       "        }#T_988d6_row9_col1,#T_988d6_row9_col2{\n",
       "            background-color:  #f7fbff;\n",
       "            color:  #000000;\n",
       "        }</style><table id=\"T_988d6_\" ><thead>    <tr>        <th class=\"blank level0\" ></th>        <th class=\"col_heading level0 col0\" >product_category</th>        <th class=\"col_heading level0 col1\" >number_of_unique_goods</th>        <th class=\"col_heading level0 col2\" >precentage</th>    </tr></thead><tbody>\n",
       "                <tr>\n",
       "                        <th id=\"T_988d6_level0_row0\" class=\"row_heading level0 row0\" >7</th>\n",
       "                        <td id=\"T_988d6_row0_col0\" class=\"data row0 col0\" >plants_seeds</td>\n",
       "                        <td id=\"T_988d6_row0_col1\" class=\"data row0 col1\" >967</td>\n",
       "                        <td id=\"T_988d6_row0_col2\" class=\"data row0 col2\" >42</td>\n",
       "            </tr>\n",
       "            <tr>\n",
       "                        <th id=\"T_988d6_level0_row1\" class=\"row_heading level0 row1\" >2</th>\n",
       "                        <td id=\"T_988d6_row1_col0\" class=\"data row1 col0\" >cleaning_washing</td>\n",
       "                        <td id=\"T_988d6_row1_col1\" class=\"data row1 col1\" >370</td>\n",
       "                        <td id=\"T_988d6_row1_col2\" class=\"data row1 col2\" >16</td>\n",
       "            </tr>\n",
       "            <tr>\n",
       "                        <th id=\"T_988d6_level0_row2\" class=\"row_heading level0 row2\" >5</th>\n",
       "                        <td id=\"T_988d6_row2_col0\" class=\"data row2 col0\" >kitchen</td>\n",
       "                        <td id=\"T_988d6_row2_col1\" class=\"data row2 col1\" >319</td>\n",
       "                        <td id=\"T_988d6_row2_col2\" class=\"data row2 col2\" >14</td>\n",
       "            </tr>\n",
       "            <tr>\n",
       "                        <th id=\"T_988d6_level0_row3\" class=\"row_heading level0 row3\" >3</th>\n",
       "                        <td id=\"T_988d6_row3_col0\" class=\"data row3 col0\" >home_decor</td>\n",
       "                        <td id=\"T_988d6_row3_col1\" class=\"data row3 col1\" >177</td>\n",
       "                        <td id=\"T_988d6_row3_col2\" class=\"data row3 col2\" >8</td>\n",
       "            </tr>\n",
       "            <tr>\n",
       "                        <th id=\"T_988d6_level0_row4\" class=\"row_heading level0 row4\" >9</th>\n",
       "                        <td id=\"T_988d6_row4_col0\" class=\"data row4 col0\" >storage</td>\n",
       "                        <td id=\"T_988d6_row4_col1\" class=\"data row4 col1\" >145</td>\n",
       "                        <td id=\"T_988d6_row4_col2\" class=\"data row4 col2\" >6</td>\n",
       "            </tr>\n",
       "            <tr>\n",
       "                        <th id=\"T_988d6_level0_row5\" class=\"row_heading level0 row5\" >0</th>\n",
       "                        <td id=\"T_988d6_row5_col0\" class=\"data row5 col0\" >bags_carts</td>\n",
       "                        <td id=\"T_988d6_row5_col1\" class=\"data row5 col1\" >109</td>\n",
       "                        <td id=\"T_988d6_row5_col2\" class=\"data row5 col2\" >5</td>\n",
       "            </tr>\n",
       "            <tr>\n",
       "                        <th id=\"T_988d6_level0_row6\" class=\"row_heading level0 row6\" >1</th>\n",
       "                        <td id=\"T_988d6_row6_col0\" class=\"data row6 col0\" >bathroom_wc</td>\n",
       "                        <td id=\"T_988d6_row6_col1\" class=\"data row6 col1\" >101</td>\n",
       "                        <td id=\"T_988d6_row6_col2\" class=\"data row6 col2\" >4</td>\n",
       "            </tr>\n",
       "            <tr>\n",
       "                        <th id=\"T_988d6_level0_row7\" class=\"row_heading level0 row7\" >8</th>\n",
       "                        <td id=\"T_988d6_row7_col0\" class=\"data row7 col0\" >renovation</td>\n",
       "                        <td id=\"T_988d6_row7_col1\" class=\"data row7 col1\" >67</td>\n",
       "                        <td id=\"T_988d6_row7_col2\" class=\"data row7 col2\" >3</td>\n",
       "            </tr>\n",
       "            <tr>\n",
       "                        <th id=\"T_988d6_level0_row8\" class=\"row_heading level0 row8\" >4</th>\n",
       "                        <td id=\"T_988d6_row8_col0\" class=\"data row8 col0\" >home_linen</td>\n",
       "                        <td id=\"T_988d6_row8_col1\" class=\"data row8 col1\" >61</td>\n",
       "                        <td id=\"T_988d6_row8_col2\" class=\"data row8 col2\" >3</td>\n",
       "            </tr>\n",
       "            <tr>\n",
       "                        <th id=\"T_988d6_level0_row9\" class=\"row_heading level0 row9\" >6</th>\n",
       "                        <td id=\"T_988d6_row9_col0\" class=\"data row9 col0\" >no_category</td>\n",
       "                        <td id=\"T_988d6_row9_col1\" class=\"data row9 col1\" >2</td>\n",
       "                        <td id=\"T_988d6_row9_col2\" class=\"data row9 col2\" >0</td>\n",
       "            </tr>\n",
       "    </tbody></table>"
      ],
      "text/plain": [
       "<pandas.io.formats.style.Styler at 0x7f1fcce12af0>"
      ]
     },
     "execution_count": 58,
     "metadata": {},
     "output_type": "execute_result"
    }
   ],
   "source": [
    "df_product_cat = (df.groupby('product_category')['product'].agg('nunique')\n",
    " .reset_index()\n",
    " .rename(columns={'index':'product_category', 'product': 'number_of_unique_goods'})\n",
    " .sort_values(by='number_of_unique_goods', ascending=False)                 \n",
    "                 )\n",
    "df_product_cat['precentage'] = (df_product_cat['number_of_unique_goods']/df['product'].nunique())*100\n",
    "df_product_cat.style.format({'precentage': '{:.0f}'}).background_gradient(cmap='Blues', axis=0)"
   ]
  },
  {
   "cell_type": "code",
   "execution_count": 59,
   "metadata": {},
   "outputs": [
    {
     "data": {
      "text/plain": [
       "2318"
      ]
     },
     "execution_count": 59,
     "metadata": {},
     "output_type": "execute_result"
    }
   ],
   "source": [
    "df['product'].nunique()"
   ]
  },
  {
   "cell_type": "markdown",
   "metadata": {},
   "source": [
    "### Создание сводной таблицы с профилями покупателей"
   ]
  },
  {
   "cell_type": "markdown",
   "metadata": {},
   "source": [
    "#### Добавление числовых показателей и даты последнего заказа"
   ]
  },
  {
   "cell_type": "markdown",
   "metadata": {},
   "source": [
    "Сделаем группировку по покупателям и их заказам и выведем общую сумму для каждого заказа. Нам она понадобится, чтобы вычислить средний чек для каждого покупателя. Мы не можем сразу по каждому order_id вычислять средний чек, потому что у нас может быть несколько строк с одним айди, если в заказе несколько разных позиций."
   ]
  },
  {
   "cell_type": "code",
   "execution_count": 60,
   "metadata": {},
   "outputs": [
    {
     "data": {
      "text/html": [
       "<div>\n",
       "<style scoped>\n",
       "    .dataframe tbody tr th:only-of-type {\n",
       "        vertical-align: middle;\n",
       "    }\n",
       "\n",
       "    .dataframe tbody tr th {\n",
       "        vertical-align: top;\n",
       "    }\n",
       "\n",
       "    .dataframe thead th {\n",
       "        text-align: right;\n",
       "    }\n",
       "</style>\n",
       "<table border=\"1\" class=\"dataframe\">\n",
       "  <thead>\n",
       "    <tr style=\"text-align: right;\">\n",
       "      <th></th>\n",
       "      <th>customer_id</th>\n",
       "      <th>order_id</th>\n",
       "      <th>total_price</th>\n",
       "      <th>quantity</th>\n",
       "    </tr>\n",
       "  </thead>\n",
       "  <tbody>\n",
       "    <tr>\n",
       "      <th>0</th>\n",
       "      <td>000d6849-084e-4d9f-ac03-37174eaf60c4</td>\n",
       "      <td>14943</td>\n",
       "      <td>555.0</td>\n",
       "      <td>4</td>\n",
       "    </tr>\n",
       "    <tr>\n",
       "      <th>1</th>\n",
       "      <td>001cee7f-0b29-4716-b202-0042213ab038</td>\n",
       "      <td>70290</td>\n",
       "      <td>442.0</td>\n",
       "      <td>1</td>\n",
       "    </tr>\n",
       "    <tr>\n",
       "      <th>2</th>\n",
       "      <td>00299f34-5385-4d13-9aea-c80b81658e1b</td>\n",
       "      <td>72965</td>\n",
       "      <td>914.0</td>\n",
       "      <td>2</td>\n",
       "    </tr>\n",
       "    <tr>\n",
       "      <th>3</th>\n",
       "      <td>002d4d3a-4a59-406b-86ec-c3314357e498</td>\n",
       "      <td>69990</td>\n",
       "      <td>1649.0</td>\n",
       "      <td>1</td>\n",
       "    </tr>\n",
       "    <tr>\n",
       "      <th>4</th>\n",
       "      <td>003bbd39-0000-41ff-b7f9-2ddaec152037</td>\n",
       "      <td>72796</td>\n",
       "      <td>2324.0</td>\n",
       "      <td>2</td>\n",
       "    </tr>\n",
       "  </tbody>\n",
       "</table>\n",
       "</div>"
      ],
      "text/plain": [
       "                            customer_id  order_id  total_price  quantity\n",
       "0  000d6849-084e-4d9f-ac03-37174eaf60c4     14943        555.0         4\n",
       "1  001cee7f-0b29-4716-b202-0042213ab038     70290        442.0         1\n",
       "2  00299f34-5385-4d13-9aea-c80b81658e1b     72965        914.0         2\n",
       "3  002d4d3a-4a59-406b-86ec-c3314357e498     69990       1649.0         1\n",
       "4  003bbd39-0000-41ff-b7f9-2ddaec152037     72796       2324.0         2"
      ]
     },
     "execution_count": 60,
     "metadata": {},
     "output_type": "execute_result"
    }
   ],
   "source": [
    "groupped_by_orders = df.groupby(['customer_id','order_id']).agg({'total_price': 'sum', 'quantity': 'sum'}).reset_index()\n",
    "groupped_by_orders.head()"
   ]
  },
  {
   "cell_type": "markdown",
   "metadata": {},
   "source": [
    "На основе этой промежуточной сводной таблицы вычислим средний чек заказов и среднее количество товаров в чеке покупателя."
   ]
  },
  {
   "cell_type": "code",
   "execution_count": 61,
   "metadata": {},
   "outputs": [
    {
     "data": {
      "text/html": [
       "<div>\n",
       "<style scoped>\n",
       "    .dataframe tbody tr th:only-of-type {\n",
       "        vertical-align: middle;\n",
       "    }\n",
       "\n",
       "    .dataframe tbody tr th {\n",
       "        vertical-align: top;\n",
       "    }\n",
       "\n",
       "    .dataframe thead th {\n",
       "        text-align: right;\n",
       "    }\n",
       "</style>\n",
       "<table border=\"1\" class=\"dataframe\">\n",
       "  <thead>\n",
       "    <tr style=\"text-align: right;\">\n",
       "      <th></th>\n",
       "      <th>customer_id</th>\n",
       "      <th>average_order_price</th>\n",
       "      <th>average_order_size</th>\n",
       "    </tr>\n",
       "  </thead>\n",
       "  <tbody>\n",
       "    <tr>\n",
       "      <th>0</th>\n",
       "      <td>000d6849-084e-4d9f-ac03-37174eaf60c4</td>\n",
       "      <td>555.0</td>\n",
       "      <td>4.0</td>\n",
       "    </tr>\n",
       "    <tr>\n",
       "      <th>1</th>\n",
       "      <td>001cee7f-0b29-4716-b202-0042213ab038</td>\n",
       "      <td>442.0</td>\n",
       "      <td>1.0</td>\n",
       "    </tr>\n",
       "    <tr>\n",
       "      <th>2</th>\n",
       "      <td>00299f34-5385-4d13-9aea-c80b81658e1b</td>\n",
       "      <td>914.0</td>\n",
       "      <td>2.0</td>\n",
       "    </tr>\n",
       "    <tr>\n",
       "      <th>3</th>\n",
       "      <td>002d4d3a-4a59-406b-86ec-c3314357e498</td>\n",
       "      <td>1649.0</td>\n",
       "      <td>1.0</td>\n",
       "    </tr>\n",
       "    <tr>\n",
       "      <th>4</th>\n",
       "      <td>003bbd39-0000-41ff-b7f9-2ddaec152037</td>\n",
       "      <td>2324.0</td>\n",
       "      <td>2.0</td>\n",
       "    </tr>\n",
       "  </tbody>\n",
       "</table>\n",
       "</div>"
      ],
      "text/plain": [
       "                            customer_id  average_order_price  \\\n",
       "0  000d6849-084e-4d9f-ac03-37174eaf60c4                555.0   \n",
       "1  001cee7f-0b29-4716-b202-0042213ab038                442.0   \n",
       "2  00299f34-5385-4d13-9aea-c80b81658e1b                914.0   \n",
       "3  002d4d3a-4a59-406b-86ec-c3314357e498               1649.0   \n",
       "4  003bbd39-0000-41ff-b7f9-2ddaec152037               2324.0   \n",
       "\n",
       "   average_order_size  \n",
       "0                 4.0  \n",
       "1                 1.0  \n",
       "2                 2.0  \n",
       "3                 1.0  \n",
       "4                 2.0  "
      ]
     },
     "execution_count": 61,
     "metadata": {},
     "output_type": "execute_result"
    }
   ],
   "source": [
    "average_order_price = (groupped_by_orders.\n",
    "      groupby('customer_id')\n",
    "      .agg({'total_price': 'mean', 'quantity': 'mean'})\n",
    "      .rename(columns={'total_price':'average_order_price', 'quantity': 'average_order_size'})\n",
    "      .reset_index())\n",
    "average_order_price.head()"
   ]
  },
  {
   "cell_type": "markdown",
   "metadata": {},
   "source": [
    "Создадим сводную таблицу по каждому покупателю."
   ]
  },
  {
   "cell_type": "code",
   "execution_count": 62,
   "metadata": {},
   "outputs": [],
   "source": [
    "profiles = (df\n",
    "            .sort_values(by=['customer_id', 'month'])\n",
    "            .groupby(['customer_id'])\n",
    "            .agg(\n",
    "                {\n",
    "                    'month': 'last',\n",
    "                    'total_price': 'sum',\n",
    "                    'order_id': 'nunique',\n",
    "                    'quantity': 'sum',\n",
    "    \n",
    "                }\n",
    "            )\n",
    "            .rename(columns={'month': 'last_order','total_price': 'total_order_price', 'order_id':'number_of_orders', 'quantity': 'total_of_goods'})\n",
    "            .reset_index()\n",
    "           )"
   ]
  },
  {
   "cell_type": "code",
   "execution_count": 63,
   "metadata": {},
   "outputs": [
    {
     "data": {
      "text/html": [
       "<div>\n",
       "<style scoped>\n",
       "    .dataframe tbody tr th:only-of-type {\n",
       "        vertical-align: middle;\n",
       "    }\n",
       "\n",
       "    .dataframe tbody tr th {\n",
       "        vertical-align: top;\n",
       "    }\n",
       "\n",
       "    .dataframe thead th {\n",
       "        text-align: right;\n",
       "    }\n",
       "</style>\n",
       "<table border=\"1\" class=\"dataframe\">\n",
       "  <thead>\n",
       "    <tr style=\"text-align: right;\">\n",
       "      <th></th>\n",
       "      <th>customer_id</th>\n",
       "      <th>last_order</th>\n",
       "      <th>total_order_price</th>\n",
       "      <th>number_of_orders</th>\n",
       "      <th>total_of_goods</th>\n",
       "    </tr>\n",
       "  </thead>\n",
       "  <tbody>\n",
       "    <tr>\n",
       "      <th>0</th>\n",
       "      <td>000d6849-084e-4d9f-ac03-37174eaf60c4</td>\n",
       "      <td>2019-10-01</td>\n",
       "      <td>555.00</td>\n",
       "      <td>1</td>\n",
       "      <td>4</td>\n",
       "    </tr>\n",
       "    <tr>\n",
       "      <th>1</th>\n",
       "      <td>001cee7f-0b29-4716-b202-0042213ab038</td>\n",
       "      <td>2019-02-01</td>\n",
       "      <td>442.00</td>\n",
       "      <td>1</td>\n",
       "      <td>1</td>\n",
       "    </tr>\n",
       "    <tr>\n",
       "      <th>2</th>\n",
       "      <td>00299f34-5385-4d13-9aea-c80b81658e1b</td>\n",
       "      <td>2019-10-01</td>\n",
       "      <td>914.00</td>\n",
       "      <td>1</td>\n",
       "      <td>2</td>\n",
       "    </tr>\n",
       "    <tr>\n",
       "      <th>3</th>\n",
       "      <td>002d4d3a-4a59-406b-86ec-c3314357e498</td>\n",
       "      <td>2019-01-01</td>\n",
       "      <td>1649.00</td>\n",
       "      <td>1</td>\n",
       "      <td>1</td>\n",
       "    </tr>\n",
       "    <tr>\n",
       "      <th>4</th>\n",
       "      <td>003bbd39-0000-41ff-b7f9-2ddaec152037</td>\n",
       "      <td>2019-09-01</td>\n",
       "      <td>2324.00</td>\n",
       "      <td>1</td>\n",
       "      <td>2</td>\n",
       "    </tr>\n",
       "    <tr>\n",
       "      <th>...</th>\n",
       "      <td>...</td>\n",
       "      <td>...</td>\n",
       "      <td>...</td>\n",
       "      <td>...</td>\n",
       "      <td>...</td>\n",
       "    </tr>\n",
       "    <tr>\n",
       "      <th>95</th>\n",
       "      <td>09bcc3d0-8134-4f00-8ea5-b74b55d766ad</td>\n",
       "      <td>2019-06-01</td>\n",
       "      <td>5549.00</td>\n",
       "      <td>1</td>\n",
       "      <td>1</td>\n",
       "    </tr>\n",
       "    <tr>\n",
       "      <th>96</th>\n",
       "      <td>09fd0763-f767-4572-b986-3ac312ddfd17</td>\n",
       "      <td>2020-01-01</td>\n",
       "      <td>1431.00</td>\n",
       "      <td>2</td>\n",
       "      <td>2</td>\n",
       "    </tr>\n",
       "    <tr>\n",
       "      <th>97</th>\n",
       "      <td>0a1aba10-339a-4a3b-b67a-a5de46cc961c</td>\n",
       "      <td>2019-03-01</td>\n",
       "      <td>412.00</td>\n",
       "      <td>1</td>\n",
       "      <td>1</td>\n",
       "    </tr>\n",
       "    <tr>\n",
       "      <th>98</th>\n",
       "      <td>0a1b82ed-6fa9-486b-b358-4746f82f6e77</td>\n",
       "      <td>2019-12-01</td>\n",
       "      <td>306.00</td>\n",
       "      <td>2</td>\n",
       "      <td>2</td>\n",
       "    </tr>\n",
       "    <tr>\n",
       "      <th>99</th>\n",
       "      <td>0a29b892-f32e-483a-871c-d05bb91bbb95</td>\n",
       "      <td>2019-01-01</td>\n",
       "      <td>5775.00</td>\n",
       "      <td>1</td>\n",
       "      <td>7</td>\n",
       "    </tr>\n",
       "  </tbody>\n",
       "</table>\n",
       "<p>100 rows × 5 columns</p>\n",
       "</div>"
      ],
      "text/plain": [
       "                             customer_id last_order  total_order_price  \\\n",
       "0   000d6849-084e-4d9f-ac03-37174eaf60c4 2019-10-01             555.00   \n",
       "1   001cee7f-0b29-4716-b202-0042213ab038 2019-02-01             442.00   \n",
       "2   00299f34-5385-4d13-9aea-c80b81658e1b 2019-10-01             914.00   \n",
       "3   002d4d3a-4a59-406b-86ec-c3314357e498 2019-01-01            1649.00   \n",
       "4   003bbd39-0000-41ff-b7f9-2ddaec152037 2019-09-01            2324.00   \n",
       "..                                   ...        ...                ...   \n",
       "95  09bcc3d0-8134-4f00-8ea5-b74b55d766ad 2019-06-01            5549.00   \n",
       "96  09fd0763-f767-4572-b986-3ac312ddfd17 2020-01-01            1431.00   \n",
       "97  0a1aba10-339a-4a3b-b67a-a5de46cc961c 2019-03-01             412.00   \n",
       "98  0a1b82ed-6fa9-486b-b358-4746f82f6e77 2019-12-01             306.00   \n",
       "99  0a29b892-f32e-483a-871c-d05bb91bbb95 2019-01-01            5775.00   \n",
       "\n",
       "    number_of_orders  total_of_goods  \n",
       "0                  1               4  \n",
       "1                  1               1  \n",
       "2                  1               2  \n",
       "3                  1               1  \n",
       "4                  1               2  \n",
       "..               ...             ...  \n",
       "95                 1               1  \n",
       "96                 2               2  \n",
       "97                 1               1  \n",
       "98                 2               2  \n",
       "99                 1               7  \n",
       "\n",
       "[100 rows x 5 columns]"
      ]
     },
     "execution_count": 63,
     "metadata": {},
     "output_type": "execute_result"
    }
   ],
   "source": [
    "pd.set_option('display.float_format', '{:.2f}'.format)\n",
    "profiles.head(100)"
   ]
  },
  {
   "cell_type": "markdown",
   "metadata": {},
   "source": [
    "Добавляем в профиль средний чек.\n",
    "\n",
    "Объединяем профили с `average_order_price`"
   ]
  },
  {
   "cell_type": "code",
   "execution_count": 64,
   "metadata": {},
   "outputs": [],
   "source": [
    "profiles = profiles.merge(average_order_price, how='left')"
   ]
  },
  {
   "cell_type": "markdown",
   "metadata": {},
   "source": [
    "Смотрим на наш профиль потребления."
   ]
  },
  {
   "cell_type": "code",
   "execution_count": 65,
   "metadata": {},
   "outputs": [
    {
     "data": {
      "text/html": [
       "<div>\n",
       "<style scoped>\n",
       "    .dataframe tbody tr th:only-of-type {\n",
       "        vertical-align: middle;\n",
       "    }\n",
       "\n",
       "    .dataframe tbody tr th {\n",
       "        vertical-align: top;\n",
       "    }\n",
       "\n",
       "    .dataframe thead th {\n",
       "        text-align: right;\n",
       "    }\n",
       "</style>\n",
       "<table border=\"1\" class=\"dataframe\">\n",
       "  <thead>\n",
       "    <tr style=\"text-align: right;\">\n",
       "      <th></th>\n",
       "      <th>customer_id</th>\n",
       "      <th>last_order</th>\n",
       "      <th>total_order_price</th>\n",
       "      <th>number_of_orders</th>\n",
       "      <th>total_of_goods</th>\n",
       "      <th>average_order_price</th>\n",
       "      <th>average_order_size</th>\n",
       "    </tr>\n",
       "  </thead>\n",
       "  <tbody>\n",
       "    <tr>\n",
       "      <th>0</th>\n",
       "      <td>000d6849-084e-4d9f-ac03-37174eaf60c4</td>\n",
       "      <td>2019-10-01</td>\n",
       "      <td>555.00</td>\n",
       "      <td>1</td>\n",
       "      <td>4</td>\n",
       "      <td>555.00</td>\n",
       "      <td>4.00</td>\n",
       "    </tr>\n",
       "    <tr>\n",
       "      <th>1</th>\n",
       "      <td>001cee7f-0b29-4716-b202-0042213ab038</td>\n",
       "      <td>2019-02-01</td>\n",
       "      <td>442.00</td>\n",
       "      <td>1</td>\n",
       "      <td>1</td>\n",
       "      <td>442.00</td>\n",
       "      <td>1.00</td>\n",
       "    </tr>\n",
       "    <tr>\n",
       "      <th>2</th>\n",
       "      <td>00299f34-5385-4d13-9aea-c80b81658e1b</td>\n",
       "      <td>2019-10-01</td>\n",
       "      <td>914.00</td>\n",
       "      <td>1</td>\n",
       "      <td>2</td>\n",
       "      <td>914.00</td>\n",
       "      <td>2.00</td>\n",
       "    </tr>\n",
       "    <tr>\n",
       "      <th>3</th>\n",
       "      <td>002d4d3a-4a59-406b-86ec-c3314357e498</td>\n",
       "      <td>2019-01-01</td>\n",
       "      <td>1649.00</td>\n",
       "      <td>1</td>\n",
       "      <td>1</td>\n",
       "      <td>1649.00</td>\n",
       "      <td>1.00</td>\n",
       "    </tr>\n",
       "    <tr>\n",
       "      <th>4</th>\n",
       "      <td>003bbd39-0000-41ff-b7f9-2ddaec152037</td>\n",
       "      <td>2019-09-01</td>\n",
       "      <td>2324.00</td>\n",
       "      <td>1</td>\n",
       "      <td>2</td>\n",
       "      <td>2324.00</td>\n",
       "      <td>2.00</td>\n",
       "    </tr>\n",
       "  </tbody>\n",
       "</table>\n",
       "</div>"
      ],
      "text/plain": [
       "                            customer_id last_order  total_order_price  \\\n",
       "0  000d6849-084e-4d9f-ac03-37174eaf60c4 2019-10-01             555.00   \n",
       "1  001cee7f-0b29-4716-b202-0042213ab038 2019-02-01             442.00   \n",
       "2  00299f34-5385-4d13-9aea-c80b81658e1b 2019-10-01             914.00   \n",
       "3  002d4d3a-4a59-406b-86ec-c3314357e498 2019-01-01            1649.00   \n",
       "4  003bbd39-0000-41ff-b7f9-2ddaec152037 2019-09-01            2324.00   \n",
       "\n",
       "   number_of_orders  total_of_goods  average_order_price  average_order_size  \n",
       "0                 1               4               555.00                4.00  \n",
       "1                 1               1               442.00                1.00  \n",
       "2                 1               2               914.00                2.00  \n",
       "3                 1               1              1649.00                1.00  \n",
       "4                 1               2              2324.00                2.00  "
      ]
     },
     "execution_count": 65,
     "metadata": {},
     "output_type": "execute_result"
    }
   ],
   "source": [
    "profiles.head()"
   ]
  },
  {
   "cell_type": "markdown",
   "metadata": {},
   "source": [
    "Проверим на каком-нибудь покупателе, что у нас получилось. Покупатель с айди 0d1b15b6-9cf3-4642-8bc3-74c7dee7b40e совершил 3 заказа."
   ]
  },
  {
   "cell_type": "code",
   "execution_count": 66,
   "metadata": {},
   "outputs": [
    {
     "data": {
      "text/html": [
       "<div>\n",
       "<style scoped>\n",
       "    .dataframe tbody tr th:only-of-type {\n",
       "        vertical-align: middle;\n",
       "    }\n",
       "\n",
       "    .dataframe tbody tr th {\n",
       "        vertical-align: top;\n",
       "    }\n",
       "\n",
       "    .dataframe thead th {\n",
       "        text-align: right;\n",
       "    }\n",
       "</style>\n",
       "<table border=\"1\" class=\"dataframe\">\n",
       "  <thead>\n",
       "    <tr style=\"text-align: right;\">\n",
       "      <th></th>\n",
       "      <th>date</th>\n",
       "      <th>customer_id</th>\n",
       "      <th>order_id</th>\n",
       "      <th>product</th>\n",
       "      <th>quantity</th>\n",
       "      <th>price</th>\n",
       "      <th>month</th>\n",
       "      <th>total_price</th>\n",
       "      <th>product_lemmas</th>\n",
       "      <th>product_category</th>\n",
       "    </tr>\n",
       "  </thead>\n",
       "  <tbody>\n",
       "    <tr>\n",
       "      <th>6145</th>\n",
       "      <td>2019-08-21 05:00:00</td>\n",
       "      <td>0d1b15b6-9cf3-4642-8bc3-74c7dee7b40e</td>\n",
       "      <td>14920</td>\n",
       "      <td>Пеларгония зональная диам. 12 см сиреневый полумахровый</td>\n",
       "      <td>1</td>\n",
       "      <td>188.00</td>\n",
       "      <td>2019-08-01</td>\n",
       "      <td>188.00</td>\n",
       "      <td>пеларгония зональный диам сиреневый полумахровый</td>\n",
       "      <td>plants_seeds</td>\n",
       "    </tr>\n",
       "    <tr>\n",
       "      <th>6146</th>\n",
       "      <td>2019-08-21 05:00:00</td>\n",
       "      <td>0d1b15b6-9cf3-4642-8bc3-74c7dee7b40e</td>\n",
       "      <td>14920</td>\n",
       "      <td>Пеларгония розебудная Mary укорененный черенок</td>\n",
       "      <td>1</td>\n",
       "      <td>135.00</td>\n",
       "      <td>2019-08-01</td>\n",
       "      <td>135.00</td>\n",
       "      <td>пеларгония розебудный укоренить черенок</td>\n",
       "      <td>plants_seeds</td>\n",
       "    </tr>\n",
       "    <tr>\n",
       "      <th>6147</th>\n",
       "      <td>2019-08-21 05:00:00</td>\n",
       "      <td>0d1b15b6-9cf3-4642-8bc3-74c7dee7b40e</td>\n",
       "      <td>14920</td>\n",
       "      <td>Пеларгония розебудная Prins Nikolai укорененный черенок</td>\n",
       "      <td>2</td>\n",
       "      <td>135.00</td>\n",
       "      <td>2019-08-01</td>\n",
       "      <td>270.00</td>\n",
       "      <td>пеларгония розебудный укоренить черенок</td>\n",
       "      <td>plants_seeds</td>\n",
       "    </tr>\n",
       "    <tr>\n",
       "      <th>6148</th>\n",
       "      <td>2019-08-21 05:00:00</td>\n",
       "      <td>0d1b15b6-9cf3-4642-8bc3-74c7dee7b40e</td>\n",
       "      <td>14920</td>\n",
       "      <td>Пеларгония тюльпановидная EMMA</td>\n",
       "      <td>1</td>\n",
       "      <td>135.00</td>\n",
       "      <td>2019-08-01</td>\n",
       "      <td>135.00</td>\n",
       "      <td>пеларгония тюльпановидный</td>\n",
       "      <td>plants_seeds</td>\n",
       "    </tr>\n",
       "    <tr>\n",
       "      <th>6200</th>\n",
       "      <td>2019-08-27 05:00:00</td>\n",
       "      <td>0d1b15b6-9cf3-4642-8bc3-74c7dee7b40e</td>\n",
       "      <td>14926</td>\n",
       "      <td>Флокс метельчатый сорт Чурленис, диаметр горшка 10см.</td>\n",
       "      <td>1</td>\n",
       "      <td>135.00</td>\n",
       "      <td>2019-08-01</td>\n",
       "      <td>135.00</td>\n",
       "      <td>флокс метельчатый сорт чурленис диаметр горшок</td>\n",
       "      <td>plants_seeds</td>\n",
       "    </tr>\n",
       "    <tr>\n",
       "      <th>6199</th>\n",
       "      <td>2019-08-27 05:00:00</td>\n",
       "      <td>0d1b15b6-9cf3-4642-8bc3-74c7dee7b40e</td>\n",
       "      <td>14926</td>\n",
       "      <td>Флокс метельчатый сорт ПОЛИНА, диаметр горшка 10см.</td>\n",
       "      <td>1</td>\n",
       "      <td>135.00</td>\n",
       "      <td>2019-08-01</td>\n",
       "      <td>135.00</td>\n",
       "      <td>флокс метельчатый сорт полина диаметр горшок</td>\n",
       "      <td>plants_seeds</td>\n",
       "    </tr>\n",
       "    <tr>\n",
       "      <th>6197</th>\n",
       "      <td>2019-08-27 05:00:00</td>\n",
       "      <td>0d1b15b6-9cf3-4642-8bc3-74c7dee7b40e</td>\n",
       "      <td>14926</td>\n",
       "      <td>Флокс метельчатый сорт Мари, диаметр горшка 10см.</td>\n",
       "      <td>1</td>\n",
       "      <td>135.00</td>\n",
       "      <td>2019-08-01</td>\n",
       "      <td>135.00</td>\n",
       "      <td>флокс метельчатый сорт марь диаметр горшок</td>\n",
       "      <td>plants_seeds</td>\n",
       "    </tr>\n",
       "    <tr>\n",
       "      <th>6196</th>\n",
       "      <td>2019-08-27 05:00:00</td>\n",
       "      <td>0d1b15b6-9cf3-4642-8bc3-74c7dee7b40e</td>\n",
       "      <td>14926</td>\n",
       "      <td>Пеларгония тюльпановидная EMMA</td>\n",
       "      <td>1</td>\n",
       "      <td>135.00</td>\n",
       "      <td>2019-08-01</td>\n",
       "      <td>135.00</td>\n",
       "      <td>пеларгония тюльпановидный</td>\n",
       "      <td>plants_seeds</td>\n",
       "    </tr>\n",
       "    <tr>\n",
       "      <th>6198</th>\n",
       "      <td>2019-08-27 05:00:00</td>\n",
       "      <td>0d1b15b6-9cf3-4642-8bc3-74c7dee7b40e</td>\n",
       "      <td>14926</td>\n",
       "      <td>Флокс метельчатый сорт Морской петух Новый сорт, диаметр горшка 10см.</td>\n",
       "      <td>1</td>\n",
       "      <td>135.00</td>\n",
       "      <td>2019-08-01</td>\n",
       "      <td>135.00</td>\n",
       "      <td>флокс метельчатый сорт морской петух новый сорт диаметр горшок</td>\n",
       "      <td>plants_seeds</td>\n",
       "    </tr>\n",
       "    <tr>\n",
       "      <th>6542</th>\n",
       "      <td>2019-10-08 13:00:00</td>\n",
       "      <td>0d1b15b6-9cf3-4642-8bc3-74c7dee7b40e</td>\n",
       "      <td>14940</td>\n",
       "      <td>Пеларгония розебудная Mary укорененный черенок</td>\n",
       "      <td>1</td>\n",
       "      <td>135.00</td>\n",
       "      <td>2019-10-01</td>\n",
       "      <td>135.00</td>\n",
       "      <td>пеларгония розебудный укоренить черенок</td>\n",
       "      <td>plants_seeds</td>\n",
       "    </tr>\n",
       "  </tbody>\n",
       "</table>\n",
       "</div>"
      ],
      "text/plain": [
       "                    date                           customer_id  order_id  \\\n",
       "6145 2019-08-21 05:00:00  0d1b15b6-9cf3-4642-8bc3-74c7dee7b40e     14920   \n",
       "6146 2019-08-21 05:00:00  0d1b15b6-9cf3-4642-8bc3-74c7dee7b40e     14920   \n",
       "6147 2019-08-21 05:00:00  0d1b15b6-9cf3-4642-8bc3-74c7dee7b40e     14920   \n",
       "6148 2019-08-21 05:00:00  0d1b15b6-9cf3-4642-8bc3-74c7dee7b40e     14920   \n",
       "6200 2019-08-27 05:00:00  0d1b15b6-9cf3-4642-8bc3-74c7dee7b40e     14926   \n",
       "6199 2019-08-27 05:00:00  0d1b15b6-9cf3-4642-8bc3-74c7dee7b40e     14926   \n",
       "6197 2019-08-27 05:00:00  0d1b15b6-9cf3-4642-8bc3-74c7dee7b40e     14926   \n",
       "6196 2019-08-27 05:00:00  0d1b15b6-9cf3-4642-8bc3-74c7dee7b40e     14926   \n",
       "6198 2019-08-27 05:00:00  0d1b15b6-9cf3-4642-8bc3-74c7dee7b40e     14926   \n",
       "6542 2019-10-08 13:00:00  0d1b15b6-9cf3-4642-8bc3-74c7dee7b40e     14940   \n",
       "\n",
       "                                                                    product  \\\n",
       "6145                Пеларгония зональная диам. 12 см сиреневый полумахровый   \n",
       "6146                         Пеларгония розебудная Mary укорененный черенок   \n",
       "6147                Пеларгония розебудная Prins Nikolai укорененный черенок   \n",
       "6148                                         Пеларгония тюльпановидная EMMA   \n",
       "6200                  Флокс метельчатый сорт Чурленис, диаметр горшка 10см.   \n",
       "6199                    Флокс метельчатый сорт ПОЛИНА, диаметр горшка 10см.   \n",
       "6197                      Флокс метельчатый сорт Мари, диаметр горшка 10см.   \n",
       "6196                                         Пеларгония тюльпановидная EMMA   \n",
       "6198  Флокс метельчатый сорт Морской петух Новый сорт, диаметр горшка 10см.   \n",
       "6542                         Пеларгония розебудная Mary укорененный черенок   \n",
       "\n",
       "      quantity  price      month  total_price  \\\n",
       "6145         1 188.00 2019-08-01       188.00   \n",
       "6146         1 135.00 2019-08-01       135.00   \n",
       "6147         2 135.00 2019-08-01       270.00   \n",
       "6148         1 135.00 2019-08-01       135.00   \n",
       "6200         1 135.00 2019-08-01       135.00   \n",
       "6199         1 135.00 2019-08-01       135.00   \n",
       "6197         1 135.00 2019-08-01       135.00   \n",
       "6196         1 135.00 2019-08-01       135.00   \n",
       "6198         1 135.00 2019-08-01       135.00   \n",
       "6542         1 135.00 2019-10-01       135.00   \n",
       "\n",
       "                                                      product_lemmas  \\\n",
       "6145                пеларгония зональный диам сиреневый полумахровый   \n",
       "6146                         пеларгония розебудный укоренить черенок   \n",
       "6147                         пеларгония розебудный укоренить черенок   \n",
       "6148                                       пеларгония тюльпановидный   \n",
       "6200                  флокс метельчатый сорт чурленис диаметр горшок   \n",
       "6199                    флокс метельчатый сорт полина диаметр горшок   \n",
       "6197                      флокс метельчатый сорт марь диаметр горшок   \n",
       "6196                                       пеларгония тюльпановидный   \n",
       "6198  флокс метельчатый сорт морской петух новый сорт диаметр горшок   \n",
       "6542                         пеларгония розебудный укоренить черенок   \n",
       "\n",
       "     product_category  \n",
       "6145     plants_seeds  \n",
       "6146     plants_seeds  \n",
       "6147     plants_seeds  \n",
       "6148     plants_seeds  \n",
       "6200     plants_seeds  \n",
       "6199     plants_seeds  \n",
       "6197     plants_seeds  \n",
       "6196     plants_seeds  \n",
       "6198     plants_seeds  \n",
       "6542     plants_seeds  "
      ]
     },
     "metadata": {},
     "output_type": "display_data"
    },
    {
     "name": "stdout",
     "output_type": "stream",
     "text": [
      "Дата последнего заказа: 2019-10-08 13:00:00\n",
      "Общая сумма всех заказов: 1538.0\n",
      "Количество совершенных заказов: 3\n",
      "Общее количество заказанных товаров: 11\n",
      "Средний чек по всем заказам: 512.6666666666666\n",
      "Среднее количество товаров в заказе: 3.6666666666666665\n"
     ]
    }
   ],
   "source": [
    "check = df.query('customer_id==\"0d1b15b6-9cf3-4642-8bc3-74c7dee7b40e\"')\n",
    "display(check)\n",
    "print(\"Дата последнего заказа:\", check['date'].max())\n",
    "print(\"Общая сумма всех заказов:\", check['total_price'].sum())\n",
    "print(\"Количество совершенных заказов:\", check['order_id'].nunique())\n",
    "print(\"Общее количество заказанных товаров:\", check['quantity'].sum())\n",
    "print(\"Средний чек по всем заказам:\", check['total_price'].sum()/3)\n",
    "print(\"Среднее количество товаров в заказе:\", check['quantity'].sum()/3)"
   ]
  },
  {
   "cell_type": "code",
   "execution_count": 67,
   "metadata": {},
   "outputs": [
    {
     "data": {
      "text/html": [
       "<div>\n",
       "<style scoped>\n",
       "    .dataframe tbody tr th:only-of-type {\n",
       "        vertical-align: middle;\n",
       "    }\n",
       "\n",
       "    .dataframe tbody tr th {\n",
       "        vertical-align: top;\n",
       "    }\n",
       "\n",
       "    .dataframe thead th {\n",
       "        text-align: right;\n",
       "    }\n",
       "</style>\n",
       "<table border=\"1\" class=\"dataframe\">\n",
       "  <thead>\n",
       "    <tr style=\"text-align: right;\">\n",
       "      <th></th>\n",
       "      <th>customer_id</th>\n",
       "      <th>last_order</th>\n",
       "      <th>total_order_price</th>\n",
       "      <th>number_of_orders</th>\n",
       "      <th>total_of_goods</th>\n",
       "      <th>average_order_price</th>\n",
       "      <th>average_order_size</th>\n",
       "    </tr>\n",
       "  </thead>\n",
       "  <tbody>\n",
       "    <tr>\n",
       "      <th>123</th>\n",
       "      <td>0d1b15b6-9cf3-4642-8bc3-74c7dee7b40e</td>\n",
       "      <td>2019-10-01</td>\n",
       "      <td>1538.00</td>\n",
       "      <td>3</td>\n",
       "      <td>11</td>\n",
       "      <td>512.67</td>\n",
       "      <td>3.67</td>\n",
       "    </tr>\n",
       "  </tbody>\n",
       "</table>\n",
       "</div>"
      ],
      "text/plain": [
       "                              customer_id last_order  total_order_price  \\\n",
       "123  0d1b15b6-9cf3-4642-8bc3-74c7dee7b40e 2019-10-01            1538.00   \n",
       "\n",
       "     number_of_orders  total_of_goods  average_order_price  average_order_size  \n",
       "123                 3              11               512.67                3.67  "
      ]
     },
     "execution_count": 67,
     "metadata": {},
     "output_type": "execute_result"
    }
   ],
   "source": [
    "profiles.query('customer_id==\"0d1b15b6-9cf3-4642-8bc3-74c7dee7b40e\"')"
   ]
  },
  {
   "cell_type": "markdown",
   "metadata": {},
   "source": [
    "### Добавление количества заказов в каждой категорий для каждого покупателя"
   ]
  },
  {
   "cell_type": "markdown",
   "metadata": {},
   "source": [
    "Нам интересно посмотреть для каждого покупателя, товары из каких категорий он заказывает чаще всего."
   ]
  },
  {
   "cell_type": "code",
   "execution_count": 68,
   "metadata": {},
   "outputs": [
    {
     "data": {
      "text/html": [
       "<div>\n",
       "<style scoped>\n",
       "    .dataframe tbody tr th:only-of-type {\n",
       "        vertical-align: middle;\n",
       "    }\n",
       "\n",
       "    .dataframe tbody tr th {\n",
       "        vertical-align: top;\n",
       "    }\n",
       "\n",
       "    .dataframe thead th {\n",
       "        text-align: right;\n",
       "    }\n",
       "</style>\n",
       "<table border=\"1\" class=\"dataframe\">\n",
       "  <thead>\n",
       "    <tr style=\"text-align: right;\">\n",
       "      <th></th>\n",
       "      <th>customer_id</th>\n",
       "      <th>bags_carts</th>\n",
       "      <th>bathroom_wc</th>\n",
       "      <th>cleaning_washing</th>\n",
       "      <th>home_decor</th>\n",
       "      <th>home_linen</th>\n",
       "      <th>kitchen</th>\n",
       "      <th>no_category</th>\n",
       "      <th>plants_seeds</th>\n",
       "      <th>renovation</th>\n",
       "      <th>storage</th>\n",
       "    </tr>\n",
       "  </thead>\n",
       "  <tbody>\n",
       "    <tr>\n",
       "      <th>0</th>\n",
       "      <td>000d6849-084e-4d9f-ac03-37174eaf60c4</td>\n",
       "      <td>0.00</td>\n",
       "      <td>0.00</td>\n",
       "      <td>0.00</td>\n",
       "      <td>0.00</td>\n",
       "      <td>0.00</td>\n",
       "      <td>0.00</td>\n",
       "      <td>0.00</td>\n",
       "      <td>1.00</td>\n",
       "      <td>0.00</td>\n",
       "      <td>0.00</td>\n",
       "    </tr>\n",
       "    <tr>\n",
       "      <th>1</th>\n",
       "      <td>001cee7f-0b29-4716-b202-0042213ab038</td>\n",
       "      <td>0.00</td>\n",
       "      <td>0.00</td>\n",
       "      <td>1.00</td>\n",
       "      <td>0.00</td>\n",
       "      <td>0.00</td>\n",
       "      <td>0.00</td>\n",
       "      <td>0.00</td>\n",
       "      <td>0.00</td>\n",
       "      <td>0.00</td>\n",
       "      <td>0.00</td>\n",
       "    </tr>\n",
       "    <tr>\n",
       "      <th>2</th>\n",
       "      <td>00299f34-5385-4d13-9aea-c80b81658e1b</td>\n",
       "      <td>0.00</td>\n",
       "      <td>0.00</td>\n",
       "      <td>1.00</td>\n",
       "      <td>0.00</td>\n",
       "      <td>0.00</td>\n",
       "      <td>0.00</td>\n",
       "      <td>0.00</td>\n",
       "      <td>0.00</td>\n",
       "      <td>0.00</td>\n",
       "      <td>0.00</td>\n",
       "    </tr>\n",
       "    <tr>\n",
       "      <th>3</th>\n",
       "      <td>002d4d3a-4a59-406b-86ec-c3314357e498</td>\n",
       "      <td>1.00</td>\n",
       "      <td>0.00</td>\n",
       "      <td>0.00</td>\n",
       "      <td>0.00</td>\n",
       "      <td>0.00</td>\n",
       "      <td>0.00</td>\n",
       "      <td>0.00</td>\n",
       "      <td>0.00</td>\n",
       "      <td>0.00</td>\n",
       "      <td>0.00</td>\n",
       "    </tr>\n",
       "    <tr>\n",
       "      <th>4</th>\n",
       "      <td>003bbd39-0000-41ff-b7f9-2ddaec152037</td>\n",
       "      <td>0.00</td>\n",
       "      <td>0.00</td>\n",
       "      <td>0.00</td>\n",
       "      <td>0.00</td>\n",
       "      <td>0.00</td>\n",
       "      <td>0.00</td>\n",
       "      <td>0.00</td>\n",
       "      <td>0.00</td>\n",
       "      <td>0.00</td>\n",
       "      <td>1.00</td>\n",
       "    </tr>\n",
       "    <tr>\n",
       "      <th>...</th>\n",
       "      <td>...</td>\n",
       "      <td>...</td>\n",
       "      <td>...</td>\n",
       "      <td>...</td>\n",
       "      <td>...</td>\n",
       "      <td>...</td>\n",
       "      <td>...</td>\n",
       "      <td>...</td>\n",
       "      <td>...</td>\n",
       "      <td>...</td>\n",
       "      <td>...</td>\n",
       "    </tr>\n",
       "    <tr>\n",
       "      <th>2367</th>\n",
       "      <td>ff601403-b094-4b86-9ac6-264d725b9277</td>\n",
       "      <td>1.00</td>\n",
       "      <td>0.00</td>\n",
       "      <td>0.00</td>\n",
       "      <td>0.00</td>\n",
       "      <td>0.00</td>\n",
       "      <td>0.00</td>\n",
       "      <td>0.00</td>\n",
       "      <td>1.00</td>\n",
       "      <td>0.00</td>\n",
       "      <td>0.00</td>\n",
       "    </tr>\n",
       "    <tr>\n",
       "      <th>2368</th>\n",
       "      <td>ffaeab76-3a8d-49ee-860f-17273b2fc8a2</td>\n",
       "      <td>0.00</td>\n",
       "      <td>0.00</td>\n",
       "      <td>1.00</td>\n",
       "      <td>0.00</td>\n",
       "      <td>0.00</td>\n",
       "      <td>0.00</td>\n",
       "      <td>0.00</td>\n",
       "      <td>0.00</td>\n",
       "      <td>0.00</td>\n",
       "      <td>0.00</td>\n",
       "    </tr>\n",
       "    <tr>\n",
       "      <th>2369</th>\n",
       "      <td>ffb5976a-7a4d-460b-95c4-5ffaba31cb24</td>\n",
       "      <td>0.00</td>\n",
       "      <td>0.00</td>\n",
       "      <td>0.00</td>\n",
       "      <td>0.00</td>\n",
       "      <td>0.00</td>\n",
       "      <td>0.00</td>\n",
       "      <td>0.00</td>\n",
       "      <td>1.00</td>\n",
       "      <td>0.00</td>\n",
       "      <td>0.00</td>\n",
       "    </tr>\n",
       "    <tr>\n",
       "      <th>2370</th>\n",
       "      <td>ffb80538-3fda-4351-8ea9-9d2bec58bb07</td>\n",
       "      <td>0.00</td>\n",
       "      <td>0.00</td>\n",
       "      <td>0.00</td>\n",
       "      <td>0.00</td>\n",
       "      <td>0.00</td>\n",
       "      <td>1.00</td>\n",
       "      <td>0.00</td>\n",
       "      <td>0.00</td>\n",
       "      <td>0.00</td>\n",
       "      <td>0.00</td>\n",
       "    </tr>\n",
       "    <tr>\n",
       "      <th>2371</th>\n",
       "      <td>ffe82299-3f5b-4214-87fe-3d36ecccfac3</td>\n",
       "      <td>0.00</td>\n",
       "      <td>0.00</td>\n",
       "      <td>1.00</td>\n",
       "      <td>0.00</td>\n",
       "      <td>0.00</td>\n",
       "      <td>0.00</td>\n",
       "      <td>0.00</td>\n",
       "      <td>0.00</td>\n",
       "      <td>0.00</td>\n",
       "      <td>0.00</td>\n",
       "    </tr>\n",
       "  </tbody>\n",
       "</table>\n",
       "<p>2372 rows × 11 columns</p>\n",
       "</div>"
      ],
      "text/plain": [
       "                               customer_id  bags_carts  bathroom_wc  \\\n",
       "0     000d6849-084e-4d9f-ac03-37174eaf60c4        0.00         0.00   \n",
       "1     001cee7f-0b29-4716-b202-0042213ab038        0.00         0.00   \n",
       "2     00299f34-5385-4d13-9aea-c80b81658e1b        0.00         0.00   \n",
       "3     002d4d3a-4a59-406b-86ec-c3314357e498        1.00         0.00   \n",
       "4     003bbd39-0000-41ff-b7f9-2ddaec152037        0.00         0.00   \n",
       "...                                    ...         ...          ...   \n",
       "2367  ff601403-b094-4b86-9ac6-264d725b9277        1.00         0.00   \n",
       "2368  ffaeab76-3a8d-49ee-860f-17273b2fc8a2        0.00         0.00   \n",
       "2369  ffb5976a-7a4d-460b-95c4-5ffaba31cb24        0.00         0.00   \n",
       "2370  ffb80538-3fda-4351-8ea9-9d2bec58bb07        0.00         0.00   \n",
       "2371  ffe82299-3f5b-4214-87fe-3d36ecccfac3        0.00         0.00   \n",
       "\n",
       "      cleaning_washing  home_decor  home_linen  kitchen  no_category  \\\n",
       "0                 0.00        0.00        0.00     0.00         0.00   \n",
       "1                 1.00        0.00        0.00     0.00         0.00   \n",
       "2                 1.00        0.00        0.00     0.00         0.00   \n",
       "3                 0.00        0.00        0.00     0.00         0.00   \n",
       "4                 0.00        0.00        0.00     0.00         0.00   \n",
       "...                ...         ...         ...      ...          ...   \n",
       "2367              0.00        0.00        0.00     0.00         0.00   \n",
       "2368              1.00        0.00        0.00     0.00         0.00   \n",
       "2369              0.00        0.00        0.00     0.00         0.00   \n",
       "2370              0.00        0.00        0.00     1.00         0.00   \n",
       "2371              1.00        0.00        0.00     0.00         0.00   \n",
       "\n",
       "      plants_seeds  renovation  storage  \n",
       "0             1.00        0.00     0.00  \n",
       "1             0.00        0.00     0.00  \n",
       "2             0.00        0.00     0.00  \n",
       "3             0.00        0.00     0.00  \n",
       "4             0.00        0.00     1.00  \n",
       "...            ...         ...      ...  \n",
       "2367          1.00        0.00     0.00  \n",
       "2368          0.00        0.00     0.00  \n",
       "2369          1.00        0.00     0.00  \n",
       "2370          0.00        0.00     0.00  \n",
       "2371          0.00        0.00     0.00  \n",
       "\n",
       "[2372 rows x 11 columns]"
      ]
     },
     "execution_count": 68,
     "metadata": {},
     "output_type": "execute_result"
    }
   ],
   "source": [
    "# Сначала сгруппируем по заказам и покупателям\n",
    "group_orders = (df.groupby(['customer_id', 'order_id'])\n",
    "                .agg({'product_category': 'value_counts'})\n",
    "                .rename(columns={'product_category':'number_of_categories_in_order'})\n",
    "                .reset_index())\n",
    "\n",
    "# Теперь на основе этой группировки создадим сводную табличку, \n",
    "#где на каждого покупателя по каждой категории будет указано кол-во заказов\n",
    "custom_order_cat = (group_orders.pivot_table(index=['customer_id'], \n",
    "                                             columns='product_category', \n",
    "                                             values='order_id', aggfunc='count')\n",
    "                    .reset_index()\n",
    "                    .fillna(0))\n",
    "custom_order_cat.columns.name = None\n",
    "custom_order_cat"
   ]
  },
  {
   "cell_type": "markdown",
   "metadata": {},
   "source": [
    "Изменим тип данных у числовых признаков - пусть будет целочисленное int8."
   ]
  },
  {
   "cell_type": "code",
   "execution_count": 69,
   "metadata": {},
   "outputs": [],
   "source": [
    "for column_name in custom_order_cat.describe().columns:\n",
    "    custom_order_cat = custom_order_cat.astype({column_name: 'int8'})"
   ]
  },
  {
   "cell_type": "markdown",
   "metadata": {},
   "source": [
    "Возьмем покупателя с большим количеством заказов в разных категориях."
   ]
  },
  {
   "cell_type": "code",
   "execution_count": 70,
   "metadata": {},
   "outputs": [
    {
     "data": {
      "text/html": [
       "<div>\n",
       "<style scoped>\n",
       "    .dataframe tbody tr th:only-of-type {\n",
       "        vertical-align: middle;\n",
       "    }\n",
       "\n",
       "    .dataframe tbody tr th {\n",
       "        vertical-align: top;\n",
       "    }\n",
       "\n",
       "    .dataframe thead th {\n",
       "        text-align: right;\n",
       "    }\n",
       "</style>\n",
       "<table border=\"1\" class=\"dataframe\">\n",
       "  <thead>\n",
       "    <tr style=\"text-align: right;\">\n",
       "      <th></th>\n",
       "      <th>customer_id</th>\n",
       "      <th>last_order</th>\n",
       "      <th>total_order_price</th>\n",
       "      <th>number_of_orders</th>\n",
       "      <th>total_of_goods</th>\n",
       "      <th>average_order_price</th>\n",
       "      <th>average_order_size</th>\n",
       "    </tr>\n",
       "  </thead>\n",
       "  <tbody>\n",
       "    <tr>\n",
       "      <th>1757</th>\n",
       "      <td>bea7a833-2074-42db-bc49-4457abd3c930</td>\n",
       "      <td>2019-06-01</td>\n",
       "      <td>4409.00</td>\n",
       "      <td>4</td>\n",
       "      <td>30</td>\n",
       "      <td>1102.25</td>\n",
       "      <td>7.50</td>\n",
       "    </tr>\n",
       "    <tr>\n",
       "      <th>2071</th>\n",
       "      <td>e0535076-6270-4df2-8621-cb06264a94fa</td>\n",
       "      <td>2019-05-01</td>\n",
       "      <td>636.00</td>\n",
       "      <td>4</td>\n",
       "      <td>4</td>\n",
       "      <td>159.00</td>\n",
       "      <td>1.00</td>\n",
       "    </tr>\n",
       "  </tbody>\n",
       "</table>\n",
       "</div>"
      ],
      "text/plain": [
       "                               customer_id last_order  total_order_price  \\\n",
       "1757  bea7a833-2074-42db-bc49-4457abd3c930 2019-06-01            4409.00   \n",
       "2071  e0535076-6270-4df2-8621-cb06264a94fa 2019-05-01             636.00   \n",
       "\n",
       "      number_of_orders  total_of_goods  average_order_price  \\\n",
       "1757                 4              30              1102.25   \n",
       "2071                 4               4               159.00   \n",
       "\n",
       "      average_order_size  \n",
       "1757                7.50  \n",
       "2071                1.00  "
      ]
     },
     "execution_count": 70,
     "metadata": {},
     "output_type": "execute_result"
    }
   ],
   "source": [
    "profiles.query('number_of_orders == 4')"
   ]
  },
  {
   "cell_type": "code",
   "execution_count": 71,
   "metadata": {},
   "outputs": [
    {
     "data": {
      "text/html": [
       "<div>\n",
       "<style scoped>\n",
       "    .dataframe tbody tr th:only-of-type {\n",
       "        vertical-align: middle;\n",
       "    }\n",
       "\n",
       "    .dataframe tbody tr th {\n",
       "        vertical-align: top;\n",
       "    }\n",
       "\n",
       "    .dataframe thead th {\n",
       "        text-align: right;\n",
       "    }\n",
       "</style>\n",
       "<table border=\"1\" class=\"dataframe\">\n",
       "  <thead>\n",
       "    <tr style=\"text-align: right;\">\n",
       "      <th></th>\n",
       "      <th>customer_id</th>\n",
       "      <th>bags_carts</th>\n",
       "      <th>bathroom_wc</th>\n",
       "      <th>cleaning_washing</th>\n",
       "      <th>home_decor</th>\n",
       "      <th>home_linen</th>\n",
       "      <th>kitchen</th>\n",
       "      <th>no_category</th>\n",
       "      <th>plants_seeds</th>\n",
       "      <th>renovation</th>\n",
       "      <th>storage</th>\n",
       "    </tr>\n",
       "  </thead>\n",
       "  <tbody>\n",
       "    <tr>\n",
       "      <th>673</th>\n",
       "      <td>498f12a4-6a62-4725-8516-cf5dc9ab8a3a</td>\n",
       "      <td>0</td>\n",
       "      <td>0</td>\n",
       "      <td>1</td>\n",
       "      <td>0</td>\n",
       "      <td>2</td>\n",
       "      <td>0</td>\n",
       "      <td>0</td>\n",
       "      <td>0</td>\n",
       "      <td>0</td>\n",
       "      <td>0</td>\n",
       "    </tr>\n",
       "  </tbody>\n",
       "</table>\n",
       "</div>"
      ],
      "text/plain": [
       "                              customer_id  bags_carts  bathroom_wc  \\\n",
       "673  498f12a4-6a62-4725-8516-cf5dc9ab8a3a           0            0   \n",
       "\n",
       "     cleaning_washing  home_decor  home_linen  kitchen  no_category  \\\n",
       "673                 1           0           2        0            0   \n",
       "\n",
       "     plants_seeds  renovation  storage  \n",
       "673             0           0        0  "
      ]
     },
     "execution_count": 71,
     "metadata": {},
     "output_type": "execute_result"
    }
   ],
   "source": [
    "custom_order_cat.query('customer_id==\"498f12a4-6a62-4725-8516-cf5dc9ab8a3a\"')"
   ]
  },
  {
   "cell_type": "code",
   "execution_count": 72,
   "metadata": {},
   "outputs": [
    {
     "data": {
      "text/html": [
       "<div>\n",
       "<style scoped>\n",
       "    .dataframe tbody tr th:only-of-type {\n",
       "        vertical-align: middle;\n",
       "    }\n",
       "\n",
       "    .dataframe tbody tr th {\n",
       "        vertical-align: top;\n",
       "    }\n",
       "\n",
       "    .dataframe thead th {\n",
       "        text-align: right;\n",
       "    }\n",
       "</style>\n",
       "<table border=\"1\" class=\"dataframe\">\n",
       "  <thead>\n",
       "    <tr style=\"text-align: right;\">\n",
       "      <th></th>\n",
       "      <th>date</th>\n",
       "      <th>customer_id</th>\n",
       "      <th>order_id</th>\n",
       "      <th>product</th>\n",
       "      <th>quantity</th>\n",
       "      <th>price</th>\n",
       "      <th>month</th>\n",
       "      <th>total_price</th>\n",
       "      <th>product_lemmas</th>\n",
       "      <th>product_category</th>\n",
       "    </tr>\n",
       "  </thead>\n",
       "  <tbody>\n",
       "    <tr>\n",
       "      <th>2970</th>\n",
       "      <td>2019-04-19 18:00:00</td>\n",
       "      <td>498f12a4-6a62-4725-8516-cf5dc9ab8a3a</td>\n",
       "      <td>71205</td>\n",
       "      <td>Наматрацник Natures Бархатный бамбук ББ-Н-1-2 односпальный, 100% хлопок, стеганый 90х200 см, с р...</td>\n",
       "      <td>12</td>\n",
       "      <td>1183.00</td>\n",
       "      <td>2019-04-01</td>\n",
       "      <td>14196.00</td>\n",
       "      <td>наматрацник бархатный бамбук односпальный хлопок стёганый резинка угол белый</td>\n",
       "      <td>home_linen</td>\n",
       "    </tr>\n",
       "    <tr>\n",
       "      <th>2971</th>\n",
       "      <td>2019-04-19 19:00:00</td>\n",
       "      <td>498f12a4-6a62-4725-8516-cf5dc9ab8a3a</td>\n",
       "      <td>71206</td>\n",
       "      <td>Одеяло Wellness T142 белое темостеганое 140х205 см чехол 100% полиэстер 200 г/м 4690659000306</td>\n",
       "      <td>10</td>\n",
       "      <td>1568.00</td>\n",
       "      <td>2019-04-01</td>\n",
       "      <td>15680.00</td>\n",
       "      <td>одеяло белый темостёганый чехол полиэстер</td>\n",
       "      <td>home_linen</td>\n",
       "    </tr>\n",
       "    <tr>\n",
       "      <th>2972</th>\n",
       "      <td>2019-04-19 19:00:00</td>\n",
       "      <td>498f12a4-6a62-4725-8516-cf5dc9ab8a3a</td>\n",
       "      <td>71207</td>\n",
       "      <td>Таз пластмассовый строительный круглый 40 л, 1404062</td>\n",
       "      <td>3</td>\n",
       "      <td>188.00</td>\n",
       "      <td>2019-04-01</td>\n",
       "      <td>564.00</td>\n",
       "      <td>таз пластмассовый строительный круглый</td>\n",
       "      <td>cleaning_washing</td>\n",
       "    </tr>\n",
       "  </tbody>\n",
       "</table>\n",
       "</div>"
      ],
      "text/plain": [
       "                    date                           customer_id  order_id  \\\n",
       "2970 2019-04-19 18:00:00  498f12a4-6a62-4725-8516-cf5dc9ab8a3a     71205   \n",
       "2971 2019-04-19 19:00:00  498f12a4-6a62-4725-8516-cf5dc9ab8a3a     71206   \n",
       "2972 2019-04-19 19:00:00  498f12a4-6a62-4725-8516-cf5dc9ab8a3a     71207   \n",
       "\n",
       "                                                                                                  product  \\\n",
       "2970  Наматрацник Natures Бархатный бамбук ББ-Н-1-2 односпальный, 100% хлопок, стеганый 90х200 см, с р...   \n",
       "2971        Одеяло Wellness T142 белое темостеганое 140х205 см чехол 100% полиэстер 200 г/м 4690659000306   \n",
       "2972                                                 Таз пластмассовый строительный круглый 40 л, 1404062   \n",
       "\n",
       "      quantity   price      month  total_price  \\\n",
       "2970        12 1183.00 2019-04-01     14196.00   \n",
       "2971        10 1568.00 2019-04-01     15680.00   \n",
       "2972         3  188.00 2019-04-01       564.00   \n",
       "\n",
       "                                                                    product_lemmas  \\\n",
       "2970  наматрацник бархатный бамбук односпальный хлопок стёганый резинка угол белый   \n",
       "2971                                     одеяло белый темостёганый чехол полиэстер   \n",
       "2972                                        таз пластмассовый строительный круглый   \n",
       "\n",
       "      product_category  \n",
       "2970        home_linen  \n",
       "2971        home_linen  \n",
       "2972  cleaning_washing  "
      ]
     },
     "execution_count": 72,
     "metadata": {},
     "output_type": "execute_result"
    }
   ],
   "source": [
    "df.query('customer_id==\"498f12a4-6a62-4725-8516-cf5dc9ab8a3a\"')"
   ]
  },
  {
   "cell_type": "markdown",
   "metadata": {},
   "source": [
    "Все сходится. Мы провели верные расчеты.\n",
    "\n",
    "Добавим эту таблицу с фичами в нашу общую таблицу с профилем потребления.\n",
    "\n",
    "Объединяем профили с custom_order_cat."
   ]
  },
  {
   "cell_type": "code",
   "execution_count": 73,
   "metadata": {},
   "outputs": [],
   "source": [
    "profiles = profiles.merge(custom_order_cat, how='left')"
   ]
  },
  {
   "cell_type": "code",
   "execution_count": 74,
   "metadata": {},
   "outputs": [
    {
     "name": "stdout",
     "output_type": "stream",
     "text": [
      "<class 'pandas.core.frame.DataFrame'>\n",
      "Int64Index: 2372 entries, 0 to 2371\n",
      "Data columns (total 17 columns):\n",
      " #   Column               Non-Null Count  Dtype         \n",
      "---  ------               --------------  -----         \n",
      " 0   customer_id          2372 non-null   object        \n",
      " 1   last_order           2372 non-null   datetime64[ns]\n",
      " 2   total_order_price    2372 non-null   float64       \n",
      " 3   number_of_orders     2372 non-null   int64         \n",
      " 4   total_of_goods       2372 non-null   int64         \n",
      " 5   average_order_price  2372 non-null   float64       \n",
      " 6   average_order_size   2372 non-null   float64       \n",
      " 7   bags_carts           2372 non-null   int8          \n",
      " 8   bathroom_wc          2372 non-null   int8          \n",
      " 9   cleaning_washing     2372 non-null   int8          \n",
      " 10  home_decor           2372 non-null   int8          \n",
      " 11  home_linen           2372 non-null   int8          \n",
      " 12  kitchen              2372 non-null   int8          \n",
      " 13  no_category          2372 non-null   int8          \n",
      " 14  plants_seeds         2372 non-null   int8          \n",
      " 15  renovation           2372 non-null   int8          \n",
      " 16  storage              2372 non-null   int8          \n",
      "dtypes: datetime64[ns](1), float64(3), int64(2), int8(10), object(1)\n",
      "memory usage: 171.4+ KB\n"
     ]
    }
   ],
   "source": [
    "profiles.info()"
   ]
  },
  {
   "cell_type": "code",
   "execution_count": 75,
   "metadata": {},
   "outputs": [
    {
     "data": {
      "text/html": [
       "<div>\n",
       "<style scoped>\n",
       "    .dataframe tbody tr th:only-of-type {\n",
       "        vertical-align: middle;\n",
       "    }\n",
       "\n",
       "    .dataframe tbody tr th {\n",
       "        vertical-align: top;\n",
       "    }\n",
       "\n",
       "    .dataframe thead th {\n",
       "        text-align: right;\n",
       "    }\n",
       "</style>\n",
       "<table border=\"1\" class=\"dataframe\">\n",
       "  <thead>\n",
       "    <tr style=\"text-align: right;\">\n",
       "      <th></th>\n",
       "      <th>customer_id</th>\n",
       "      <th>last_order</th>\n",
       "      <th>total_order_price</th>\n",
       "      <th>number_of_orders</th>\n",
       "      <th>total_of_goods</th>\n",
       "      <th>average_order_price</th>\n",
       "      <th>average_order_size</th>\n",
       "      <th>bags_carts</th>\n",
       "      <th>bathroom_wc</th>\n",
       "      <th>cleaning_washing</th>\n",
       "      <th>home_decor</th>\n",
       "      <th>home_linen</th>\n",
       "      <th>kitchen</th>\n",
       "      <th>no_category</th>\n",
       "      <th>plants_seeds</th>\n",
       "      <th>renovation</th>\n",
       "      <th>storage</th>\n",
       "    </tr>\n",
       "  </thead>\n",
       "  <tbody>\n",
       "    <tr>\n",
       "      <th>0</th>\n",
       "      <td>000d6849-084e-4d9f-ac03-37174eaf60c4</td>\n",
       "      <td>2019-10-01</td>\n",
       "      <td>555.00</td>\n",
       "      <td>1</td>\n",
       "      <td>4</td>\n",
       "      <td>555.00</td>\n",
       "      <td>4.00</td>\n",
       "      <td>0</td>\n",
       "      <td>0</td>\n",
       "      <td>0</td>\n",
       "      <td>0</td>\n",
       "      <td>0</td>\n",
       "      <td>0</td>\n",
       "      <td>0</td>\n",
       "      <td>1</td>\n",
       "      <td>0</td>\n",
       "      <td>0</td>\n",
       "    </tr>\n",
       "    <tr>\n",
       "      <th>1</th>\n",
       "      <td>001cee7f-0b29-4716-b202-0042213ab038</td>\n",
       "      <td>2019-02-01</td>\n",
       "      <td>442.00</td>\n",
       "      <td>1</td>\n",
       "      <td>1</td>\n",
       "      <td>442.00</td>\n",
       "      <td>1.00</td>\n",
       "      <td>0</td>\n",
       "      <td>0</td>\n",
       "      <td>1</td>\n",
       "      <td>0</td>\n",
       "      <td>0</td>\n",
       "      <td>0</td>\n",
       "      <td>0</td>\n",
       "      <td>0</td>\n",
       "      <td>0</td>\n",
       "      <td>0</td>\n",
       "    </tr>\n",
       "    <tr>\n",
       "      <th>2</th>\n",
       "      <td>00299f34-5385-4d13-9aea-c80b81658e1b</td>\n",
       "      <td>2019-10-01</td>\n",
       "      <td>914.00</td>\n",
       "      <td>1</td>\n",
       "      <td>2</td>\n",
       "      <td>914.00</td>\n",
       "      <td>2.00</td>\n",
       "      <td>0</td>\n",
       "      <td>0</td>\n",
       "      <td>1</td>\n",
       "      <td>0</td>\n",
       "      <td>0</td>\n",
       "      <td>0</td>\n",
       "      <td>0</td>\n",
       "      <td>0</td>\n",
       "      <td>0</td>\n",
       "      <td>0</td>\n",
       "    </tr>\n",
       "    <tr>\n",
       "      <th>3</th>\n",
       "      <td>002d4d3a-4a59-406b-86ec-c3314357e498</td>\n",
       "      <td>2019-01-01</td>\n",
       "      <td>1649.00</td>\n",
       "      <td>1</td>\n",
       "      <td>1</td>\n",
       "      <td>1649.00</td>\n",
       "      <td>1.00</td>\n",
       "      <td>1</td>\n",
       "      <td>0</td>\n",
       "      <td>0</td>\n",
       "      <td>0</td>\n",
       "      <td>0</td>\n",
       "      <td>0</td>\n",
       "      <td>0</td>\n",
       "      <td>0</td>\n",
       "      <td>0</td>\n",
       "      <td>0</td>\n",
       "    </tr>\n",
       "    <tr>\n",
       "      <th>4</th>\n",
       "      <td>003bbd39-0000-41ff-b7f9-2ddaec152037</td>\n",
       "      <td>2019-09-01</td>\n",
       "      <td>2324.00</td>\n",
       "      <td>1</td>\n",
       "      <td>2</td>\n",
       "      <td>2324.00</td>\n",
       "      <td>2.00</td>\n",
       "      <td>0</td>\n",
       "      <td>0</td>\n",
       "      <td>0</td>\n",
       "      <td>0</td>\n",
       "      <td>0</td>\n",
       "      <td>0</td>\n",
       "      <td>0</td>\n",
       "      <td>0</td>\n",
       "      <td>0</td>\n",
       "      <td>1</td>\n",
       "    </tr>\n",
       "  </tbody>\n",
       "</table>\n",
       "</div>"
      ],
      "text/plain": [
       "                            customer_id last_order  total_order_price  \\\n",
       "0  000d6849-084e-4d9f-ac03-37174eaf60c4 2019-10-01             555.00   \n",
       "1  001cee7f-0b29-4716-b202-0042213ab038 2019-02-01             442.00   \n",
       "2  00299f34-5385-4d13-9aea-c80b81658e1b 2019-10-01             914.00   \n",
       "3  002d4d3a-4a59-406b-86ec-c3314357e498 2019-01-01            1649.00   \n",
       "4  003bbd39-0000-41ff-b7f9-2ddaec152037 2019-09-01            2324.00   \n",
       "\n",
       "   number_of_orders  total_of_goods  average_order_price  average_order_size  \\\n",
       "0                 1               4               555.00                4.00   \n",
       "1                 1               1               442.00                1.00   \n",
       "2                 1               2               914.00                2.00   \n",
       "3                 1               1              1649.00                1.00   \n",
       "4                 1               2              2324.00                2.00   \n",
       "\n",
       "   bags_carts  bathroom_wc  cleaning_washing  home_decor  home_linen  kitchen  \\\n",
       "0           0            0                 0           0           0        0   \n",
       "1           0            0                 1           0           0        0   \n",
       "2           0            0                 1           0           0        0   \n",
       "3           1            0                 0           0           0        0   \n",
       "4           0            0                 0           0           0        0   \n",
       "\n",
       "   no_category  plants_seeds  renovation  storage  \n",
       "0            0             1           0        0  \n",
       "1            0             0           0        0  \n",
       "2            0             0           0        0  \n",
       "3            0             0           0        0  \n",
       "4            0             0           0        1  "
      ]
     },
     "execution_count": 75,
     "metadata": {},
     "output_type": "execute_result"
    }
   ],
   "source": [
    "profiles.head()"
   ]
  },
  {
   "cell_type": "markdown",
   "metadata": {},
   "source": [
    "## Исследование профиля потребления"
   ]
  },
  {
   "cell_type": "markdown",
   "metadata": {},
   "source": [
    "### Дата последнего заказа"
   ]
  },
  {
   "cell_type": "markdown",
   "metadata": {},
   "source": [
    "Изучим месяц, в который произошел последний заказ."
   ]
  },
  {
   "cell_type": "code",
   "execution_count": 76,
   "metadata": {},
   "outputs": [
    {
     "data": {
      "text/plain": [
       "2020-01-01    269\n",
       "2019-12-01    246\n",
       "2019-11-01    217\n",
       "2019-10-01    166\n",
       "2019-04-01    161\n",
       "2018-12-01    140\n",
       "2019-03-01    135\n",
       "2019-02-01    135\n",
       "2018-11-01    127\n",
       "2018-10-01    123\n",
       "2019-07-01    120\n",
       "2019-05-01    119\n",
       "2019-08-01    111\n",
       "2019-06-01    106\n",
       "2019-09-01    103\n",
       "2019-01-01     94\n",
       "Name: last_order, dtype: int64"
      ]
     },
     "execution_count": 76,
     "metadata": {},
     "output_type": "execute_result"
    }
   ],
   "source": [
    "profiles['last_order'].value_counts()"
   ]
  },
  {
   "cell_type": "code",
   "execution_count": 77,
   "metadata": {},
   "outputs": [
    {
     "data": {
      "image/png": "[encoded data removed]",
      "text/plain": [
       "<Figure size 432x288 with 1 Axes>"
      ]
     },
     "metadata": {
      "needs_background": "light"
     },
     "output_type": "display_data"
    }
   ],
   "source": [
    "profiles['last_order'].value_counts().plot();\n",
    "plt.title('Динамика оттока\\n', fontsize=15)\n",
    "plt.xlabel('\\n Месяц последней покупки')\n",
    "plt.ylabel('Общее количество покупателей\\n')\n",
    "plt.show()"
   ]
  },
  {
   "cell_type": "code",
   "execution_count": 78,
   "metadata": {},
   "outputs": [
    {
     "data": {
      "text/plain": [
       "'Процент клиентов, которые перестали заказывать после октября и ноября 2018: 16.7%'"
      ]
     },
     "execution_count": 78,
     "metadata": {},
     "output_type": "execute_result"
    }
   ],
   "source": [
    "(\"Процент клиентов, которые перестали заказывать после октября и ноября 2018: {:.1%}\"\n",
    ".format((len(profiles[profiles['last_order']=='2020-01-01']) \n",
    "         + len(profiles[profiles['last_order']=='2018-11-01']))/uniq_clients)\n",
    ")"
   ]
  },
  {
   "cell_type": "markdown",
   "metadata": {},
   "source": [
    "Создадим функцию для исследования нашего профиля потребителей: посмотрим на описательную статистику числовых признаков, построим диаграмму рассеивания."
   ]
  },
  {
   "cell_type": "code",
   "execution_count": 79,
   "metadata": {},
   "outputs": [],
   "source": [
    "\"\"\"\n",
    "Функция принимает имя датафрейма и имя столбца датафрейма и \n",
    "выводит на экран описательную статистику с помощью функции describe(),\n",
    "а также рисует точечную диаграмму по признаку-имени столбца.\n",
    "\n",
    "Аргументы функции:\n",
    "\n",
    "dataframe - строка (имя датафрейма)\n",
    "column_name - строка (имя столбца)\n",
    "\n",
    "\n",
    "Для имени столбца используется словарь вида: ключ словаря - имя столбца, значение - строка-значение признака.\n",
    "\n",
    "\"\"\"\n",
    "dic_features = {\n",
    "'total_order_price': '\"Общая стоимость всех заказов\"',\n",
    "'number_of_orders': '\"Общее количество совершенных заказов\"',\n",
    "'total_of_goods': '\"Общее количество купленных товаров\"',\n",
    "'average_order_price': '\"Средний чек\"',\n",
    "'average_order_size': '\"Среднее количество позиций в заказе\"',\n",
    "'bags_carts': '\"Количество заказов в категории \"Тележки-сумки\"\"',\n",
    "'bathroom_wc': '\"Количество заказов в категории \"Ванная и туалет\"\"',\n",
    "'cleaning_washing':'\"Количество заказов в категории \"Уборка\"\"',      \n",
    "'home_decor':'\"Количество заказов в категории \"Декор и уют\"\"',         \n",
    "'home_linen':'\"Количество заказов в категории \"Домашний текстиль\"\"',           \n",
    "'kitchen':'\"Количество заказов в категории \"Кухня\"\"',         \n",
    "'plants_seeds':'\"Количество заказов в категории \"Растения и семена\"\"', \n",
    "'no_category':'\"Количество заказов в категории \"Остальное\"\"', \n",
    "'renovation':'\"Количество заказов в категории \"Ремонт\"\"',        \n",
    "'storage':'\"Количество заказов в категории \"Хранение\"\"'\n",
    " }\n",
    "\n",
    "def get_analysis(dataframe, column_name):\n",
    "    print('Описательная статистика для признака {} \\n'.format(dic_features[column_name]))\n",
    "    display(dataframe[column_name].describe())\n",
    "    x_values = pd.Series(range(0,len(dataframe[column_name])))\n",
    "    plt.scatter(x_values, dataframe[column_name])\n",
    "    plt.title('\\n Диаграмма рассеивания признака {} \\n'.format(dic_features[column_name]), fontsize=15)\n",
    "    plt.show();\n",
    "    print('95 и 99-й персентили признака: {}'.format(dic_features[column_name]))\n",
    "    print(np.percentile(dataframe[column_name], [95, 99]))"
   ]
  },
  {
   "cell_type": "markdown",
   "metadata": {},
   "source": [
    "### Общая стоимость всех заказов"
   ]
  },
  {
   "cell_type": "code",
   "execution_count": 80,
   "metadata": {},
   "outputs": [
    {
     "name": "stdout",
     "output_type": "stream",
     "text": [
      "Описательная статистика для признака \"Общая стоимость всех заказов\" \n",
      "\n"
     ]
    },
    {
     "data": {
      "text/plain": [
       "count     2372.00\n",
       "mean      1514.40\n",
       "std       3906.00\n",
       "min         15.00\n",
       "25%        380.00\n",
       "50%        824.00\n",
       "75%       1762.00\n",
       "max     158292.00\n",
       "Name: total_order_price, dtype: float64"
      ]
     },
     "metadata": {},
     "output_type": "display_data"
    },
    {
     "data": {
      "image/png": "[encoded data removed]",
      "text/plain": [
       "<Figure size 432x288 with 1 Axes>"
      ]
     },
     "metadata": {
      "needs_background": "light"
     },
     "output_type": "display_data"
    },
    {
     "name": "stdout",
     "output_type": "stream",
     "text": [
      "95 и 99-й персентили признака: \"Общая стоимость всех заказов\"\n",
      "[4697.3  8699.37]\n"
     ]
    }
   ],
   "source": [
    "get_analysis(profiles, 'total_order_price')"
   ]
  },
  {
   "cell_type": "markdown",
   "metadata": {},
   "source": [
    "### Количество заказов"
   ]
  },
  {
   "cell_type": "code",
   "execution_count": 81,
   "metadata": {},
   "outputs": [
    {
     "name": "stdout",
     "output_type": "stream",
     "text": [
      "Описательная статистика для признака \"Общее количество совершенных заказов\" \n",
      "\n"
     ]
    },
    {
     "data": {
      "text/plain": [
       "count   2372.00\n",
       "mean       1.45\n",
       "std        2.69\n",
       "min        1.00\n",
       "25%        1.00\n",
       "50%        1.00\n",
       "75%        2.00\n",
       "max      125.00\n",
       "Name: number_of_orders, dtype: float64"
      ]
     },
     "metadata": {},
     "output_type": "display_data"
    },
    {
     "data": {
      "image/png": "[encoded data removed]",
      "text/plain": [
       "<Figure size 432x288 with 1 Axes>"
      ]
     },
     "metadata": {
      "needs_background": "light"
     },
     "output_type": "display_data"
    },
    {
     "name": "stdout",
     "output_type": "stream",
     "text": [
      "95 и 99-й персентили признака: \"Общее количество совершенных заказов\"\n",
      "[2. 3.]\n"
     ]
    }
   ],
   "source": [
    "get_analysis(profiles, 'number_of_orders')"
   ]
  },
  {
   "cell_type": "markdown",
   "metadata": {},
   "source": [
    "На графике хорошо виден тот самый покупатель с 126 заказами (аномальное число заказов для этих данных), у которого общая сумма всех заказов равна 159 508 рублей.\n",
    "\n",
    "Посмотрим на клиентов, совершивших два и более заказов, посчитаем более точно, какой процент от общего числа клиентов составляют такие покупатели."
   ]
  },
  {
   "cell_type": "markdown",
   "metadata": {},
   "source": [
    "За исследуемый период покупатели сделали 1-2 заказа. Покупателей с количеством заказов 3 и более - редкое явление - менее 1%."
   ]
  },
  {
   "cell_type": "code",
   "execution_count": 84,
   "metadata": {},
   "outputs": [
    {
     "data": {
      "text/html": [
       "<div>\n",
       "<style scoped>\n",
       "    .dataframe tbody tr th:only-of-type {\n",
       "        vertical-align: middle;\n",
       "    }\n",
       "\n",
       "    .dataframe tbody tr th {\n",
       "        vertical-align: top;\n",
       "    }\n",
       "\n",
       "    .dataframe thead th {\n",
       "        text-align: right;\n",
       "    }\n",
       "</style>\n",
       "<table border=\"1\" class=\"dataframe\">\n",
       "  <thead>\n",
       "    <tr style=\"text-align: right;\">\n",
       "      <th></th>\n",
       "      <th>customer_id</th>\n",
       "      <th>last_order</th>\n",
       "      <th>total_order_price</th>\n",
       "      <th>number_of_orders</th>\n",
       "      <th>total_of_goods</th>\n",
       "      <th>average_order_price</th>\n",
       "      <th>average_order_size</th>\n",
       "      <th>bags_carts</th>\n",
       "      <th>bathroom_wc</th>\n",
       "      <th>cleaning_washing</th>\n",
       "      <th>home_decor</th>\n",
       "      <th>home_linen</th>\n",
       "      <th>kitchen</th>\n",
       "      <th>no_category</th>\n",
       "      <th>plants_seeds</th>\n",
       "      <th>renovation</th>\n",
       "      <th>storage</th>\n",
       "    </tr>\n",
       "  </thead>\n",
       "  <tbody>\n",
       "    <tr>\n",
       "      <th>6</th>\n",
       "      <td>005ba170-45e8-42de-93f7-192481ae2659</td>\n",
       "      <td>2019-11-01</td>\n",
       "      <td>7857.00</td>\n",
       "      <td>2</td>\n",
       "      <td>3</td>\n",
       "      <td>3928.50</td>\n",
       "      <td>1.50</td>\n",
       "      <td>1</td>\n",
       "      <td>1</td>\n",
       "      <td>0</td>\n",
       "      <td>0</td>\n",
       "      <td>0</td>\n",
       "      <td>0</td>\n",
       "      <td>0</td>\n",
       "      <td>0</td>\n",
       "      <td>0</td>\n",
       "      <td>0</td>\n",
       "    </tr>\n",
       "    <tr>\n",
       "      <th>8</th>\n",
       "      <td>00c0f92a-121a-4883-a78d-2c7b5fe187de</td>\n",
       "      <td>2019-12-01</td>\n",
       "      <td>321.00</td>\n",
       "      <td>2</td>\n",
       "      <td>2</td>\n",
       "      <td>160.50</td>\n",
       "      <td>1.00</td>\n",
       "      <td>0</td>\n",
       "      <td>0</td>\n",
       "      <td>0</td>\n",
       "      <td>0</td>\n",
       "      <td>0</td>\n",
       "      <td>0</td>\n",
       "      <td>0</td>\n",
       "      <td>2</td>\n",
       "      <td>0</td>\n",
       "      <td>0</td>\n",
       "    </tr>\n",
       "    <tr>\n",
       "      <th>10</th>\n",
       "      <td>00cd704a-a65c-4865-b39a-779f1b4f1d1a</td>\n",
       "      <td>2019-12-01</td>\n",
       "      <td>213.00</td>\n",
       "      <td>2</td>\n",
       "      <td>2</td>\n",
       "      <td>106.50</td>\n",
       "      <td>1.00</td>\n",
       "      <td>0</td>\n",
       "      <td>0</td>\n",
       "      <td>0</td>\n",
       "      <td>0</td>\n",
       "      <td>0</td>\n",
       "      <td>1</td>\n",
       "      <td>0</td>\n",
       "      <td>1</td>\n",
       "      <td>0</td>\n",
       "      <td>0</td>\n",
       "    </tr>\n",
       "    <tr>\n",
       "      <th>12</th>\n",
       "      <td>00ff5327-0fba-481c-8a07-47a95093a213</td>\n",
       "      <td>2019-12-01</td>\n",
       "      <td>1146.50</td>\n",
       "      <td>2</td>\n",
       "      <td>2</td>\n",
       "      <td>573.25</td>\n",
       "      <td>1.00</td>\n",
       "      <td>0</td>\n",
       "      <td>0</td>\n",
       "      <td>1</td>\n",
       "      <td>0</td>\n",
       "      <td>0</td>\n",
       "      <td>0</td>\n",
       "      <td>0</td>\n",
       "      <td>1</td>\n",
       "      <td>0</td>\n",
       "      <td>0</td>\n",
       "    </tr>\n",
       "    <tr>\n",
       "      <th>17</th>\n",
       "      <td>0184f535-b60a-4914-a982-231e3f615206</td>\n",
       "      <td>2019-05-01</td>\n",
       "      <td>5891.00</td>\n",
       "      <td>5</td>\n",
       "      <td>58</td>\n",
       "      <td>1178.20</td>\n",
       "      <td>11.60</td>\n",
       "      <td>0</td>\n",
       "      <td>0</td>\n",
       "      <td>0</td>\n",
       "      <td>0</td>\n",
       "      <td>0</td>\n",
       "      <td>0</td>\n",
       "      <td>0</td>\n",
       "      <td>5</td>\n",
       "      <td>0</td>\n",
       "      <td>0</td>\n",
       "    </tr>\n",
       "    <tr>\n",
       "      <th>...</th>\n",
       "      <td>...</td>\n",
       "      <td>...</td>\n",
       "      <td>...</td>\n",
       "      <td>...</td>\n",
       "      <td>...</td>\n",
       "      <td>...</td>\n",
       "      <td>...</td>\n",
       "      <td>...</td>\n",
       "      <td>...</td>\n",
       "      <td>...</td>\n",
       "      <td>...</td>\n",
       "      <td>...</td>\n",
       "      <td>...</td>\n",
       "      <td>...</td>\n",
       "      <td>...</td>\n",
       "      <td>...</td>\n",
       "      <td>...</td>\n",
       "    </tr>\n",
       "    <tr>\n",
       "      <th>2357</th>\n",
       "      <td>fe3e6382-3272-4045-8601-c9acfc08006f</td>\n",
       "      <td>2019-12-01</td>\n",
       "      <td>636.00</td>\n",
       "      <td>2</td>\n",
       "      <td>2</td>\n",
       "      <td>318.00</td>\n",
       "      <td>1.00</td>\n",
       "      <td>0</td>\n",
       "      <td>0</td>\n",
       "      <td>1</td>\n",
       "      <td>0</td>\n",
       "      <td>0</td>\n",
       "      <td>0</td>\n",
       "      <td>0</td>\n",
       "      <td>1</td>\n",
       "      <td>0</td>\n",
       "      <td>0</td>\n",
       "    </tr>\n",
       "    <tr>\n",
       "      <th>2363</th>\n",
       "      <td>fef19457-5e7b-4d5d-b031-806041bc251a</td>\n",
       "      <td>2019-11-01</td>\n",
       "      <td>839.00</td>\n",
       "      <td>2</td>\n",
       "      <td>2</td>\n",
       "      <td>419.50</td>\n",
       "      <td>1.00</td>\n",
       "      <td>1</td>\n",
       "      <td>0</td>\n",
       "      <td>0</td>\n",
       "      <td>0</td>\n",
       "      <td>0</td>\n",
       "      <td>0</td>\n",
       "      <td>0</td>\n",
       "      <td>1</td>\n",
       "      <td>0</td>\n",
       "      <td>0</td>\n",
       "    </tr>\n",
       "    <tr>\n",
       "      <th>2365</th>\n",
       "      <td>ff31d802-dae6-484d-a3dc-c9723f1cb538</td>\n",
       "      <td>2019-05-01</td>\n",
       "      <td>5998.00</td>\n",
       "      <td>2</td>\n",
       "      <td>2</td>\n",
       "      <td>2999.00</td>\n",
       "      <td>1.00</td>\n",
       "      <td>0</td>\n",
       "      <td>0</td>\n",
       "      <td>0</td>\n",
       "      <td>0</td>\n",
       "      <td>0</td>\n",
       "      <td>0</td>\n",
       "      <td>0</td>\n",
       "      <td>0</td>\n",
       "      <td>2</td>\n",
       "      <td>0</td>\n",
       "    </tr>\n",
       "    <tr>\n",
       "      <th>2366</th>\n",
       "      <td>ff422162-fc4a-4b65-a0e2-17f5095ea2c6</td>\n",
       "      <td>2019-03-01</td>\n",
       "      <td>1610.00</td>\n",
       "      <td>3</td>\n",
       "      <td>3</td>\n",
       "      <td>536.67</td>\n",
       "      <td>1.00</td>\n",
       "      <td>1</td>\n",
       "      <td>0</td>\n",
       "      <td>0</td>\n",
       "      <td>0</td>\n",
       "      <td>0</td>\n",
       "      <td>1</td>\n",
       "      <td>0</td>\n",
       "      <td>1</td>\n",
       "      <td>0</td>\n",
       "      <td>0</td>\n",
       "    </tr>\n",
       "    <tr>\n",
       "      <th>2367</th>\n",
       "      <td>ff601403-b094-4b86-9ac6-264d725b9277</td>\n",
       "      <td>2020-01-01</td>\n",
       "      <td>1739.00</td>\n",
       "      <td>2</td>\n",
       "      <td>2</td>\n",
       "      <td>869.50</td>\n",
       "      <td>1.00</td>\n",
       "      <td>1</td>\n",
       "      <td>0</td>\n",
       "      <td>0</td>\n",
       "      <td>0</td>\n",
       "      <td>0</td>\n",
       "      <td>0</td>\n",
       "      <td>0</td>\n",
       "      <td>1</td>\n",
       "      <td>0</td>\n",
       "      <td>0</td>\n",
       "    </tr>\n",
       "  </tbody>\n",
       "</table>\n",
       "<p>870 rows × 17 columns</p>\n",
       "</div>"
      ],
      "text/plain": [
       "                               customer_id last_order  total_order_price  \\\n",
       "6     005ba170-45e8-42de-93f7-192481ae2659 2019-11-01            7857.00   \n",
       "8     00c0f92a-121a-4883-a78d-2c7b5fe187de 2019-12-01             321.00   \n",
       "10    00cd704a-a65c-4865-b39a-779f1b4f1d1a 2019-12-01             213.00   \n",
       "12    00ff5327-0fba-481c-8a07-47a95093a213 2019-12-01            1146.50   \n",
       "17    0184f535-b60a-4914-a982-231e3f615206 2019-05-01            5891.00   \n",
       "...                                    ...        ...                ...   \n",
       "2357  fe3e6382-3272-4045-8601-c9acfc08006f 2019-12-01             636.00   \n",
       "2363  fef19457-5e7b-4d5d-b031-806041bc251a 2019-11-01             839.00   \n",
       "2365  ff31d802-dae6-484d-a3dc-c9723f1cb538 2019-05-01            5998.00   \n",
       "2366  ff422162-fc4a-4b65-a0e2-17f5095ea2c6 2019-03-01            1610.00   \n",
       "2367  ff601403-b094-4b86-9ac6-264d725b9277 2020-01-01            1739.00   \n",
       "\n",
       "      number_of_orders  total_of_goods  average_order_price  \\\n",
       "6                    2               3              3928.50   \n",
       "8                    2               2               160.50   \n",
       "10                   2               2               106.50   \n",
       "12                   2               2               573.25   \n",
       "17                   5              58              1178.20   \n",
       "...                ...             ...                  ...   \n",
       "2357                 2               2               318.00   \n",
       "2363                 2               2               419.50   \n",
       "2365                 2               2              2999.00   \n",
       "2366                 3               3               536.67   \n",
       "2367                 2               2               869.50   \n",
       "\n",
       "      average_order_size  bags_carts  bathroom_wc  cleaning_washing  \\\n",
       "6                   1.50           1            1                 0   \n",
       "8                   1.00           0            0                 0   \n",
       "10                  1.00           0            0                 0   \n",
       "12                  1.00           0            0                 1   \n",
       "17                 11.60           0            0                 0   \n",
       "...                  ...         ...          ...               ...   \n",
       "2357                1.00           0            0                 1   \n",
       "2363                1.00           1            0                 0   \n",
       "2365                1.00           0            0                 0   \n",
       "2366                1.00           1            0                 0   \n",
       "2367                1.00           1            0                 0   \n",
       "\n",
       "      home_decor  home_linen  kitchen  no_category  plants_seeds  renovation  \\\n",
       "6              0           0        0            0             0           0   \n",
       "8              0           0        0            0             2           0   \n",
       "10             0           0        1            0             1           0   \n",
       "12             0           0        0            0             1           0   \n",
       "17             0           0        0            0             5           0   \n",
       "...          ...         ...      ...          ...           ...         ...   \n",
       "2357           0           0        0            0             1           0   \n",
       "2363           0           0        0            0             1           0   \n",
       "2365           0           0        0            0             0           2   \n",
       "2366           0           0        1            0             1           0   \n",
       "2367           0           0        0            0             1           0   \n",
       "\n",
       "      storage  \n",
       "6           0  \n",
       "8           0  \n",
       "10          0  \n",
       "12          0  \n",
       "17          0  \n",
       "...       ...  \n",
       "2357        0  \n",
       "2363        0  \n",
       "2365        0  \n",
       "2366        0  \n",
       "2367        0  \n",
       "\n",
       "[870 rows x 17 columns]"
      ]
     },
     "execution_count": 84,
     "metadata": {},
     "output_type": "execute_result"
    }
   ],
   "source": [
    "profiles.query('number_of_orders >= 2')"
   ]
  },
  {
   "cell_type": "code",
   "execution_count": 85,
   "metadata": {},
   "outputs": [
    {
     "data": {
      "text/plain": [
       "'Процент клиентов, совершивших два и более заказов: 36.7%'"
      ]
     },
     "execution_count": 85,
     "metadata": {},
     "output_type": "execute_result"
    }
   ],
   "source": [
    "(\"Процент клиентов, совершивших два и более заказов: {:.1%}\"\n",
    " .format(profiles.query('number_of_orders >= 2').shape[0]/profiles.shape[0]))"
   ]
  },
  {
   "cell_type": "markdown",
   "metadata": {},
   "source": [
    "**Вывод**\n",
    "\n",
    "65.8% наших клиентов совершают только 1 заказ.\n",
    "\n",
    "36.2% процентов клиентов оформляли два и более заказов. При этом среди этих клиентов есть выбросы, хотя доля их мала (1%).\n",
    "\n",
    "Лишь 1% клиентов оформляли больше 3 заказов. Это можно считать выбросом в этих данных."
   ]
  },
  {
   "cell_type": "markdown",
   "metadata": {},
   "source": [
    "### Среднее количество позиций в заказе"
   ]
  },
  {
   "cell_type": "code",
   "execution_count": 86,
   "metadata": {},
   "outputs": [
    {
     "name": "stdout",
     "output_type": "stream",
     "text": [
      "Описательная статистика для признака \"Среднее количество позиций в заказе\" \n",
      "\n"
     ]
    },
    {
     "data": {
      "text/plain": [
       "count   2372.00\n",
       "mean       3.18\n",
       "std        5.37\n",
       "min        1.00\n",
       "25%        1.00\n",
       "50%        1.00\n",
       "75%        2.00\n",
       "max       60.00\n",
       "Name: average_order_size, dtype: float64"
      ]
     },
     "metadata": {},
     "output_type": "display_data"
    },
    {
     "data": {
      "image/png": "[encoded data removed]",
      "text/plain": [
       "<Figure size 432x288 with 1 Axes>"
      ]
     },
     "metadata": {
      "needs_background": "light"
     },
     "output_type": "display_data"
    },
    {
     "name": "stdout",
     "output_type": "stream",
     "text": [
      "95 и 99-й персентили признака: \"Среднее количество позиций в заказе\"\n",
      "[13.225 25.29 ]\n"
     ]
    }
   ],
   "source": [
    "get_analysis(profiles, 'average_order_size')"
   ]
  },
  {
   "cell_type": "code",
   "execution_count": 87,
   "metadata": {},
   "outputs": [
    {
     "data": {
      "text/plain": [
       "3"
      ]
     },
     "execution_count": 87,
     "metadata": {},
     "output_type": "execute_result"
    }
   ],
   "source": [
    "len(profiles.query('average_order_size > 50'))"
   ]
  },
  {
   "cell_type": "markdown",
   "metadata": {},
   "source": [
    "**Вывод**\n",
    "\n",
    "Половина наших покупателей заказывает в среднем не больше 1 позиции в заказе.\n",
    "\n",
    "75 % наших покупателей заказывают в среднем не более 3 позиций в заказе.\n",
    "\n",
    "Лишь 5 процентов покупателей заказывают больше 18 позиций.\n",
    "\n",
    "Лишь 1 процент покупателей заказывал в среднем больше 50 позиций. Это можно считать выбросом в этих данных."
   ]
  },
  {
   "cell_type": "markdown",
   "metadata": {},
   "source": [
    "### Средний чек"
   ]
  },
  {
   "cell_type": "code",
   "execution_count": 88,
   "metadata": {},
   "outputs": [
    {
     "name": "stdout",
     "output_type": "stream",
     "text": [
      "Описательная статистика для признака \"Средний чек\" \n",
      "\n"
     ]
    },
    {
     "data": {
      "text/plain": [
       "count    2372.00\n",
       "mean     1076.36\n",
       "std      1462.38\n",
       "min        15.00\n",
       "25%       299.00\n",
       "50%       636.00\n",
       "75%      1275.00\n",
       "max     24370.00\n",
       "Name: average_order_price, dtype: float64"
      ]
     },
     "metadata": {},
     "output_type": "display_data"
    },
    {
     "data": {
      "image/png": "[encoded data removed]",
      "text/plain": [
       "<Figure size 432x288 with 1 Axes>"
      ]
     },
     "metadata": {
      "needs_background": "light"
     },
     "output_type": "display_data"
    },
    {
     "name": "stdout",
     "output_type": "stream",
     "text": [
      "95 и 99-й персентили признака: \"Средний чек\"\n",
      "[3570.1 6449. ]\n"
     ]
    }
   ],
   "source": [
    "get_analysis(profiles, 'average_order_price')"
   ]
  },
  {
   "cell_type": "markdown",
   "metadata": {},
   "source": [
    "**Вывод**\n",
    "\n",
    "У половины наших клиентов средний чек не выше 652 рублей.\n",
    "\n",
    "У 75% - не выше 1 349 рублей.\n",
    "\n",
    "Лишь 5 процентов покупателей имеют средний чек выше 3 970 рублей.\n",
    "\n",
    "Не более 1 процента имеют средний чек выше 7 787 рублей. Это можно считать выбросом в этих данных."
   ]
  },
  {
   "cell_type": "markdown",
   "metadata": {},
   "source": [
    "## Фильтрация выбросов в данных"
   ]
  },
  {
   "cell_type": "markdown",
   "metadata": {},
   "source": [
    "Сделаем срез аномальных пользователей с помощью 99-го персентиля.\n",
    "\n",
    "Возьмем 99-й персентиль как границу по выбросам."
   ]
  },
  {
   "cell_type": "code",
   "execution_count": 89,
   "metadata": {},
   "outputs": [
    {
     "name": "stdout",
     "output_type": "stream",
     "text": [
      "Аномальная общая стоимость заказа: 8699.369999999999\n",
      "Аномальное число совершенных заказов: 3.0\n",
      "Аномальное среднее количество позиций в заказе: 25.289999999999964\n",
      "Аномальный средний чек 6449.0\n"
     ]
    }
   ],
   "source": [
    "total_order_price_lim = np.percentile(profiles['total_order_price'], 99)\n",
    "number_of_orders_lim = np.percentile(profiles['number_of_orders'], 99)\n",
    "average_order_size_lim = np.percentile(profiles['average_order_size'], 99)\n",
    "average_order_price_lim = np.percentile(profiles['average_order_price'], 99)\n",
    "print('Аномальная общая стоимость заказа:', total_order_price_lim)\n",
    "print('Аномальное число совершенных заказов:', number_of_orders_lim)\n",
    "print('Аномальное среднее количество позиций в заказе:', average_order_size_lim)\n",
    "print('Аномальный средний чек', average_order_price_lim)"
   ]
  },
  {
   "cell_type": "markdown",
   "metadata": {},
   "source": [
    "Запишем в отдельные переменные наши срезы по клиентам с аномальными значениями признаков."
   ]
  },
  {
   "cell_type": "code",
   "execution_count": 90,
   "metadata": {},
   "outputs": [],
   "source": [
    "ab_total_price = profiles.query(\"total_order_price > @total_order_price_lim\")\n",
    "ab_number_of_orders = profiles.query(\"number_of_orders > @number_of_orders_lim\")\n",
    "ab_average_order_size = profiles.query(\"average_order_size > @average_order_size_lim\")\n",
    "ab_average_order_price = profiles.query(\"average_order_price > @average_order_price_lim\")\n",
    "ab_product_cat = profiles.query(\"no_category!=0\")"
   ]
  },
  {
   "cell_type": "markdown",
   "metadata": {},
   "source": [
    "Объединим всех наших аномальных клиентов в один фрейм и удалим дубликаты."
   ]
  },
  {
   "cell_type": "code",
   "execution_count": 91,
   "metadata": {},
   "outputs": [
    {
     "name": "stdout",
     "output_type": "stream",
     "text": [
      "\n",
      "Количество аномальных клиентов: 62\n"
     ]
    }
   ],
   "source": [
    "abnormal_clients = (\n",
    "    pd.concat([ab_total_price, ab_number_of_orders,ab_average_order_size, ab_average_order_price,ab_product_cat], axis=0)\n",
    "    .drop_duplicates()\n",
    ")\n",
    "print('\\nКоличество аномальных клиентов:', abnormal_clients.shape[0])"
   ]
  },
  {
   "cell_type": "code",
   "execution_count": 92,
   "metadata": {},
   "outputs": [
    {
     "data": {
      "text/html": [
       "<div>\n",
       "<style scoped>\n",
       "    .dataframe tbody tr th:only-of-type {\n",
       "        vertical-align: middle;\n",
       "    }\n",
       "\n",
       "    .dataframe tbody tr th {\n",
       "        vertical-align: top;\n",
       "    }\n",
       "\n",
       "    .dataframe thead th {\n",
       "        text-align: right;\n",
       "    }\n",
       "</style>\n",
       "<table border=\"1\" class=\"dataframe\">\n",
       "  <thead>\n",
       "    <tr style=\"text-align: right;\">\n",
       "      <th></th>\n",
       "      <th>customer_id</th>\n",
       "      <th>last_order</th>\n",
       "      <th>total_order_price</th>\n",
       "      <th>number_of_orders</th>\n",
       "      <th>total_of_goods</th>\n",
       "      <th>average_order_price</th>\n",
       "      <th>average_order_size</th>\n",
       "      <th>bags_carts</th>\n",
       "      <th>bathroom_wc</th>\n",
       "      <th>cleaning_washing</th>\n",
       "      <th>home_decor</th>\n",
       "      <th>home_linen</th>\n",
       "      <th>kitchen</th>\n",
       "      <th>no_category</th>\n",
       "      <th>plants_seeds</th>\n",
       "      <th>renovation</th>\n",
       "      <th>storage</th>\n",
       "    </tr>\n",
       "  </thead>\n",
       "  <tbody>\n",
       "    <tr>\n",
       "      <th>30</th>\n",
       "      <td>02adb72a-3067-45e9-a3b5-f93d79d7496a</td>\n",
       "      <td>2019-04-01</td>\n",
       "      <td>10723.00</td>\n",
       "      <td>2</td>\n",
       "      <td>2</td>\n",
       "      <td>5361.50</td>\n",
       "      <td>1.00</td>\n",
       "      <td>2</td>\n",
       "      <td>0</td>\n",
       "      <td>0</td>\n",
       "      <td>0</td>\n",
       "      <td>0</td>\n",
       "      <td>0</td>\n",
       "      <td>0</td>\n",
       "      <td>0</td>\n",
       "      <td>0</td>\n",
       "      <td>0</td>\n",
       "    </tr>\n",
       "    <tr>\n",
       "      <th>127</th>\n",
       "      <td>0d87f4ae-465a-4fac-81e6-5d629761783e</td>\n",
       "      <td>2019-07-01</td>\n",
       "      <td>14917.00</td>\n",
       "      <td>1</td>\n",
       "      <td>1</td>\n",
       "      <td>14917.00</td>\n",
       "      <td>1.00</td>\n",
       "      <td>0</td>\n",
       "      <td>0</td>\n",
       "      <td>1</td>\n",
       "      <td>0</td>\n",
       "      <td>0</td>\n",
       "      <td>0</td>\n",
       "      <td>0</td>\n",
       "      <td>0</td>\n",
       "      <td>0</td>\n",
       "      <td>0</td>\n",
       "    </tr>\n",
       "    <tr>\n",
       "      <th>172</th>\n",
       "      <td>126dac4d-6486-49ed-a1be-9fd55a38a9de</td>\n",
       "      <td>2019-08-01</td>\n",
       "      <td>9148.00</td>\n",
       "      <td>2</td>\n",
       "      <td>2</td>\n",
       "      <td>4574.00</td>\n",
       "      <td>1.00</td>\n",
       "      <td>2</td>\n",
       "      <td>0</td>\n",
       "      <td>0</td>\n",
       "      <td>0</td>\n",
       "      <td>0</td>\n",
       "      <td>0</td>\n",
       "      <td>0</td>\n",
       "      <td>0</td>\n",
       "      <td>0</td>\n",
       "      <td>0</td>\n",
       "    </tr>\n",
       "    <tr>\n",
       "      <th>257</th>\n",
       "      <td>1b2764ad-9151-4051-a46a-9b01b62e6335</td>\n",
       "      <td>2018-11-01</td>\n",
       "      <td>24370.00</td>\n",
       "      <td>1</td>\n",
       "      <td>5</td>\n",
       "      <td>24370.00</td>\n",
       "      <td>5.00</td>\n",
       "      <td>0</td>\n",
       "      <td>0</td>\n",
       "      <td>0</td>\n",
       "      <td>0</td>\n",
       "      <td>0</td>\n",
       "      <td>0</td>\n",
       "      <td>0</td>\n",
       "      <td>0</td>\n",
       "      <td>0</td>\n",
       "      <td>1</td>\n",
       "    </tr>\n",
       "    <tr>\n",
       "      <th>673</th>\n",
       "      <td>498f12a4-6a62-4725-8516-cf5dc9ab8a3a</td>\n",
       "      <td>2019-04-01</td>\n",
       "      <td>30440.00</td>\n",
       "      <td>3</td>\n",
       "      <td>25</td>\n",
       "      <td>10146.67</td>\n",
       "      <td>8.33</td>\n",
       "      <td>0</td>\n",
       "      <td>0</td>\n",
       "      <td>1</td>\n",
       "      <td>0</td>\n",
       "      <td>2</td>\n",
       "      <td>0</td>\n",
       "      <td>0</td>\n",
       "      <td>0</td>\n",
       "      <td>0</td>\n",
       "      <td>0</td>\n",
       "    </tr>\n",
       "  </tbody>\n",
       "</table>\n",
       "</div>"
      ],
      "text/plain": [
       "                              customer_id last_order  total_order_price  \\\n",
       "30   02adb72a-3067-45e9-a3b5-f93d79d7496a 2019-04-01           10723.00   \n",
       "127  0d87f4ae-465a-4fac-81e6-5d629761783e 2019-07-01           14917.00   \n",
       "172  126dac4d-6486-49ed-a1be-9fd55a38a9de 2019-08-01            9148.00   \n",
       "257  1b2764ad-9151-4051-a46a-9b01b62e6335 2018-11-01           24370.00   \n",
       "673  498f12a4-6a62-4725-8516-cf5dc9ab8a3a 2019-04-01           30440.00   \n",
       "\n",
       "     number_of_orders  total_of_goods  average_order_price  \\\n",
       "30                  2               2              5361.50   \n",
       "127                 1               1             14917.00   \n",
       "172                 2               2              4574.00   \n",
       "257                 1               5             24370.00   \n",
       "673                 3              25             10146.67   \n",
       "\n",
       "     average_order_size  bags_carts  bathroom_wc  cleaning_washing  \\\n",
       "30                 1.00           2            0                 0   \n",
       "127                1.00           0            0                 1   \n",
       "172                1.00           2            0                 0   \n",
       "257                5.00           0            0                 0   \n",
       "673                8.33           0            0                 1   \n",
       "\n",
       "     home_decor  home_linen  kitchen  no_category  plants_seeds  renovation  \\\n",
       "30            0           0        0            0             0           0   \n",
       "127           0           0        0            0             0           0   \n",
       "172           0           0        0            0             0           0   \n",
       "257           0           0        0            0             0           0   \n",
       "673           0           2        0            0             0           0   \n",
       "\n",
       "     storage  \n",
       "30         0  \n",
       "127        0  \n",
       "172        0  \n",
       "257        1  \n",
       "673        0  "
      ]
     },
     "execution_count": 92,
     "metadata": {},
     "output_type": "execute_result"
    }
   ],
   "source": [
    "abnormal_clients.head()"
   ]
  },
  {
   "cell_type": "markdown",
   "metadata": {},
   "source": [
    "Создадим профили наших клиентов без выбросов."
   ]
  },
  {
   "cell_type": "code",
   "execution_count": 93,
   "metadata": {},
   "outputs": [
    {
     "name": "stdout",
     "output_type": "stream",
     "text": [
      "Размер исходного профиля потребителей: 2372\n",
      "Размер профиля потребителей без выбросов:  2310\n"
     ]
    }
   ],
   "source": [
    "profiles_without_abnormals = profiles[~profiles.index.isin(abnormal_clients.index)]\n",
    "#Удалим столбец no_category\n",
    "profiles_without_abnormals = profiles_without_abnormals.drop(['no_category'], axis=1)\n",
    "print(\"Размер исходного профиля потребителей:\", profiles.shape[0])\n",
    "print(\"Размер профиля потребителей без выбросов: \",profiles_without_abnormals.shape[0])"
   ]
  },
  {
   "cell_type": "markdown",
   "metadata": {},
   "source": [
    "Все сходится: 57 клиентов с аномальными значениями удалены из профиля без аномалий.\n",
    "\n",
    "Посчитаем процент выбросов."
   ]
  },
  {
   "cell_type": "code",
   "execution_count": 94,
   "metadata": {},
   "outputs": [
    {
     "data": {
      "text/plain": [
       "'Процент аномальных клиентов: 2.6%'"
      ]
     },
     "execution_count": 94,
     "metadata": {},
     "output_type": "execute_result"
    }
   ],
   "source": [
    "(\"Процент аномальных клиентов: {:.1%}\"\n",
    " .format(1 - profiles_without_abnormals.shape[0] / profiles.shape[0]))"
   ]
  },
  {
   "cell_type": "markdown",
   "metadata": {},
   "source": [
    "Теперь мы можем легко анализировать очищенные данные, используя этот датафрейм."
   ]
  },
  {
   "cell_type": "code",
   "execution_count": 95,
   "metadata": {},
   "outputs": [
    {
     "data": {
      "text/html": [
       "<div>\n",
       "<style scoped>\n",
       "    .dataframe tbody tr th:only-of-type {\n",
       "        vertical-align: middle;\n",
       "    }\n",
       "\n",
       "    .dataframe tbody tr th {\n",
       "        vertical-align: top;\n",
       "    }\n",
       "\n",
       "    .dataframe thead th {\n",
       "        text-align: right;\n",
       "    }\n",
       "</style>\n",
       "<table border=\"1\" class=\"dataframe\">\n",
       "  <thead>\n",
       "    <tr style=\"text-align: right;\">\n",
       "      <th></th>\n",
       "      <th>total_order_price</th>\n",
       "      <th>number_of_orders</th>\n",
       "      <th>total_of_goods</th>\n",
       "      <th>average_order_price</th>\n",
       "      <th>average_order_size</th>\n",
       "      <th>bags_carts</th>\n",
       "      <th>bathroom_wc</th>\n",
       "      <th>cleaning_washing</th>\n",
       "      <th>home_decor</th>\n",
       "      <th>home_linen</th>\n",
       "      <th>kitchen</th>\n",
       "      <th>plants_seeds</th>\n",
       "      <th>renovation</th>\n",
       "      <th>storage</th>\n",
       "    </tr>\n",
       "  </thead>\n",
       "  <tbody>\n",
       "    <tr>\n",
       "      <th>count</th>\n",
       "      <td>2310.00</td>\n",
       "      <td>2310.00</td>\n",
       "      <td>2310.00</td>\n",
       "      <td>2310.00</td>\n",
       "      <td>2310.00</td>\n",
       "      <td>2310.00</td>\n",
       "      <td>2310.00</td>\n",
       "      <td>2310.00</td>\n",
       "      <td>2310.00</td>\n",
       "      <td>2310.00</td>\n",
       "      <td>2310.00</td>\n",
       "      <td>2310.00</td>\n",
       "      <td>2310.00</td>\n",
       "      <td>2310.00</td>\n",
       "    </tr>\n",
       "    <tr>\n",
       "      <th>mean</th>\n",
       "      <td>1262.26</td>\n",
       "      <td>1.38</td>\n",
       "      <td>3.37</td>\n",
       "      <td>954.56</td>\n",
       "      <td>2.82</td>\n",
       "      <td>0.14</td>\n",
       "      <td>0.07</td>\n",
       "      <td>0.29</td>\n",
       "      <td>0.12</td>\n",
       "      <td>0.03</td>\n",
       "      <td>0.18</td>\n",
       "      <td>0.45</td>\n",
       "      <td>0.04</td>\n",
       "      <td>0.09</td>\n",
       "    </tr>\n",
       "    <tr>\n",
       "      <th>std</th>\n",
       "      <td>1345.62</td>\n",
       "      <td>0.50</td>\n",
       "      <td>4.44</td>\n",
       "      <td>1008.34</td>\n",
       "      <td>4.07</td>\n",
       "      <td>0.37</td>\n",
       "      <td>0.26</td>\n",
       "      <td>0.51</td>\n",
       "      <td>0.35</td>\n",
       "      <td>0.17</td>\n",
       "      <td>0.41</td>\n",
       "      <td>0.61</td>\n",
       "      <td>0.20</td>\n",
       "      <td>0.31</td>\n",
       "    </tr>\n",
       "    <tr>\n",
       "      <th>min</th>\n",
       "      <td>15.00</td>\n",
       "      <td>1.00</td>\n",
       "      <td>1.00</td>\n",
       "      <td>15.00</td>\n",
       "      <td>1.00</td>\n",
       "      <td>0.00</td>\n",
       "      <td>0.00</td>\n",
       "      <td>0.00</td>\n",
       "      <td>0.00</td>\n",
       "      <td>0.00</td>\n",
       "      <td>0.00</td>\n",
       "      <td>0.00</td>\n",
       "      <td>0.00</td>\n",
       "      <td>0.00</td>\n",
       "    </tr>\n",
       "    <tr>\n",
       "      <th>25%</th>\n",
       "      <td>374.00</td>\n",
       "      <td>1.00</td>\n",
       "      <td>1.00</td>\n",
       "      <td>299.00</td>\n",
       "      <td>1.00</td>\n",
       "      <td>0.00</td>\n",
       "      <td>0.00</td>\n",
       "      <td>0.00</td>\n",
       "      <td>0.00</td>\n",
       "      <td>0.00</td>\n",
       "      <td>0.00</td>\n",
       "      <td>0.00</td>\n",
       "      <td>0.00</td>\n",
       "      <td>0.00</td>\n",
       "    </tr>\n",
       "    <tr>\n",
       "      <th>50%</th>\n",
       "      <td>797.50</td>\n",
       "      <td>1.00</td>\n",
       "      <td>2.00</td>\n",
       "      <td>600.00</td>\n",
       "      <td>1.00</td>\n",
       "      <td>0.00</td>\n",
       "      <td>0.00</td>\n",
       "      <td>0.00</td>\n",
       "      <td>0.00</td>\n",
       "      <td>0.00</td>\n",
       "      <td>0.00</td>\n",
       "      <td>0.00</td>\n",
       "      <td>0.00</td>\n",
       "      <td>0.00</td>\n",
       "    </tr>\n",
       "    <tr>\n",
       "      <th>75%</th>\n",
       "      <td>1649.00</td>\n",
       "      <td>2.00</td>\n",
       "      <td>3.00</td>\n",
       "      <td>1197.50</td>\n",
       "      <td>2.00</td>\n",
       "      <td>0.00</td>\n",
       "      <td>0.00</td>\n",
       "      <td>1.00</td>\n",
       "      <td>0.00</td>\n",
       "      <td>0.00</td>\n",
       "      <td>0.00</td>\n",
       "      <td>1.00</td>\n",
       "      <td>0.00</td>\n",
       "      <td>0.00</td>\n",
       "    </tr>\n",
       "    <tr>\n",
       "      <th>max</th>\n",
       "      <td>8684.00</td>\n",
       "      <td>3.00</td>\n",
       "      <td>35.00</td>\n",
       "      <td>6449.00</td>\n",
       "      <td>25.00</td>\n",
       "      <td>3.00</td>\n",
       "      <td>3.00</td>\n",
       "      <td>2.00</td>\n",
       "      <td>3.00</td>\n",
       "      <td>2.00</td>\n",
       "      <td>3.00</td>\n",
       "      <td>3.00</td>\n",
       "      <td>2.00</td>\n",
       "      <td>2.00</td>\n",
       "    </tr>\n",
       "  </tbody>\n",
       "</table>\n",
       "</div>"
      ],
      "text/plain": [
       "       total_order_price  number_of_orders  total_of_goods  \\\n",
       "count            2310.00           2310.00         2310.00   \n",
       "mean             1262.26              1.38            3.37   \n",
       "std              1345.62              0.50            4.44   \n",
       "min                15.00              1.00            1.00   \n",
       "25%               374.00              1.00            1.00   \n",
       "50%               797.50              1.00            2.00   \n",
       "75%              1649.00              2.00            3.00   \n",
       "max              8684.00              3.00           35.00   \n",
       "\n",
       "       average_order_price  average_order_size  bags_carts  bathroom_wc  \\\n",
       "count              2310.00             2310.00     2310.00      2310.00   \n",
       "mean                954.56                2.82        0.14         0.07   \n",
       "std                1008.34                4.07        0.37         0.26   \n",
       "min                  15.00                1.00        0.00         0.00   \n",
       "25%                 299.00                1.00        0.00         0.00   \n",
       "50%                 600.00                1.00        0.00         0.00   \n",
       "75%                1197.50                2.00        0.00         0.00   \n",
       "max                6449.00               25.00        3.00         3.00   \n",
       "\n",
       "       cleaning_washing  home_decor  home_linen  kitchen  plants_seeds  \\\n",
       "count           2310.00     2310.00     2310.00  2310.00       2310.00   \n",
       "mean               0.29        0.12        0.03     0.18          0.45   \n",
       "std                0.51        0.35        0.17     0.41          0.61   \n",
       "min                0.00        0.00        0.00     0.00          0.00   \n",
       "25%                0.00        0.00        0.00     0.00          0.00   \n",
       "50%                0.00        0.00        0.00     0.00          0.00   \n",
       "75%                1.00        0.00        0.00     0.00          1.00   \n",
       "max                2.00        3.00        2.00     3.00          3.00   \n",
       "\n",
       "       renovation  storage  \n",
       "count     2310.00  2310.00  \n",
       "mean         0.04     0.09  \n",
       "std          0.20     0.31  \n",
       "min          0.00     0.00  \n",
       "25%          0.00     0.00  \n",
       "50%          0.00     0.00  \n",
       "75%          0.00     0.00  \n",
       "max          2.00     2.00  "
      ]
     },
     "execution_count": 95,
     "metadata": {},
     "output_type": "execute_result"
    }
   ],
   "source": [
    "profiles_without_abnormals.describe()"
   ]
  },
  {
   "cell_type": "markdown",
   "metadata": {},
   "source": [
    "## Распределение покупателей по количеству совершенных заказов в каждой товарной категории."
   ]
  },
  {
   "cell_type": "markdown",
   "metadata": {},
   "source": [
    "Построим столбчатые диаграммы по каждой товарной категории (кроме no_category), чтобы увидеть самые популярные и наименее востребованные категории.\n",
    "\n",
    "Мы будем смотреть на распределение на очищенных от выбросов данных."
   ]
  },
  {
   "cell_type": "code",
   "execution_count": 96,
   "metadata": {},
   "outputs": [
    {
     "data": {
      "image/png": "[encoded data removed]",
      "text/plain": [
       "<Figure size 1080x1440 with 9 Axes>"
      ]
     },
     "metadata": {
      "needs_background": "light"
     },
     "output_type": "display_data"
    }
   ],
   "source": [
    "plt.figure(figsize=(15, 20))\n",
    "sns.set_palette('muted')\n",
    "sns.set_theme(style=\"darkgrid\")\n",
    "total = profiles_without_abnormals.shape[0]\n",
    "\n",
    "for i, col in enumerate((profiles_without_abnormals.drop(['customer_id', 'last_order', 'total_order_price', \n",
    "                                       'number_of_orders', 'total_of_goods', \n",
    "                                        'average_order_price', 'average_order_size'], axis=1).columns)):\n",
    " \n",
    "    plt.subplot(5, 2,i+1)\n",
    "    ax = sns.countplot(data=profiles_without_abnormals, x=profiles_without_abnormals[col], order=profiles_without_abnormals[col].value_counts().index)\n",
    "    for p in ax.patches:\n",
    "        percentage = '{:.1f}%'.format(100 * p.get_height()/total)\n",
    "        x = p.get_x() + p.get_width() / 2\n",
    "        y = p.get_height()\n",
    "        ax.annotate(percentage, (x, y), ha='center')\n",
    "    plt.title(dic_features[col])\n",
    "    plt.xlabel('Количество заказов')\n",
    "    plt.ylabel('Количество покупателей')\n",
    "\n",
    "plt.suptitle('Распределение количества совершенных заказов в разных товарных категориях для каждого покупателя \\n\\n', fontsize=15)\n",
    "plt.tight_layout()\n",
    "plt.show();"
   ]
  },
  {
   "cell_type": "markdown",
   "metadata": {},
   "source": [
    "**Вывод**\n",
    "\n",
    "Большая часть наших клиентов приходит за товарами из категории \"Растения и семена\": 34.3% совершают по 1 заказу, 4.8% делают 2 заказа.\n",
    "\n",
    "23.5% клиентов сделали по 1 заказу из категории \"Уборка\", 2.5% клиентов совершили в этой категории 2 заказа.\n",
    "\n",
    "15.5% клиентов совершили по 1 заказу в категории \"Кухня\" и 1% клиентов сделали в этой категории 2 заказа.\n",
    "\n",
    "На третьем месте по популярность среди наших клиентов - категория \"Сумки-тележки\": 12.9% клиентов совершили 1 заказ, 0.6% сделали 2 заказа.\n",
    "\n",
    "Меньше всего наших клиентов интересуют категории \"Домашний текстиль\" и \"Ремонт\": только 2.8% и 3.5% клиентов совершили 1 заказ соответственно."
   ]
  },
  {
   "cell_type": "markdown",
   "metadata": {},
   "source": [
    "## Проверка статистических гипотез"
   ]
  },
  {
   "cell_type": "markdown",
   "metadata": {},
   "source": [
    "Посмотрим на средние чеки в двух группах: у клиентов, которые перестали заказывать в октябре и ноябре 2018 года (год назад), и у остальных, которые покупали в течение года.\n",
    "\n",
    "Сформулируем нулевую гипотезу:\n",
    "\n",
    "𝐻0 - Средний чек у клиентов, переставших покупать год назад, и у тех, кто покупал на протяжении года, равны.\n",
    "\n",
    "Сформулируем альтерантивную гипотезу:\n",
    "\n",
    "𝐻1 - Средний чек у клиентов, переставших покупать год назад, и у тех, кто покупал на протяжении года, отличается."
   ]
  },
  {
   "cell_type": "code",
   "execution_count": 97,
   "metadata": {},
   "outputs": [
    {
     "data": {
      "text/plain": [
       "'Размер выборки клиентов, которые перестали покупать год назад: 237'"
      ]
     },
     "execution_count": 97,
     "metadata": {},
     "output_type": "execute_result"
    }
   ],
   "source": [
    "year_ago_group = (profiles_without_abnormals\n",
    "                  .query('last_order==\"2018-10-01\" or last_order==\"2018-11-01\"')\n",
    "                 )\n",
    "                  \n",
    "(\"Размер выборки клиентов, которые перестали покупать год назад: {}\"\n",
    " .format(len(year_ago_group))\n",
    ")"
   ]
  },
  {
   "cell_type": "code",
   "execution_count": 98,
   "metadata": {},
   "outputs": [
    {
     "data": {
      "text/plain": [
       "'Размер выборки клиентов, которые покупали на протяжении года: 2073'"
      ]
     },
     "execution_count": 98,
     "metadata": {},
     "output_type": "execute_result"
    }
   ],
   "source": [
    "other_clients = (profiles_without_abnormals[~profiles_without_abnormals\n",
    "                            .index\n",
    "                            .isin(profiles_without_abnormals\n",
    "                                  .query('last_order==\"2018-10-01\" or last_order==\"2018-11-01\"')\n",
    "                                  .index\n",
    "                                 )]\n",
    "                )\n",
    "(\"Размер выборки клиентов, которые покупали на протяжении года: {}\"\n",
    " .format(len(other_clients))\n",
    ")"
   ]
  },
  {
   "cell_type": "markdown",
   "metadata": {},
   "source": [
    "Выборки получились неравномерные по количеству.\n",
    "\n",
    "Чтобы оценить, какой статистический тест применить в данном случае, проверим, как распределены наши данные с помощью теста Шапиро-Уолка. Ниже создадим функцию для проведения данного теста."
   ]
  },
  {
   "cell_type": "code",
   "execution_count": 99,
   "metadata": {},
   "outputs": [],
   "source": [
    "\"\"\"Функция для проведения теста Шапиро-Уилка\n",
    "Критический уровень статистической значимости по умолчанию равен 0.05.\n",
    "\"\"\"\n",
    "\n",
    "def shapiro_test (sample, alpha = 0.05): \n",
    "    results = stats.shapiro(sample)\n",
    "    p_value = results[1]  # второе значение в массиве результатов (с индексом 1) - p-value\n",
    "    print('p-значение: ', p_value)\n",
    "    if p_value < alpha:\n",
    "        print('Отвергаем нулевую гипотезу: распределение не нормально')\n",
    "    else:\n",
    "        print('Не получилось отвергнуть нулевую гипотезу, всё нормально')"
   ]
  },
  {
   "cell_type": "code",
   "execution_count": 100,
   "metadata": {},
   "outputs": [
    {
     "name": "stdout",
     "output_type": "stream",
     "text": [
      "p-значение:  6.376851120987268e-15\n",
      "Отвергаем нулевую гипотезу: распределение не нормально\n"
     ]
    }
   ],
   "source": [
    "shapiro_test(year_ago_group['average_order_price'])"
   ]
  },
  {
   "cell_type": "code",
   "execution_count": 101,
   "metadata": {},
   "outputs": [
    {
     "name": "stdout",
     "output_type": "stream",
     "text": [
      "p-значение:  0.0\n",
      "Отвергаем нулевую гипотезу: распределение не нормально\n"
     ]
    }
   ],
   "source": [
    "shapiro_test(other_clients['average_order_price'])"
   ]
  },
  {
   "cell_type": "markdown",
   "metadata": {},
   "source": [
    "Поскольку у нас данных мало и распределены они ненормально, применим тест Манна-Уитни. Ниже создадим функцию для проведения данного теста."
   ]
  },
  {
   "cell_type": "code",
   "execution_count": 102,
   "metadata": {},
   "outputs": [],
   "source": [
    "\"\"\"Функция для проведения теста Манна-Уитни\n",
    "Критический уровень статистической значимости по умолчанию равен 0.05.\"\"\"\n",
    "\n",
    "def mannwhitneyu_test(sample1, sample2, alpha = 0.05):   \n",
    "    results = stats.mannwhitneyu(sample1, sample2)\n",
    "    print(\"P-value:{0:.3f}\".format(results[1]))\n",
    "    if results.pvalue < alpha:\n",
    "        print('Отвергаем нулевую гипотезу: разница статистически значима.')\n",
    "    else:\n",
    "        print('Не получилось отвергнуть нулевую гипотезу, вывод о различии сделать нельзя.')"
   ]
  },
  {
   "cell_type": "code",
   "execution_count": 103,
   "metadata": {},
   "outputs": [
    {
     "name": "stdout",
     "output_type": "stream",
     "text": [
      "P-value:0.000\n",
      "Отвергаем нулевую гипотезу: разница статистически значима.\n"
     ]
    }
   ],
   "source": [
    "mannwhitneyu_test(year_ago_group['average_order_price'], other_clients['average_order_price'])"
   ]
  },
  {
   "cell_type": "markdown",
   "metadata": {},
   "source": [
    "Проверим средние по нашим выборкам."
   ]
  },
  {
   "cell_type": "code",
   "execution_count": 104,
   "metadata": {},
   "outputs": [
    {
     "data": {
      "text/plain": [
       "'Средний чек в группе клиентов в оттоке: 1252.7'"
      ]
     },
     "execution_count": 104,
     "metadata": {},
     "output_type": "execute_result"
    }
   ],
   "source": [
    "(\"Средний чек в группе клиентов в оттоке: {:.1f}\"\n",
    " .format(year_ago_group['average_order_price'].mean())\n",
    ")"
   ]
  },
  {
   "cell_type": "code",
   "execution_count": 105,
   "metadata": {},
   "outputs": [
    {
     "data": {
      "text/plain": [
       "'Средний чек в группе остальных клиентов: 920.5'"
      ]
     },
     "execution_count": 105,
     "metadata": {},
     "output_type": "execute_result"
    }
   ],
   "source": [
    "(\"Средний чек в группе остальных клиентов: {:.1f}\"\n",
    " .format(other_clients['average_order_price'].mean())\n",
    ")"
   ]
  },
  {
   "cell_type": "markdown",
   "metadata": {},
   "source": [
    "Да, действительно отличаются, причем у клиентов в оттоке средний чек выше."
   ]
  },
  {
   "cell_type": "markdown",
   "metadata": {},
   "source": [
    "## Общий вывод и рекомендации"
   ]
  },
  {
   "cell_type": "markdown",
   "metadata": {},
   "source": [
    "Мы проанализировали данные о транзакциях интернет-магазина товаров для дома и быта `\"Пока все еще тут\"`.\n",
    "\n",
    "В исходном датасете представлено 7474 строк (каждая строка - запись о заказе) и 6 столбцов-параметров заказа:\n",
    "\n",
    "    - `date` — дата заказа;\n",
    "    - `customer_id` — идентификатор покупателя;\n",
    "    - `order_id` — идентификатор заказа;\n",
    "    - `product` — наименование товара;\n",
    "    - `quantity` — количество товара в заказе;\n",
    "    - `price` — цена товара;\n",
    "\n",
    "\n",
    "**На этапе предобработки данных мы добавили следующие столбцы:**\n",
    "\n",
    "    - месяц совершения заказа\n",
    "\n",
    "    - общая стоимость заказа\n",
    "\n",
    "**Мы также сегментировали товары по товарным категориям и выделили 9 товарных категорий:**\n",
    "\n",
    "    1. растения и семена (plants_seeds)\n",
    "    2. уборка (cleaning_washing)\n",
    "    3. кухня (kitchen)\n",
    "    4. тележки-сумки (bags_carts)\n",
    "    5. ванная и туалет (bathroom_wc)\n",
    "    6. домашний текстиль (home_linen)\n",
    "    7. ремонт (renovation)\n",
    "    8. хранение (storage)\n",
    "    9. декор и уют (home_decor)\n",
    "\n",
    "**Самые крупные по количеству приобретенных уникальных товаров товарные категории:**\n",
    "\n",
    "    - растения и семена (41% от общего количества уникальных товаров в данных)\n",
    "    - уборка (16% от общего количества уникальных товаров в данных)\n",
    "    - кухня (14% от общего количества уникальных товаров в данных)\n",
    "    \n",
    "**Анализ предобработанных данных показал:**\n",
    "\n",
    "    - У нас содержатся данные о 2 415 уникальных покупателей.\n",
    "\n",
    "    - Транзакции были совершены в период с 1 октября 2018 года по 31 января 2020 года.\n",
    "\n",
    "    - Среди купленных товаров - 3 494 уникальных товара.\n",
    "\n",
    "    - Самые востребованные товары: разновидности пеларгонии и Сумка-тележка 2-х колесная Gimi Argo синяя.\n",
    "\n",
    "    - Сезонности в динамике продаж не выявлено: выручка распределена более и менее равномерна.\n",
    "\n",
    "    - В данных присутствуют выбросы и составляют 57 клиентов.\n",
    "\n",
    "**На основе данных о транзакциях мы составили сводную таблицу с профилем потребления, где для каждого покупателя представлена информация по следующим признакам:**\n",
    "\n",
    "    - месяц, когда был совершен последний заказ\n",
    "\n",
    "    - общая стоимость всех заказов клиента\n",
    "\n",
    "    - количество совершенных заказов\n",
    "\n",
    "    - среднее количество позиций в заказе\n",
    "    \n",
    "    - средний чек\n",
    "\n",
    "    - количество совершенных заказов в каждой товарной категории.\n",
    "\n",
    "**Анализ общего профиля позволяет сделать следующие выводы:**\n",
    "\n",
    "    - У половины наших клиентов средний чек не выше 652 рублей.\n",
    "\n",
    "    - У 75% - не выше 1 349 рублей.\n",
    "\n",
    "    - Лишь 5 процентов покупателей имеют средний чек выше 3 970 рублей.\n",
    "\n",
    "    - Не более 1 процента имеют средний чек выше 7 787 рублей. Это можно считать выбросом в этих данных.\n",
    "\n",
    "    - Большая часть наших клиентов приходит за товарами из категории \"Растения и семена\": 34.3% совершают по 1 заказу, 4.8% делают 2 заказа.\n",
    "\n",
    "    - 23.5% клиентов сделали по 1 заказу из категории \"Уборка\", 2.5% клиентов совершили в этой категории 2 заказа.\n",
    "\n",
    "    - 15.5% клиентов совершили по 1 заказу в категории \"Кухня\" и 1% клиентов сделали в этой категории 2 заказа.\n",
    "\n",
    "    - На третьем месте по популярность среди наших клиентов - категория \"Сумки-тележки\": 12.9% клиентов совершили 1 заказ, 0.6% сделали 2 заказа.\n",
    "\n",
    "    - Меньше всего наших клиентов интересуют категории \"Домашний текстиль\" и \"Ремонт\": только 2.8% и 3.5% клиентов совершили 1 заказ соответственно.\n",
    "    \n",
    "    \n",
    "**Анализ выбросов в данных выявил:**\n",
    "\n",
    "    - 57 клиентов с аномальной активностью, или 2.3%\n",
    "\n",
    "**Это клиенты с такими характеристиками:**\n",
    "\n",
    "    - общая стоимость заказа составляет больше 8823.5 рублей общее число совершенных заказов - больше 3 среднее количество позиций в заказе - больше 50 средний чек - больше 7878.\n",
    "\n",
    "**Анализ матрицы корреляций признаков показал пары сильно коррелирующих признаков:**\n",
    "\n",
    "    - общая стоимость всех заказов и средний чек,\n",
    "    - общее количество всех заказанных товаров и среднее количество позиций в заказе.\n",
    "\n",
    "**Мы построили дендрограмму на стандартизованных и нормализованных признаках из нашего общего и по результатам у нас получилось 10 кластеров.**\n",
    "\n",
    "В ходе данного исследования мы укрупнили сегменты клиентов и выделили 5 сегментов c помощью алгоритма машинного обучения КMeans:\n",
    "\n",
    "    - Два самых крупных кластера - второй и четвертый: 38 % клиентов и 35 % клиентов соответственно. Самый мелкий кластер - первый: всего 0.04% клиентов."
   ]
  },
  {
   "cell_type": "markdown",
   "metadata": {},
   "source": [
    "### По итогам данного исследования можно дать следующие рекомендации:\n",
    "\n",
    "    - Обратить внимание на 14% клиентов, которые ушли в отток в самом начале года. Это клиенты с довольно высоким средним чеком - 1307. Возможно, следует сделать им персонализированные предложения на основе истории их покупок, чтобы вернуть.\n",
    "\n",
    "    - Прежде всего сделать персонализированные предложения для клиентов первого и третьего кластеров: здесь самый высокий средний чек - 1340 и 1604 рублей соответственно. В пятом кластере разнообразный ассортимент товаров, а в третьем - лидер категория \"Сумки-тележки\"."
   ]
  }
 ],
 "metadata": {
  "ExecuteTimeLog": [
   {
    "duration": 1327,
    "start_time": "2024-05-11T11:09:17.570Z"
   },
   {
    "duration": 127,
    "start_time": "2024-05-11T11:10:34.590Z"
   },
   {
    "duration": 12,
    "start_time": "2024-05-11T11:10:43.819Z"
   },
   {
    "duration": 11,
    "start_time": "2024-05-11T11:11:39.524Z"
   },
   {
    "duration": 8,
    "start_time": "2024-05-11T11:11:57.593Z"
   },
   {
    "duration": 10,
    "start_time": "2024-05-11T11:12:15.623Z"
   },
   {
    "duration": 3,
    "start_time": "2024-05-11T11:12:34.473Z"
   },
   {
    "duration": 46,
    "start_time": "2024-05-11T11:12:35.143Z"
   },
   {
    "duration": 9,
    "start_time": "2024-05-11T11:12:35.410Z"
   },
   {
    "duration": 42,
    "start_time": "2024-05-11T11:12:38.552Z"
   },
   {
    "duration": 8,
    "start_time": "2024-05-11T11:12:39.311Z"
   },
   {
    "duration": 10,
    "start_time": "2024-05-11T11:12:49.050Z"
   },
   {
    "duration": 9,
    "start_time": "2024-05-11T11:12:50.607Z"
   },
   {
    "duration": 1187,
    "start_time": "2024-05-15T09:46:24.408Z"
   },
   {
    "duration": 2,
    "start_time": "2024-05-15T09:46:25.597Z"
   },
   {
    "duration": 151,
    "start_time": "2024-05-15T09:46:26.151Z"
   },
   {
    "duration": 11,
    "start_time": "2024-05-15T09:46:26.638Z"
   },
   {
    "duration": 11,
    "start_time": "2024-05-15T09:46:33.389Z"
   },
   {
    "duration": 190,
    "start_time": "2024-05-15T10:17:43.357Z"
   },
   {
    "duration": 98,
    "start_time": "2024-05-15T10:18:00.630Z"
   },
   {
    "duration": 43,
    "start_time": "2024-05-15T10:18:06.211Z"
   },
   {
    "duration": 55,
    "start_time": "2024-05-15T10:18:40.778Z"
   },
   {
    "duration": 126,
    "start_time": "2024-05-15T10:21:26.414Z"
   },
   {
    "duration": 8,
    "start_time": "2024-05-15T10:21:28.106Z"
   },
   {
    "duration": 10,
    "start_time": "2024-05-15T10:21:30.157Z"
   },
   {
    "duration": 11,
    "start_time": "2024-05-15T10:25:09.916Z"
   },
   {
    "duration": 10,
    "start_time": "2024-05-15T10:25:55.375Z"
   },
   {
    "duration": 13,
    "start_time": "2024-05-15T10:31:23.232Z"
   },
   {
    "duration": 8,
    "start_time": "2024-05-15T10:31:36.866Z"
   },
   {
    "duration": 27,
    "start_time": "2024-05-15T10:32:01.215Z"
   },
   {
    "duration": 21,
    "start_time": "2024-05-15T10:35:26.229Z"
   },
   {
    "duration": 21,
    "start_time": "2024-05-15T10:35:59.264Z"
   },
   {
    "duration": 11,
    "start_time": "2024-05-15T10:39:44.967Z"
   },
   {
    "duration": 28,
    "start_time": "2024-05-15T10:40:15.640Z"
   },
   {
    "duration": 11,
    "start_time": "2024-05-15T10:49:42.953Z"
   },
   {
    "duration": 11,
    "start_time": "2024-05-15T10:49:53.553Z"
   },
   {
    "duration": 12,
    "start_time": "2024-05-15T10:50:06.323Z"
   },
   {
    "duration": 7,
    "start_time": "2024-05-15T10:52:51.669Z"
   },
   {
    "duration": 9,
    "start_time": "2024-05-15T10:52:55.014Z"
   },
   {
    "duration": 4,
    "start_time": "2024-05-15T11:01:34.998Z"
   },
   {
    "duration": 9,
    "start_time": "2024-05-15T11:01:43.265Z"
   },
   {
    "duration": 7,
    "start_time": "2024-05-15T11:05:50.976Z"
   },
   {
    "duration": 8,
    "start_time": "2024-05-15T11:07:28.227Z"
   },
   {
    "duration": 5,
    "start_time": "2024-05-15T11:08:34.122Z"
   },
   {
    "duration": 26,
    "start_time": "2024-05-15T11:09:08.257Z"
   },
   {
    "duration": 3,
    "start_time": "2024-05-15T11:34:20.167Z"
   },
   {
    "duration": 985,
    "start_time": "2024-05-15T11:35:47.832Z"
   },
   {
    "duration": 2,
    "start_time": "2024-05-15T11:35:49.405Z"
   },
   {
    "duration": 140,
    "start_time": "2024-05-15T11:35:50.494Z"
   },
   {
    "duration": 11,
    "start_time": "2024-05-15T11:35:51.701Z"
   },
   {
    "duration": 10,
    "start_time": "2024-05-15T11:35:53.741Z"
   },
   {
    "duration": 7,
    "start_time": "2024-05-15T11:35:57.932Z"
   },
   {
    "duration": 5,
    "start_time": "2024-05-15T11:36:03.242Z"
   },
   {
    "duration": 8,
    "start_time": "2024-05-15T11:36:05.301Z"
   },
   {
    "duration": 10,
    "start_time": "2024-05-15T11:36:07.367Z"
   },
   {
    "duration": 8,
    "start_time": "2024-05-15T11:36:08.961Z"
   },
   {
    "duration": 5,
    "start_time": "2024-05-15T11:37:04.542Z"
   },
   {
    "duration": 8,
    "start_time": "2024-05-15T11:43:55.139Z"
   },
   {
    "duration": 12,
    "start_time": "2024-05-15T11:46:37.599Z"
   },
   {
    "duration": 8,
    "start_time": "2024-05-15T11:47:57.734Z"
   },
   {
    "duration": 5,
    "start_time": "2024-05-15T11:48:01.033Z"
   },
   {
    "duration": 4,
    "start_time": "2024-05-15T11:48:09.029Z"
   },
   {
    "duration": 9,
    "start_time": "2024-05-15T11:48:27.235Z"
   },
   {
    "duration": 3,
    "start_time": "2024-05-15T11:58:32.100Z"
   },
   {
    "duration": 3,
    "start_time": "2024-05-15T12:01:41.078Z"
   },
   {
    "duration": 2,
    "start_time": "2024-05-15T12:01:48.958Z"
   },
   {
    "duration": 5,
    "start_time": "2024-05-15T12:02:37.285Z"
   },
   {
    "duration": 22,
    "start_time": "2024-05-15T12:05:19.177Z"
   },
   {
    "duration": 4,
    "start_time": "2024-05-15T12:17:42.684Z"
   },
   {
    "duration": 6,
    "start_time": "2024-05-15T12:18:07.088Z"
   },
   {
    "duration": 8,
    "start_time": "2024-05-15T12:24:58.993Z"
   },
   {
    "duration": 100,
    "start_time": "2024-05-15T12:29:42.876Z"
   },
   {
    "duration": 38,
    "start_time": "2024-05-15T12:29:46.084Z"
   },
   {
    "duration": 16,
    "start_time": "2024-05-15T12:39:50.992Z"
   },
   {
    "duration": 730,
    "start_time": "2024-05-15T12:40:02.842Z"
   },
   {
    "duration": 10,
    "start_time": "2024-05-15T12:40:14.030Z"
   },
   {
    "duration": 6,
    "start_time": "2024-05-15T12:40:22.275Z"
   },
   {
    "duration": 10,
    "start_time": "2024-05-15T12:47:34.703Z"
   },
   {
    "duration": 9,
    "start_time": "2024-05-15T12:47:44.647Z"
   },
   {
    "duration": 5,
    "start_time": "2024-05-15T12:50:00.583Z"
   },
   {
    "duration": 27,
    "start_time": "2024-05-15T12:50:08.568Z"
   },
   {
    "duration": 7,
    "start_time": "2024-05-15T12:52:51.182Z"
   },
   {
    "duration": 8,
    "start_time": "2024-05-15T12:52:58.121Z"
   },
   {
    "duration": 4,
    "start_time": "2024-05-15T12:54:32.553Z"
   },
   {
    "duration": 166,
    "start_time": "2024-05-15T12:55:40.074Z"
   },
   {
    "duration": 8,
    "start_time": "2024-05-15T12:55:58.955Z"
   },
   {
    "duration": 6,
    "start_time": "2024-05-15T12:58:47.392Z"
   },
   {
    "duration": 7,
    "start_time": "2024-05-15T12:58:47.837Z"
   },
   {
    "duration": 146,
    "start_time": "2024-05-15T12:58:55.480Z"
   },
   {
    "duration": 1124,
    "start_time": "2024-05-15T13:09:29.660Z"
   },
   {
    "duration": 3,
    "start_time": "2024-05-15T13:09:31.906Z"
   },
   {
    "duration": 173,
    "start_time": "2024-05-15T13:09:32.996Z"
   },
   {
    "duration": 12,
    "start_time": "2024-05-15T13:09:34.497Z"
   },
   {
    "duration": 12,
    "start_time": "2024-05-15T13:09:35.551Z"
   },
   {
    "duration": 7,
    "start_time": "2024-05-15T13:09:38.741Z"
   },
   {
    "duration": 8,
    "start_time": "2024-05-15T13:09:41.568Z"
   },
   {
    "duration": 12,
    "start_time": "2024-05-15T13:10:54.629Z"
   },
   {
    "duration": 13,
    "start_time": "2024-05-15T13:10:56.407Z"
   },
   {
    "duration": 5,
    "start_time": "2024-05-15T13:10:58.876Z"
   },
   {
    "duration": 12,
    "start_time": "2024-05-15T13:11:00.531Z"
   },
   {
    "duration": 3,
    "start_time": "2024-05-15T13:11:03.126Z"
   },
   {
    "duration": 5,
    "start_time": "2024-05-15T13:11:04.594Z"
   },
   {
    "duration": 4,
    "start_time": "2024-05-15T13:11:06.506Z"
   },
   {
    "duration": 9,
    "start_time": "2024-05-15T13:11:08.098Z"
   },
   {
    "duration": 32,
    "start_time": "2024-05-15T13:12:57.266Z"
   },
   {
    "duration": 10,
    "start_time": "2024-05-15T13:12:59.324Z"
   },
   {
    "duration": 10,
    "start_time": "2024-05-15T13:13:01.543Z"
   },
   {
    "duration": 142,
    "start_time": "2024-05-15T13:18:18.217Z"
   },
   {
    "duration": 4,
    "start_time": "2024-05-15T13:18:30.165Z"
   },
   {
    "duration": 6,
    "start_time": "2024-05-15T13:18:32.908Z"
   },
   {
    "duration": 7,
    "start_time": "2024-05-15T13:21:29.142Z"
   },
   {
    "duration": 30,
    "start_time": "2024-05-15T13:21:31.705Z"
   },
   {
    "duration": 1380,
    "start_time": "2024-05-15T15:16:16.336Z"
   },
   {
    "duration": 2,
    "start_time": "2024-05-15T15:16:17.718Z"
   },
   {
    "duration": 156,
    "start_time": "2024-05-15T15:16:17.722Z"
   },
   {
    "duration": 13,
    "start_time": "2024-05-15T15:16:17.880Z"
   },
   {
    "duration": 21,
    "start_time": "2024-05-15T15:16:17.894Z"
   },
   {
    "duration": 8,
    "start_time": "2024-05-15T15:16:17.926Z"
   },
   {
    "duration": 10,
    "start_time": "2024-05-15T15:16:18.960Z"
   },
   {
    "duration": 14,
    "start_time": "2024-05-15T15:16:20.484Z"
   },
   {
    "duration": 15,
    "start_time": "2024-05-15T15:16:21.368Z"
   },
   {
    "duration": 7,
    "start_time": "2024-05-15T15:16:25.657Z"
   },
   {
    "duration": 14,
    "start_time": "2024-05-15T15:16:49.320Z"
   },
   {
    "duration": 4,
    "start_time": "2024-05-15T15:16:51.641Z"
   },
   {
    "duration": 7,
    "start_time": "2024-05-15T15:16:53.263Z"
   },
   {
    "duration": 6,
    "start_time": "2024-05-15T15:16:57.591Z"
   },
   {
    "duration": 4,
    "start_time": "2024-05-15T15:17:17.288Z"
   },
   {
    "duration": 4,
    "start_time": "2024-05-15T15:17:25.146Z"
   },
   {
    "duration": 11,
    "start_time": "2024-05-15T15:17:31.303Z"
   },
   {
    "duration": 40,
    "start_time": "2024-05-15T15:17:36.229Z"
   },
   {
    "duration": 13,
    "start_time": "2024-05-15T15:17:38.445Z"
   },
   {
    "duration": 12,
    "start_time": "2024-05-15T15:17:38.839Z"
   },
   {
    "duration": 5,
    "start_time": "2024-05-15T15:17:39.270Z"
   },
   {
    "duration": 36,
    "start_time": "2024-05-15T15:17:39.929Z"
   },
   {
    "duration": 226,
    "start_time": "2024-05-15T15:21:35.181Z"
   },
   {
    "duration": 235,
    "start_time": "2024-05-15T15:22:28.781Z"
   },
   {
    "duration": 13,
    "start_time": "2024-05-15T15:22:41.706Z"
   },
   {
    "duration": 14,
    "start_time": "2024-05-15T15:23:27.749Z"
   },
   {
    "duration": 322,
    "start_time": "2024-05-15T15:23:44.334Z"
   },
   {
    "duration": 201,
    "start_time": "2024-05-15T15:23:54.846Z"
   },
   {
    "duration": 281,
    "start_time": "2024-05-15T15:24:20.055Z"
   },
   {
    "duration": 182,
    "start_time": "2024-05-15T15:24:24.370Z"
   },
   {
    "duration": 12,
    "start_time": "2024-05-15T15:24:54.478Z"
   },
   {
    "duration": 772,
    "start_time": "2024-05-15T15:24:59.530Z"
   },
   {
    "duration": 478,
    "start_time": "2024-05-15T15:25:03.167Z"
   },
   {
    "duration": 490,
    "start_time": "2024-05-15T15:25:08.323Z"
   },
   {
    "duration": 530,
    "start_time": "2024-05-15T15:25:55.904Z"
   },
   {
    "duration": 16,
    "start_time": "2024-05-15T15:26:10.944Z"
   },
   {
    "duration": 624,
    "start_time": "2024-05-15T15:26:22.232Z"
   },
   {
    "duration": 526,
    "start_time": "2024-05-15T15:26:36.883Z"
   },
   {
    "duration": 3,
    "start_time": "2024-05-15T15:28:01.573Z"
   },
   {
    "duration": 12,
    "start_time": "2024-05-15T15:28:10.734Z"
   },
   {
    "duration": 823,
    "start_time": "2024-05-15T15:28:17.198Z"
   },
   {
    "duration": 1465,
    "start_time": "2024-05-16T07:20:55.144Z"
   },
   {
    "duration": 17,
    "start_time": "2024-05-16T07:20:57.279Z"
   },
   {
    "duration": 3,
    "start_time": "2024-05-16T07:21:03.723Z"
   },
   {
    "duration": 3,
    "start_time": "2024-05-16T07:21:05.991Z"
   },
   {
    "duration": 157,
    "start_time": "2024-05-16T07:21:06.800Z"
   },
   {
    "duration": 15,
    "start_time": "2024-05-16T07:21:09.873Z"
   },
   {
    "duration": 14,
    "start_time": "2024-05-16T07:21:11.925Z"
   },
   {
    "duration": 7,
    "start_time": "2024-05-16T07:21:42.000Z"
   },
   {
    "duration": 8,
    "start_time": "2024-05-16T07:21:46.169Z"
   },
   {
    "duration": 19,
    "start_time": "2024-05-16T07:24:50.715Z"
   },
   {
    "duration": 19,
    "start_time": "2024-05-16T07:42:40.989Z"
   },
   {
    "duration": 8,
    "start_time": "2024-05-16T07:43:37.224Z"
   },
   {
    "duration": 12,
    "start_time": "2024-05-16T07:47:32.847Z"
   },
   {
    "duration": 7,
    "start_time": "2024-05-16T07:52:06.332Z"
   },
   {
    "duration": 37,
    "start_time": "2024-05-16T07:52:38.133Z"
   },
   {
    "duration": 9,
    "start_time": "2024-05-16T07:54:46.497Z"
   },
   {
    "duration": 14,
    "start_time": "2024-05-16T07:54:54.666Z"
   },
   {
    "duration": 4,
    "start_time": "2024-05-16T07:55:06.574Z"
   },
   {
    "duration": 1239,
    "start_time": "2024-05-16T07:55:07.361Z"
   },
   {
    "duration": 5,
    "start_time": "2024-05-16T07:55:24.298Z"
   },
   {
    "duration": 29,
    "start_time": "2024-05-16T07:57:23.921Z"
   },
   {
    "duration": 11,
    "start_time": "2024-05-16T07:58:02.367Z"
   },
   {
    "duration": 9,
    "start_time": "2024-05-16T07:58:15.815Z"
   },
   {
    "duration": 17,
    "start_time": "2024-05-16T07:58:44.759Z"
   },
   {
    "duration": 10,
    "start_time": "2024-05-16T07:58:55.441Z"
   },
   {
    "duration": 17,
    "start_time": "2024-05-16T08:00:28.084Z"
   },
   {
    "duration": 24,
    "start_time": "2024-05-16T08:01:05.005Z"
   },
   {
    "duration": 11,
    "start_time": "2024-05-16T08:02:14.535Z"
   },
   {
    "duration": 8,
    "start_time": "2024-05-16T08:02:33.977Z"
   },
   {
    "duration": 11,
    "start_time": "2024-05-16T08:02:41.650Z"
   },
   {
    "duration": 11,
    "start_time": "2024-05-16T08:03:01.950Z"
   },
   {
    "duration": 6,
    "start_time": "2024-05-16T08:09:42.601Z"
   },
   {
    "duration": 49,
    "start_time": "2024-05-16T08:09:51.941Z"
   },
   {
    "duration": 6,
    "start_time": "2024-05-16T08:10:08.336Z"
   },
   {
    "duration": 260,
    "start_time": "2024-05-16T08:10:16.709Z"
   },
   {
    "duration": 898,
    "start_time": "2024-05-16T08:11:25.925Z"
   },
   {
    "duration": 6,
    "start_time": "2024-05-16T08:11:39.363Z"
   },
   {
    "duration": 8,
    "start_time": "2024-05-16T08:11:39.856Z"
   },
   {
    "duration": 13694,
    "start_time": "2024-05-16T08:11:42.442Z"
   },
   {
    "duration": 13,
    "start_time": "2024-05-16T08:11:56.138Z"
   },
   {
    "duration": 9,
    "start_time": "2024-05-16T08:12:07.335Z"
   },
   {
    "duration": 13,
    "start_time": "2024-05-16T08:12:28.361Z"
   },
   {
    "duration": 4,
    "start_time": "2024-05-16T08:12:41.873Z"
   },
   {
    "duration": 6,
    "start_time": "2024-05-16T08:12:57.747Z"
   },
   {
    "duration": 9,
    "start_time": "2024-05-16T08:13:06.457Z"
   },
   {
    "duration": 19,
    "start_time": "2024-05-16T08:13:22.639Z"
   },
   {
    "duration": 21,
    "start_time": "2024-05-16T08:15:24.954Z"
   },
   {
    "duration": 3,
    "start_time": "2024-05-16T08:16:06.056Z"
   },
   {
    "duration": 3,
    "start_time": "2024-05-16T08:16:11.973Z"
   },
   {
    "duration": 108,
    "start_time": "2024-05-16T08:16:20.026Z"
   },
   {
    "duration": 19,
    "start_time": "2024-05-16T08:16:36.888Z"
   },
   {
    "duration": 17,
    "start_time": "2024-05-16T08:18:25.701Z"
   },
   {
    "duration": 4,
    "start_time": "2024-05-16T08:18:59.511Z"
   },
   {
    "duration": 36,
    "start_time": "2024-05-16T08:22:53.941Z"
   },
   {
    "duration": 5,
    "start_time": "2024-05-16T08:23:59.413Z"
   },
   {
    "duration": 1044,
    "start_time": "2024-05-16T08:24:24.844Z"
   },
   {
    "duration": 4,
    "start_time": "2024-05-16T08:24:27.146Z"
   },
   {
    "duration": 4,
    "start_time": "2024-05-16T08:24:29.470Z"
   },
   {
    "duration": 1916,
    "start_time": "2024-05-16T08:26:54.552Z"
   },
   {
    "duration": 4,
    "start_time": "2024-05-16T08:26:57.778Z"
   },
   {
    "duration": 5566,
    "start_time": "2024-05-16T08:27:14.907Z"
   },
   {
    "duration": 180,
    "start_time": "2024-05-16T08:27:39.259Z"
   },
   {
    "duration": 17,
    "start_time": "2024-05-16T08:27:41.333Z"
   },
   {
    "duration": 12,
    "start_time": "2024-05-16T08:27:41.962Z"
   },
   {
    "duration": 15,
    "start_time": "2024-05-16T08:28:06.124Z"
   },
   {
    "duration": 7,
    "start_time": "2024-05-16T08:28:06.496Z"
   },
   {
    "duration": 4,
    "start_time": "2024-05-16T08:28:30.110Z"
   },
   {
    "duration": 8,
    "start_time": "2024-05-16T08:28:30.670Z"
   },
   {
    "duration": 7,
    "start_time": "2024-05-16T08:28:34.096Z"
   },
   {
    "duration": 11,
    "start_time": "2024-05-16T08:28:37.154Z"
   },
   {
    "duration": 35,
    "start_time": "2024-05-16T08:28:37.447Z"
   },
   {
    "duration": 7,
    "start_time": "2024-05-16T08:28:37.919Z"
   },
   {
    "duration": 22,
    "start_time": "2024-05-16T08:28:38.366Z"
   },
   {
    "duration": 11,
    "start_time": "2024-05-16T08:28:38.692Z"
   },
   {
    "duration": 10,
    "start_time": "2024-05-16T08:28:38.872Z"
   },
   {
    "duration": 10,
    "start_time": "2024-05-16T08:28:39.159Z"
   },
   {
    "duration": 29,
    "start_time": "2024-05-16T08:28:39.500Z"
   },
   {
    "duration": 27,
    "start_time": "2024-05-16T08:28:40.099Z"
   },
   {
    "duration": 8,
    "start_time": "2024-05-16T08:28:40.276Z"
   },
   {
    "duration": 8,
    "start_time": "2024-05-16T08:28:40.651Z"
   },
   {
    "duration": 12,
    "start_time": "2024-05-16T08:28:40.824Z"
   },
   {
    "duration": 5,
    "start_time": "2024-05-16T08:28:54.900Z"
   },
   {
    "duration": 5,
    "start_time": "2024-05-16T08:28:55.733Z"
   },
   {
    "duration": 5,
    "start_time": "2024-05-16T08:29:06.051Z"
   },
   {
    "duration": 5,
    "start_time": "2024-05-16T08:29:06.577Z"
   },
   {
    "duration": 13549,
    "start_time": "2024-05-16T08:29:07.338Z"
   },
   {
    "duration": 13,
    "start_time": "2024-05-16T08:29:20.889Z"
   },
   {
    "duration": 41,
    "start_time": "2024-05-16T08:29:20.904Z"
   },
   {
    "duration": 15,
    "start_time": "2024-05-16T08:34:13.035Z"
   },
   {
    "duration": 4,
    "start_time": "2024-05-16T08:34:13.414Z"
   },
   {
    "duration": 5,
    "start_time": "2024-05-16T08:34:15.649Z"
   },
   {
    "duration": 5,
    "start_time": "2024-05-16T08:34:16.141Z"
   },
   {
    "duration": 20,
    "start_time": "2024-05-16T08:34:18.305Z"
   },
   {
    "duration": 21,
    "start_time": "2024-05-16T08:34:22.416Z"
   },
   {
    "duration": 4,
    "start_time": "2024-05-16T08:34:23.915Z"
   },
   {
    "duration": 3,
    "start_time": "2024-05-16T08:34:24.524Z"
   },
   {
    "duration": 95,
    "start_time": "2024-05-16T08:34:25.103Z"
   },
   {
    "duration": 17,
    "start_time": "2024-05-16T08:34:26.613Z"
   },
   {
    "duration": 14,
    "start_time": "2024-05-16T08:34:27.416Z"
   },
   {
    "duration": 4,
    "start_time": "2024-05-16T08:34:27.849Z"
   },
   {
    "duration": 22,
    "start_time": "2024-05-16T08:34:31.103Z"
   },
   {
    "duration": 6,
    "start_time": "2024-05-16T08:37:28.422Z"
   },
   {
    "duration": 6,
    "start_time": "2024-05-16T08:38:18.630Z"
   },
   {
    "duration": 6,
    "start_time": "2024-05-16T08:39:03.675Z"
   },
   {
    "duration": 5,
    "start_time": "2024-05-16T08:39:25.033Z"
   },
   {
    "duration": 11,
    "start_time": "2024-05-16T08:40:10.048Z"
   },
   {
    "duration": 12,
    "start_time": "2024-05-16T08:40:15.300Z"
   },
   {
    "duration": 13,
    "start_time": "2024-05-16T08:40:40.361Z"
   },
   {
    "duration": 311,
    "start_time": "2024-05-16T08:40:56.141Z"
   },
   {
    "duration": 63,
    "start_time": "2024-05-16T08:43:08.829Z"
   },
   {
    "duration": 6,
    "start_time": "2024-05-16T08:43:37.017Z"
   },
   {
    "duration": 21,
    "start_time": "2024-05-16T08:44:21.286Z"
   },
   {
    "duration": 16,
    "start_time": "2024-05-16T08:44:36.647Z"
   },
   {
    "duration": 27,
    "start_time": "2024-05-16T08:44:52.081Z"
   },
   {
    "duration": 14,
    "start_time": "2024-05-16T08:44:58.974Z"
   },
   {
    "duration": 10,
    "start_time": "2024-05-16T08:45:22.449Z"
   },
   {
    "duration": 10,
    "start_time": "2024-05-16T08:45:34.622Z"
   },
   {
    "duration": 22,
    "start_time": "2024-05-16T08:47:23.797Z"
   },
   {
    "duration": 13,
    "start_time": "2024-05-16T08:47:46.612Z"
   },
   {
    "duration": 40,
    "start_time": "2024-05-16T08:48:12.266Z"
   },
   {
    "duration": 47,
    "start_time": "2024-05-16T08:48:29.330Z"
   },
   {
    "duration": 17,
    "start_time": "2024-05-16T08:48:42.274Z"
   },
   {
    "duration": 12,
    "start_time": "2024-05-16T08:48:52.886Z"
   },
   {
    "duration": 16,
    "start_time": "2024-05-16T08:49:07.591Z"
   },
   {
    "duration": 10,
    "start_time": "2024-05-16T08:49:24.842Z"
   },
   {
    "duration": 13,
    "start_time": "2024-05-16T08:49:30.295Z"
   },
   {
    "duration": 247,
    "start_time": "2024-05-16T08:50:24.489Z"
   },
   {
    "duration": 104,
    "start_time": "2024-05-16T08:50:31.008Z"
   },
   {
    "duration": 6,
    "start_time": "2024-05-16T08:51:12.316Z"
   },
   {
    "duration": 210,
    "start_time": "2024-05-16T08:51:22.222Z"
   },
   {
    "duration": 8,
    "start_time": "2024-05-16T08:51:43.306Z"
   },
   {
    "duration": 6,
    "start_time": "2024-05-16T08:52:22.038Z"
   },
   {
    "duration": 156,
    "start_time": "2024-05-16T08:52:39.017Z"
   },
   {
    "duration": 15,
    "start_time": "2024-05-16T08:53:10.630Z"
   },
   {
    "duration": 12,
    "start_time": "2024-05-16T08:53:19.186Z"
   },
   {
    "duration": 162,
    "start_time": "2024-05-16T08:57:45.145Z"
   },
   {
    "duration": 22,
    "start_time": "2024-05-16T08:58:21.177Z"
   },
   {
    "duration": 7,
    "start_time": "2024-05-16T08:59:10.594Z"
   },
   {
    "duration": 150,
    "start_time": "2024-05-16T09:00:35.821Z"
   },
   {
    "duration": 6,
    "start_time": "2024-05-16T09:00:52.599Z"
   },
   {
    "duration": 165,
    "start_time": "2024-05-16T09:01:21.493Z"
   },
   {
    "duration": 8,
    "start_time": "2024-05-16T09:04:19.603Z"
   },
   {
    "duration": 45,
    "start_time": "2024-05-16T09:04:42.879Z"
   },
   {
    "duration": 19,
    "start_time": "2024-05-16T09:04:45.543Z"
   },
   {
    "duration": 12,
    "start_time": "2024-05-16T09:05:00.612Z"
   },
   {
    "duration": 13,
    "start_time": "2024-05-16T09:05:08.541Z"
   },
   {
    "duration": 7,
    "start_time": "2024-05-16T09:05:25.771Z"
   },
   {
    "duration": 5,
    "start_time": "2024-05-16T09:06:04.930Z"
   },
   {
    "duration": 183,
    "start_time": "2024-05-16T09:06:20.777Z"
   },
   {
    "duration": 1733,
    "start_time": "2024-05-16T09:07:11.619Z"
   },
   {
    "duration": 6,
    "start_time": "2024-05-16T09:10:31.207Z"
   },
   {
    "duration": 1577,
    "start_time": "2024-05-16T09:10:38.282Z"
   },
   {
    "duration": 10,
    "start_time": "2024-05-16T09:11:18.980Z"
   },
   {
    "duration": 174,
    "start_time": "2024-05-16T09:11:38.242Z"
   },
   {
    "duration": 71801,
    "start_time": "2024-05-16T09:12:55.328Z"
   },
   {
    "duration": 174,
    "start_time": "2024-05-16T09:14:07.130Z"
   },
   {
    "duration": 0,
    "start_time": "2024-05-16T09:14:07.306Z"
   },
   {
    "duration": 0,
    "start_time": "2024-05-16T09:14:07.307Z"
   },
   {
    "duration": 0,
    "start_time": "2024-05-16T09:14:07.308Z"
   },
   {
    "duration": 23,
    "start_time": "2024-05-16T09:14:19.676Z"
   },
   {
    "duration": 8,
    "start_time": "2024-05-16T09:15:01.775Z"
   },
   {
    "duration": 11,
    "start_time": "2024-05-16T09:15:04.320Z"
   },
   {
    "duration": 23,
    "start_time": "2024-05-16T09:15:58.526Z"
   },
   {
    "duration": 26,
    "start_time": "2024-05-16T09:17:45.739Z"
   },
   {
    "duration": 33,
    "start_time": "2024-05-16T09:18:18.188Z"
   },
   {
    "duration": 22,
    "start_time": "2024-05-16T09:18:29.524Z"
   },
   {
    "duration": 8,
    "start_time": "2024-05-16T09:18:37.806Z"
   },
   {
    "duration": 12,
    "start_time": "2024-05-16T09:18:38.944Z"
   },
   {
    "duration": 16,
    "start_time": "2024-05-16T09:19:07.928Z"
   },
   {
    "duration": 10,
    "start_time": "2024-05-16T09:19:53.144Z"
   },
   {
    "duration": 9,
    "start_time": "2024-05-16T09:20:03.554Z"
   },
   {
    "duration": 4,
    "start_time": "2024-05-16T09:21:07.033Z"
   },
   {
    "duration": 4,
    "start_time": "2024-05-16T09:21:14.066Z"
   },
   {
    "duration": 5,
    "start_time": "2024-05-16T09:21:22.215Z"
   },
   {
    "duration": 4,
    "start_time": "2024-05-16T09:21:37.376Z"
   },
   {
    "duration": 8,
    "start_time": "2024-05-16T09:21:44.115Z"
   },
   {
    "duration": 5,
    "start_time": "2024-05-16T09:21:56.681Z"
   },
   {
    "duration": 4,
    "start_time": "2024-05-16T09:22:01.994Z"
   },
   {
    "duration": 5188,
    "start_time": "2024-05-16T09:28:31.837Z"
   },
   {
    "duration": 2019,
    "start_time": "2024-05-16T09:28:37.029Z"
   },
   {
    "duration": 4,
    "start_time": "2024-05-16T09:28:39.050Z"
   },
   {
    "duration": 274,
    "start_time": "2024-05-16T09:28:40.510Z"
   },
   {
    "duration": 21,
    "start_time": "2024-05-16T09:28:41.244Z"
   },
   {
    "duration": 19,
    "start_time": "2024-05-16T09:28:41.267Z"
   },
   {
    "duration": 14,
    "start_time": "2024-05-16T09:28:41.953Z"
   },
   {
    "duration": 6,
    "start_time": "2024-05-16T09:28:42.091Z"
   },
   {
    "duration": 5,
    "start_time": "2024-05-16T09:28:42.379Z"
   },
   {
    "duration": 9,
    "start_time": "2024-05-16T09:28:42.643Z"
   },
   {
    "duration": 7,
    "start_time": "2024-05-16T09:28:43.260Z"
   },
   {
    "duration": 15,
    "start_time": "2024-05-16T09:28:43.844Z"
   },
   {
    "duration": 35,
    "start_time": "2024-05-16T09:28:44.138Z"
   },
   {
    "duration": 7,
    "start_time": "2024-05-16T09:28:44.566Z"
   },
   {
    "duration": 25,
    "start_time": "2024-05-16T09:28:44.857Z"
   },
   {
    "duration": 10,
    "start_time": "2024-05-16T09:28:45.172Z"
   },
   {
    "duration": 11,
    "start_time": "2024-05-16T09:28:45.455Z"
   },
   {
    "duration": 14,
    "start_time": "2024-05-16T09:28:45.782Z"
   },
   {
    "duration": 16,
    "start_time": "2024-05-16T09:28:46.107Z"
   },
   {
    "duration": 22,
    "start_time": "2024-05-16T09:28:46.419Z"
   },
   {
    "duration": 9,
    "start_time": "2024-05-16T09:28:46.592Z"
   },
   {
    "duration": 7,
    "start_time": "2024-05-16T09:28:46.903Z"
   },
   {
    "duration": 16,
    "start_time": "2024-05-16T09:28:47.074Z"
   },
   {
    "duration": 5,
    "start_time": "2024-05-16T09:28:47.565Z"
   },
   {
    "duration": 4,
    "start_time": "2024-05-16T09:28:47.859Z"
   },
   {
    "duration": 13,
    "start_time": "2024-05-16T09:28:48.032Z"
   },
   {
    "duration": 5,
    "start_time": "2024-05-16T09:28:48.803Z"
   },
   {
    "duration": 5,
    "start_time": "2024-05-16T09:28:48.970Z"
   },
   {
    "duration": 14452,
    "start_time": "2024-05-16T09:28:49.136Z"
   },
   {
    "duration": 13,
    "start_time": "2024-05-16T09:29:03.590Z"
   },
   {
    "duration": 119,
    "start_time": "2024-05-16T09:29:03.604Z"
   },
   {
    "duration": 37,
    "start_time": "2024-05-16T09:29:03.725Z"
   },
   {
    "duration": 105,
    "start_time": "2024-05-16T09:29:03.763Z"
   },
   {
    "duration": 340,
    "start_time": "2024-05-16T09:29:03.870Z"
   },
   {
    "duration": 160,
    "start_time": "2024-05-16T09:29:04.212Z"
   },
   {
    "duration": 20,
    "start_time": "2024-05-16T09:29:04.374Z"
   },
   {
    "duration": 20,
    "start_time": "2024-05-16T09:29:04.396Z"
   },
   {
    "duration": 23,
    "start_time": "2024-05-16T09:29:04.418Z"
   },
   {
    "duration": 16,
    "start_time": "2024-05-16T09:29:04.442Z"
   },
   {
    "duration": 101,
    "start_time": "2024-05-16T09:29:04.460Z"
   },
   {
    "duration": 16,
    "start_time": "2024-05-16T09:29:04.562Z"
   },
   {
    "duration": 27,
    "start_time": "2024-05-16T09:29:04.580Z"
   },
   {
    "duration": 26,
    "start_time": "2024-05-16T09:29:04.609Z"
   },
   {
    "duration": 27,
    "start_time": "2024-05-16T09:29:11.518Z"
   },
   {
    "duration": 5,
    "start_time": "2024-05-16T09:29:13.285Z"
   },
   {
    "duration": 11,
    "start_time": "2024-05-16T09:29:13.642Z"
   },
   {
    "duration": 13,
    "start_time": "2024-05-16T09:29:13.970Z"
   },
   {
    "duration": 308,
    "start_time": "2024-05-16T09:29:14.141Z"
   },
   {
    "duration": 68,
    "start_time": "2024-05-16T09:29:14.762Z"
   },
   {
    "duration": 7,
    "start_time": "2024-05-16T09:29:14.939Z"
   },
   {
    "duration": 24,
    "start_time": "2024-05-16T09:29:15.534Z"
   },
   {
    "duration": 15,
    "start_time": "2024-05-16T09:29:15.840Z"
   },
   {
    "duration": 17,
    "start_time": "2024-05-16T09:29:16.161Z"
   },
   {
    "duration": 21,
    "start_time": "2024-05-16T09:29:16.317Z"
   },
   {
    "duration": 16,
    "start_time": "2024-05-16T09:29:16.626Z"
   },
   {
    "duration": 10,
    "start_time": "2024-05-16T09:29:16.950Z"
   },
   {
    "duration": 21,
    "start_time": "2024-05-16T09:29:17.256Z"
   },
   {
    "duration": 16,
    "start_time": "2024-05-16T09:29:17.424Z"
   },
   {
    "duration": 42,
    "start_time": "2024-05-16T09:29:17.902Z"
   },
   {
    "duration": 54,
    "start_time": "2024-05-16T09:29:18.209Z"
   },
   {
    "duration": 12,
    "start_time": "2024-05-16T09:29:18.540Z"
   },
   {
    "duration": 11,
    "start_time": "2024-05-16T09:29:18.690Z"
   },
   {
    "duration": 15,
    "start_time": "2024-05-16T09:29:19.873Z"
   },
   {
    "duration": 17,
    "start_time": "2024-05-16T09:29:19.890Z"
   },
   {
    "duration": 19,
    "start_time": "2024-05-16T09:29:19.909Z"
   },
   {
    "duration": 201,
    "start_time": "2024-05-16T09:29:19.941Z"
   },
   {
    "duration": 97,
    "start_time": "2024-05-16T09:29:20.145Z"
   },
   {
    "duration": 9,
    "start_time": "2024-05-16T09:29:20.833Z"
   },
   {
    "duration": 215,
    "start_time": "2024-05-16T09:29:20.844Z"
   },
   {
    "duration": 8,
    "start_time": "2024-05-16T09:29:21.062Z"
   },
   {
    "duration": 7,
    "start_time": "2024-05-16T09:29:21.316Z"
   },
   {
    "duration": 167,
    "start_time": "2024-05-16T09:29:21.631Z"
   },
   {
    "duration": 14,
    "start_time": "2024-05-16T09:29:21.940Z"
   },
   {
    "duration": 11,
    "start_time": "2024-05-16T09:29:22.097Z"
   },
   {
    "duration": 167,
    "start_time": "2024-05-16T09:29:22.891Z"
   },
   {
    "duration": 20,
    "start_time": "2024-05-16T09:29:23.200Z"
   },
   {
    "duration": 7,
    "start_time": "2024-05-16T09:29:23.371Z"
   },
   {
    "duration": 171,
    "start_time": "2024-05-16T09:29:23.871Z"
   },
   {
    "duration": 7,
    "start_time": "2024-05-16T09:29:24.060Z"
   },
   {
    "duration": 152,
    "start_time": "2024-05-16T09:29:24.560Z"
   },
   {
    "duration": 10,
    "start_time": "2024-05-16T09:29:25.234Z"
   },
   {
    "duration": 14,
    "start_time": "2024-05-16T09:29:25.561Z"
   },
   {
    "duration": 12,
    "start_time": "2024-05-16T09:29:25.897Z"
   },
   {
    "duration": 13,
    "start_time": "2024-05-16T09:29:26.062Z"
   },
   {
    "duration": 7,
    "start_time": "2024-05-16T09:29:26.395Z"
   },
   {
    "duration": 6,
    "start_time": "2024-05-16T09:29:26.737Z"
   },
   {
    "duration": 147,
    "start_time": "2024-05-16T09:29:27.060Z"
   },
   {
    "duration": 1807,
    "start_time": "2024-05-16T09:29:28.085Z"
   },
   {
    "duration": 6,
    "start_time": "2024-05-16T09:29:29.895Z"
   },
   {
    "duration": 1751,
    "start_time": "2024-05-16T09:29:29.903Z"
   },
   {
    "duration": 185,
    "start_time": "2024-05-16T09:29:31.657Z"
   },
   {
    "duration": 0,
    "start_time": "2024-05-16T09:29:31.843Z"
   },
   {
    "duration": 0,
    "start_time": "2024-05-16T09:29:31.845Z"
   },
   {
    "duration": 0,
    "start_time": "2024-05-16T09:29:31.846Z"
   },
   {
    "duration": 0,
    "start_time": "2024-05-16T09:29:31.847Z"
   },
   {
    "duration": 0,
    "start_time": "2024-05-16T09:29:31.848Z"
   },
   {
    "duration": 0,
    "start_time": "2024-05-16T09:29:31.850Z"
   },
   {
    "duration": 10,
    "start_time": "2024-05-16T09:29:31.979Z"
   },
   {
    "duration": 11,
    "start_time": "2024-05-16T09:29:32.286Z"
   },
   {
    "duration": 10,
    "start_time": "2024-05-16T09:29:32.699Z"
   },
   {
    "duration": 10,
    "start_time": "2024-05-16T09:30:05.343Z"
   },
   {
    "duration": 176,
    "start_time": "2024-05-16T09:30:13.987Z"
   },
   {
    "duration": 70905,
    "start_time": "2024-05-16T09:30:20.714Z"
   },
   {
    "duration": 597,
    "start_time": "2024-05-16T09:31:36.341Z"
   },
   {
    "duration": 12,
    "start_time": "2024-05-16T09:31:59.734Z"
   },
   {
    "duration": 12,
    "start_time": "2024-05-16T09:32:13.664Z"
   },
   {
    "duration": 13,
    "start_time": "2024-05-16T09:33:06.548Z"
   },
   {
    "duration": 211,
    "start_time": "2024-05-16T09:33:10.418Z"
   },
   {
    "duration": 10,
    "start_time": "2024-05-16T09:33:11.018Z"
   },
   {
    "duration": 4,
    "start_time": "2024-05-16T09:33:11.695Z"
   },
   {
    "duration": 5,
    "start_time": "2024-05-16T09:33:11.857Z"
   },
   {
    "duration": 4,
    "start_time": "2024-05-16T09:33:12.262Z"
   },
   {
    "duration": 4,
    "start_time": "2024-05-16T09:33:12.337Z"
   },
   {
    "duration": 8,
    "start_time": "2024-05-16T09:33:12.493Z"
   },
   {
    "duration": 4,
    "start_time": "2024-05-16T09:33:12.974Z"
   },
   {
    "duration": 5,
    "start_time": "2024-05-16T09:33:13.382Z"
   },
   {
    "duration": 13,
    "start_time": "2024-05-16T09:46:53.710Z"
   },
   {
    "duration": 6,
    "start_time": "2024-05-16T09:47:03.169Z"
   },
   {
    "duration": 7,
    "start_time": "2024-05-16T09:47:15.013Z"
   },
   {
    "duration": 5441,
    "start_time": "2024-05-16T10:19:29.896Z"
   },
   {
    "duration": 1941,
    "start_time": "2024-05-16T10:19:35.339Z"
   },
   {
    "duration": 2,
    "start_time": "2024-05-16T10:19:37.282Z"
   },
   {
    "duration": 176,
    "start_time": "2024-05-16T10:19:37.286Z"
   },
   {
    "duration": 13,
    "start_time": "2024-05-16T10:19:37.464Z"
   },
   {
    "duration": 40,
    "start_time": "2024-05-16T10:19:37.479Z"
   },
   {
    "duration": 38,
    "start_time": "2024-05-16T10:19:37.520Z"
   },
   {
    "duration": 26,
    "start_time": "2024-05-16T10:19:37.560Z"
   },
   {
    "duration": 29,
    "start_time": "2024-05-16T10:19:37.588Z"
   },
   {
    "duration": 20,
    "start_time": "2024-05-16T10:19:37.619Z"
   },
   {
    "duration": 35,
    "start_time": "2024-05-16T10:19:37.640Z"
   },
   {
    "duration": 24,
    "start_time": "2024-05-16T10:19:37.676Z"
   },
   {
    "duration": 47,
    "start_time": "2024-05-16T10:19:37.702Z"
   },
   {
    "duration": 20,
    "start_time": "2024-05-16T10:19:37.751Z"
   },
   {
    "duration": 24,
    "start_time": "2024-05-16T10:19:37.772Z"
   },
   {
    "duration": 11,
    "start_time": "2024-05-16T10:19:37.797Z"
   },
   {
    "duration": 36,
    "start_time": "2024-05-16T10:19:37.810Z"
   },
   {
    "duration": 35,
    "start_time": "2024-05-16T10:19:37.848Z"
   },
   {
    "duration": 19,
    "start_time": "2024-05-16T10:19:37.885Z"
   },
   {
    "duration": 24,
    "start_time": "2024-05-16T10:19:37.905Z"
   },
   {
    "duration": 23,
    "start_time": "2024-05-16T10:19:37.931Z"
   },
   {
    "duration": 11,
    "start_time": "2024-05-16T10:19:37.956Z"
   },
   {
    "duration": 16,
    "start_time": "2024-05-16T10:19:37.969Z"
   },
   {
    "duration": 3,
    "start_time": "2024-05-16T10:19:37.987Z"
   },
   {
    "duration": 10,
    "start_time": "2024-05-16T10:19:37.991Z"
   },
   {
    "duration": 19,
    "start_time": "2024-05-16T10:19:38.002Z"
   },
   {
    "duration": 22,
    "start_time": "2024-05-16T10:19:38.023Z"
   },
   {
    "duration": 19,
    "start_time": "2024-05-16T10:19:38.050Z"
   },
   {
    "duration": 13555,
    "start_time": "2024-05-16T10:19:38.071Z"
   },
   {
    "duration": 13,
    "start_time": "2024-05-16T10:19:51.628Z"
   },
   {
    "duration": 31,
    "start_time": "2024-05-16T10:19:51.642Z"
   },
   {
    "duration": 16,
    "start_time": "2024-05-16T10:19:51.675Z"
   },
   {
    "duration": 4,
    "start_time": "2024-05-16T10:19:51.692Z"
   },
   {
    "duration": 21,
    "start_time": "2024-05-16T10:19:51.698Z"
   },
   {
    "duration": 14,
    "start_time": "2024-05-16T10:19:51.721Z"
   },
   {
    "duration": 36,
    "start_time": "2024-05-16T10:19:51.737Z"
   },
   {
    "duration": 21,
    "start_time": "2024-05-16T10:19:51.774Z"
   },
   {
    "duration": 9,
    "start_time": "2024-05-16T10:19:51.797Z"
   },
   {
    "duration": 11,
    "start_time": "2024-05-16T10:19:51.808Z"
   },
   {
    "duration": 100,
    "start_time": "2024-05-16T10:19:51.821Z"
   },
   {
    "duration": 19,
    "start_time": "2024-05-16T10:19:51.922Z"
   },
   {
    "duration": 43,
    "start_time": "2024-05-16T10:19:51.942Z"
   },
   {
    "duration": 58,
    "start_time": "2024-05-16T10:19:51.987Z"
   },
   {
    "duration": 68,
    "start_time": "2024-05-16T10:19:52.047Z"
   },
   {
    "duration": 6,
    "start_time": "2024-05-16T10:19:52.118Z"
   },
   {
    "duration": 49,
    "start_time": "2024-05-16T10:19:52.126Z"
   },
   {
    "duration": 27,
    "start_time": "2024-05-16T10:19:52.177Z"
   },
   {
    "duration": 323,
    "start_time": "2024-05-16T10:19:52.207Z"
   },
   {
    "duration": 65,
    "start_time": "2024-05-16T10:19:52.532Z"
   },
   {
    "duration": 7,
    "start_time": "2024-05-16T10:19:52.599Z"
   },
   {
    "duration": 38,
    "start_time": "2024-05-16T10:19:52.608Z"
   },
   {
    "duration": 42,
    "start_time": "2024-05-16T10:19:52.648Z"
   },
   {
    "duration": 26,
    "start_time": "2024-05-16T10:19:52.691Z"
   },
   {
    "duration": 56,
    "start_time": "2024-05-16T10:19:52.719Z"
   },
   {
    "duration": 99,
    "start_time": "2024-05-16T10:19:52.777Z"
   },
   {
    "duration": 60,
    "start_time": "2024-05-16T10:19:52.878Z"
   },
   {
    "duration": 69,
    "start_time": "2024-05-16T10:19:52.939Z"
   },
   {
    "duration": 51,
    "start_time": "2024-05-16T10:19:53.010Z"
   },
   {
    "duration": 87,
    "start_time": "2024-05-16T10:19:53.063Z"
   },
   {
    "duration": 48,
    "start_time": "2024-05-16T10:19:53.152Z"
   },
   {
    "duration": 12,
    "start_time": "2024-05-16T10:19:53.202Z"
   },
   {
    "duration": 32,
    "start_time": "2024-05-16T10:19:53.215Z"
   },
   {
    "duration": 33,
    "start_time": "2024-05-16T10:19:53.249Z"
   },
   {
    "duration": 33,
    "start_time": "2024-05-16T10:19:53.283Z"
   },
   {
    "duration": 16,
    "start_time": "2024-05-16T10:19:53.318Z"
   },
   {
    "duration": 206,
    "start_time": "2024-05-16T10:19:53.336Z"
   },
   {
    "duration": 90,
    "start_time": "2024-05-16T10:19:53.544Z"
   },
   {
    "duration": 7,
    "start_time": "2024-05-16T10:19:53.635Z"
   },
   {
    "duration": 228,
    "start_time": "2024-05-16T10:19:53.644Z"
   },
   {
    "duration": 9,
    "start_time": "2024-05-16T10:19:53.874Z"
   },
   {
    "duration": 23,
    "start_time": "2024-05-16T10:19:53.885Z"
   },
   {
    "duration": 228,
    "start_time": "2024-05-16T10:19:53.910Z"
   },
   {
    "duration": 16,
    "start_time": "2024-05-16T10:19:54.140Z"
   },
   {
    "duration": 34,
    "start_time": "2024-05-16T10:19:54.157Z"
   },
   {
    "duration": 161,
    "start_time": "2024-05-16T10:19:54.193Z"
   },
   {
    "duration": 22,
    "start_time": "2024-05-16T10:19:54.356Z"
   },
   {
    "duration": 12,
    "start_time": "2024-05-16T10:19:54.380Z"
   },
   {
    "duration": 179,
    "start_time": "2024-05-16T10:19:54.394Z"
   },
   {
    "duration": 7,
    "start_time": "2024-05-16T10:19:54.575Z"
   },
   {
    "duration": 280,
    "start_time": "2024-05-16T10:19:54.583Z"
   },
   {
    "duration": 9,
    "start_time": "2024-05-16T10:19:54.865Z"
   },
   {
    "duration": 28,
    "start_time": "2024-05-16T10:19:54.880Z"
   },
   {
    "duration": 54,
    "start_time": "2024-05-16T10:19:54.910Z"
   },
   {
    "duration": 45,
    "start_time": "2024-05-16T10:19:54.965Z"
   },
   {
    "duration": 25,
    "start_time": "2024-05-16T10:19:55.012Z"
   },
   {
    "duration": 6,
    "start_time": "2024-05-16T10:19:55.039Z"
   },
   {
    "duration": 73,
    "start_time": "2024-05-16T10:19:55.046Z"
   },
   {
    "duration": 1723,
    "start_time": "2024-05-16T10:19:55.121Z"
   },
   {
    "duration": 5,
    "start_time": "2024-05-16T10:19:56.846Z"
   },
   {
    "duration": 4678,
    "start_time": "2024-05-16T23:37:10.445Z"
   },
   {
    "duration": 3579,
    "start_time": "2024-05-16T23:37:15.125Z"
   },
   {
    "duration": 3,
    "start_time": "2024-05-16T23:37:18.705Z"
   },
   {
    "duration": 174,
    "start_time": "2024-05-16T23:37:18.710Z"
   },
   {
    "duration": 12,
    "start_time": "2024-05-16T23:37:18.886Z"
   },
   {
    "duration": 12,
    "start_time": "2024-05-16T23:37:18.899Z"
   },
   {
    "duration": 11,
    "start_time": "2024-05-16T23:37:18.912Z"
   },
   {
    "duration": 6,
    "start_time": "2024-05-16T23:37:18.925Z"
   },
   {
    "duration": 6,
    "start_time": "2024-05-16T23:37:18.932Z"
   },
   {
    "duration": 16,
    "start_time": "2024-05-16T23:37:18.944Z"
   },
   {
    "duration": 11,
    "start_time": "2024-05-16T23:37:18.962Z"
   },
   {
    "duration": 10,
    "start_time": "2024-05-16T23:37:18.974Z"
   },
   {
    "duration": 32,
    "start_time": "2024-05-16T23:37:18.985Z"
   },
   {
    "duration": 6,
    "start_time": "2024-05-16T23:37:19.018Z"
   },
   {
    "duration": 38,
    "start_time": "2024-05-16T23:37:19.025Z"
   },
   {
    "duration": 9,
    "start_time": "2024-05-16T23:37:19.065Z"
   },
   {
    "duration": 8,
    "start_time": "2024-05-16T23:37:19.075Z"
   },
   {
    "duration": 8,
    "start_time": "2024-05-16T23:37:19.084Z"
   },
   {
    "duration": 12,
    "start_time": "2024-05-16T23:37:19.094Z"
   },
   {
    "duration": 46,
    "start_time": "2024-05-16T23:37:19.108Z"
   },
   {
    "duration": 7,
    "start_time": "2024-05-16T23:37:19.155Z"
   },
   {
    "duration": 15,
    "start_time": "2024-05-16T23:37:19.164Z"
   },
   {
    "duration": 11,
    "start_time": "2024-05-16T23:37:19.180Z"
   },
   {
    "duration": 16,
    "start_time": "2024-05-16T23:37:19.192Z"
   },
   {
    "duration": 7,
    "start_time": "2024-05-16T23:37:19.209Z"
   },
   {
    "duration": 7,
    "start_time": "2024-05-16T23:37:19.218Z"
   },
   {
    "duration": 18,
    "start_time": "2024-05-16T23:37:19.227Z"
   },
   {
    "duration": 6,
    "start_time": "2024-05-16T23:37:19.249Z"
   },
   {
    "duration": 11779,
    "start_time": "2024-05-16T23:37:19.256Z"
   },
   {
    "duration": 17,
    "start_time": "2024-05-16T23:37:31.037Z"
   },
   {
    "duration": 64,
    "start_time": "2024-05-16T23:37:31.055Z"
   },
   {
    "duration": 39,
    "start_time": "2024-05-16T23:37:31.121Z"
   },
   {
    "duration": 41,
    "start_time": "2024-05-16T23:37:31.162Z"
   },
   {
    "duration": 49,
    "start_time": "2024-05-16T23:37:31.205Z"
   },
   {
    "duration": 45,
    "start_time": "2024-05-16T23:37:31.255Z"
   },
   {
    "duration": 37,
    "start_time": "2024-05-16T23:37:31.302Z"
   },
   {
    "duration": 23,
    "start_time": "2024-05-16T23:37:31.341Z"
   },
   {
    "duration": 62,
    "start_time": "2024-05-16T23:37:31.365Z"
   },
   {
    "duration": 47,
    "start_time": "2024-05-16T23:37:31.429Z"
   },
   {
    "duration": 118,
    "start_time": "2024-05-16T23:37:31.478Z"
   },
   {
    "duration": 15,
    "start_time": "2024-05-16T23:37:31.598Z"
   },
   {
    "duration": 28,
    "start_time": "2024-05-16T23:37:31.615Z"
   },
   {
    "duration": 34,
    "start_time": "2024-05-16T23:37:31.645Z"
   },
   {
    "duration": 48,
    "start_time": "2024-05-16T23:37:31.680Z"
   },
   {
    "duration": 8,
    "start_time": "2024-05-16T23:37:31.729Z"
   },
   {
    "duration": 24,
    "start_time": "2024-05-16T23:37:31.738Z"
   },
   {
    "duration": 28,
    "start_time": "2024-05-16T23:37:31.763Z"
   },
   {
    "duration": 280,
    "start_time": "2024-05-16T23:37:31.792Z"
   },
   {
    "duration": 52,
    "start_time": "2024-05-16T23:37:32.073Z"
   },
   {
    "duration": 5,
    "start_time": "2024-05-16T23:37:32.126Z"
   },
   {
    "duration": 15,
    "start_time": "2024-05-16T23:37:32.145Z"
   },
   {
    "duration": 12,
    "start_time": "2024-05-16T23:37:32.161Z"
   },
   {
    "duration": 14,
    "start_time": "2024-05-16T23:37:32.174Z"
   },
   {
    "duration": 10,
    "start_time": "2024-05-16T23:37:32.189Z"
   },
   {
    "duration": 9,
    "start_time": "2024-05-16T23:37:32.200Z"
   },
   {
    "duration": 35,
    "start_time": "2024-05-16T23:37:32.210Z"
   },
   {
    "duration": 16,
    "start_time": "2024-05-16T23:37:32.247Z"
   },
   {
    "duration": 23,
    "start_time": "2024-05-16T23:37:32.265Z"
   },
   {
    "duration": 31,
    "start_time": "2024-05-16T23:37:32.290Z"
   },
   {
    "duration": 48,
    "start_time": "2024-05-16T23:37:32.322Z"
   },
   {
    "duration": 10,
    "start_time": "2024-05-16T23:37:32.372Z"
   },
   {
    "duration": 14,
    "start_time": "2024-05-16T23:37:32.383Z"
   },
   {
    "duration": 15,
    "start_time": "2024-05-16T23:37:32.398Z"
   },
   {
    "duration": 9,
    "start_time": "2024-05-16T23:37:32.414Z"
   },
   {
    "duration": 28,
    "start_time": "2024-05-16T23:37:32.424Z"
   },
   {
    "duration": 197,
    "start_time": "2024-05-16T23:37:32.454Z"
   },
   {
    "duration": 66,
    "start_time": "2024-05-16T23:37:32.652Z"
   },
   {
    "duration": 5,
    "start_time": "2024-05-16T23:37:32.720Z"
   },
   {
    "duration": 175,
    "start_time": "2024-05-16T23:37:32.727Z"
   },
   {
    "duration": 7,
    "start_time": "2024-05-16T23:37:32.903Z"
   },
   {
    "duration": 7,
    "start_time": "2024-05-16T23:37:32.911Z"
   },
   {
    "duration": 151,
    "start_time": "2024-05-16T23:37:32.919Z"
   },
   {
    "duration": 14,
    "start_time": "2024-05-16T23:37:33.072Z"
   },
   {
    "duration": 16,
    "start_time": "2024-05-16T23:37:33.087Z"
   },
   {
    "duration": 156,
    "start_time": "2024-05-16T23:37:33.105Z"
   },
   {
    "duration": 18,
    "start_time": "2024-05-16T23:37:33.263Z"
   },
   {
    "duration": 13,
    "start_time": "2024-05-16T23:37:33.282Z"
   },
   {
    "duration": 144,
    "start_time": "2024-05-16T23:37:33.296Z"
   },
   {
    "duration": 6,
    "start_time": "2024-05-16T23:37:33.444Z"
   },
   {
    "duration": 231,
    "start_time": "2024-05-16T23:37:33.452Z"
   },
   {
    "duration": 5,
    "start_time": "2024-05-16T23:37:33.685Z"
   },
   {
    "duration": 13,
    "start_time": "2024-05-16T23:37:33.695Z"
   },
   {
    "duration": 13,
    "start_time": "2024-05-16T23:37:33.710Z"
   },
   {
    "duration": 21,
    "start_time": "2024-05-16T23:37:33.725Z"
   },
   {
    "duration": 7,
    "start_time": "2024-05-16T23:37:33.747Z"
   },
   {
    "duration": 15,
    "start_time": "2024-05-16T23:37:33.756Z"
   },
   {
    "duration": 40,
    "start_time": "2024-05-16T23:37:33.772Z"
   },
   {
    "duration": 1503,
    "start_time": "2024-05-16T23:37:33.814Z"
   },
   {
    "duration": 5,
    "start_time": "2024-05-16T23:37:35.319Z"
   },
   {
    "duration": 1419,
    "start_time": "2024-05-16T23:37:35.326Z"
   },
   {
    "duration": 11,
    "start_time": "2024-05-16T23:37:36.746Z"
   },
   {
    "duration": 169,
    "start_time": "2024-05-16T23:37:36.758Z"
   },
   {
    "duration": 61218,
    "start_time": "2024-05-16T23:37:36.929Z"
   },
   {
    "duration": 696,
    "start_time": "2024-05-16T23:38:38.149Z"
   },
   {
    "duration": 98,
    "start_time": "2024-05-16T23:38:38.847Z"
   },
   {
    "duration": 10,
    "start_time": "2024-05-16T23:38:38.947Z"
   },
   {
    "duration": 13,
    "start_time": "2024-05-16T23:38:38.958Z"
   },
   {
    "duration": 7,
    "start_time": "2024-05-16T23:38:38.973Z"
   },
   {
    "duration": 10,
    "start_time": "2024-05-16T23:38:38.981Z"
   },
   {
    "duration": 5,
    "start_time": "2024-05-16T23:38:38.992Z"
   },
   {
    "duration": 6,
    "start_time": "2024-05-16T23:38:38.998Z"
   },
   {
    "duration": 4,
    "start_time": "2024-05-16T23:38:39.005Z"
   },
   {
    "duration": 4,
    "start_time": "2024-05-16T23:38:39.044Z"
   },
   {
    "duration": 10,
    "start_time": "2024-05-16T23:38:39.050Z"
   },
   {
    "duration": 4,
    "start_time": "2024-05-16T23:38:39.061Z"
   },
   {
    "duration": 4,
    "start_time": "2024-05-16T23:38:39.067Z"
   },
   {
    "duration": 45,
    "start_time": "2024-05-17T07:03:55.219Z"
   },
   {
    "duration": 4834,
    "start_time": "2024-05-17T07:04:04.277Z"
   },
   {
    "duration": 2021,
    "start_time": "2024-05-17T07:04:10.720Z"
   },
   {
    "duration": 3,
    "start_time": "2024-05-17T07:04:12.743Z"
   },
   {
    "duration": 158,
    "start_time": "2024-05-17T07:04:12.902Z"
   },
   {
    "duration": 13,
    "start_time": "2024-05-17T07:04:13.593Z"
   },
   {
    "duration": 12,
    "start_time": "2024-05-17T07:04:14.009Z"
   },
   {
    "duration": 20,
    "start_time": "2024-05-17T07:04:15.000Z"
   },
   {
    "duration": 6,
    "start_time": "2024-05-17T07:04:15.137Z"
   },
   {
    "duration": 5,
    "start_time": "2024-05-17T07:04:15.448Z"
   },
   {
    "duration": 7,
    "start_time": "2024-05-17T07:04:15.755Z"
   },
   {
    "duration": 8,
    "start_time": "2024-05-17T07:04:16.583Z"
   },
   {
    "duration": 13,
    "start_time": "2024-05-17T07:04:17.251Z"
   },
   {
    "duration": 51,
    "start_time": "2024-05-17T07:04:17.562Z"
   },
   {
    "duration": 6,
    "start_time": "2024-05-17T07:04:18.041Z"
   },
   {
    "duration": 29,
    "start_time": "2024-05-17T07:04:18.402Z"
   },
   {
    "duration": 9,
    "start_time": "2024-05-17T07:04:18.763Z"
   },
   {
    "duration": 9,
    "start_time": "2024-05-17T07:04:19.138Z"
   },
   {
    "duration": 9,
    "start_time": "2024-05-17T07:04:19.908Z"
   },
   {
    "duration": 13,
    "start_time": "2024-05-17T07:04:20.267Z"
   },
   {
    "duration": 18,
    "start_time": "2024-05-17T07:04:20.626Z"
   },
   {
    "duration": 9,
    "start_time": "2024-05-17T07:04:20.800Z"
   },
   {
    "duration": 6,
    "start_time": "2024-05-17T07:04:21.158Z"
   },
   {
    "duration": 12,
    "start_time": "2024-05-17T07:04:22.203Z"
   },
   {
    "duration": 4,
    "start_time": "2024-05-17T07:04:22.903Z"
   },
   {
    "duration": 4,
    "start_time": "2024-05-17T07:04:23.273Z"
   },
   {
    "duration": 5,
    "start_time": "2024-05-17T07:04:23.446Z"
   },
   {
    "duration": 5,
    "start_time": "2024-05-17T07:04:24.596Z"
   },
   {
    "duration": 5,
    "start_time": "2024-05-17T07:04:24.754Z"
   },
   {
    "duration": 12386,
    "start_time": "2024-05-17T07:04:24.926Z"
   },
   {
    "duration": 11,
    "start_time": "2024-05-17T07:04:37.314Z"
   },
   {
    "duration": 16,
    "start_time": "2024-05-17T07:04:37.327Z"
   },
   {
    "duration": 13,
    "start_time": "2024-05-17T07:04:37.345Z"
   },
   {
    "duration": 10,
    "start_time": "2024-05-17T07:04:37.360Z"
   },
   {
    "duration": 12,
    "start_time": "2024-05-17T07:04:37.371Z"
   },
   {
    "duration": 10,
    "start_time": "2024-05-17T07:04:37.385Z"
   },
   {
    "duration": 16,
    "start_time": "2024-05-17T07:04:37.396Z"
   },
   {
    "duration": 17,
    "start_time": "2024-05-17T07:04:37.414Z"
   },
   {
    "duration": 21,
    "start_time": "2024-05-17T07:04:37.433Z"
   },
   {
    "duration": 21,
    "start_time": "2024-05-17T07:04:37.455Z"
   },
   {
    "duration": 85,
    "start_time": "2024-05-17T07:04:37.478Z"
   },
   {
    "duration": 16,
    "start_time": "2024-05-17T07:04:38.027Z"
   },
   {
    "duration": 17,
    "start_time": "2024-05-17T07:04:40.423Z"
   },
   {
    "duration": 5,
    "start_time": "2024-05-17T07:04:41.596Z"
   },
   {
    "duration": 26,
    "start_time": "2024-05-17T07:04:45.016Z"
   },
   {
    "duration": 9,
    "start_time": "2024-05-17T07:04:46.785Z"
   },
   {
    "duration": 133,
    "start_time": "2024-05-17T07:05:24.856Z"
   },
   {
    "duration": 5,
    "start_time": "2024-05-17T07:06:44.907Z"
   },
   {
    "duration": 6,
    "start_time": "2024-05-17T07:06:58.778Z"
   },
   {
    "duration": 5,
    "start_time": "2024-05-17T07:07:14.640Z"
   },
   {
    "duration": 9,
    "start_time": "2024-05-17T07:07:29.285Z"
   },
   {
    "duration": 108,
    "start_time": "2024-05-17T07:10:14.681Z"
   },
   {
    "duration": 12,
    "start_time": "2024-05-17T07:10:32.604Z"
   },
   {
    "duration": 6,
    "start_time": "2024-05-17T07:13:03.386Z"
   },
   {
    "duration": 7,
    "start_time": "2024-05-17T07:13:17.611Z"
   },
   {
    "duration": 4,
    "start_time": "2024-05-17T07:13:39.976Z"
   },
   {
    "duration": 18,
    "start_time": "2024-05-17T07:13:49.083Z"
   },
   {
    "duration": 6,
    "start_time": "2024-05-17T07:14:02.216Z"
   },
   {
    "duration": 11,
    "start_time": "2024-05-17T07:15:05.789Z"
   },
   {
    "duration": 13,
    "start_time": "2024-05-17T07:15:10.392Z"
   },
   {
    "duration": 272,
    "start_time": "2024-05-17T07:15:15.122Z"
   },
   {
    "duration": 60,
    "start_time": "2024-05-17T07:16:55.453Z"
   },
   {
    "duration": 6,
    "start_time": "2024-05-17T07:16:56.565Z"
   },
   {
    "duration": 17,
    "start_time": "2024-05-17T07:16:59.269Z"
   },
   {
    "duration": 16,
    "start_time": "2024-05-17T07:17:02.412Z"
   },
   {
    "duration": 6,
    "start_time": "2024-05-17T07:18:11.988Z"
   },
   {
    "duration": 10,
    "start_time": "2024-05-17T07:18:15.911Z"
   },
   {
    "duration": 5,
    "start_time": "2024-05-17T07:18:35.275Z"
   },
   {
    "duration": 20,
    "start_time": "2024-05-17T07:18:36.354Z"
   },
   {
    "duration": 108,
    "start_time": "2024-05-17T07:35:09.851Z"
   },
   {
    "duration": 4570,
    "start_time": "2024-05-17T07:38:30.956Z"
   },
   {
    "duration": 1787,
    "start_time": "2024-05-17T07:38:35.528Z"
   },
   {
    "duration": 3,
    "start_time": "2024-05-17T07:38:39.165Z"
   },
   {
    "duration": 146,
    "start_time": "2024-05-17T07:38:39.677Z"
   },
   {
    "duration": 14,
    "start_time": "2024-05-17T07:38:41.777Z"
   },
   {
    "duration": 16,
    "start_time": "2024-05-17T07:38:42.633Z"
   },
   {
    "duration": 19,
    "start_time": "2024-05-17T07:38:50.627Z"
   },
   {
    "duration": 7,
    "start_time": "2024-05-17T07:38:51.320Z"
   },
   {
    "duration": 5,
    "start_time": "2024-05-17T07:38:54.542Z"
   },
   {
    "duration": 6,
    "start_time": "2024-05-17T07:38:55.673Z"
   },
   {
    "duration": 8,
    "start_time": "2024-05-17T07:39:00.343Z"
   },
   {
    "duration": 11,
    "start_time": "2024-05-17T07:39:04.663Z"
   },
   {
    "duration": 32,
    "start_time": "2024-05-17T07:39:06.131Z"
   },
   {
    "duration": 6,
    "start_time": "2024-05-17T07:39:07.644Z"
   },
   {
    "duration": 21,
    "start_time": "2024-05-17T07:39:11.018Z"
   },
   {
    "duration": 13,
    "start_time": "2024-05-17T07:39:12.604Z"
   },
   {
    "duration": 12,
    "start_time": "2024-05-17T07:39:13.114Z"
   },
   {
    "duration": 8,
    "start_time": "2024-05-17T07:39:14.085Z"
   },
   {
    "duration": 12,
    "start_time": "2024-05-17T07:39:14.491Z"
   },
   {
    "duration": 28,
    "start_time": "2024-05-17T07:39:15.082Z"
   },
   {
    "duration": 9,
    "start_time": "2024-05-17T07:39:15.481Z"
   },
   {
    "duration": 9,
    "start_time": "2024-05-17T07:39:15.992Z"
   },
   {
    "duration": 15,
    "start_time": "2024-05-17T07:39:16.266Z"
   },
   {
    "duration": 4,
    "start_time": "2024-05-17T07:39:17.997Z"
   },
   {
    "duration": 5,
    "start_time": "2024-05-17T07:39:18.369Z"
   },
   {
    "duration": 7,
    "start_time": "2024-05-17T07:39:18.981Z"
   },
   {
    "duration": 5,
    "start_time": "2024-05-17T07:39:24.528Z"
   },
   {
    "duration": 5,
    "start_time": "2024-05-17T07:39:25.154Z"
   },
   {
    "duration": 12260,
    "start_time": "2024-05-17T07:39:25.926Z"
   },
   {
    "duration": 12,
    "start_time": "2024-05-17T07:39:38.188Z"
   },
   {
    "duration": 11,
    "start_time": "2024-05-17T07:39:38.201Z"
   },
   {
    "duration": 12,
    "start_time": "2024-05-17T07:39:38.215Z"
   },
   {
    "duration": 4,
    "start_time": "2024-05-17T07:39:38.229Z"
   },
   {
    "duration": 34,
    "start_time": "2024-05-17T07:39:38.234Z"
   },
   {
    "duration": 16,
    "start_time": "2024-05-17T07:39:38.270Z"
   },
   {
    "duration": 28,
    "start_time": "2024-05-17T07:39:38.288Z"
   },
   {
    "duration": 17,
    "start_time": "2024-05-17T07:39:44.809Z"
   },
   {
    "duration": 3,
    "start_time": "2024-05-17T07:39:45.210Z"
   },
   {
    "duration": 4,
    "start_time": "2024-05-17T07:39:45.766Z"
   },
   {
    "duration": 84,
    "start_time": "2024-05-17T07:39:46.403Z"
   },
   {
    "duration": 14,
    "start_time": "2024-05-17T07:39:47.909Z"
   },
   {
    "duration": 15,
    "start_time": "2024-05-17T07:39:48.896Z"
   },
   {
    "duration": 3,
    "start_time": "2024-05-17T07:39:50.200Z"
   },
   {
    "duration": 28,
    "start_time": "2024-05-17T07:40:01.293Z"
   },
   {
    "duration": 5,
    "start_time": "2024-05-17T07:40:32.823Z"
   },
   {
    "duration": 16,
    "start_time": "2024-05-17T07:40:35.675Z"
   },
   {
    "duration": 15,
    "start_time": "2024-05-17T07:40:43.560Z"
   },
   {
    "duration": 313,
    "start_time": "2024-05-17T07:40:45.155Z"
   },
   {
    "duration": 236,
    "start_time": "2024-05-17T07:40:50.003Z"
   },
   {
    "duration": 600,
    "start_time": "2024-05-17T07:43:50.353Z"
   },
   {
    "duration": 619,
    "start_time": "2024-05-17T07:44:20.517Z"
   },
   {
    "duration": 11,
    "start_time": "2024-05-17T07:45:45.393Z"
   },
   {
    "duration": 129,
    "start_time": "2024-05-17T07:45:46.743Z"
   },
   {
    "duration": 7,
    "start_time": "2024-05-17T07:45:50.161Z"
   },
   {
    "duration": 5,
    "start_time": "2024-05-17T07:45:54.058Z"
   },
   {
    "duration": 8,
    "start_time": "2024-05-17T07:45:55.645Z"
   },
   {
    "duration": 121,
    "start_time": "2024-05-17T07:45:56.037Z"
   },
   {
    "duration": 12,
    "start_time": "2024-05-17T07:45:57.418Z"
   },
   {
    "duration": 6,
    "start_time": "2024-05-17T07:45:57.620Z"
   },
   {
    "duration": 5,
    "start_time": "2024-05-17T07:45:57.858Z"
   },
   {
    "duration": 19,
    "start_time": "2024-05-17T07:45:58.617Z"
   },
   {
    "duration": 12,
    "start_time": "2024-05-17T07:46:05.590Z"
   },
   {
    "duration": 5,
    "start_time": "2024-05-17T07:46:29.924Z"
   },
   {
    "duration": 10,
    "start_time": "2024-05-17T07:46:33.017Z"
   },
   {
    "duration": 17,
    "start_time": "2024-05-17T07:46:34.345Z"
   },
   {
    "duration": 181,
    "start_time": "2024-05-17T07:46:35.055Z"
   },
   {
    "duration": 198,
    "start_time": "2024-05-17T07:46:36.383Z"
   },
   {
    "duration": 56,
    "start_time": "2024-05-17T07:47:43.109Z"
   },
   {
    "duration": 6,
    "start_time": "2024-05-17T07:47:47.695Z"
   },
   {
    "duration": 23,
    "start_time": "2024-05-17T07:48:18.327Z"
   },
   {
    "duration": 20,
    "start_time": "2024-05-17T07:48:19.849Z"
   },
   {
    "duration": 26,
    "start_time": "2024-05-17T07:48:23.205Z"
   },
   {
    "duration": 17,
    "start_time": "2024-05-17T07:48:23.733Z"
   },
   {
    "duration": 11,
    "start_time": "2024-05-17T07:48:26.580Z"
   },
   {
    "duration": 11,
    "start_time": "2024-05-17T07:48:28.115Z"
   },
   {
    "duration": 18,
    "start_time": "2024-05-17T07:48:30.600Z"
   },
   {
    "duration": 12,
    "start_time": "2024-05-17T07:48:38.162Z"
   },
   {
    "duration": 37,
    "start_time": "2024-05-17T07:48:43.297Z"
   },
   {
    "duration": 47,
    "start_time": "2024-05-17T07:48:44.817Z"
   },
   {
    "duration": 11,
    "start_time": "2024-05-17T07:48:46.435Z"
   },
   {
    "duration": 15,
    "start_time": "2024-05-17T07:48:49.832Z"
   },
   {
    "duration": 19,
    "start_time": "2024-05-17T07:48:50.613Z"
   },
   {
    "duration": 8,
    "start_time": "2024-05-17T07:48:52.564Z"
   },
   {
    "duration": 13,
    "start_time": "2024-05-17T07:48:53.705Z"
   },
   {
    "duration": 163,
    "start_time": "2024-05-17T07:49:21.348Z"
   },
   {
    "duration": 78,
    "start_time": "2024-05-17T07:49:22.592Z"
   },
   {
    "duration": 6,
    "start_time": "2024-05-17T07:49:27.511Z"
   },
   {
    "duration": 177,
    "start_time": "2024-05-17T07:49:28.304Z"
   },
   {
    "duration": 8,
    "start_time": "2024-05-17T07:49:29.617Z"
   },
   {
    "duration": 6,
    "start_time": "2024-05-17T07:49:31.005Z"
   },
   {
    "duration": 184,
    "start_time": "2024-05-17T07:49:31.751Z"
   },
   {
    "duration": 14,
    "start_time": "2024-05-17T07:49:33.083Z"
   },
   {
    "duration": 11,
    "start_time": "2024-05-17T07:49:34.830Z"
   },
   {
    "duration": 151,
    "start_time": "2024-05-17T07:50:12.072Z"
   },
   {
    "duration": 20,
    "start_time": "2024-05-17T07:50:47.590Z"
   },
   {
    "duration": 6,
    "start_time": "2024-05-17T07:50:48.104Z"
   },
   {
    "duration": 261,
    "start_time": "2024-05-17T07:50:51.780Z"
   },
   {
    "duration": 7,
    "start_time": "2024-05-17T07:50:52.271Z"
   },
   {
    "duration": 143,
    "start_time": "2024-05-17T07:50:54.377Z"
   },
   {
    "duration": 7,
    "start_time": "2024-05-17T07:50:55.697Z"
   },
   {
    "duration": 12,
    "start_time": "2024-05-17T07:50:56.830Z"
   },
   {
    "duration": 11,
    "start_time": "2024-05-17T07:50:57.177Z"
   },
   {
    "duration": 12,
    "start_time": "2024-05-17T07:50:57.347Z"
   },
   {
    "duration": 8,
    "start_time": "2024-05-17T07:50:58.454Z"
   },
   {
    "duration": 5,
    "start_time": "2024-05-17T07:50:58.983Z"
   },
   {
    "duration": 54,
    "start_time": "2024-05-17T07:50:59.717Z"
   },
   {
    "duration": 1582,
    "start_time": "2024-05-17T07:51:03.476Z"
   },
   {
    "duration": 10,
    "start_time": "2024-05-17T07:51:19.144Z"
   },
   {
    "duration": 150,
    "start_time": "2024-05-17T07:51:20.205Z"
   },
   {
    "duration": 62986,
    "start_time": "2024-05-17T07:51:21.418Z"
   },
   {
    "duration": 131,
    "start_time": "2024-05-17T07:52:46.867Z"
   },
   {
    "duration": 16,
    "start_time": "2024-05-17T07:53:55.035Z"
   },
   {
    "duration": 183,
    "start_time": "2024-05-17T07:54:28.890Z"
   },
   {
    "duration": 166,
    "start_time": "2024-05-17T07:54:40.467Z"
   },
   {
    "duration": 7,
    "start_time": "2024-05-17T07:54:52.390Z"
   },
   {
    "duration": 18,
    "start_time": "2024-05-17T07:56:26.315Z"
   },
   {
    "duration": 8,
    "start_time": "2024-05-17T07:57:17.036Z"
   },
   {
    "duration": 9,
    "start_time": "2024-05-17T07:57:17.709Z"
   },
   {
    "duration": 4,
    "start_time": "2024-05-17T07:57:18.893Z"
   },
   {
    "duration": 6,
    "start_time": "2024-05-17T07:57:19.323Z"
   },
   {
    "duration": 4,
    "start_time": "2024-05-17T07:57:20.012Z"
   },
   {
    "duration": 4,
    "start_time": "2024-05-17T07:57:20.800Z"
   },
   {
    "duration": 8,
    "start_time": "2024-05-17T07:57:21.260Z"
   },
   {
    "duration": 5,
    "start_time": "2024-05-17T07:57:21.574Z"
   },
   {
    "duration": 6,
    "start_time": "2024-05-17T07:57:21.727Z"
   },
   {
    "duration": 199,
    "start_time": "2024-05-17T07:58:10.027Z"
   },
   {
    "duration": 210,
    "start_time": "2024-05-17T07:58:29.495Z"
   },
   {
    "duration": 204,
    "start_time": "2024-05-17T07:58:34.302Z"
   },
   {
    "duration": 7,
    "start_time": "2024-05-17T07:59:46.309Z"
   },
   {
    "duration": 10,
    "start_time": "2024-05-17T08:00:10.085Z"
   },
   {
    "duration": 15,
    "start_time": "2024-05-17T08:00:22.019Z"
   },
   {
    "duration": 26,
    "start_time": "2024-05-17T08:00:29.772Z"
   },
   {
    "duration": 162,
    "start_time": "2024-05-17T08:01:24.063Z"
   },
   {
    "duration": 521,
    "start_time": "2024-05-17T08:01:31.916Z"
   },
   {
    "duration": 11,
    "start_time": "2024-05-17T08:05:53.880Z"
   },
   {
    "duration": 23,
    "start_time": "2024-05-17T08:06:00.422Z"
   },
   {
    "duration": 9,
    "start_time": "2024-05-17T08:06:51.949Z"
   },
   {
    "duration": 10,
    "start_time": "2024-05-17T08:07:01.000Z"
   },
   {
    "duration": 5507,
    "start_time": "2024-05-17T18:46:01.508Z"
   },
   {
    "duration": 4093,
    "start_time": "2024-05-17T18:46:07.018Z"
   },
   {
    "duration": 3,
    "start_time": "2024-05-17T18:46:11.113Z"
   },
   {
    "duration": 188,
    "start_time": "2024-05-17T18:46:11.118Z"
   },
   {
    "duration": 14,
    "start_time": "2024-05-17T18:46:11.307Z"
   },
   {
    "duration": 74,
    "start_time": "2024-05-17T18:46:11.322Z"
   },
   {
    "duration": 38,
    "start_time": "2024-05-17T18:46:11.398Z"
   },
   {
    "duration": 41,
    "start_time": "2024-05-17T18:46:11.437Z"
   },
   {
    "duration": 31,
    "start_time": "2024-05-17T18:46:11.480Z"
   },
   {
    "duration": 44,
    "start_time": "2024-05-17T18:46:11.514Z"
   },
   {
    "duration": 58,
    "start_time": "2024-05-17T18:46:11.560Z"
   },
   {
    "duration": 33,
    "start_time": "2024-05-17T18:46:11.620Z"
   },
   {
    "duration": 56,
    "start_time": "2024-05-17T18:46:11.654Z"
   },
   {
    "duration": 15,
    "start_time": "2024-05-17T18:46:11.711Z"
   },
   {
    "duration": 60,
    "start_time": "2024-05-17T18:46:11.727Z"
   },
   {
    "duration": 16,
    "start_time": "2024-05-17T18:46:11.789Z"
   },
   {
    "duration": 59,
    "start_time": "2024-05-17T18:46:11.807Z"
   },
   {
    "duration": 31,
    "start_time": "2024-05-17T18:46:11.868Z"
   },
   {
    "duration": 20,
    "start_time": "2024-05-17T18:46:11.900Z"
   },
   {
    "duration": 38,
    "start_time": "2024-05-17T18:46:11.922Z"
   },
   {
    "duration": 8,
    "start_time": "2024-05-17T18:46:11.962Z"
   },
   {
    "duration": 38,
    "start_time": "2024-05-17T18:46:11.972Z"
   },
   {
    "duration": 37,
    "start_time": "2024-05-17T18:46:12.012Z"
   },
   {
    "duration": 38,
    "start_time": "2024-05-17T18:46:12.051Z"
   },
   {
    "duration": 44,
    "start_time": "2024-05-17T18:46:12.090Z"
   },
   {
    "duration": 39,
    "start_time": "2024-05-17T18:46:12.136Z"
   },
   {
    "duration": 21,
    "start_time": "2024-05-17T18:46:12.177Z"
   },
   {
    "duration": 39,
    "start_time": "2024-05-17T18:46:12.203Z"
   },
   {
    "duration": 13876,
    "start_time": "2024-05-17T18:46:12.244Z"
   },
   {
    "duration": 18,
    "start_time": "2024-05-17T18:46:26.122Z"
   },
   {
    "duration": 36,
    "start_time": "2024-05-17T18:46:26.142Z"
   },
   {
    "duration": 21,
    "start_time": "2024-05-17T18:46:26.180Z"
   },
   {
    "duration": 7,
    "start_time": "2024-05-17T18:46:26.203Z"
   },
   {
    "duration": 23,
    "start_time": "2024-05-17T18:46:26.212Z"
   },
   {
    "duration": 36,
    "start_time": "2024-05-17T18:46:26.237Z"
   },
   {
    "duration": 27,
    "start_time": "2024-05-17T18:46:26.275Z"
   },
   {
    "duration": 25,
    "start_time": "2024-05-17T18:46:26.304Z"
   },
   {
    "duration": 7,
    "start_time": "2024-05-17T18:46:26.331Z"
   },
   {
    "duration": 9,
    "start_time": "2024-05-17T18:46:26.340Z"
   },
   {
    "duration": 104,
    "start_time": "2024-05-17T18:46:26.350Z"
   },
   {
    "duration": 15,
    "start_time": "2024-05-17T18:46:26.456Z"
   },
   {
    "duration": 16,
    "start_time": "2024-05-17T18:46:26.473Z"
   },
   {
    "duration": 7,
    "start_time": "2024-05-17T18:46:26.491Z"
   },
   {
    "duration": 39,
    "start_time": "2024-05-17T18:46:26.500Z"
   },
   {
    "duration": 640,
    "start_time": "2024-05-17T18:46:26.541Z"
   },
   {
    "duration": 8,
    "start_time": "2024-05-17T18:46:27.182Z"
   },
   {
    "duration": 129,
    "start_time": "2024-05-17T18:46:27.191Z"
   },
   {
    "duration": 6,
    "start_time": "2024-05-17T18:46:27.328Z"
   },
   {
    "duration": 5,
    "start_time": "2024-05-17T18:46:27.336Z"
   },
   {
    "duration": 12,
    "start_time": "2024-05-17T18:46:27.342Z"
   },
   {
    "duration": 135,
    "start_time": "2024-05-17T18:46:27.356Z"
   },
   {
    "duration": 13,
    "start_time": "2024-05-17T18:46:27.493Z"
   },
   {
    "duration": 23,
    "start_time": "2024-05-17T18:46:27.507Z"
   },
   {
    "duration": 6,
    "start_time": "2024-05-17T18:46:27.532Z"
   },
   {
    "duration": 30,
    "start_time": "2024-05-17T18:46:27.541Z"
   },
   {
    "duration": 9,
    "start_time": "2024-05-17T18:46:27.573Z"
   },
   {
    "duration": 14,
    "start_time": "2024-05-17T18:46:27.584Z"
   },
   {
    "duration": 31,
    "start_time": "2024-05-17T18:46:27.600Z"
   },
   {
    "duration": 365,
    "start_time": "2024-05-17T18:46:27.632Z"
   },
   {
    "duration": 64,
    "start_time": "2024-05-17T18:46:27.999Z"
   },
   {
    "duration": 6,
    "start_time": "2024-05-17T18:46:28.064Z"
   },
   {
    "duration": 37,
    "start_time": "2024-05-17T18:46:28.072Z"
   },
   {
    "duration": 20,
    "start_time": "2024-05-17T18:46:28.110Z"
   },
   {
    "duration": 18,
    "start_time": "2024-05-17T18:46:28.132Z"
   },
   {
    "duration": 12,
    "start_time": "2024-05-17T18:46:28.151Z"
   },
   {
    "duration": 14,
    "start_time": "2024-05-17T18:46:28.165Z"
   },
   {
    "duration": 10,
    "start_time": "2024-05-17T18:46:28.181Z"
   },
   {
    "duration": 41,
    "start_time": "2024-05-17T18:46:28.193Z"
   },
   {
    "duration": 14,
    "start_time": "2024-05-17T18:46:28.236Z"
   },
   {
    "duration": 44,
    "start_time": "2024-05-17T18:46:28.252Z"
   },
   {
    "duration": 68,
    "start_time": "2024-05-17T18:46:28.298Z"
   },
   {
    "duration": 11,
    "start_time": "2024-05-17T18:46:28.368Z"
   },
   {
    "duration": 32,
    "start_time": "2024-05-17T18:46:28.381Z"
   },
   {
    "duration": 17,
    "start_time": "2024-05-17T18:46:28.415Z"
   },
   {
    "duration": 24,
    "start_time": "2024-05-17T18:46:28.434Z"
   },
   {
    "duration": 25,
    "start_time": "2024-05-17T18:46:28.460Z"
   },
   {
    "duration": 183,
    "start_time": "2024-05-17T18:46:28.487Z"
   },
   {
    "duration": 73,
    "start_time": "2024-05-17T18:46:28.672Z"
   },
   {
    "duration": 6,
    "start_time": "2024-05-17T18:46:28.747Z"
   },
   {
    "duration": 206,
    "start_time": "2024-05-17T18:46:28.754Z"
   },
   {
    "duration": 7,
    "start_time": "2024-05-17T18:46:28.962Z"
   },
   {
    "duration": 15,
    "start_time": "2024-05-17T18:46:28.975Z"
   },
   {
    "duration": 165,
    "start_time": "2024-05-17T18:46:28.991Z"
   },
   {
    "duration": 160,
    "start_time": "2024-05-17T18:46:29.158Z"
   },
   {
    "duration": 164,
    "start_time": "2024-05-17T18:46:29.320Z"
   },
   {
    "duration": 0,
    "start_time": "2024-05-17T18:46:29.486Z"
   },
   {
    "duration": 0,
    "start_time": "2024-05-17T18:46:29.487Z"
   },
   {
    "duration": 0,
    "start_time": "2024-05-17T18:46:29.489Z"
   },
   {
    "duration": 0,
    "start_time": "2024-05-17T18:46:29.490Z"
   },
   {
    "duration": 0,
    "start_time": "2024-05-17T18:46:29.492Z"
   },
   {
    "duration": 0,
    "start_time": "2024-05-17T18:46:29.494Z"
   },
   {
    "duration": 0,
    "start_time": "2024-05-17T18:46:29.495Z"
   },
   {
    "duration": 0,
    "start_time": "2024-05-17T18:46:29.497Z"
   },
   {
    "duration": 0,
    "start_time": "2024-05-17T18:46:29.498Z"
   },
   {
    "duration": 0,
    "start_time": "2024-05-17T18:46:29.499Z"
   },
   {
    "duration": 0,
    "start_time": "2024-05-17T18:46:29.501Z"
   },
   {
    "duration": 0,
    "start_time": "2024-05-17T18:46:29.530Z"
   },
   {
    "duration": 0,
    "start_time": "2024-05-17T18:46:29.532Z"
   },
   {
    "duration": 0,
    "start_time": "2024-05-17T18:46:29.534Z"
   },
   {
    "duration": 1,
    "start_time": "2024-05-17T18:46:29.535Z"
   },
   {
    "duration": 0,
    "start_time": "2024-05-17T18:46:29.537Z"
   },
   {
    "duration": 0,
    "start_time": "2024-05-17T18:46:29.538Z"
   },
   {
    "duration": 0,
    "start_time": "2024-05-17T18:46:29.539Z"
   },
   {
    "duration": 0,
    "start_time": "2024-05-17T18:46:29.541Z"
   },
   {
    "duration": 0,
    "start_time": "2024-05-17T18:46:29.542Z"
   },
   {
    "duration": 0,
    "start_time": "2024-05-17T18:46:29.543Z"
   },
   {
    "duration": 0,
    "start_time": "2024-05-17T18:46:29.544Z"
   },
   {
    "duration": 0,
    "start_time": "2024-05-17T18:46:29.545Z"
   },
   {
    "duration": 76,
    "start_time": "2024-05-17T18:48:29.124Z"
   },
   {
    "duration": 5535,
    "start_time": "2024-05-18T07:33:15.514Z"
   },
   {
    "duration": 2394,
    "start_time": "2024-05-18T07:33:21.051Z"
   },
   {
    "duration": 4,
    "start_time": "2024-05-18T07:33:23.447Z"
   },
   {
    "duration": 230,
    "start_time": "2024-05-18T07:33:23.453Z"
   },
   {
    "duration": 12,
    "start_time": "2024-05-18T07:33:23.685Z"
   },
   {
    "duration": 30,
    "start_time": "2024-05-18T07:33:23.699Z"
   },
   {
    "duration": 15,
    "start_time": "2024-05-18T07:34:40.483Z"
   },
   {
    "duration": 6,
    "start_time": "2024-05-18T07:35:48.294Z"
   },
   {
    "duration": 4,
    "start_time": "2024-05-18T07:35:49.337Z"
   },
   {
    "duration": 6,
    "start_time": "2024-05-18T07:35:49.965Z"
   },
   {
    "duration": 6,
    "start_time": "2024-05-18T07:35:51.083Z"
   },
   {
    "duration": 10,
    "start_time": "2024-05-18T07:35:51.718Z"
   },
   {
    "duration": 33,
    "start_time": "2024-05-18T07:35:52.047Z"
   },
   {
    "duration": 6,
    "start_time": "2024-05-18T07:35:52.510Z"
   },
   {
    "duration": 19,
    "start_time": "2024-05-18T07:35:52.820Z"
   },
   {
    "duration": 9,
    "start_time": "2024-05-18T07:35:53.146Z"
   },
   {
    "duration": 8,
    "start_time": "2024-05-18T07:35:53.304Z"
   },
   {
    "duration": 8,
    "start_time": "2024-05-18T07:35:53.816Z"
   },
   {
    "duration": 12,
    "start_time": "2024-05-18T07:35:54.143Z"
   },
   {
    "duration": 19,
    "start_time": "2024-05-18T07:35:54.466Z"
   },
   {
    "duration": 7,
    "start_time": "2024-05-18T07:35:54.638Z"
   },
   {
    "duration": 6,
    "start_time": "2024-05-18T07:35:55.637Z"
   },
   {
    "duration": 15,
    "start_time": "2024-05-18T07:35:56.087Z"
   },
   {
    "duration": 5,
    "start_time": "2024-05-18T07:35:57.662Z"
   },
   {
    "duration": 4,
    "start_time": "2024-05-18T07:35:58.213Z"
   },
   {
    "duration": 5,
    "start_time": "2024-05-18T07:35:58.604Z"
   },
   {
    "duration": 5,
    "start_time": "2024-05-18T07:36:01.250Z"
   },
   {
    "duration": 6,
    "start_time": "2024-05-18T07:36:01.471Z"
   },
   {
    "duration": 12442,
    "start_time": "2024-05-18T07:36:01.695Z"
   },
   {
    "duration": 12,
    "start_time": "2024-05-18T07:36:14.139Z"
   },
   {
    "duration": 97,
    "start_time": "2024-05-18T07:36:14.152Z"
   },
   {
    "duration": 26,
    "start_time": "2024-05-18T07:36:14.252Z"
   },
   {
    "duration": 5,
    "start_time": "2024-05-18T07:36:14.280Z"
   },
   {
    "duration": 28,
    "start_time": "2024-05-18T07:36:14.287Z"
   },
   {
    "duration": 12,
    "start_time": "2024-05-18T07:36:14.317Z"
   },
   {
    "duration": 18,
    "start_time": "2024-05-18T07:36:14.331Z"
   },
   {
    "duration": 18,
    "start_time": "2024-05-18T07:36:14.351Z"
   },
   {
    "duration": 14,
    "start_time": "2024-05-18T07:36:14.371Z"
   },
   {
    "duration": 8,
    "start_time": "2024-05-18T07:36:14.387Z"
   },
   {
    "duration": 96,
    "start_time": "2024-05-18T07:36:14.397Z"
   },
   {
    "duration": 14,
    "start_time": "2024-05-18T07:36:14.495Z"
   },
   {
    "duration": 13,
    "start_time": "2024-05-18T07:36:21.113Z"
   },
   {
    "duration": 4,
    "start_time": "2024-05-18T07:36:22.811Z"
   },
   {
    "duration": 19,
    "start_time": "2024-05-18T07:36:25.498Z"
   },
   {
    "duration": 631,
    "start_time": "2024-05-18T07:36:26.641Z"
   },
   {
    "duration": 7,
    "start_time": "2024-05-18T07:36:30.923Z"
   },
   {
    "duration": 117,
    "start_time": "2024-05-18T07:36:31.817Z"
   },
   {
    "duration": 6,
    "start_time": "2024-05-18T07:36:34.651Z"
   },
   {
    "duration": 5,
    "start_time": "2024-05-18T07:36:35.391Z"
   },
   {
    "duration": 8,
    "start_time": "2024-05-18T07:36:38.042Z"
   },
   {
    "duration": 195,
    "start_time": "2024-05-18T07:36:39.083Z"
   },
   {
    "duration": 12,
    "start_time": "2024-05-18T07:36:44.478Z"
   },
   {
    "duration": 21,
    "start_time": "2024-05-18T07:36:50.066Z"
   },
   {
    "duration": 5,
    "start_time": "2024-05-18T07:36:52.802Z"
   },
   {
    "duration": 11,
    "start_time": "2024-05-18T07:36:53.355Z"
   },
   {
    "duration": 13,
    "start_time": "2024-05-18T07:36:53.735Z"
   },
   {
    "duration": 260,
    "start_time": "2024-05-18T07:36:53.939Z"
   },
   {
    "duration": 54,
    "start_time": "2024-05-18T07:36:54.744Z"
   },
   {
    "duration": 6,
    "start_time": "2024-05-18T07:36:54.898Z"
   },
   {
    "duration": 17,
    "start_time": "2024-05-18T07:36:55.532Z"
   },
   {
    "duration": 16,
    "start_time": "2024-05-18T07:36:55.856Z"
   },
   {
    "duration": 16,
    "start_time": "2024-05-18T07:36:56.164Z"
   },
   {
    "duration": 14,
    "start_time": "2024-05-18T07:36:56.304Z"
   },
   {
    "duration": 9,
    "start_time": "2024-05-18T07:36:56.631Z"
   },
   {
    "duration": 9,
    "start_time": "2024-05-18T07:36:56.923Z"
   },
   {
    "duration": 28,
    "start_time": "2024-05-18T07:36:57.245Z"
   },
   {
    "duration": 17,
    "start_time": "2024-05-18T07:36:57.392Z"
   },
   {
    "duration": 35,
    "start_time": "2024-05-18T07:36:57.992Z"
   },
   {
    "duration": 44,
    "start_time": "2024-05-18T07:36:58.304Z"
   },
   {
    "duration": 12,
    "start_time": "2024-05-18T07:36:58.619Z"
   },
   {
    "duration": 11,
    "start_time": "2024-05-18T07:36:58.770Z"
   },
   {
    "duration": 15,
    "start_time": "2024-05-18T07:36:58.928Z"
   },
   {
    "duration": 8,
    "start_time": "2024-05-18T07:36:59.258Z"
   },
   {
    "duration": 13,
    "start_time": "2024-05-18T07:36:59.411Z"
   },
   {
    "duration": 12,
    "start_time": "2024-05-18T07:36:59.721Z"
   },
   {
    "duration": 6,
    "start_time": "2024-05-18T07:37:06.607Z"
   },
   {
    "duration": 172,
    "start_time": "2024-05-18T07:37:07.721Z"
   },
   {
    "duration": 7,
    "start_time": "2024-05-18T07:37:08.041Z"
   },
   {
    "duration": 5,
    "start_time": "2024-05-18T07:37:09.045Z"
   },
   {
    "duration": 156,
    "start_time": "2024-05-18T07:37:09.948Z"
   },
   {
    "duration": 137,
    "start_time": "2024-05-18T07:37:19.494Z"
   },
   {
    "duration": 137,
    "start_time": "2024-05-18T07:37:20.439Z"
   },
   {
    "duration": 10,
    "start_time": "2024-05-18T07:37:36.051Z"
   },
   {
    "duration": 20,
    "start_time": "2024-05-18T07:37:41.944Z"
   },
   {
    "duration": 7,
    "start_time": "2024-05-18T07:37:42.744Z"
   },
   {
    "duration": 145,
    "start_time": "2024-05-18T07:37:45.298Z"
   },
   {
    "duration": 8,
    "start_time": "2024-05-18T07:37:45.554Z"
   },
   {
    "duration": 134,
    "start_time": "2024-05-18T07:37:46.086Z"
   },
   {
    "duration": 8,
    "start_time": "2024-05-18T07:37:46.861Z"
   },
   {
    "duration": 13,
    "start_time": "2024-05-18T07:37:47.253Z"
   },
   {
    "duration": 11,
    "start_time": "2024-05-18T07:37:47.882Z"
   },
   {
    "duration": 12,
    "start_time": "2024-05-18T07:37:48.070Z"
   },
   {
    "duration": 7,
    "start_time": "2024-05-18T07:37:48.451Z"
   },
   {
    "duration": 4,
    "start_time": "2024-05-18T07:37:48.824Z"
   },
   {
    "duration": 39,
    "start_time": "2024-05-18T07:37:49.153Z"
   },
   {
    "duration": 1668,
    "start_time": "2024-05-18T07:37:49.674Z"
   },
   {
    "duration": 8,
    "start_time": "2024-05-18T07:37:51.344Z"
   },
   {
    "duration": 12,
    "start_time": "2024-05-18T07:37:51.353Z"
   },
   {
    "duration": 10,
    "start_time": "2024-05-18T07:37:51.366Z"
   },
   {
    "duration": 25,
    "start_time": "2024-05-18T07:37:51.377Z"
   },
   {
    "duration": 22,
    "start_time": "2024-05-18T07:37:51.403Z"
   },
   {
    "duration": 5,
    "start_time": "2024-05-18T07:37:51.427Z"
   },
   {
    "duration": 7,
    "start_time": "2024-05-18T07:37:51.527Z"
   },
   {
    "duration": 3,
    "start_time": "2024-05-18T07:37:51.866Z"
   },
   {
    "duration": 4,
    "start_time": "2024-05-18T07:37:52.041Z"
   }
  ],
  "kernelspec": {
   "display_name": "Python 3 (ipykernel)",
   "language": "python",
   "name": "python3"
  },
  "language_info": {
   "codemirror_mode": {
    "name": "ipython",
    "version": 3
   },
   "file_extension": ".py",
   "mimetype": "text/x-python",
   "name": "python",
   "nbconvert_exporter": "python",
   "pygments_lexer": "ipython3",
   "version": "3.9.5"
  },
  "toc": {
   "base_numbering": 1,
   "nav_menu": {},
   "number_sections": false,
   "sideBar": true,
   "skip_h1_title": true,
   "title_cell": "Table of Contents",
   "title_sidebar": "Contents",
   "toc_cell": false,
   "toc_position": {},
   "toc_section_display": true,
   "toc_window_display": false
  }
 },
 "nbformat": 4,
 "nbformat_minor": 2
}
