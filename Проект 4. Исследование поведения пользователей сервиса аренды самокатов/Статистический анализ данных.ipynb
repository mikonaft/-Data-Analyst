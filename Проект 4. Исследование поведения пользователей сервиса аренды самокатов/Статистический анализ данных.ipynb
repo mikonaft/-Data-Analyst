{
 "cells": [
  {
   "cell_type": "markdown",
   "id": "90fe9a1f",
   "metadata": {},
   "source": [
    "## Статистический анализ данных "
   ]
  },
  {
   "cell_type": "markdown",
   "id": "82306608",
   "metadata": {},
   "source": [
    "**Заказчик**\n",
    "\n",
    "Сервис аренды самокатов \"GoFast\""
   ]
  },
  {
   "cell_type": "markdown",
   "id": "de1e083b",
   "metadata": {},
   "source": [
    "**Входные данные**\n",
    "\n",
    "Вам передали данные о некоторых пользователях из нескольких городов, а также об их поездках. \n",
    "Проанализируйте данные и проверьте некоторые гипотезы, которые могут помочь бизнесу вырасти.\n",
    "Чтобы совершать поездки по городу, пользователи сервиса GoFast пользуются мобильным приложением. Сервисом можно пользоваться:\n",
    "- **без подписки:**\n",
    "    - абонентская плата отсутствует;\n",
    "    - стоимость одной минуты поездки — 8 рублей;\n",
    "    - стоимость старта (начала поездки) — 50 рублей;\n",
    "- **с подпиской Ultra:**\n",
    "     - абонентская плата — 199 рублей в месяц;\n",
    "     - стоимость одной минуты поездки — 6 рублей;\n",
    "     - стоимость старта — бесплатно.\n"
   ]
  },
  {
   "cell_type": "markdown",
   "id": "c123caad",
   "metadata": {},
   "source": [
    "**Описание данных**\n",
    "\n",
    "В основных `данных` есть информация о пользователях, их поездках и подписках."
   ]
  },
  {
   "cell_type": "markdown",
   "id": "c8d29661",
   "metadata": {},
   "source": [
    "**Пользователи**\n",
    "\n",
    "- `user_id`- уникальный идентификатор пользователя;\n",
    "- `name` - имя пользователя\n",
    "- `age` - возраст\n",
    "- `city` - город\n",
    "- `subscription_type` - тип подписки (free, ultra)\n",
    "\n",
    "**Поездки**\n",
    "\n",
    "- `user_id` - уникальный идентификатор пользователя\n",
    "- `distance` - расстояние, которое пользователь проехал в текущей сессии (в метрах)\n",
    "- `duration` - продолжительность сессии (в минутах) — время с того момента, как пользователь нажал кнопку «Начать поездку» до момента, как он нажал кнопку «Завершить поездку»\n",
    "- `date` - дата совершения поездки\n",
    "\n",
    "**Подписки**\n",
    "\n",
    "- `subscription_type` - тип подписки\n",
    "- `minute_price` - стоимость одной минуты поездки по данной подписке\n",
    "- `start_ride_price` - стоимость начала поездки\n",
    "- `subscription_fee` - стоимость ежемесячного платежа"
   ]
  },
  {
   "cell_type": "markdown",
   "id": "38fd47b2",
   "metadata": {},
   "source": [
    "## Структура проекта"
   ]
  },
  {
   "cell_type": "markdown",
   "id": "bf88f05a",
   "metadata": {},
   "source": [
    "[Шаг 1. Загрузка данных](#s1p1)\n",
    "   \n",
    "   * [1.1 Пользователи](#s1p2)\n",
    "   * [1.2 Поездки](#s1p3)\n",
    "   * [1.3 Подписки](#s1p4)\n",
    "   * [Вывод по общей информации](#s1p5)\n",
    "  \n",
    "[Шаг 2. Предобработка данных](#s2p1)\n",
    "   * [2.1 Дубликаты](#s2p2)\n",
    "   * [2.2 Изменение типов данных и создание новых столбцов](#s2p3)\n",
    "   * [Вывод по предобработке данных](#s2p4)\n",
    "   \n",
    "[Шаг 3. Исследовательский анализ данных](#s3p1)\n",
    "   * [3.1 Частота встречаемости городов](#s3p2)\n",
    "   * [3.2 Соотношение пользователей с подпиской и без](#s3p3)\n",
    "   * [3.3 Возраст пользователей](#s3p4)\n",
    "   * [3.4 Расстояние, которое пользователь преодолел за одну поездку](#s3p5)\n",
    "   * [3.5 Продолжительность поездок](#s3p6)\n",
    "   \n",
    "[Шаг 4. Объединение данных](#s4p1)\n",
    "   * [4.1 Объединим данные о пользователях, поездках и подписках в один датафрейм](#s4p2)\n",
    "   * [4.2 Создадим новые датафреймы с пользователями с подпиской и без](#s4p3)\n",
    "   * [4.3 Визуализируем информацию о расстоянии и времени поездок для пользователей обеих категорий](#s4p4)\n",
    "   \n",
    "[Шаг 5. Подсчёт выручки](#s5p1)\n",
    "   * [5.1 найдем суммарное расстояние, количество поездок и суммарное время для каждого пользователя за каждый месяц](#s5p2)\n",
    "   * [5.2 Добавляем столбец с помесячной выручкой, которую принёс каждый пользователь](#s5p3)\n",
    "   \n",
    "[Шаг 6. Проверка гипотез](#s6p1)\n",
    "   * [6.1 Сравним две выборки, data_mrg_free и data_mrg_ultra и проверим гипотезы](#s6p2)\n",
    "   * [6.2 Расстояние одной поездки в 3130 метров — оптимальное?](#s6p3)\n",
    "   * [6.3 Помесячная выручка от пользователей с подпиской по месяцам выше, чем выручка от пользователей без подписки](#s6p4)\n",
    "   "
   ]
  },
  {
   "cell_type": "code",
   "execution_count": 1,
   "id": "72576667",
   "metadata": {},
   "outputs": [],
   "source": [
    "import numpy as np\n",
    "import pandas as pd\n",
    "import matplotlib.pyplot as plt\n",
    "from scipy import stats as st\n",
    "from scipy.stats import binom, poisson, norm\n",
    "from math import sqrt, factorial"
   ]
  },
  {
   "cell_type": "markdown",
   "id": "c42cbe00",
   "metadata": {},
   "source": [
    "<a id=\"s1p1\"></a>\n",
    "## Шаг 1. Загрузка данных"
   ]
  },
  {
   "cell_type": "code",
   "execution_count": 2,
   "id": "7b7d3bd4",
   "metadata": {},
   "outputs": [],
   "source": [
    "try:\n",
    "    data_users = pd.read_csv('/datasets/users_go.csv')\n",
    "    data_rides = pd.read_csv('/datasets/rides_go.csv')\n",
    "    data_sub = pd.read_csv('/datasets/subscriptions_go.csv')\n",
    "except:\n",
    "    data_users = pd.read_csv('https://code.s3.yandex.net/datasets/users_go.csv')\n",
    "    data_rides = pd.read_csv('https://code.s3.yandex.net/datasets/rides_go.csv', parse_dates=['date'])\n",
    "    data_sub = pd.read_csv('https://code.s3.yandex.net/datasets/subscriptions_go.csv')"
   ]
  },
  {
   "cell_type": "markdown",
   "id": "0383ca6c",
   "metadata": {},
   "source": [
    "Посмотрим на каждый датасет по отдельности и сформируем вывод по первой информации."
   ]
  },
  {
   "cell_type": "markdown",
   "id": "8a4c9ab3",
   "metadata": {},
   "source": [
    "<a id=\"s1p2\"></a>\n",
    "### 1.1 Пользователи"
   ]
  },
  {
   "cell_type": "code",
   "execution_count": 3,
   "id": "b1c9d02b",
   "metadata": {},
   "outputs": [
    {
     "data": {
      "text/html": [
       "<div>\n",
       "<style scoped>\n",
       "    .dataframe tbody tr th:only-of-type {\n",
       "        vertical-align: middle;\n",
       "    }\n",
       "\n",
       "    .dataframe tbody tr th {\n",
       "        vertical-align: top;\n",
       "    }\n",
       "\n",
       "    .dataframe thead th {\n",
       "        text-align: right;\n",
       "    }\n",
       "</style>\n",
       "<table border=\"1\" class=\"dataframe\">\n",
       "  <thead>\n",
       "    <tr style=\"text-align: right;\">\n",
       "      <th></th>\n",
       "      <th>user_id</th>\n",
       "      <th>name</th>\n",
       "      <th>age</th>\n",
       "      <th>city</th>\n",
       "      <th>subscription_type</th>\n",
       "    </tr>\n",
       "  </thead>\n",
       "  <tbody>\n",
       "    <tr>\n",
       "      <th>0</th>\n",
       "      <td>1</td>\n",
       "      <td>Кира</td>\n",
       "      <td>22</td>\n",
       "      <td>Тюмень</td>\n",
       "      <td>ultra</td>\n",
       "    </tr>\n",
       "    <tr>\n",
       "      <th>1</th>\n",
       "      <td>2</td>\n",
       "      <td>Станислав</td>\n",
       "      <td>31</td>\n",
       "      <td>Омск</td>\n",
       "      <td>ultra</td>\n",
       "    </tr>\n",
       "    <tr>\n",
       "      <th>2</th>\n",
       "      <td>3</td>\n",
       "      <td>Алексей</td>\n",
       "      <td>20</td>\n",
       "      <td>Москва</td>\n",
       "      <td>ultra</td>\n",
       "    </tr>\n",
       "    <tr>\n",
       "      <th>3</th>\n",
       "      <td>4</td>\n",
       "      <td>Константин</td>\n",
       "      <td>26</td>\n",
       "      <td>Ростов-на-Дону</td>\n",
       "      <td>ultra</td>\n",
       "    </tr>\n",
       "    <tr>\n",
       "      <th>4</th>\n",
       "      <td>5</td>\n",
       "      <td>Адель</td>\n",
       "      <td>28</td>\n",
       "      <td>Омск</td>\n",
       "      <td>ultra</td>\n",
       "    </tr>\n",
       "  </tbody>\n",
       "</table>\n",
       "</div>"
      ],
      "text/plain": [
       "   user_id        name  age            city subscription_type\n",
       "0        1        Кира   22          Тюмень             ultra\n",
       "1        2   Станислав   31            Омск             ultra\n",
       "2        3     Алексей   20          Москва             ultra\n",
       "3        4  Константин   26  Ростов-на-Дону             ultra\n",
       "4        5       Адель   28            Омск             ultra"
      ]
     },
     "execution_count": 3,
     "metadata": {},
     "output_type": "execute_result"
    }
   ],
   "source": [
    "data_users.head()"
   ]
  },
  {
   "cell_type": "code",
   "execution_count": 4,
   "id": "14c7d2e2",
   "metadata": {},
   "outputs": [
    {
     "name": "stdout",
     "output_type": "stream",
     "text": [
      "<class 'pandas.core.frame.DataFrame'>\n",
      "RangeIndex: 1565 entries, 0 to 1564\n",
      "Data columns (total 5 columns):\n",
      " #   Column             Non-Null Count  Dtype \n",
      "---  ------             --------------  ----- \n",
      " 0   user_id            1565 non-null   int64 \n",
      " 1   name               1565 non-null   object\n",
      " 2   age                1565 non-null   int64 \n",
      " 3   city               1565 non-null   object\n",
      " 4   subscription_type  1565 non-null   object\n",
      "dtypes: int64(2), object(3)\n",
      "memory usage: 61.3+ KB\n"
     ]
    }
   ],
   "source": [
    "data_users.info()"
   ]
  },
  {
   "cell_type": "code",
   "execution_count": 5,
   "id": "37b19062",
   "metadata": {},
   "outputs": [
    {
     "data": {
      "text/html": [
       "<div>\n",
       "<style scoped>\n",
       "    .dataframe tbody tr th:only-of-type {\n",
       "        vertical-align: middle;\n",
       "    }\n",
       "\n",
       "    .dataframe tbody tr th {\n",
       "        vertical-align: top;\n",
       "    }\n",
       "\n",
       "    .dataframe thead th {\n",
       "        text-align: right;\n",
       "    }\n",
       "</style>\n",
       "<table border=\"1\" class=\"dataframe\">\n",
       "  <thead>\n",
       "    <tr style=\"text-align: right;\">\n",
       "      <th></th>\n",
       "      <th>user_id</th>\n",
       "      <th>age</th>\n",
       "    </tr>\n",
       "  </thead>\n",
       "  <tbody>\n",
       "    <tr>\n",
       "      <th>count</th>\n",
       "      <td>1565.000000</td>\n",
       "      <td>1565.000000</td>\n",
       "    </tr>\n",
       "    <tr>\n",
       "      <th>mean</th>\n",
       "      <td>762.633866</td>\n",
       "      <td>24.922045</td>\n",
       "    </tr>\n",
       "    <tr>\n",
       "      <th>std</th>\n",
       "      <td>443.260155</td>\n",
       "      <td>4.553496</td>\n",
       "    </tr>\n",
       "    <tr>\n",
       "      <th>min</th>\n",
       "      <td>1.000000</td>\n",
       "      <td>12.000000</td>\n",
       "    </tr>\n",
       "    <tr>\n",
       "      <th>25%</th>\n",
       "      <td>378.000000</td>\n",
       "      <td>22.000000</td>\n",
       "    </tr>\n",
       "    <tr>\n",
       "      <th>50%</th>\n",
       "      <td>762.000000</td>\n",
       "      <td>25.000000</td>\n",
       "    </tr>\n",
       "    <tr>\n",
       "      <th>75%</th>\n",
       "      <td>1146.000000</td>\n",
       "      <td>28.000000</td>\n",
       "    </tr>\n",
       "    <tr>\n",
       "      <th>max</th>\n",
       "      <td>1534.000000</td>\n",
       "      <td>43.000000</td>\n",
       "    </tr>\n",
       "  </tbody>\n",
       "</table>\n",
       "</div>"
      ],
      "text/plain": [
       "           user_id          age\n",
       "count  1565.000000  1565.000000\n",
       "mean    762.633866    24.922045\n",
       "std     443.260155     4.553496\n",
       "min       1.000000    12.000000\n",
       "25%     378.000000    22.000000\n",
       "50%     762.000000    25.000000\n",
       "75%    1146.000000    28.000000\n",
       "max    1534.000000    43.000000"
      ]
     },
     "execution_count": 5,
     "metadata": {},
     "output_type": "execute_result"
    }
   ],
   "source": [
    "data_users.describe()"
   ]
  },
  {
   "cell_type": "code",
   "execution_count": 6,
   "id": "f09d6b76",
   "metadata": {},
   "outputs": [
    {
     "data": {
      "text/plain": [
       "1534"
      ]
     },
     "execution_count": 6,
     "metadata": {},
     "output_type": "execute_result"
    }
   ],
   "source": [
    "len(data_users['user_id'].unique())"
   ]
  },
  {
   "cell_type": "markdown",
   "id": "fec97711",
   "metadata": {},
   "source": [
    "В датафрейме всего 1534 уникальных пользователя, которые и совершили все поездки."
   ]
  },
  {
   "cell_type": "markdown",
   "id": "04d49103",
   "metadata": {},
   "source": [
    "В датасете с пользователями 5 столбцов и 1565 строк, отсутствуют пропуски в датасете. \n",
    "В шаге **\"Предобработка данных** проверим его на дубликаты (явные и неявные).\n",
    "\n",
    "По аномалиям видим минимальный возраст в столбце `age` - 12 лет, необходимо будет проверить. Т.к. по правилам несовершенолетним нельзя пользоваться самокатами."
   ]
  },
  {
   "cell_type": "markdown",
   "id": "5a1366f7",
   "metadata": {},
   "source": [
    "<a id=\"s1p3\"></a>\n",
    "### 1.2 Поездки"
   ]
  },
  {
   "cell_type": "code",
   "execution_count": 7,
   "id": "279fd55b",
   "metadata": {},
   "outputs": [
    {
     "data": {
      "text/html": [
       "<div>\n",
       "<style scoped>\n",
       "    .dataframe tbody tr th:only-of-type {\n",
       "        vertical-align: middle;\n",
       "    }\n",
       "\n",
       "    .dataframe tbody tr th {\n",
       "        vertical-align: top;\n",
       "    }\n",
       "\n",
       "    .dataframe thead th {\n",
       "        text-align: right;\n",
       "    }\n",
       "</style>\n",
       "<table border=\"1\" class=\"dataframe\">\n",
       "  <thead>\n",
       "    <tr style=\"text-align: right;\">\n",
       "      <th></th>\n",
       "      <th>user_id</th>\n",
       "      <th>distance</th>\n",
       "      <th>duration</th>\n",
       "      <th>date</th>\n",
       "    </tr>\n",
       "  </thead>\n",
       "  <tbody>\n",
       "    <tr>\n",
       "      <th>0</th>\n",
       "      <td>1</td>\n",
       "      <td>4409.919140</td>\n",
       "      <td>25.599769</td>\n",
       "      <td>2021-01-01</td>\n",
       "    </tr>\n",
       "    <tr>\n",
       "      <th>1</th>\n",
       "      <td>1</td>\n",
       "      <td>2617.592153</td>\n",
       "      <td>15.816871</td>\n",
       "      <td>2021-01-18</td>\n",
       "    </tr>\n",
       "    <tr>\n",
       "      <th>2</th>\n",
       "      <td>1</td>\n",
       "      <td>754.159807</td>\n",
       "      <td>6.232113</td>\n",
       "      <td>2021-04-20</td>\n",
       "    </tr>\n",
       "    <tr>\n",
       "      <th>3</th>\n",
       "      <td>1</td>\n",
       "      <td>2694.783254</td>\n",
       "      <td>18.511000</td>\n",
       "      <td>2021-08-11</td>\n",
       "    </tr>\n",
       "    <tr>\n",
       "      <th>4</th>\n",
       "      <td>1</td>\n",
       "      <td>4028.687306</td>\n",
       "      <td>26.265803</td>\n",
       "      <td>2021-08-28</td>\n",
       "    </tr>\n",
       "  </tbody>\n",
       "</table>\n",
       "</div>"
      ],
      "text/plain": [
       "   user_id     distance   duration        date\n",
       "0        1  4409.919140  25.599769  2021-01-01\n",
       "1        1  2617.592153  15.816871  2021-01-18\n",
       "2        1   754.159807   6.232113  2021-04-20\n",
       "3        1  2694.783254  18.511000  2021-08-11\n",
       "4        1  4028.687306  26.265803  2021-08-28"
      ]
     },
     "execution_count": 7,
     "metadata": {},
     "output_type": "execute_result"
    }
   ],
   "source": [
    "data_rides.head()"
   ]
  },
  {
   "cell_type": "code",
   "execution_count": 8,
   "id": "fd851b04",
   "metadata": {},
   "outputs": [
    {
     "name": "stdout",
     "output_type": "stream",
     "text": [
      "<class 'pandas.core.frame.DataFrame'>\n",
      "RangeIndex: 18068 entries, 0 to 18067\n",
      "Data columns (total 4 columns):\n",
      " #   Column    Non-Null Count  Dtype  \n",
      "---  ------    --------------  -----  \n",
      " 0   user_id   18068 non-null  int64  \n",
      " 1   distance  18068 non-null  float64\n",
      " 2   duration  18068 non-null  float64\n",
      " 3   date      18068 non-null  object \n",
      "dtypes: float64(2), int64(1), object(1)\n",
      "memory usage: 564.8+ KB\n"
     ]
    }
   ],
   "source": [
    "data_rides.info()"
   ]
  },
  {
   "cell_type": "code",
   "execution_count": 9,
   "id": "e3bfa6e1",
   "metadata": {},
   "outputs": [
    {
     "data": {
      "text/html": [
       "<div>\n",
       "<style scoped>\n",
       "    .dataframe tbody tr th:only-of-type {\n",
       "        vertical-align: middle;\n",
       "    }\n",
       "\n",
       "    .dataframe tbody tr th {\n",
       "        vertical-align: top;\n",
       "    }\n",
       "\n",
       "    .dataframe thead th {\n",
       "        text-align: right;\n",
       "    }\n",
       "</style>\n",
       "<table border=\"1\" class=\"dataframe\">\n",
       "  <thead>\n",
       "    <tr style=\"text-align: right;\">\n",
       "      <th></th>\n",
       "      <th>user_id</th>\n",
       "      <th>distance</th>\n",
       "      <th>duration</th>\n",
       "    </tr>\n",
       "  </thead>\n",
       "  <tbody>\n",
       "    <tr>\n",
       "      <th>count</th>\n",
       "      <td>18068.000000</td>\n",
       "      <td>18068.000000</td>\n",
       "      <td>18068.000000</td>\n",
       "    </tr>\n",
       "    <tr>\n",
       "      <th>mean</th>\n",
       "      <td>842.869936</td>\n",
       "      <td>3070.659976</td>\n",
       "      <td>17.805011</td>\n",
       "    </tr>\n",
       "    <tr>\n",
       "      <th>std</th>\n",
       "      <td>434.734317</td>\n",
       "      <td>1116.831209</td>\n",
       "      <td>6.091051</td>\n",
       "    </tr>\n",
       "    <tr>\n",
       "      <th>min</th>\n",
       "      <td>1.000000</td>\n",
       "      <td>0.855683</td>\n",
       "      <td>0.500000</td>\n",
       "    </tr>\n",
       "    <tr>\n",
       "      <th>25%</th>\n",
       "      <td>487.000000</td>\n",
       "      <td>2543.226360</td>\n",
       "      <td>13.597563</td>\n",
       "    </tr>\n",
       "    <tr>\n",
       "      <th>50%</th>\n",
       "      <td>889.000000</td>\n",
       "      <td>3133.609994</td>\n",
       "      <td>17.678395</td>\n",
       "    </tr>\n",
       "    <tr>\n",
       "      <th>75%</th>\n",
       "      <td>1213.250000</td>\n",
       "      <td>3776.222735</td>\n",
       "      <td>21.724800</td>\n",
       "    </tr>\n",
       "    <tr>\n",
       "      <th>max</th>\n",
       "      <td>1534.000000</td>\n",
       "      <td>7211.007745</td>\n",
       "      <td>40.823963</td>\n",
       "    </tr>\n",
       "  </tbody>\n",
       "</table>\n",
       "</div>"
      ],
      "text/plain": [
       "            user_id      distance      duration\n",
       "count  18068.000000  18068.000000  18068.000000\n",
       "mean     842.869936   3070.659976     17.805011\n",
       "std      434.734317   1116.831209      6.091051\n",
       "min        1.000000      0.855683      0.500000\n",
       "25%      487.000000   2543.226360     13.597563\n",
       "50%      889.000000   3133.609994     17.678395\n",
       "75%     1213.250000   3776.222735     21.724800\n",
       "max     1534.000000   7211.007745     40.823963"
      ]
     },
     "execution_count": 9,
     "metadata": {},
     "output_type": "execute_result"
    }
   ],
   "source": [
    "data_rides.describe()"
   ]
  },
  {
   "cell_type": "markdown",
   "id": "a2cbc670",
   "metadata": {},
   "source": [
    "В датасете с поездками также отсутствуют пропуски, всего 4 столбца и 18068 строк с данными о совершенных поездках.\n",
    "В шаге **Предобработка данных** исправим тип данных столбца `date` который сейчас указан как **object** на тип данных дата.\n",
    "По структуре данных не вижу явных аномалий либо артефактов, минимальное время поездки 0.5 минуты(30 секунд) вполне реально, т.к. пользователь мог сразу вернуть самокат после начала поездки. (Как пользователь сервиса самокатов от Яндекс подтверждаю, сам так делал когда не устраивал самокат)"
   ]
  },
  {
   "cell_type": "markdown",
   "id": "de051206",
   "metadata": {},
   "source": [
    "<a id=\"s1p4\"></a>\n",
    "### 1.3 Подписки"
   ]
  },
  {
   "cell_type": "code",
   "execution_count": 10,
   "id": "8a83ed5e",
   "metadata": {},
   "outputs": [
    {
     "name": "stdout",
     "output_type": "stream",
     "text": [
      "<class 'pandas.core.frame.DataFrame'>\n",
      "RangeIndex: 2 entries, 0 to 1\n",
      "Data columns (total 4 columns):\n",
      " #   Column             Non-Null Count  Dtype \n",
      "---  ------             --------------  ----- \n",
      " 0   subscription_type  2 non-null      object\n",
      " 1   minute_price       2 non-null      int64 \n",
      " 2   start_ride_price   2 non-null      int64 \n",
      " 3   subscription_fee   2 non-null      int64 \n",
      "dtypes: int64(3), object(1)\n",
      "memory usage: 192.0+ bytes\n"
     ]
    }
   ],
   "source": [
    "data_sub.info()"
   ]
  },
  {
   "cell_type": "code",
   "execution_count": 11,
   "id": "3f988325",
   "metadata": {},
   "outputs": [
    {
     "data": {
      "text/html": [
       "<div>\n",
       "<style scoped>\n",
       "    .dataframe tbody tr th:only-of-type {\n",
       "        vertical-align: middle;\n",
       "    }\n",
       "\n",
       "    .dataframe tbody tr th {\n",
       "        vertical-align: top;\n",
       "    }\n",
       "\n",
       "    .dataframe thead th {\n",
       "        text-align: right;\n",
       "    }\n",
       "</style>\n",
       "<table border=\"1\" class=\"dataframe\">\n",
       "  <thead>\n",
       "    <tr style=\"text-align: right;\">\n",
       "      <th></th>\n",
       "      <th>subscription_type</th>\n",
       "      <th>minute_price</th>\n",
       "      <th>start_ride_price</th>\n",
       "      <th>subscription_fee</th>\n",
       "    </tr>\n",
       "  </thead>\n",
       "  <tbody>\n",
       "    <tr>\n",
       "      <th>0</th>\n",
       "      <td>free</td>\n",
       "      <td>8</td>\n",
       "      <td>50</td>\n",
       "      <td>0</td>\n",
       "    </tr>\n",
       "    <tr>\n",
       "      <th>1</th>\n",
       "      <td>ultra</td>\n",
       "      <td>6</td>\n",
       "      <td>0</td>\n",
       "      <td>199</td>\n",
       "    </tr>\n",
       "  </tbody>\n",
       "</table>\n",
       "</div>"
      ],
      "text/plain": [
       "  subscription_type  minute_price  start_ride_price  subscription_fee\n",
       "0              free             8                50                 0\n",
       "1             ultra             6                 0               199"
      ]
     },
     "execution_count": 11,
     "metadata": {},
     "output_type": "execute_result"
    }
   ],
   "source": [
    "data_sub"
   ]
  },
  {
   "cell_type": "code",
   "execution_count": 12,
   "id": "d311fdaf",
   "metadata": {},
   "outputs": [
    {
     "data": {
      "text/html": [
       "<div>\n",
       "<style scoped>\n",
       "    .dataframe tbody tr th:only-of-type {\n",
       "        vertical-align: middle;\n",
       "    }\n",
       "\n",
       "    .dataframe tbody tr th {\n",
       "        vertical-align: top;\n",
       "    }\n",
       "\n",
       "    .dataframe thead th {\n",
       "        text-align: right;\n",
       "    }\n",
       "</style>\n",
       "<table border=\"1\" class=\"dataframe\">\n",
       "  <thead>\n",
       "    <tr style=\"text-align: right;\">\n",
       "      <th></th>\n",
       "      <th>minute_price</th>\n",
       "      <th>start_ride_price</th>\n",
       "      <th>subscription_fee</th>\n",
       "    </tr>\n",
       "  </thead>\n",
       "  <tbody>\n",
       "    <tr>\n",
       "      <th>count</th>\n",
       "      <td>2.000000</td>\n",
       "      <td>2.000000</td>\n",
       "      <td>2.000000</td>\n",
       "    </tr>\n",
       "    <tr>\n",
       "      <th>mean</th>\n",
       "      <td>7.000000</td>\n",
       "      <td>25.000000</td>\n",
       "      <td>99.500000</td>\n",
       "    </tr>\n",
       "    <tr>\n",
       "      <th>std</th>\n",
       "      <td>1.414214</td>\n",
       "      <td>35.355339</td>\n",
       "      <td>140.714249</td>\n",
       "    </tr>\n",
       "    <tr>\n",
       "      <th>min</th>\n",
       "      <td>6.000000</td>\n",
       "      <td>0.000000</td>\n",
       "      <td>0.000000</td>\n",
       "    </tr>\n",
       "    <tr>\n",
       "      <th>25%</th>\n",
       "      <td>6.500000</td>\n",
       "      <td>12.500000</td>\n",
       "      <td>49.750000</td>\n",
       "    </tr>\n",
       "    <tr>\n",
       "      <th>50%</th>\n",
       "      <td>7.000000</td>\n",
       "      <td>25.000000</td>\n",
       "      <td>99.500000</td>\n",
       "    </tr>\n",
       "    <tr>\n",
       "      <th>75%</th>\n",
       "      <td>7.500000</td>\n",
       "      <td>37.500000</td>\n",
       "      <td>149.250000</td>\n",
       "    </tr>\n",
       "    <tr>\n",
       "      <th>max</th>\n",
       "      <td>8.000000</td>\n",
       "      <td>50.000000</td>\n",
       "      <td>199.000000</td>\n",
       "    </tr>\n",
       "  </tbody>\n",
       "</table>\n",
       "</div>"
      ],
      "text/plain": [
       "       minute_price  start_ride_price  subscription_fee\n",
       "count      2.000000          2.000000          2.000000\n",
       "mean       7.000000         25.000000         99.500000\n",
       "std        1.414214         35.355339        140.714249\n",
       "min        6.000000          0.000000          0.000000\n",
       "25%        6.500000         12.500000         49.750000\n",
       "50%        7.000000         25.000000         99.500000\n",
       "75%        7.500000         37.500000        149.250000\n",
       "max        8.000000         50.000000        199.000000"
      ]
     },
     "execution_count": 12,
     "metadata": {},
     "output_type": "execute_result"
    }
   ],
   "source": [
    "data_sub.describe()"
   ]
  },
  {
   "cell_type": "markdown",
   "id": "1c267c8d",
   "metadata": {},
   "source": [
    "В третьем датасете с подписками всего 2 строки с двумя типа подписок **Ultra** и **Free**\n",
    "\n",
    "Также пропусков не наблюдается, по типам данных и самим данным в данный момент вопросов нет. Будем изучать!"
   ]
  },
  {
   "cell_type": "markdown",
   "id": "b2e4b06f",
   "metadata": {},
   "source": [
    "<a id=\"s1p5\"></a>\n",
    "### Вывод по общей информации"
   ]
  },
  {
   "cell_type": "markdown",
   "id": "4d42fdd6",
   "metadata": {},
   "source": [
    "В датасетах отсутствуют пропуски и какие либо аномалии. \n",
    "\n",
    "В следующем шаге будем исправлять некоторые значения и проверять датафреймы на дубликаты."
   ]
  },
  {
   "cell_type": "markdown",
   "id": "e95ebca7",
   "metadata": {},
   "source": [
    "<a id=\"s2p1\"></a>\n",
    "## Шаг 2. Предобработка данных"
   ]
  },
  {
   "cell_type": "markdown",
   "id": "9eb63406",
   "metadata": {},
   "source": [
    "<a id=\"s2p2\"></a>\n",
    "### 2. 1 Дубликаты"
   ]
  },
  {
   "cell_type": "code",
   "execution_count": 13,
   "id": "af6d202c",
   "metadata": {},
   "outputs": [
    {
     "name": "stdout",
     "output_type": "stream",
     "text": [
      "Количество явных дубликатов в датафрейме: 31\n"
     ]
    }
   ],
   "source": [
    "print('Количество явных дубликатов в датафрейме:', data_users.duplicated().sum())"
   ]
  },
  {
   "cell_type": "markdown",
   "id": "b8780a64",
   "metadata": {},
   "source": [
    "Удалим явные дубликаты из датасета"
   ]
  },
  {
   "cell_type": "code",
   "execution_count": 14,
   "id": "81f98358",
   "metadata": {},
   "outputs": [
    {
     "name": "stdout",
     "output_type": "stream",
     "text": [
      "Количество явных дубликатов в датасете: 0\n"
     ]
    }
   ],
   "source": [
    "data_users = data_users.drop_duplicates()\n",
    "print('Количество явных дубликатов в датасете:', data_users.duplicated().sum())"
   ]
  },
  {
   "cell_type": "code",
   "execution_count": 15,
   "id": "9ef81479",
   "metadata": {},
   "outputs": [
    {
     "name": "stdout",
     "output_type": "stream",
     "text": [
      "Количество явных дубликатов в датафрейме: 0\n"
     ]
    }
   ],
   "source": [
    "print('Количество явных дубликатов в датафрейме:', data_rides.duplicated().sum())"
   ]
  },
  {
   "cell_type": "code",
   "execution_count": 16,
   "id": "5908e5b6",
   "metadata": {},
   "outputs": [
    {
     "name": "stdout",
     "output_type": "stream",
     "text": [
      "Количество явных дубликатов в датафрейме: 0\n"
     ]
    }
   ],
   "source": [
    "print('Количество явных дубликатов в датафрейме:', data_sub.duplicated().sum())"
   ]
  },
  {
   "cell_type": "markdown",
   "id": "9965525e",
   "metadata": {},
   "source": [
    "Посмотрим есть ли неявные дубликаты в названиях городов в датафрейме Пользователи"
   ]
  },
  {
   "cell_type": "code",
   "execution_count": 17,
   "id": "ff78cfb5",
   "metadata": {},
   "outputs": [
    {
     "data": {
      "text/plain": [
       "array(['Тюмень', 'Омск', 'Москва', 'Ростов-на-Дону', 'Краснодар',\n",
       "       'Пятигорск', 'Екатеринбург', 'Сочи'], dtype=object)"
      ]
     },
     "execution_count": 17,
     "metadata": {},
     "output_type": "execute_result"
    }
   ],
   "source": [
    "data_users['city'].unique()"
   ]
  },
  {
   "cell_type": "markdown",
   "id": "5764d108",
   "metadata": {},
   "source": [
    "Данные в порядке, все города уникальные, ошибок в написании нет."
   ]
  },
  {
   "cell_type": "markdown",
   "id": "20ded1a7",
   "metadata": {},
   "source": [
    "<a id=\"s2p3\"></a>\n",
    "### 2.2 Изменение типов данных и создание новых столбцов"
   ]
  },
  {
   "cell_type": "markdown",
   "id": "40dbc271",
   "metadata": {},
   "source": [
    "Приведем столбец `date` к типу даты"
   ]
  },
  {
   "cell_type": "code",
   "execution_count": 18,
   "id": "2b37fd6c",
   "metadata": {},
   "outputs": [
    {
     "data": {
      "text/plain": [
       "user_id              int64\n",
       "distance           float64\n",
       "duration           float64\n",
       "date        datetime64[ns]\n",
       "dtype: object"
      ]
     },
     "execution_count": 18,
     "metadata": {},
     "output_type": "execute_result"
    }
   ],
   "source": [
    "data_rides.date = pd.to_datetime(data_rides.date, format='%Y-%m-%d')\n",
    "data_rides.dtypes"
   ]
  },
  {
   "cell_type": "markdown",
   "id": "4cca0f2b",
   "metadata": {},
   "source": [
    "Создадим на основе столбца `date` - столбец `month`"
   ]
  },
  {
   "cell_type": "code",
   "execution_count": 19,
   "id": "141252b5",
   "metadata": {},
   "outputs": [
    {
     "data": {
      "text/html": [
       "<div>\n",
       "<style scoped>\n",
       "    .dataframe tbody tr th:only-of-type {\n",
       "        vertical-align: middle;\n",
       "    }\n",
       "\n",
       "    .dataframe tbody tr th {\n",
       "        vertical-align: top;\n",
       "    }\n",
       "\n",
       "    .dataframe thead th {\n",
       "        text-align: right;\n",
       "    }\n",
       "</style>\n",
       "<table border=\"1\" class=\"dataframe\">\n",
       "  <thead>\n",
       "    <tr style=\"text-align: right;\">\n",
       "      <th></th>\n",
       "      <th>user_id</th>\n",
       "      <th>distance</th>\n",
       "      <th>duration</th>\n",
       "      <th>date</th>\n",
       "      <th>month</th>\n",
       "    </tr>\n",
       "  </thead>\n",
       "  <tbody>\n",
       "    <tr>\n",
       "      <th>0</th>\n",
       "      <td>1</td>\n",
       "      <td>4409.919140</td>\n",
       "      <td>25.599769</td>\n",
       "      <td>2021-01-01</td>\n",
       "      <td>1</td>\n",
       "    </tr>\n",
       "    <tr>\n",
       "      <th>1</th>\n",
       "      <td>1</td>\n",
       "      <td>2617.592153</td>\n",
       "      <td>15.816871</td>\n",
       "      <td>2021-01-18</td>\n",
       "      <td>1</td>\n",
       "    </tr>\n",
       "    <tr>\n",
       "      <th>2</th>\n",
       "      <td>1</td>\n",
       "      <td>754.159807</td>\n",
       "      <td>6.232113</td>\n",
       "      <td>2021-04-20</td>\n",
       "      <td>4</td>\n",
       "    </tr>\n",
       "    <tr>\n",
       "      <th>3</th>\n",
       "      <td>1</td>\n",
       "      <td>2694.783254</td>\n",
       "      <td>18.511000</td>\n",
       "      <td>2021-08-11</td>\n",
       "      <td>8</td>\n",
       "    </tr>\n",
       "    <tr>\n",
       "      <th>4</th>\n",
       "      <td>1</td>\n",
       "      <td>4028.687306</td>\n",
       "      <td>26.265803</td>\n",
       "      <td>2021-08-28</td>\n",
       "      <td>8</td>\n",
       "    </tr>\n",
       "  </tbody>\n",
       "</table>\n",
       "</div>"
      ],
      "text/plain": [
       "   user_id     distance   duration       date  month\n",
       "0        1  4409.919140  25.599769 2021-01-01      1\n",
       "1        1  2617.592153  15.816871 2021-01-18      1\n",
       "2        1   754.159807   6.232113 2021-04-20      4\n",
       "3        1  2694.783254  18.511000 2021-08-11      8\n",
       "4        1  4028.687306  26.265803 2021-08-28      8"
      ]
     },
     "execution_count": 19,
     "metadata": {},
     "output_type": "execute_result"
    }
   ],
   "source": [
    "data_rides['month'] = data_rides.date.dt.month\n",
    "data_rides.head()"
   ]
  },
  {
   "cell_type": "markdown",
   "id": "89cb9cbe",
   "metadata": {},
   "source": [
    "<a id=\"s2p4\"></a>\n",
    "### Вывод по предобработке данных"
   ]
  },
  {
   "cell_type": "markdown",
   "id": "b65b3cd6",
   "metadata": {},
   "source": [
    "В ходе предобработки данных сделали следующее:\n",
    "\n",
    "- удалили явные дубликаты в датафрейме **Пользователи**;\n",
    "- изменили тип в `date` на datetime\n",
    "- оздали новый столбец `month` на основе столбца `date`\n",
    "- неявные дубликаты отсутствуют;"
   ]
  },
  {
   "cell_type": "markdown",
   "id": "212593c7",
   "metadata": {},
   "source": [
    "<a id=\"s3p1\"></a>\n",
    "## Шаг 3. Исследовательский анализ данных"
   ]
  },
  {
   "cell_type": "markdown",
   "id": "34f5cecf",
   "metadata": {},
   "source": [
    "<a id=\"s3p2\"></a>\n",
    "### 3.1 Частота встречаемости городов"
   ]
  },
  {
   "cell_type": "code",
   "execution_count": 20,
   "id": "562cc768",
   "metadata": {},
   "outputs": [
    {
     "data": {
      "image/png": "[encoded data removed]",
      "text/plain": [
       "<Figure size 648x360 with 1 Axes>"
      ]
     },
     "metadata": {
      "needs_background": "light"
     },
     "output_type": "display_data"
    },
    {
     "data": {
      "text/html": [
       "<div>\n",
       "<style scoped>\n",
       "    .dataframe tbody tr th:only-of-type {\n",
       "        vertical-align: middle;\n",
       "    }\n",
       "\n",
       "    .dataframe tbody tr th {\n",
       "        vertical-align: top;\n",
       "    }\n",
       "\n",
       "    .dataframe thead th {\n",
       "        text-align: right;\n",
       "    }\n",
       "</style>\n",
       "<table border=\"1\" class=\"dataframe\">\n",
       "  <thead>\n",
       "    <tr style=\"text-align: right;\">\n",
       "      <th></th>\n",
       "      <th>user_id</th>\n",
       "    </tr>\n",
       "    <tr>\n",
       "      <th>city</th>\n",
       "      <th></th>\n",
       "    </tr>\n",
       "  </thead>\n",
       "  <tbody>\n",
       "    <tr>\n",
       "      <th>Пятигорск</th>\n",
       "      <td>219</td>\n",
       "    </tr>\n",
       "    <tr>\n",
       "      <th>Екатеринбург</th>\n",
       "      <td>204</td>\n",
       "    </tr>\n",
       "    <tr>\n",
       "      <th>Ростов-на-Дону</th>\n",
       "      <td>198</td>\n",
       "    </tr>\n",
       "    <tr>\n",
       "      <th>Краснодар</th>\n",
       "      <td>193</td>\n",
       "    </tr>\n",
       "    <tr>\n",
       "      <th>Сочи</th>\n",
       "      <td>189</td>\n",
       "    </tr>\n",
       "    <tr>\n",
       "      <th>Омск</th>\n",
       "      <td>183</td>\n",
       "    </tr>\n",
       "    <tr>\n",
       "      <th>Тюмень</th>\n",
       "      <td>180</td>\n",
       "    </tr>\n",
       "    <tr>\n",
       "      <th>Москва</th>\n",
       "      <td>168</td>\n",
       "    </tr>\n",
       "  </tbody>\n",
       "</table>\n",
       "</div>"
      ],
      "text/plain": [
       "                user_id\n",
       "city                   \n",
       "Пятигорск           219\n",
       "Екатеринбург        204\n",
       "Ростов-на-Дону      198\n",
       "Краснодар           193\n",
       "Сочи                189\n",
       "Омск                183\n",
       "Тюмень              180\n",
       "Москва              168"
      ]
     },
     "metadata": {},
     "output_type": "display_data"
    }
   ],
   "source": [
    "data_users_city = data_users.pivot_table(index = 'city', values = 'user_id', aggfunc = 'count')\n",
    "data_users_city = data_users_city.sort_values(by='user_id', ascending = True)\n",
    "data_users_city.plot( kind='barh', figsize = (9,5), grid = True, color='green')\n",
    "plt.title('Распределение по городам')\n",
    "plt.xlabel('Пользователи')\n",
    "plt.ylabel('Города')\n",
    "plt.show()\n",
    "display(data_users_city.sort_values(by='user_id', ascending = False))"
   ]
  },
  {
   "cell_type": "markdown",
   "id": "066895f5",
   "metadata": {},
   "source": [
    "**Вывод:**\n",
    "\n",
    "- датафрейм содержит данные о пользователях 8-ми городов;\n",
    "- больше всего пользователей из Пятигорска (219), меньше всего из Москвы (168);"
   ]
  },
  {
   "cell_type": "markdown",
   "id": "d0a12101",
   "metadata": {},
   "source": [
    "<a id=\"s3p3\"></a>\n",
    "### 3.2 Соотношение пользователей с подпиской и без"
   ]
  },
  {
   "cell_type": "code",
   "execution_count": 21,
   "id": "9ee0cd8b",
   "metadata": {},
   "outputs": [
    {
     "data": {
      "text/html": [
       "<div>\n",
       "<style scoped>\n",
       "    .dataframe tbody tr th:only-of-type {\n",
       "        vertical-align: middle;\n",
       "    }\n",
       "\n",
       "    .dataframe tbody tr th {\n",
       "        vertical-align: top;\n",
       "    }\n",
       "\n",
       "    .dataframe thead th {\n",
       "        text-align: right;\n",
       "    }\n",
       "</style>\n",
       "<table border=\"1\" class=\"dataframe\">\n",
       "  <thead>\n",
       "    <tr style=\"text-align: right;\">\n",
       "      <th></th>\n",
       "      <th>user_id</th>\n",
       "      <th>name</th>\n",
       "      <th>age</th>\n",
       "      <th>city</th>\n",
       "      <th>subscription_type</th>\n",
       "    </tr>\n",
       "  </thead>\n",
       "  <tbody>\n",
       "    <tr>\n",
       "      <th>0</th>\n",
       "      <td>1</td>\n",
       "      <td>Кира</td>\n",
       "      <td>22</td>\n",
       "      <td>Тюмень</td>\n",
       "      <td>ultra</td>\n",
       "    </tr>\n",
       "    <tr>\n",
       "      <th>1</th>\n",
       "      <td>2</td>\n",
       "      <td>Станислав</td>\n",
       "      <td>31</td>\n",
       "      <td>Омск</td>\n",
       "      <td>ultra</td>\n",
       "    </tr>\n",
       "    <tr>\n",
       "      <th>2</th>\n",
       "      <td>3</td>\n",
       "      <td>Алексей</td>\n",
       "      <td>20</td>\n",
       "      <td>Москва</td>\n",
       "      <td>ultra</td>\n",
       "    </tr>\n",
       "    <tr>\n",
       "      <th>3</th>\n",
       "      <td>4</td>\n",
       "      <td>Константин</td>\n",
       "      <td>26</td>\n",
       "      <td>Ростов-на-Дону</td>\n",
       "      <td>ultra</td>\n",
       "    </tr>\n",
       "    <tr>\n",
       "      <th>4</th>\n",
       "      <td>5</td>\n",
       "      <td>Адель</td>\n",
       "      <td>28</td>\n",
       "      <td>Омск</td>\n",
       "      <td>ultra</td>\n",
       "    </tr>\n",
       "  </tbody>\n",
       "</table>\n",
       "</div>"
      ],
      "text/plain": [
       "   user_id        name  age            city subscription_type\n",
       "0        1        Кира   22          Тюмень             ultra\n",
       "1        2   Станислав   31            Омск             ultra\n",
       "2        3     Алексей   20          Москва             ultra\n",
       "3        4  Константин   26  Ростов-на-Дону             ultra\n",
       "4        5       Адель   28            Омск             ultra"
      ]
     },
     "execution_count": 21,
     "metadata": {},
     "output_type": "execute_result"
    }
   ],
   "source": [
    "data_users.head()"
   ]
  },
  {
   "cell_type": "code",
   "execution_count": 22,
   "id": "1e45ae77",
   "metadata": {},
   "outputs": [
    {
     "data": {
      "image/png": "[encoded data removed]",
      "text/plain": [
       "<Figure size 432x288 with 1 Axes>"
      ]
     },
     "metadata": {},
     "output_type": "display_data"
    },
    {
     "data": {
      "text/html": [
       "<div>\n",
       "<style scoped>\n",
       "    .dataframe tbody tr th:only-of-type {\n",
       "        vertical-align: middle;\n",
       "    }\n",
       "\n",
       "    .dataframe tbody tr th {\n",
       "        vertical-align: top;\n",
       "    }\n",
       "\n",
       "    .dataframe thead th {\n",
       "        text-align: right;\n",
       "    }\n",
       "</style>\n",
       "<table border=\"1\" class=\"dataframe\">\n",
       "  <thead>\n",
       "    <tr style=\"text-align: right;\">\n",
       "      <th></th>\n",
       "      <th>subscription_type</th>\n",
       "      <th>user_id</th>\n",
       "    </tr>\n",
       "  </thead>\n",
       "  <tbody>\n",
       "    <tr>\n",
       "      <th>0</th>\n",
       "      <td>free</td>\n",
       "      <td>835</td>\n",
       "    </tr>\n",
       "    <tr>\n",
       "      <th>1</th>\n",
       "      <td>ultra</td>\n",
       "      <td>699</td>\n",
       "    </tr>\n",
       "  </tbody>\n",
       "</table>\n",
       "</div>"
      ],
      "text/plain": [
       "  subscription_type  user_id\n",
       "0              free      835\n",
       "1             ultra      699"
      ]
     },
     "metadata": {},
     "output_type": "display_data"
    }
   ],
   "source": [
    "data_users_subs = data_users.pivot_table(index = 'subscription_type', values = 'user_id', aggfunc = 'count').reset_index()\n",
    "fig1, ax1 = plt.subplots()\n",
    "ax1.pie(data_users_subs['user_id'], labels=data_users_subs['subscription_type'], autopct='%1.1f%%')\n",
    "\n",
    "plt.title('Соотношение пользователей с типом подписки')\n",
    "plt.xlabel('Количество пользователей')\n",
    "plt.ylabel('Тип подписки')\n",
    "plt.show()\n",
    "display(data_users_subs)"
   ]
  },
  {
   "cell_type": "markdown",
   "id": "d6bc99a8",
   "metadata": {},
   "source": [
    "Пользователей без подписки (**54.4%**) больше чем больше чем пользователей с подпиской Ultra (**45.6%**)"
   ]
  },
  {
   "cell_type": "markdown",
   "id": "6323f7f2",
   "metadata": {},
   "source": [
    "<a id=\"s3p4\"></a>\n",
    "### 3.3 Возраст пользователей"
   ]
  },
  {
   "cell_type": "code",
   "execution_count": 23,
   "id": "12beba1d",
   "metadata": {},
   "outputs": [
    {
     "data": {
      "image/png": "[encoded data removed]",
      "text/plain": [
       "<Figure size 648x360 with 1 Axes>"
      ]
     },
     "metadata": {
      "needs_background": "light"
     },
     "output_type": "display_data"
    },
    {
     "data": {
      "text/plain": [
       "count    1534.000000\n",
       "mean       24.903520\n",
       "std         4.572367\n",
       "min        12.000000\n",
       "25%        22.000000\n",
       "50%        25.000000\n",
       "75%        28.000000\n",
       "max        43.000000\n",
       "Name: age, dtype: float64"
      ]
     },
     "execution_count": 23,
     "metadata": {},
     "output_type": "execute_result"
    }
   ],
   "source": [
    "data_users['age'].plot(kind = 'hist', grid=True, figsize = (9,5), bins = 30, color='green')\n",
    "plt.title('Возраст пользователей')\n",
    "plt.xlabel('возраст')\n",
    "plt.ylabel('количество пользователей')\n",
    "plt.show()\n",
    "data_users['age'].describe()"
   ]
  },
  {
   "cell_type": "markdown",
   "id": "435e5d11",
   "metadata": {},
   "source": [
    "Выборка имеет нормальное распределение. Медиана и средний возраст почти совпадают: 25 и 24.9 лет соответственно."
   ]
  },
  {
   "cell_type": "markdown",
   "id": "7733da92",
   "metadata": {},
   "source": [
    "<a id=\"s3p5\"></a>\n",
    "### 3.4 Расстояние, которое пользователь преодолел за одну поездку"
   ]
  },
  {
   "cell_type": "code",
   "execution_count": 24,
   "id": "a344ec95",
   "metadata": {},
   "outputs": [
    {
     "data": {
      "image/png": "[encoded data removed]",
      "text/plain": [
       "<Figure size 648x360 with 1 Axes>"
      ]
     },
     "metadata": {
      "needs_background": "light"
     },
     "output_type": "display_data"
    },
    {
     "data": {
      "text/plain": [
       "count    18068.000000\n",
       "mean      3070.659976\n",
       "std       1116.831209\n",
       "min          0.855683\n",
       "25%       2543.226360\n",
       "50%       3133.609994\n",
       "75%       3776.222735\n",
       "max       7211.007745\n",
       "Name: distance, dtype: float64"
      ]
     },
     "execution_count": 24,
     "metadata": {},
     "output_type": "execute_result"
    }
   ],
   "source": [
    "data_rides['distance'].plot(kind = 'hist', grid=True, figsize = (9,5), bins = 30, color='green')\n",
    "plt.title('Расстояние одной поездки')\n",
    "plt.xlabel('расстояние, м')\n",
    "plt.ylabel('количество пользователей')\n",
    "plt.show()\n",
    "data_rides['distance'].describe()"
   ]
  },
  {
   "cell_type": "markdown",
   "id": "c41d71ba",
   "metadata": {},
   "source": [
    "Среднее расстояние большинства поездок чуть больше 3-х километров. Есть небольшой всплеск около поездок на 600м, можно предположить что эти поезки совершали пользователи, что бы добраться до станций метро или других остановок общественно транспорта."
   ]
  },
  {
   "cell_type": "markdown",
   "id": "1fc94509",
   "metadata": {},
   "source": [
    "<a id=\"s3p6\"></a>\n",
    "### 3.5 Продолжительность поездок"
   ]
  },
  {
   "cell_type": "code",
   "execution_count": 25,
   "id": "6c3fd50b",
   "metadata": {},
   "outputs": [
    {
     "data": {
      "image/png": "[encoded data removed]",
      "text/plain": [
       "<Figure size 648x360 with 1 Axes>"
      ]
     },
     "metadata": {
      "needs_background": "light"
     },
     "output_type": "display_data"
    },
    {
     "data": {
      "text/plain": [
       "count    18068.000000\n",
       "mean        17.805011\n",
       "std          6.091051\n",
       "min          0.500000\n",
       "25%         13.597563\n",
       "50%         17.678395\n",
       "75%         21.724800\n",
       "max         40.823963\n",
       "Name: duration, dtype: float64"
      ]
     },
     "execution_count": 25,
     "metadata": {},
     "output_type": "execute_result"
    }
   ],
   "source": [
    "data_rides['duration'].plot(kind = 'hist', grid=True, figsize = (9,5), bins = 30, color='green')\n",
    "plt.title('Продолжительность одной поездки')\n",
    "plt.xlabel('время, мин')\n",
    "plt.ylabel('количество пользователей')\n",
    "plt.show()\n",
    "data_rides['duration'].describe()"
   ]
  },
  {
   "cell_type": "markdown",
   "id": "b620e9a4",
   "metadata": {},
   "source": [
    "Выборка также похожа на распределение Гаусса. Среднее время поездки 17.7 мин"
   ]
  },
  {
   "cell_type": "markdown",
   "id": "4ef51331",
   "metadata": {},
   "source": [
    "<a id=\"s4p1\"></a>\n",
    "## Шаг 4. Объединение данных"
   ]
  },
  {
   "cell_type": "markdown",
   "id": "d21bf547",
   "metadata": {},
   "source": [
    "<a id=\"s4p2\"></a>\n",
    "### 4.1 Объединим данные о пользователях, поездках и подписках в один датафрейм."
   ]
  },
  {
   "cell_type": "code",
   "execution_count": 26,
   "id": "4141ad9d",
   "metadata": {},
   "outputs": [
    {
     "data": {
      "text/html": [
       "<div>\n",
       "<style scoped>\n",
       "    .dataframe tbody tr th:only-of-type {\n",
       "        vertical-align: middle;\n",
       "    }\n",
       "\n",
       "    .dataframe tbody tr th {\n",
       "        vertical-align: top;\n",
       "    }\n",
       "\n",
       "    .dataframe thead th {\n",
       "        text-align: right;\n",
       "    }\n",
       "</style>\n",
       "<table border=\"1\" class=\"dataframe\">\n",
       "  <thead>\n",
       "    <tr style=\"text-align: right;\">\n",
       "      <th></th>\n",
       "      <th>user_id</th>\n",
       "      <th>distance</th>\n",
       "      <th>duration</th>\n",
       "      <th>date</th>\n",
       "      <th>month</th>\n",
       "      <th>name</th>\n",
       "      <th>age</th>\n",
       "      <th>city</th>\n",
       "      <th>subscription_type</th>\n",
       "      <th>minute_price</th>\n",
       "      <th>start_ride_price</th>\n",
       "      <th>subscription_fee</th>\n",
       "    </tr>\n",
       "  </thead>\n",
       "  <tbody>\n",
       "    <tr>\n",
       "      <th>0</th>\n",
       "      <td>1</td>\n",
       "      <td>4409.919140</td>\n",
       "      <td>25.599769</td>\n",
       "      <td>2021-01-01</td>\n",
       "      <td>1</td>\n",
       "      <td>Кира</td>\n",
       "      <td>22</td>\n",
       "      <td>Тюмень</td>\n",
       "      <td>ultra</td>\n",
       "      <td>6</td>\n",
       "      <td>0</td>\n",
       "      <td>199</td>\n",
       "    </tr>\n",
       "    <tr>\n",
       "      <th>1</th>\n",
       "      <td>1</td>\n",
       "      <td>2617.592153</td>\n",
       "      <td>15.816871</td>\n",
       "      <td>2021-01-18</td>\n",
       "      <td>1</td>\n",
       "      <td>Кира</td>\n",
       "      <td>22</td>\n",
       "      <td>Тюмень</td>\n",
       "      <td>ultra</td>\n",
       "      <td>6</td>\n",
       "      <td>0</td>\n",
       "      <td>199</td>\n",
       "    </tr>\n",
       "    <tr>\n",
       "      <th>2</th>\n",
       "      <td>1</td>\n",
       "      <td>754.159807</td>\n",
       "      <td>6.232113</td>\n",
       "      <td>2021-04-20</td>\n",
       "      <td>4</td>\n",
       "      <td>Кира</td>\n",
       "      <td>22</td>\n",
       "      <td>Тюмень</td>\n",
       "      <td>ultra</td>\n",
       "      <td>6</td>\n",
       "      <td>0</td>\n",
       "      <td>199</td>\n",
       "    </tr>\n",
       "    <tr>\n",
       "      <th>3</th>\n",
       "      <td>1</td>\n",
       "      <td>2694.783254</td>\n",
       "      <td>18.511000</td>\n",
       "      <td>2021-08-11</td>\n",
       "      <td>8</td>\n",
       "      <td>Кира</td>\n",
       "      <td>22</td>\n",
       "      <td>Тюмень</td>\n",
       "      <td>ultra</td>\n",
       "      <td>6</td>\n",
       "      <td>0</td>\n",
       "      <td>199</td>\n",
       "    </tr>\n",
       "    <tr>\n",
       "      <th>4</th>\n",
       "      <td>1</td>\n",
       "      <td>4028.687306</td>\n",
       "      <td>26.265803</td>\n",
       "      <td>2021-08-28</td>\n",
       "      <td>8</td>\n",
       "      <td>Кира</td>\n",
       "      <td>22</td>\n",
       "      <td>Тюмень</td>\n",
       "      <td>ultra</td>\n",
       "      <td>6</td>\n",
       "      <td>0</td>\n",
       "      <td>199</td>\n",
       "    </tr>\n",
       "    <tr>\n",
       "      <th>...</th>\n",
       "      <td>...</td>\n",
       "      <td>...</td>\n",
       "      <td>...</td>\n",
       "      <td>...</td>\n",
       "      <td>...</td>\n",
       "      <td>...</td>\n",
       "      <td>...</td>\n",
       "      <td>...</td>\n",
       "      <td>...</td>\n",
       "      <td>...</td>\n",
       "      <td>...</td>\n",
       "      <td>...</td>\n",
       "    </tr>\n",
       "    <tr>\n",
       "      <th>18063</th>\n",
       "      <td>1534</td>\n",
       "      <td>3781.098080</td>\n",
       "      <td>19.822962</td>\n",
       "      <td>2021-11-04</td>\n",
       "      <td>11</td>\n",
       "      <td>Альберт</td>\n",
       "      <td>25</td>\n",
       "      <td>Краснодар</td>\n",
       "      <td>free</td>\n",
       "      <td>8</td>\n",
       "      <td>50</td>\n",
       "      <td>0</td>\n",
       "    </tr>\n",
       "    <tr>\n",
       "      <th>18064</th>\n",
       "      <td>1534</td>\n",
       "      <td>2840.423057</td>\n",
       "      <td>21.409799</td>\n",
       "      <td>2021-11-16</td>\n",
       "      <td>11</td>\n",
       "      <td>Альберт</td>\n",
       "      <td>25</td>\n",
       "      <td>Краснодар</td>\n",
       "      <td>free</td>\n",
       "      <td>8</td>\n",
       "      <td>50</td>\n",
       "      <td>0</td>\n",
       "    </tr>\n",
       "    <tr>\n",
       "      <th>18065</th>\n",
       "      <td>1534</td>\n",
       "      <td>3826.185507</td>\n",
       "      <td>18.435051</td>\n",
       "      <td>2021-11-18</td>\n",
       "      <td>11</td>\n",
       "      <td>Альберт</td>\n",
       "      <td>25</td>\n",
       "      <td>Краснодар</td>\n",
       "      <td>free</td>\n",
       "      <td>8</td>\n",
       "      <td>50</td>\n",
       "      <td>0</td>\n",
       "    </tr>\n",
       "    <tr>\n",
       "      <th>18066</th>\n",
       "      <td>1534</td>\n",
       "      <td>2902.308661</td>\n",
       "      <td>16.674362</td>\n",
       "      <td>2021-11-27</td>\n",
       "      <td>11</td>\n",
       "      <td>Альберт</td>\n",
       "      <td>25</td>\n",
       "      <td>Краснодар</td>\n",
       "      <td>free</td>\n",
       "      <td>8</td>\n",
       "      <td>50</td>\n",
       "      <td>0</td>\n",
       "    </tr>\n",
       "    <tr>\n",
       "      <th>18067</th>\n",
       "      <td>1534</td>\n",
       "      <td>2371.711192</td>\n",
       "      <td>15.893917</td>\n",
       "      <td>2021-12-29</td>\n",
       "      <td>12</td>\n",
       "      <td>Альберт</td>\n",
       "      <td>25</td>\n",
       "      <td>Краснодар</td>\n",
       "      <td>free</td>\n",
       "      <td>8</td>\n",
       "      <td>50</td>\n",
       "      <td>0</td>\n",
       "    </tr>\n",
       "  </tbody>\n",
       "</table>\n",
       "<p>18068 rows × 12 columns</p>\n",
       "</div>"
      ],
      "text/plain": [
       "       user_id     distance   duration       date  month     name  age  \\\n",
       "0            1  4409.919140  25.599769 2021-01-01      1     Кира   22   \n",
       "1            1  2617.592153  15.816871 2021-01-18      1     Кира   22   \n",
       "2            1   754.159807   6.232113 2021-04-20      4     Кира   22   \n",
       "3            1  2694.783254  18.511000 2021-08-11      8     Кира   22   \n",
       "4            1  4028.687306  26.265803 2021-08-28      8     Кира   22   \n",
       "...        ...          ...        ...        ...    ...      ...  ...   \n",
       "18063     1534  3781.098080  19.822962 2021-11-04     11  Альберт   25   \n",
       "18064     1534  2840.423057  21.409799 2021-11-16     11  Альберт   25   \n",
       "18065     1534  3826.185507  18.435051 2021-11-18     11  Альберт   25   \n",
       "18066     1534  2902.308661  16.674362 2021-11-27     11  Альберт   25   \n",
       "18067     1534  2371.711192  15.893917 2021-12-29     12  Альберт   25   \n",
       "\n",
       "            city subscription_type  minute_price  start_ride_price  \\\n",
       "0         Тюмень             ultra             6                 0   \n",
       "1         Тюмень             ultra             6                 0   \n",
       "2         Тюмень             ultra             6                 0   \n",
       "3         Тюмень             ultra             6                 0   \n",
       "4         Тюмень             ultra             6                 0   \n",
       "...          ...               ...           ...               ...   \n",
       "18063  Краснодар              free             8                50   \n",
       "18064  Краснодар              free             8                50   \n",
       "18065  Краснодар              free             8                50   \n",
       "18066  Краснодар              free             8                50   \n",
       "18067  Краснодар              free             8                50   \n",
       "\n",
       "       subscription_fee  \n",
       "0                   199  \n",
       "1                   199  \n",
       "2                   199  \n",
       "3                   199  \n",
       "4                   199  \n",
       "...                 ...  \n",
       "18063                 0  \n",
       "18064                 0  \n",
       "18065                 0  \n",
       "18066                 0  \n",
       "18067                 0  \n",
       "\n",
       "[18068 rows x 12 columns]"
      ]
     },
     "metadata": {},
     "output_type": "display_data"
    }
   ],
   "source": [
    "data_mrg = data_rides.copy()\n",
    "data_mrg = data_mrg.merge(data_users, how = 'left', on = 'user_id' )\n",
    "data_mrg = data_mrg.merge(data_sub, how = 'left', on='subscription_type')\n",
    "display(data_mrg)"
   ]
  },
  {
   "cell_type": "markdown",
   "id": "6b704965",
   "metadata": {},
   "source": [
    "<a id=\"s4p3\"></a>\n",
    "### 4.2 Создадим новые датафреймы с пользователями с подпиской и без"
   ]
  },
  {
   "cell_type": "markdown",
   "id": "98353abf",
   "metadata": {},
   "source": [
    "Создадим датафрейм с пользователями без подписки"
   ]
  },
  {
   "cell_type": "code",
   "execution_count": 27,
   "id": "1f350b5f",
   "metadata": {},
   "outputs": [
    {
     "data": {
      "text/html": [
       "<div>\n",
       "<style scoped>\n",
       "    .dataframe tbody tr th:only-of-type {\n",
       "        vertical-align: middle;\n",
       "    }\n",
       "\n",
       "    .dataframe tbody tr th {\n",
       "        vertical-align: top;\n",
       "    }\n",
       "\n",
       "    .dataframe thead th {\n",
       "        text-align: right;\n",
       "    }\n",
       "</style>\n",
       "<table border=\"1\" class=\"dataframe\">\n",
       "  <thead>\n",
       "    <tr style=\"text-align: right;\">\n",
       "      <th></th>\n",
       "      <th>user_id</th>\n",
       "      <th>distance</th>\n",
       "      <th>duration</th>\n",
       "      <th>date</th>\n",
       "      <th>month</th>\n",
       "      <th>name</th>\n",
       "      <th>age</th>\n",
       "      <th>city</th>\n",
       "      <th>subscription_type</th>\n",
       "      <th>minute_price</th>\n",
       "      <th>start_ride_price</th>\n",
       "      <th>subscription_fee</th>\n",
       "    </tr>\n",
       "  </thead>\n",
       "  <tbody>\n",
       "    <tr>\n",
       "      <th>6500</th>\n",
       "      <td>700</td>\n",
       "      <td>2515.690719</td>\n",
       "      <td>14.944286</td>\n",
       "      <td>2021-01-02</td>\n",
       "      <td>1</td>\n",
       "      <td>Айдар</td>\n",
       "      <td>22</td>\n",
       "      <td>Омск</td>\n",
       "      <td>free</td>\n",
       "      <td>8</td>\n",
       "      <td>50</td>\n",
       "      <td>0</td>\n",
       "    </tr>\n",
       "    <tr>\n",
       "      <th>6501</th>\n",
       "      <td>700</td>\n",
       "      <td>846.932642</td>\n",
       "      <td>16.234663</td>\n",
       "      <td>2021-02-01</td>\n",
       "      <td>2</td>\n",
       "      <td>Айдар</td>\n",
       "      <td>22</td>\n",
       "      <td>Омск</td>\n",
       "      <td>free</td>\n",
       "      <td>8</td>\n",
       "      <td>50</td>\n",
       "      <td>0</td>\n",
       "    </tr>\n",
       "    <tr>\n",
       "      <th>6502</th>\n",
       "      <td>700</td>\n",
       "      <td>4004.434142</td>\n",
       "      <td>20.016628</td>\n",
       "      <td>2021-02-04</td>\n",
       "      <td>2</td>\n",
       "      <td>Айдар</td>\n",
       "      <td>22</td>\n",
       "      <td>Омск</td>\n",
       "      <td>free</td>\n",
       "      <td>8</td>\n",
       "      <td>50</td>\n",
       "      <td>0</td>\n",
       "    </tr>\n",
       "    <tr>\n",
       "      <th>6503</th>\n",
       "      <td>700</td>\n",
       "      <td>1205.911290</td>\n",
       "      <td>9.782872</td>\n",
       "      <td>2021-02-10</td>\n",
       "      <td>2</td>\n",
       "      <td>Айдар</td>\n",
       "      <td>22</td>\n",
       "      <td>Омск</td>\n",
       "      <td>free</td>\n",
       "      <td>8</td>\n",
       "      <td>50</td>\n",
       "      <td>0</td>\n",
       "    </tr>\n",
       "    <tr>\n",
       "      <th>6504</th>\n",
       "      <td>700</td>\n",
       "      <td>3047.379435</td>\n",
       "      <td>17.427673</td>\n",
       "      <td>2021-02-14</td>\n",
       "      <td>2</td>\n",
       "      <td>Айдар</td>\n",
       "      <td>22</td>\n",
       "      <td>Омск</td>\n",
       "      <td>free</td>\n",
       "      <td>8</td>\n",
       "      <td>50</td>\n",
       "      <td>0</td>\n",
       "    </tr>\n",
       "  </tbody>\n",
       "</table>\n",
       "</div>"
      ],
      "text/plain": [
       "      user_id     distance   duration       date  month   name  age  city  \\\n",
       "6500      700  2515.690719  14.944286 2021-01-02      1  Айдар   22  Омск   \n",
       "6501      700   846.932642  16.234663 2021-02-01      2  Айдар   22  Омск   \n",
       "6502      700  4004.434142  20.016628 2021-02-04      2  Айдар   22  Омск   \n",
       "6503      700  1205.911290   9.782872 2021-02-10      2  Айдар   22  Омск   \n",
       "6504      700  3047.379435  17.427673 2021-02-14      2  Айдар   22  Омск   \n",
       "\n",
       "     subscription_type  minute_price  start_ride_price  subscription_fee  \n",
       "6500              free             8                50                 0  \n",
       "6501              free             8                50                 0  \n",
       "6502              free             8                50                 0  \n",
       "6503              free             8                50                 0  \n",
       "6504              free             8                50                 0  "
      ]
     },
     "metadata": {},
     "output_type": "display_data"
    },
    {
     "name": "stdout",
     "output_type": "stream",
     "text": [
      "Количество строк в датасете df_mrg_free: 11568\n"
     ]
    }
   ],
   "source": [
    "data_mrg_free = data_mrg[data_mrg['subscription_type'] == 'free']\n",
    "display(data_mrg_free.head())\n",
    "print('Количество строк в датасете df_mrg_free:', data_mrg_free.shape[0])"
   ]
  },
  {
   "cell_type": "markdown",
   "id": "1294de3a",
   "metadata": {},
   "source": [
    "Создадим датафрейм с пользователями с подпиской"
   ]
  },
  {
   "cell_type": "code",
   "execution_count": 28,
   "id": "224eb1e1",
   "metadata": {},
   "outputs": [
    {
     "data": {
      "text/html": [
       "<div>\n",
       "<style scoped>\n",
       "    .dataframe tbody tr th:only-of-type {\n",
       "        vertical-align: middle;\n",
       "    }\n",
       "\n",
       "    .dataframe tbody tr th {\n",
       "        vertical-align: top;\n",
       "    }\n",
       "\n",
       "    .dataframe thead th {\n",
       "        text-align: right;\n",
       "    }\n",
       "</style>\n",
       "<table border=\"1\" class=\"dataframe\">\n",
       "  <thead>\n",
       "    <tr style=\"text-align: right;\">\n",
       "      <th></th>\n",
       "      <th>user_id</th>\n",
       "      <th>distance</th>\n",
       "      <th>duration</th>\n",
       "      <th>date</th>\n",
       "      <th>month</th>\n",
       "      <th>name</th>\n",
       "      <th>age</th>\n",
       "      <th>city</th>\n",
       "      <th>subscription_type</th>\n",
       "      <th>minute_price</th>\n",
       "      <th>start_ride_price</th>\n",
       "      <th>subscription_fee</th>\n",
       "    </tr>\n",
       "  </thead>\n",
       "  <tbody>\n",
       "    <tr>\n",
       "      <th>0</th>\n",
       "      <td>1</td>\n",
       "      <td>4409.919140</td>\n",
       "      <td>25.599769</td>\n",
       "      <td>2021-01-01</td>\n",
       "      <td>1</td>\n",
       "      <td>Кира</td>\n",
       "      <td>22</td>\n",
       "      <td>Тюмень</td>\n",
       "      <td>ultra</td>\n",
       "      <td>6</td>\n",
       "      <td>0</td>\n",
       "      <td>199</td>\n",
       "    </tr>\n",
       "    <tr>\n",
       "      <th>1</th>\n",
       "      <td>1</td>\n",
       "      <td>2617.592153</td>\n",
       "      <td>15.816871</td>\n",
       "      <td>2021-01-18</td>\n",
       "      <td>1</td>\n",
       "      <td>Кира</td>\n",
       "      <td>22</td>\n",
       "      <td>Тюмень</td>\n",
       "      <td>ultra</td>\n",
       "      <td>6</td>\n",
       "      <td>0</td>\n",
       "      <td>199</td>\n",
       "    </tr>\n",
       "    <tr>\n",
       "      <th>2</th>\n",
       "      <td>1</td>\n",
       "      <td>754.159807</td>\n",
       "      <td>6.232113</td>\n",
       "      <td>2021-04-20</td>\n",
       "      <td>4</td>\n",
       "      <td>Кира</td>\n",
       "      <td>22</td>\n",
       "      <td>Тюмень</td>\n",
       "      <td>ultra</td>\n",
       "      <td>6</td>\n",
       "      <td>0</td>\n",
       "      <td>199</td>\n",
       "    </tr>\n",
       "    <tr>\n",
       "      <th>3</th>\n",
       "      <td>1</td>\n",
       "      <td>2694.783254</td>\n",
       "      <td>18.511000</td>\n",
       "      <td>2021-08-11</td>\n",
       "      <td>8</td>\n",
       "      <td>Кира</td>\n",
       "      <td>22</td>\n",
       "      <td>Тюмень</td>\n",
       "      <td>ultra</td>\n",
       "      <td>6</td>\n",
       "      <td>0</td>\n",
       "      <td>199</td>\n",
       "    </tr>\n",
       "    <tr>\n",
       "      <th>4</th>\n",
       "      <td>1</td>\n",
       "      <td>4028.687306</td>\n",
       "      <td>26.265803</td>\n",
       "      <td>2021-08-28</td>\n",
       "      <td>8</td>\n",
       "      <td>Кира</td>\n",
       "      <td>22</td>\n",
       "      <td>Тюмень</td>\n",
       "      <td>ultra</td>\n",
       "      <td>6</td>\n",
       "      <td>0</td>\n",
       "      <td>199</td>\n",
       "    </tr>\n",
       "  </tbody>\n",
       "</table>\n",
       "</div>"
      ],
      "text/plain": [
       "   user_id     distance   duration       date  month  name  age    city  \\\n",
       "0        1  4409.919140  25.599769 2021-01-01      1  Кира   22  Тюмень   \n",
       "1        1  2617.592153  15.816871 2021-01-18      1  Кира   22  Тюмень   \n",
       "2        1   754.159807   6.232113 2021-04-20      4  Кира   22  Тюмень   \n",
       "3        1  2694.783254  18.511000 2021-08-11      8  Кира   22  Тюмень   \n",
       "4        1  4028.687306  26.265803 2021-08-28      8  Кира   22  Тюмень   \n",
       "\n",
       "  subscription_type  minute_price  start_ride_price  subscription_fee  \n",
       "0             ultra             6                 0               199  \n",
       "1             ultra             6                 0               199  \n",
       "2             ultra             6                 0               199  \n",
       "3             ultra             6                 0               199  \n",
       "4             ultra             6                 0               199  "
      ]
     },
     "metadata": {},
     "output_type": "display_data"
    },
    {
     "name": "stdout",
     "output_type": "stream",
     "text": [
      "Количество строк в датасете df_mrg_ultra: 6500\n"
     ]
    }
   ],
   "source": [
    "data_mrg_ultra = data_mrg[data_mrg['subscription_type'] == 'ultra']\n",
    "display(data_mrg_ultra.head())\n",
    "print('Количество строк в датасете df_mrg_ultra:', data_mrg_ultra.shape[0])"
   ]
  },
  {
   "cell_type": "markdown",
   "id": "eca14fd7",
   "metadata": {},
   "source": [
    "<a id=\"s4p4\"></a>\n",
    "### 4.3 Визуализируем информацию о расстоянии и времени поездок для пользователей обеих категорий"
   ]
  },
  {
   "cell_type": "code",
   "execution_count": 29,
   "id": "915699de",
   "metadata": {},
   "outputs": [
    {
     "data": {
      "image/png": "[encoded data removed]",
      "text/plain": [
       "<Figure size 504x216 with 1 Axes>"
      ]
     },
     "metadata": {
      "needs_background": "light"
     },
     "output_type": "display_data"
    }
   ],
   "source": [
    "ax = data_mrg_free['distance'].plot(kind = 'hist', grid=True, figsize = (7,3), bins = 30, label='без подписки')\n",
    "ax = data_mrg_ultra['distance'].plot(kind = 'hist', grid=True, figsize = (7,3), bins = 30, label='с подпиской Ultra')\n",
    "plt.title('Расстояние одной поездки для пользователей с подпиской и без')\n",
    "plt.xlabel('расстояние, м')\n",
    "plt.ylabel('количество пользователей')\n",
    "plt.legend(loc='upper right')\n",
    "plt.show()"
   ]
  },
  {
   "cell_type": "code",
   "execution_count": 30,
   "id": "27a3716c",
   "metadata": {},
   "outputs": [
    {
     "data": {
      "image/png": "[encoded data removed]",
      "text/plain": [
       "<Figure size 504x216 with 1 Axes>"
      ]
     },
     "metadata": {
      "needs_background": "light"
     },
     "output_type": "display_data"
    }
   ],
   "source": [
    "data_mrg_free['duration'].plot(kind = 'hist', grid=True, figsize = (7,3), bins = 30, label='без подписки')\n",
    "data_mrg_ultra['duration'].plot(kind = 'hist', grid=True, figsize = (7,3), bins = 30, label='с подпиской Ultra')\n",
    "plt.title('Продолжительность одной поездки пользователей с подпиской и без')\n",
    "plt.xlabel('время, мин')\n",
    "plt.ylabel('количество пользователей')\n",
    "plt.legend(loc='upper right')\n",
    "plt.show()"
   ]
  },
  {
   "cell_type": "markdown",
   "id": "d7d32be7",
   "metadata": {},
   "source": [
    "**Вывод**\n",
    "\n",
    "Объединили 3 датафрейма в один общий. \n",
    "\n",
    "Создали еще два датафрейма с данными о пользователях с подпиской и без подписки.\n",
    "\n",
    "По двум датафреймам видим, что поездок без подписки (**11568**) почти в 2 раза больше чем с подпиской (**6500**)\n",
    "\n",
    "На сравнительных графиках видим разницу в расстоянии и времени поездок в двух категориях пользователей:\n",
    "   - пользователи без подписки чаще совершают короткие поездки до 500 метров, в то время как пик коротких поездок у пользователей с подпиской составляет 1000 метров\n",
    "   - у пользователей без подписки есть короткий пик времени до 2 минут, что характерно при бесплатном старте пользователь может совершить короткую поездку за небольшую плату в 16 рублей\n",
    "   - у пользователей с подпиской время пользования распределено нормально с медианой в 17.5 минут"
   ]
  },
  {
   "cell_type": "markdown",
   "id": "402d620f",
   "metadata": {},
   "source": [
    "<a id=\"s5p1\"></a>\n",
    "## Шаг 5. Подсчёт выручки"
   ]
  },
  {
   "cell_type": "markdown",
   "id": "c046a56d",
   "metadata": {},
   "source": [
    "<a id=\"s5p2\"></a>\n",
    "### 5.1 найдем суммарное расстояние, количество поездок и суммарное время для каждого пользователя за каждый месяц"
   ]
  },
  {
   "cell_type": "code",
   "execution_count": 31,
   "id": "53049e0a",
   "metadata": {},
   "outputs": [
    {
     "data": {
      "text/html": [
       "<div>\n",
       "<style scoped>\n",
       "    .dataframe tbody tr th:only-of-type {\n",
       "        vertical-align: middle;\n",
       "    }\n",
       "\n",
       "    .dataframe tbody tr th {\n",
       "        vertical-align: top;\n",
       "    }\n",
       "\n",
       "    .dataframe thead th {\n",
       "        text-align: right;\n",
       "    }\n",
       "</style>\n",
       "<table border=\"1\" class=\"dataframe\">\n",
       "  <thead>\n",
       "    <tr style=\"text-align: right;\">\n",
       "      <th></th>\n",
       "      <th>user_id</th>\n",
       "      <th>month</th>\n",
       "      <th>count_distance</th>\n",
       "      <th>sum_distance</th>\n",
       "      <th>sum_duration</th>\n",
       "    </tr>\n",
       "  </thead>\n",
       "  <tbody>\n",
       "    <tr>\n",
       "      <th>0</th>\n",
       "      <td>1</td>\n",
       "      <td>1</td>\n",
       "      <td>2</td>\n",
       "      <td>7027.511294</td>\n",
       "      <td>42</td>\n",
       "    </tr>\n",
       "    <tr>\n",
       "      <th>1</th>\n",
       "      <td>1</td>\n",
       "      <td>4</td>\n",
       "      <td>1</td>\n",
       "      <td>754.159807</td>\n",
       "      <td>7</td>\n",
       "    </tr>\n",
       "    <tr>\n",
       "      <th>2</th>\n",
       "      <td>1</td>\n",
       "      <td>8</td>\n",
       "      <td>2</td>\n",
       "      <td>6723.470560</td>\n",
       "      <td>46</td>\n",
       "    </tr>\n",
       "    <tr>\n",
       "      <th>3</th>\n",
       "      <td>1</td>\n",
       "      <td>10</td>\n",
       "      <td>2</td>\n",
       "      <td>5809.911100</td>\n",
       "      <td>32</td>\n",
       "    </tr>\n",
       "    <tr>\n",
       "      <th>4</th>\n",
       "      <td>1</td>\n",
       "      <td>11</td>\n",
       "      <td>3</td>\n",
       "      <td>7003.499363</td>\n",
       "      <td>56</td>\n",
       "    </tr>\n",
       "    <tr>\n",
       "      <th>...</th>\n",
       "      <td>...</td>\n",
       "      <td>...</td>\n",
       "      <td>...</td>\n",
       "      <td>...</td>\n",
       "      <td>...</td>\n",
       "    </tr>\n",
       "    <tr>\n",
       "      <th>11326</th>\n",
       "      <td>1534</td>\n",
       "      <td>6</td>\n",
       "      <td>2</td>\n",
       "      <td>3409.468534</td>\n",
       "      <td>26</td>\n",
       "    </tr>\n",
       "    <tr>\n",
       "      <th>11327</th>\n",
       "      <td>1534</td>\n",
       "      <td>8</td>\n",
       "      <td>2</td>\n",
       "      <td>7622.453034</td>\n",
       "      <td>48</td>\n",
       "    </tr>\n",
       "    <tr>\n",
       "      <th>11328</th>\n",
       "      <td>1534</td>\n",
       "      <td>9</td>\n",
       "      <td>1</td>\n",
       "      <td>4928.173852</td>\n",
       "      <td>23</td>\n",
       "    </tr>\n",
       "    <tr>\n",
       "      <th>11329</th>\n",
       "      <td>1534</td>\n",
       "      <td>11</td>\n",
       "      <td>4</td>\n",
       "      <td>13350.015305</td>\n",
       "      <td>78</td>\n",
       "    </tr>\n",
       "    <tr>\n",
       "      <th>11330</th>\n",
       "      <td>1534</td>\n",
       "      <td>12</td>\n",
       "      <td>1</td>\n",
       "      <td>2371.711192</td>\n",
       "      <td>16</td>\n",
       "    </tr>\n",
       "  </tbody>\n",
       "</table>\n",
       "<p>11331 rows × 5 columns</p>\n",
       "</div>"
      ],
      "text/plain": [
       "       user_id  month  count_distance  sum_distance  sum_duration\n",
       "0            1      1               2   7027.511294            42\n",
       "1            1      4               1    754.159807             7\n",
       "2            1      8               2   6723.470560            46\n",
       "3            1     10               2   5809.911100            32\n",
       "4            1     11               3   7003.499363            56\n",
       "...        ...    ...             ...           ...           ...\n",
       "11326     1534      6               2   3409.468534            26\n",
       "11327     1534      8               2   7622.453034            48\n",
       "11328     1534      9               1   4928.173852            23\n",
       "11329     1534     11               4  13350.015305            78\n",
       "11330     1534     12               1   2371.711192            16\n",
       "\n",
       "[11331 rows x 5 columns]"
      ]
     },
     "metadata": {},
     "output_type": "display_data"
    }
   ],
   "source": [
    "# округлим время поезки до следующего целого числа\n",
    "data_mrg['duration'] = np.ceil(data_mrg['duration'])\n",
    "data_mrg['duration'] = data_mrg['duration'].astype('int')\n",
    "\n",
    "data_mrg_agg = data_mrg.pivot_table(index= ['user_id', 'month'], values = ['distance', 'duration'], aggfunc = ['count', 'sum'])\n",
    "data_mrg_agg.columns = ['_'.join(col) for col in data_mrg_agg.columns.values]\n",
    "data_mrg_agg = data_mrg_agg.drop(columns=['count_duration'])\n",
    "data_mrg_agg = data_mrg_agg.reset_index()\n",
    "display(data_mrg_agg)"
   ]
  },
  {
   "cell_type": "markdown",
   "id": "b3f6cc5d",
   "metadata": {},
   "source": [
    "- `count_distance` - количество поездок за месяц\n",
    "- `sum_distance` - общая дистанция за месяц\n",
    "- `sum_duration` - общая продолжительность поездок за месяц"
   ]
  },
  {
   "cell_type": "markdown",
   "id": "a8010504",
   "metadata": {},
   "source": [
    "<a id=\"s5p3\"></a>\n",
    "### 5.2 Добавляем столбец с помесячной выручкой, которую принёс каждый пользователь"
   ]
  },
  {
   "cell_type": "code",
   "execution_count": 32,
   "id": "74dd5900",
   "metadata": {},
   "outputs": [
    {
     "data": {
      "text/html": [
       "<div>\n",
       "<style scoped>\n",
       "    .dataframe tbody tr th:only-of-type {\n",
       "        vertical-align: middle;\n",
       "    }\n",
       "\n",
       "    .dataframe tbody tr th {\n",
       "        vertical-align: top;\n",
       "    }\n",
       "\n",
       "    .dataframe thead th {\n",
       "        text-align: right;\n",
       "    }\n",
       "</style>\n",
       "<table border=\"1\" class=\"dataframe\">\n",
       "  <thead>\n",
       "    <tr style=\"text-align: right;\">\n",
       "      <th></th>\n",
       "      <th>user_id</th>\n",
       "      <th>month</th>\n",
       "      <th>count_distance</th>\n",
       "      <th>sum_distance</th>\n",
       "      <th>sum_duration</th>\n",
       "      <th>name</th>\n",
       "      <th>age</th>\n",
       "      <th>city</th>\n",
       "      <th>subscription_type</th>\n",
       "      <th>minute_price</th>\n",
       "      <th>start_ride_price</th>\n",
       "      <th>subscription_fee</th>\n",
       "    </tr>\n",
       "  </thead>\n",
       "  <tbody>\n",
       "    <tr>\n",
       "      <th>0</th>\n",
       "      <td>1</td>\n",
       "      <td>1</td>\n",
       "      <td>2</td>\n",
       "      <td>7027.511294</td>\n",
       "      <td>42</td>\n",
       "      <td>Кира</td>\n",
       "      <td>22</td>\n",
       "      <td>Тюмень</td>\n",
       "      <td>ultra</td>\n",
       "      <td>6</td>\n",
       "      <td>0</td>\n",
       "      <td>199</td>\n",
       "    </tr>\n",
       "    <tr>\n",
       "      <th>1</th>\n",
       "      <td>1</td>\n",
       "      <td>4</td>\n",
       "      <td>1</td>\n",
       "      <td>754.159807</td>\n",
       "      <td>7</td>\n",
       "      <td>Кира</td>\n",
       "      <td>22</td>\n",
       "      <td>Тюмень</td>\n",
       "      <td>ultra</td>\n",
       "      <td>6</td>\n",
       "      <td>0</td>\n",
       "      <td>199</td>\n",
       "    </tr>\n",
       "    <tr>\n",
       "      <th>2</th>\n",
       "      <td>1</td>\n",
       "      <td>8</td>\n",
       "      <td>2</td>\n",
       "      <td>6723.470560</td>\n",
       "      <td>46</td>\n",
       "      <td>Кира</td>\n",
       "      <td>22</td>\n",
       "      <td>Тюмень</td>\n",
       "      <td>ultra</td>\n",
       "      <td>6</td>\n",
       "      <td>0</td>\n",
       "      <td>199</td>\n",
       "    </tr>\n",
       "    <tr>\n",
       "      <th>3</th>\n",
       "      <td>1</td>\n",
       "      <td>10</td>\n",
       "      <td>2</td>\n",
       "      <td>5809.911100</td>\n",
       "      <td>32</td>\n",
       "      <td>Кира</td>\n",
       "      <td>22</td>\n",
       "      <td>Тюмень</td>\n",
       "      <td>ultra</td>\n",
       "      <td>6</td>\n",
       "      <td>0</td>\n",
       "      <td>199</td>\n",
       "    </tr>\n",
       "    <tr>\n",
       "      <th>4</th>\n",
       "      <td>1</td>\n",
       "      <td>11</td>\n",
       "      <td>3</td>\n",
       "      <td>7003.499363</td>\n",
       "      <td>56</td>\n",
       "      <td>Кира</td>\n",
       "      <td>22</td>\n",
       "      <td>Тюмень</td>\n",
       "      <td>ultra</td>\n",
       "      <td>6</td>\n",
       "      <td>0</td>\n",
       "      <td>199</td>\n",
       "    </tr>\n",
       "    <tr>\n",
       "      <th>...</th>\n",
       "      <td>...</td>\n",
       "      <td>...</td>\n",
       "      <td>...</td>\n",
       "      <td>...</td>\n",
       "      <td>...</td>\n",
       "      <td>...</td>\n",
       "      <td>...</td>\n",
       "      <td>...</td>\n",
       "      <td>...</td>\n",
       "      <td>...</td>\n",
       "      <td>...</td>\n",
       "      <td>...</td>\n",
       "    </tr>\n",
       "    <tr>\n",
       "      <th>11326</th>\n",
       "      <td>1534</td>\n",
       "      <td>6</td>\n",
       "      <td>2</td>\n",
       "      <td>3409.468534</td>\n",
       "      <td>26</td>\n",
       "      <td>Альберт</td>\n",
       "      <td>25</td>\n",
       "      <td>Краснодар</td>\n",
       "      <td>free</td>\n",
       "      <td>8</td>\n",
       "      <td>50</td>\n",
       "      <td>0</td>\n",
       "    </tr>\n",
       "    <tr>\n",
       "      <th>11327</th>\n",
       "      <td>1534</td>\n",
       "      <td>8</td>\n",
       "      <td>2</td>\n",
       "      <td>7622.453034</td>\n",
       "      <td>48</td>\n",
       "      <td>Альберт</td>\n",
       "      <td>25</td>\n",
       "      <td>Краснодар</td>\n",
       "      <td>free</td>\n",
       "      <td>8</td>\n",
       "      <td>50</td>\n",
       "      <td>0</td>\n",
       "    </tr>\n",
       "    <tr>\n",
       "      <th>11328</th>\n",
       "      <td>1534</td>\n",
       "      <td>9</td>\n",
       "      <td>1</td>\n",
       "      <td>4928.173852</td>\n",
       "      <td>23</td>\n",
       "      <td>Альберт</td>\n",
       "      <td>25</td>\n",
       "      <td>Краснодар</td>\n",
       "      <td>free</td>\n",
       "      <td>8</td>\n",
       "      <td>50</td>\n",
       "      <td>0</td>\n",
       "    </tr>\n",
       "    <tr>\n",
       "      <th>11329</th>\n",
       "      <td>1534</td>\n",
       "      <td>11</td>\n",
       "      <td>4</td>\n",
       "      <td>13350.015305</td>\n",
       "      <td>78</td>\n",
       "      <td>Альберт</td>\n",
       "      <td>25</td>\n",
       "      <td>Краснодар</td>\n",
       "      <td>free</td>\n",
       "      <td>8</td>\n",
       "      <td>50</td>\n",
       "      <td>0</td>\n",
       "    </tr>\n",
       "    <tr>\n",
       "      <th>11330</th>\n",
       "      <td>1534</td>\n",
       "      <td>12</td>\n",
       "      <td>1</td>\n",
       "      <td>2371.711192</td>\n",
       "      <td>16</td>\n",
       "      <td>Альберт</td>\n",
       "      <td>25</td>\n",
       "      <td>Краснодар</td>\n",
       "      <td>free</td>\n",
       "      <td>8</td>\n",
       "      <td>50</td>\n",
       "      <td>0</td>\n",
       "    </tr>\n",
       "  </tbody>\n",
       "</table>\n",
       "<p>11331 rows × 12 columns</p>\n",
       "</div>"
      ],
      "text/plain": [
       "       user_id  month  count_distance  sum_distance  sum_duration     name  \\\n",
       "0            1      1               2   7027.511294            42     Кира   \n",
       "1            1      4               1    754.159807             7     Кира   \n",
       "2            1      8               2   6723.470560            46     Кира   \n",
       "3            1     10               2   5809.911100            32     Кира   \n",
       "4            1     11               3   7003.499363            56     Кира   \n",
       "...        ...    ...             ...           ...           ...      ...   \n",
       "11326     1534      6               2   3409.468534            26  Альберт   \n",
       "11327     1534      8               2   7622.453034            48  Альберт   \n",
       "11328     1534      9               1   4928.173852            23  Альберт   \n",
       "11329     1534     11               4  13350.015305            78  Альберт   \n",
       "11330     1534     12               1   2371.711192            16  Альберт   \n",
       "\n",
       "       age       city subscription_type  minute_price  start_ride_price  \\\n",
       "0       22     Тюмень             ultra             6                 0   \n",
       "1       22     Тюмень             ultra             6                 0   \n",
       "2       22     Тюмень             ultra             6                 0   \n",
       "3       22     Тюмень             ultra             6                 0   \n",
       "4       22     Тюмень             ultra             6                 0   \n",
       "...    ...        ...               ...           ...               ...   \n",
       "11326   25  Краснодар              free             8                50   \n",
       "11327   25  Краснодар              free             8                50   \n",
       "11328   25  Краснодар              free             8                50   \n",
       "11329   25  Краснодар              free             8                50   \n",
       "11330   25  Краснодар              free             8                50   \n",
       "\n",
       "       subscription_fee  \n",
       "0                   199  \n",
       "1                   199  \n",
       "2                   199  \n",
       "3                   199  \n",
       "4                   199  \n",
       "...                 ...  \n",
       "11326                 0  \n",
       "11327                 0  \n",
       "11328                 0  \n",
       "11329                 0  \n",
       "11330                 0  \n",
       "\n",
       "[11331 rows x 12 columns]"
      ]
     },
     "metadata": {},
     "output_type": "display_data"
    }
   ],
   "source": [
    "data_mrg_agg = data_mrg_agg.merge(data_users, how='left', on='user_id')\n",
    "data_mrg_agg = data_mrg_agg.merge(data_sub, how = 'left', on='subscription_type')\n",
    "display(data_mrg_agg)"
   ]
  },
  {
   "cell_type": "code",
   "execution_count": 33,
   "id": "a3b404fe",
   "metadata": {},
   "outputs": [
    {
     "data": {
      "text/html": [
       "<div>\n",
       "<style scoped>\n",
       "    .dataframe tbody tr th:only-of-type {\n",
       "        vertical-align: middle;\n",
       "    }\n",
       "\n",
       "    .dataframe tbody tr th {\n",
       "        vertical-align: top;\n",
       "    }\n",
       "\n",
       "    .dataframe thead th {\n",
       "        text-align: right;\n",
       "    }\n",
       "</style>\n",
       "<table border=\"1\" class=\"dataframe\">\n",
       "  <thead>\n",
       "    <tr style=\"text-align: right;\">\n",
       "      <th></th>\n",
       "      <th>user_id</th>\n",
       "      <th>name</th>\n",
       "      <th>month</th>\n",
       "      <th>gain</th>\n",
       "    </tr>\n",
       "  </thead>\n",
       "  <tbody>\n",
       "    <tr>\n",
       "      <th>0</th>\n",
       "      <td>1</td>\n",
       "      <td>Кира</td>\n",
       "      <td>1</td>\n",
       "      <td>451</td>\n",
       "    </tr>\n",
       "    <tr>\n",
       "      <th>1</th>\n",
       "      <td>1</td>\n",
       "      <td>Кира</td>\n",
       "      <td>4</td>\n",
       "      <td>241</td>\n",
       "    </tr>\n",
       "    <tr>\n",
       "      <th>2</th>\n",
       "      <td>1</td>\n",
       "      <td>Кира</td>\n",
       "      <td>8</td>\n",
       "      <td>475</td>\n",
       "    </tr>\n",
       "    <tr>\n",
       "      <th>3</th>\n",
       "      <td>1</td>\n",
       "      <td>Кира</td>\n",
       "      <td>10</td>\n",
       "      <td>391</td>\n",
       "    </tr>\n",
       "    <tr>\n",
       "      <th>4</th>\n",
       "      <td>1</td>\n",
       "      <td>Кира</td>\n",
       "      <td>11</td>\n",
       "      <td>535</td>\n",
       "    </tr>\n",
       "    <tr>\n",
       "      <th>...</th>\n",
       "      <td>...</td>\n",
       "      <td>...</td>\n",
       "      <td>...</td>\n",
       "      <td>...</td>\n",
       "    </tr>\n",
       "    <tr>\n",
       "      <th>11326</th>\n",
       "      <td>1534</td>\n",
       "      <td>Альберт</td>\n",
       "      <td>6</td>\n",
       "      <td>308</td>\n",
       "    </tr>\n",
       "    <tr>\n",
       "      <th>11327</th>\n",
       "      <td>1534</td>\n",
       "      <td>Альберт</td>\n",
       "      <td>8</td>\n",
       "      <td>484</td>\n",
       "    </tr>\n",
       "    <tr>\n",
       "      <th>11328</th>\n",
       "      <td>1534</td>\n",
       "      <td>Альберт</td>\n",
       "      <td>9</td>\n",
       "      <td>234</td>\n",
       "    </tr>\n",
       "    <tr>\n",
       "      <th>11329</th>\n",
       "      <td>1534</td>\n",
       "      <td>Альберт</td>\n",
       "      <td>11</td>\n",
       "      <td>824</td>\n",
       "    </tr>\n",
       "    <tr>\n",
       "      <th>11330</th>\n",
       "      <td>1534</td>\n",
       "      <td>Альберт</td>\n",
       "      <td>12</td>\n",
       "      <td>178</td>\n",
       "    </tr>\n",
       "  </tbody>\n",
       "</table>\n",
       "<p>11331 rows × 4 columns</p>\n",
       "</div>"
      ],
      "text/plain": [
       "       user_id     name  month  gain\n",
       "0            1     Кира      1   451\n",
       "1            1     Кира      4   241\n",
       "2            1     Кира      8   475\n",
       "3            1     Кира     10   391\n",
       "4            1     Кира     11   535\n",
       "...        ...      ...    ...   ...\n",
       "11326     1534  Альберт      6   308\n",
       "11327     1534  Альберт      8   484\n",
       "11328     1534  Альберт      9   234\n",
       "11329     1534  Альберт     11   824\n",
       "11330     1534  Альберт     12   178\n",
       "\n",
       "[11331 rows x 4 columns]"
      ]
     },
     "metadata": {},
     "output_type": "display_data"
    }
   ],
   "source": [
    "# Добавляем столбец с помесячной выручкой, которую принёс каждый пользователь\n",
    "def gain(row):\n",
    "    gain_sum = 0\n",
    "    gain_sum = (row['start_ride_price'] * row['count_distance'] +\n",
    "              row['minute_price'] * row['sum_duration'] +\n",
    "              row['subscription_fee']\n",
    "              )\n",
    "    return gain_sum\n",
    "\n",
    "data_mrg_agg['gain'] = data_mrg_agg.apply(gain, axis=1)\n",
    "display(data_mrg_agg[['user_id', 'name', 'month', 'gain']])"
   ]
  },
  {
   "cell_type": "markdown",
   "id": "41545ac0",
   "metadata": {},
   "source": [
    "<a id=\"s6p1\"></a>\n",
    "## Шаг 6. Проверка гипотез"
   ]
  },
  {
   "cell_type": "markdown",
   "id": "629cb5be",
   "metadata": {},
   "source": [
    "<a id=\"s6p2\"></a>\n",
    "### 6.1 Сравним две выборки, data_mrg_free и data_mrg_ultra и проверим гипотезы"
   ]
  },
  {
   "cell_type": "markdown",
   "id": "6741f989",
   "metadata": {},
   "source": [
    "Важно понять, тратят ли пользователи с подпиской больше времени на поездки? Если да, то пользователи с подпиской могут быть «выгоднее» для компании. Проверьте гипотезу. Используйте исходные данные о продолжительности каждой сессии — отдельно для подписчиков и тех, у кого нет подписки.\n",
    "\n",
    "- Нулевая гипотеза: среднее время поездок пользователей с подпиской и пользователей без подписки равны\n",
    "- Альтернативная гипотеза: пользователи с подпиской тратят больше времени"
   ]
  },
  {
   "cell_type": "code",
   "execution_count": 34,
   "id": "76cd995f",
   "metadata": {},
   "outputs": [
    {
     "name": "stdout",
     "output_type": "stream",
     "text": [
      "p-значение: 1.2804098316645618e-34\n",
      "Отвергаем нулевую гипотезу\n"
     ]
    }
   ],
   "source": [
    "alpha = 0.05 # уровень статистической значимости\n",
    "\n",
    "results = st.ttest_ind(data_mrg_ultra['duration'], data_mrg_free['duration'], alternative='greater')\n",
    "\n",
    "print('p-значение:', results.pvalue)\n",
    "\n",
    "if results.pvalue < alpha:\n",
    "    print('Отвергаем нулевую гипотезу')\n",
    "else:\n",
    "    print('Не отвергаем нулевую гипотезу')"
   ]
  },
  {
   "cell_type": "markdown",
   "id": "3a715096",
   "metadata": {},
   "source": [
    "Гипотеза верна: среднее время поездок пользователей с подпиской больше время поездок пользователей без подписки"
   ]
  },
  {
   "cell_type": "code",
   "execution_count": 35,
   "id": "7258dddb",
   "metadata": {},
   "outputs": [
    {
     "name": "stdout",
     "output_type": "stream",
     "text": [
      "Среднее время поездки пользователей c подпиской: 18.54\n",
      "Среднее время поездки пользователей без подписки: 17.39\n"
     ]
    }
   ],
   "source": [
    "# проверка\n",
    "print('Среднее время поездки пользователей c подпиской:', round(data_mrg_ultra['duration'].mean(),2))\n",
    "print('Среднее время поездки пользователей без подписки:', round(data_mrg_free['duration'].mean(),2))"
   ]
  },
  {
   "cell_type": "markdown",
   "id": "7824cd00",
   "metadata": {},
   "source": [
    "<a id=\"s6p3\"></a>\n",
    "### 6.2 Расстояние одной поездки в 3130 метров — оптимальное ?"
   ]
  },
  {
   "cell_type": "markdown",
   "id": "e0624046",
   "metadata": {},
   "source": [
    "Расстояние одной поездки в 3130 метров — оптимальное с точки зрения износа самоката. Можно ли сказать, что расстояние, которое проезжают пользователи с подпиской за одну поездку, не превышает 3130 метров? Проверьте гипотезу и сделайте выводы.\n",
    "\n",
    "Проверим гипотезы:\n",
    "\n",
    "- Нулевая гипотеза: среднее расстояние поездки пользователи с подпиской равна 3130 метрам\n",
    "- Альтернативная гипотеза: подписчики в среднем проезжают расстояние больше оптимального\""
   ]
  },
  {
   "cell_type": "code",
   "execution_count": 36,
   "id": "f9cbb09a",
   "metadata": {},
   "outputs": [
    {
     "name": "stdout",
     "output_type": "stream",
     "text": [
      "p-значение: 0.9195368847849785\n",
      "Не получилось отвергнуть нулевую гипотезу\n"
     ]
    }
   ],
   "source": [
    "interested_value = 3130 \n",
    "\n",
    "alpha = 0.05\n",
    "\n",
    "results = st.ttest_1samp(data_mrg_ultra['distance'], interested_value, alternative='greater')\n",
    "\n",
    "print('p-значение:', results.pvalue)\n",
    "\n",
    "if results.pvalue < alpha:\n",
    "    print('Отвергаем нулевую гипотезу')\n",
    "else:\n",
    "    print('Не получилось отвергнуть нулевую гипотезу')"
   ]
  },
  {
   "cell_type": "code",
   "execution_count": 37,
   "id": "cb607db3",
   "metadata": {},
   "outputs": [
    {
     "name": "stdout",
     "output_type": "stream",
     "text": [
      "Средняя дистанция поездки пользователей c подпиской: 3115.0\n"
     ]
    }
   ],
   "source": [
    "print('Средняя дистанция поездки пользователей c подпиской:', round(data_mrg_ultra['distance'].mean(),0))"
   ]
  },
  {
   "cell_type": "markdown",
   "id": "6efd1d5b",
   "metadata": {},
   "source": [
    "Не получилось опровергнуть нулевую гипотезу, пользователи не превышают оптимальное время поездки в 3110 минут"
   ]
  },
  {
   "cell_type": "markdown",
   "id": "1237ec3a",
   "metadata": {},
   "source": [
    "<a id=\"s6p4\"></a>\n",
    "### 6.3 Помесячная выручка от пользователей с подпиской по месяцам выше, чем выручка от пользователей без подписки"
   ]
  },
  {
   "cell_type": "markdown",
   "id": "9bf192a7",
   "metadata": {},
   "source": [
    "Проверьте гипотезу о том, будет ли помесячная выручка от пользователей с подпиской по месяцам выше, чем выручка от пользователей без подписки. Сделайте вывод.\n",
    "\n",
    "- Нулевая гипотеза: помесячная выручка от пользователей с подпиской и без равны.\n",
    "- Альтернативная гипотеза: помесячная выручка от пользователей с подпиской выше чем выручка от пользователей без подписки"
   ]
  },
  {
   "cell_type": "code",
   "execution_count": 38,
   "id": "8cee5184",
   "metadata": {},
   "outputs": [
    {
     "name": "stdout",
     "output_type": "stream",
     "text": [
      "p-значение: 1.8850394384715216e-31\n",
      "Отвергаем нулевую гипотезу\n"
     ]
    }
   ],
   "source": [
    "# создадим две выборки с посчитанной помесячной выручкой\n",
    "data_mrg_agg_ultra = data_mrg_agg[data_mrg_agg['subscription_type'] == 'ultra']\n",
    "data_mrg_agg_free = data_mrg_agg[data_mrg_agg['subscription_type'] == 'free']\n",
    "\n",
    "alpha = 0.05 \n",
    "\n",
    "results = st.ttest_ind(data_mrg_agg_ultra['gain'], data_mrg_agg_free['gain'], alternative='greater')\n",
    "\n",
    "print('p-значение:', results.pvalue)\n",
    "\n",
    "if results.pvalue < alpha:\n",
    "    print('Отвергаем нулевую гипотезу')\n",
    "else:\n",
    "    print('Нет оснований отвергнуть нулевую гипотезу')"
   ]
  },
  {
   "cell_type": "markdown",
   "id": "dd1dadeb",
   "metadata": {},
   "source": [
    "Полученное значение p-value меньше заданного уровня значимости, поэтому можно отвергнуть нулевую гипотезу. Есть основания говорить, что помесячная выручка от пользователи с подпиской больше."
   ]
  },
  {
   "cell_type": "code",
   "execution_count": 39,
   "id": "4ea6c163",
   "metadata": {},
   "outputs": [
    {
     "name": "stdout",
     "output_type": "stream",
     "text": [
      "Средняя помесячная выручка от пользователи с подпиской: 362.79\n",
      "Средняя помесячная выручка от пользователи без подписки: 328.64\n"
     ]
    }
   ],
   "source": [
    "# проверка\n",
    "print('Средняя помесячная выручка от пользователи с подпиской:', round(data_mrg_agg_ultra['gain'].mean(),2))\n",
    "print('Средняя помесячная выручка от пользователи без подписки:', round(data_mrg_agg_free['gain'].mean(),2))"
   ]
  },
  {
   "cell_type": "markdown",
   "id": "698ba240",
   "metadata": {},
   "source": [
    "Альтернативная гипотеза верна и пользователи с подпиской приносят ежемесячно больше денег пользователей без подписки."
   ]
  },
  {
   "cell_type": "markdown",
   "id": "50a2d2f4",
   "metadata": {},
   "source": [
    "**Вывод**"
   ]
  },
  {
   "cell_type": "markdown",
   "id": "2e2f3615",
   "metadata": {},
   "source": [
    "Исследование проводилось на выборке из 1534 пользователей с подпиской и без, из 8 разных городов.\n",
    "\n",
    "Среднее время поездки **17.7 мин**\n",
    "\n",
    "Из них:\n",
    "   - Пользователей без подписки (**54.4%**) больше чем больше чем пользователей с подпиской Ultra (**45.6%**)\n",
    "   - При этом, пользователей из Москвы было меньше всего\n",
    "\n",
    "\n",
    "В ходе анализа нужно было подтвердить следующие гипотезы:\n",
    "\n",
    " 1. тратят ли пользователи с подпиской больше времени на поездки?\n",
    " 2. расстояние, которое проезжают пользователи с подпиской за одну поездку, не превышает 3130 метров?\n",
    " 3. помесячная выручка от пользователей с подпиской по месяцам выше, чем выручка от пользователей без подписки?\n",
    "\n",
    "В первом случае, гипотеза оказалась верна: среднее время поездок пользователей с подпиской больше время поездок пользователей без подписки.\n",
    "   - Среднее время поездки пользователей c подпиской: **18.54**\n",
    "   - Среднее время поездки пользователей без подписки: **17.39**\n",
    "\n",
    "Во втором случае не получилось опровергнуть нулевую гипотезу, пользователи не превышают оптимальное время поездки в 3110 минут.\n",
    "   - Средняя дистанция поездки пользователей c подпиской: **3115.0 м**\n",
    "   \n",
    "В третьем случае альтернативная гипотеза оказалась верна и пользователи с подпиской приносят ежемесячно больше денег пользователей без подписки.\n",
    "   - Средняя помесячная выручка от пользователи с подпиской: **362.79**\n",
    "   - Средняя помесячная выручка от пользователи без подписки: **328.64**"
   ]
  }
 ],
 "metadata": {
  "ExecuteTimeLog": [
   {
    "duration": 1378,
    "start_time": "2023-11-29T18:33:45.845Z"
   },
   {
    "duration": 3,
    "start_time": "2023-11-29T18:34:02.409Z"
   },
   {
    "duration": 2,
    "start_time": "2023-11-29T18:39:36.213Z"
   },
   {
    "duration": 4,
    "start_time": "2023-11-29T18:40:34.516Z"
   },
   {
    "duration": 3,
    "start_time": "2023-11-29T18:40:44.573Z"
   },
   {
    "duration": 287,
    "start_time": "2023-11-29T18:40:51.001Z"
   },
   {
    "duration": 63,
    "start_time": "2023-11-29T18:41:54.775Z"
   },
   {
    "duration": 19,
    "start_time": "2023-11-29T18:42:01.528Z"
   },
   {
    "duration": 16,
    "start_time": "2023-11-29T18:46:54.694Z"
   },
   {
    "duration": 3,
    "start_time": "2023-11-29T18:47:16.733Z"
   },
   {
    "duration": 3,
    "start_time": "2023-11-29T18:47:20.569Z"
   },
   {
    "duration": 2,
    "start_time": "2023-11-29T18:47:23.694Z"
   },
   {
    "duration": 65,
    "start_time": "2023-11-29T18:47:28.525Z"
   },
   {
    "duration": 14,
    "start_time": "2023-11-29T18:48:02.613Z"
   },
   {
    "duration": 2,
    "start_time": "2023-11-29T18:50:20.062Z"
   },
   {
    "duration": 7,
    "start_time": "2023-11-29T18:50:42.281Z"
   },
   {
    "duration": 3,
    "start_time": "2023-11-29T18:51:00.822Z"
   },
   {
    "duration": 6,
    "start_time": "2023-11-29T18:51:05.053Z"
   },
   {
    "duration": 8,
    "start_time": "2023-11-29T18:51:55.857Z"
   },
   {
    "duration": 8,
    "start_time": "2023-11-29T18:52:00.174Z"
   },
   {
    "duration": 11,
    "start_time": "2023-11-29T18:54:01.914Z"
   },
   {
    "duration": 6,
    "start_time": "2023-11-29T18:54:11.609Z"
   },
   {
    "duration": 4,
    "start_time": "2023-11-29T18:55:05.814Z"
   },
   {
    "duration": 8,
    "start_time": "2023-11-29T18:56:21.969Z"
   },
   {
    "duration": 14,
    "start_time": "2023-11-29T18:56:27.486Z"
   },
   {
    "duration": 11,
    "start_time": "2023-11-29T18:57:21.145Z"
   },
   {
    "duration": 6,
    "start_time": "2023-11-29T19:00:27.558Z"
   },
   {
    "duration": 62,
    "start_time": "2023-11-29T19:01:07.618Z"
   },
   {
    "duration": 91,
    "start_time": "2023-11-29T19:02:32.454Z"
   },
   {
    "duration": 7,
    "start_time": "2023-11-29T19:02:35.797Z"
   },
   {
    "duration": 10,
    "start_time": "2023-11-29T19:03:45.406Z"
   },
   {
    "duration": 8,
    "start_time": "2023-11-29T19:05:38.045Z"
   },
   {
    "duration": 14,
    "start_time": "2023-11-29T19:05:41.926Z"
   },
   {
    "duration": 8,
    "start_time": "2023-11-29T19:07:16.318Z"
   },
   {
    "duration": 7,
    "start_time": "2023-11-29T19:07:25.626Z"
   },
   {
    "duration": 10,
    "start_time": "2023-11-29T19:07:29.470Z"
   },
   {
    "duration": 18,
    "start_time": "2023-11-29T19:07:37.701Z"
   },
   {
    "duration": 7,
    "start_time": "2023-11-29T19:13:26.005Z"
   },
   {
    "duration": 10,
    "start_time": "2023-11-29T19:13:31.558Z"
   },
   {
    "duration": 9,
    "start_time": "2023-11-29T19:13:36.918Z"
   },
   {
    "duration": 15,
    "start_time": "2023-11-29T19:13:45.587Z"
   },
   {
    "duration": 5,
    "start_time": "2023-11-29T19:17:24.351Z"
   },
   {
    "duration": 5,
    "start_time": "2023-11-29T19:17:48.200Z"
   },
   {
    "duration": 6,
    "start_time": "2023-11-29T19:18:08.594Z"
   },
   {
    "duration": 7,
    "start_time": "2023-11-29T19:18:09.782Z"
   },
   {
    "duration": 8,
    "start_time": "2023-11-29T19:18:25.446Z"
   },
   {
    "duration": 9,
    "start_time": "2023-11-29T19:18:40.717Z"
   },
   {
    "duration": 10,
    "start_time": "2023-11-29T19:18:42.001Z"
   },
   {
    "duration": 5,
    "start_time": "2023-11-29T19:18:51.546Z"
   },
   {
    "duration": 3,
    "start_time": "2023-11-29T19:19:23.210Z"
   },
   {
    "duration": 2,
    "start_time": "2023-11-29T19:21:03.655Z"
   },
   {
    "duration": 5,
    "start_time": "2023-11-29T19:25:56.140Z"
   },
   {
    "duration": 5,
    "start_time": "2023-11-29T19:26:05.366Z"
   },
   {
    "duration": 9,
    "start_time": "2023-11-29T19:26:15.507Z"
   },
   {
    "duration": 4,
    "start_time": "2023-11-29T19:26:22.923Z"
   },
   {
    "duration": 4,
    "start_time": "2023-11-29T19:26:26.254Z"
   },
   {
    "duration": 107,
    "start_time": "2023-11-29T19:26:47.922Z"
   },
   {
    "duration": 179,
    "start_time": "2023-11-29T19:33:58.135Z"
   },
   {
    "duration": 163,
    "start_time": "2023-11-29T19:34:05.874Z"
   },
   {
    "duration": 153,
    "start_time": "2023-11-29T19:35:44.515Z"
   },
   {
    "duration": 158,
    "start_time": "2023-11-29T19:36:00.271Z"
   },
   {
    "duration": 137,
    "start_time": "2023-11-29T19:36:36.843Z"
   },
   {
    "duration": 134,
    "start_time": "2023-11-29T19:36:39.307Z"
   },
   {
    "duration": 15,
    "start_time": "2023-11-29T19:36:52.014Z"
   },
   {
    "duration": 137,
    "start_time": "2023-11-29T19:41:59.042Z"
   },
   {
    "duration": 138,
    "start_time": "2023-11-29T19:42:01.645Z"
   },
   {
    "duration": 133,
    "start_time": "2023-11-29T19:42:41.186Z"
   },
   {
    "duration": 9,
    "start_time": "2023-11-29T19:42:50.199Z"
   },
   {
    "duration": 153,
    "start_time": "2023-11-29T19:43:03.527Z"
   },
   {
    "duration": 156,
    "start_time": "2023-11-29T19:43:15.534Z"
   },
   {
    "duration": 154,
    "start_time": "2023-11-29T19:43:18.763Z"
   },
   {
    "duration": 181,
    "start_time": "2023-11-29T19:43:23.359Z"
   },
   {
    "duration": 167,
    "start_time": "2023-11-29T19:43:38.471Z"
   },
   {
    "duration": 164,
    "start_time": "2023-11-29T19:43:42.191Z"
   },
   {
    "duration": 161,
    "start_time": "2023-11-29T19:44:03.067Z"
   },
   {
    "duration": 164,
    "start_time": "2023-11-29T19:44:09.615Z"
   },
   {
    "duration": 171,
    "start_time": "2023-11-29T19:44:14.515Z"
   },
   {
    "duration": 155,
    "start_time": "2023-11-29T19:45:06.983Z"
   },
   {
    "duration": 455,
    "start_time": "2023-11-29T19:45:11.591Z"
   },
   {
    "duration": 191,
    "start_time": "2023-11-29T19:45:29.038Z"
   },
   {
    "duration": 197,
    "start_time": "2023-11-29T19:45:37.915Z"
   },
   {
    "duration": 184,
    "start_time": "2023-11-29T19:45:42.714Z"
   },
   {
    "duration": 3,
    "start_time": "2023-11-29T19:46:30.751Z"
   },
   {
    "duration": 183,
    "start_time": "2023-11-29T19:46:49.515Z"
   },
   {
    "duration": 186,
    "start_time": "2023-11-29T19:46:57.239Z"
   },
   {
    "duration": 30,
    "start_time": "2023-11-29T19:50:30.851Z"
   },
   {
    "duration": 29,
    "start_time": "2023-11-29T19:51:03.839Z"
   },
   {
    "duration": 17,
    "start_time": "2023-11-29T19:53:44.443Z"
   },
   {
    "duration": 15,
    "start_time": "2023-11-29T19:55:13.843Z"
   },
   {
    "duration": 230,
    "start_time": "2023-11-29T19:57:01.199Z"
   },
   {
    "duration": 241,
    "start_time": "2023-11-29T19:57:25.883Z"
   },
   {
    "duration": 32,
    "start_time": "2023-11-29T19:58:52.839Z"
   },
   {
    "duration": 30,
    "start_time": "2023-11-29T19:58:59.168Z"
   },
   {
    "duration": 34,
    "start_time": "2023-11-29T19:59:06.615Z"
   },
   {
    "duration": 27,
    "start_time": "2023-11-29T20:02:09.007Z"
   },
   {
    "duration": 8,
    "start_time": "2023-11-29T20:03:07.643Z"
   },
   {
    "duration": 8,
    "start_time": "2023-11-29T20:03:11.643Z"
   },
   {
    "duration": 5,
    "start_time": "2023-11-29T20:03:19.851Z"
   },
   {
    "duration": 4,
    "start_time": "2023-11-29T20:03:26.475Z"
   },
   {
    "duration": 193,
    "start_time": "2023-11-29T20:06:38.199Z"
   },
   {
    "duration": 6,
    "start_time": "2023-11-29T20:08:05.507Z"
   },
   {
    "duration": 8,
    "start_time": "2023-11-29T20:08:34.520Z"
   },
   {
    "duration": 4,
    "start_time": "2023-11-29T20:08:40.287Z"
   },
   {
    "duration": 5,
    "start_time": "2023-11-29T20:08:58.427Z"
   },
   {
    "duration": 5,
    "start_time": "2023-11-29T20:10:29.055Z"
   },
   {
    "duration": 4,
    "start_time": "2023-11-29T20:10:56.294Z"
   },
   {
    "duration": 9,
    "start_time": "2023-11-29T20:12:05.604Z"
   },
   {
    "duration": 8,
    "start_time": "2023-11-29T20:12:33.455Z"
   },
   {
    "duration": 5,
    "start_time": "2023-11-29T20:12:39.791Z"
   },
   {
    "duration": 1743,
    "start_time": "2023-11-30T05:24:32.014Z"
   },
   {
    "duration": 311,
    "start_time": "2023-11-30T05:24:33.759Z"
   },
   {
    "duration": 12,
    "start_time": "2023-11-30T05:24:34.072Z"
   },
   {
    "duration": 36,
    "start_time": "2023-11-30T05:24:34.086Z"
   },
   {
    "duration": 18,
    "start_time": "2023-11-30T05:24:34.125Z"
   },
   {
    "duration": 71,
    "start_time": "2023-11-30T05:24:34.145Z"
   },
   {
    "duration": 9,
    "start_time": "2023-11-30T05:24:34.217Z"
   },
   {
    "duration": 13,
    "start_time": "2023-11-30T05:24:34.228Z"
   },
   {
    "duration": 84,
    "start_time": "2023-11-30T05:24:34.242Z"
   },
   {
    "duration": 11,
    "start_time": "2023-11-30T05:24:34.328Z"
   },
   {
    "duration": 8,
    "start_time": "2023-11-30T05:24:34.341Z"
   },
   {
    "duration": 77,
    "start_time": "2023-11-30T05:24:34.350Z"
   },
   {
    "duration": 11,
    "start_time": "2023-11-30T05:24:34.429Z"
   },
   {
    "duration": 16,
    "start_time": "2023-11-30T05:24:34.443Z"
   },
   {
    "duration": 10,
    "start_time": "2023-11-30T05:24:34.515Z"
   },
   {
    "duration": 22,
    "start_time": "2023-11-30T05:24:34.527Z"
   },
   {
    "duration": 13,
    "start_time": "2023-11-30T05:24:34.550Z"
   },
   {
    "duration": 10,
    "start_time": "2023-11-30T05:24:34.616Z"
   },
   {
    "duration": 94,
    "start_time": "2023-11-30T05:24:34.628Z"
   },
   {
    "duration": 403,
    "start_time": "2023-11-30T05:24:34.723Z"
   },
   {
    "duration": 312,
    "start_time": "2023-11-30T05:24:35.128Z"
   },
   {
    "duration": 378,
    "start_time": "2023-11-30T05:24:35.442Z"
   },
   {
    "duration": 396,
    "start_time": "2023-11-30T05:24:35.822Z"
   },
   {
    "duration": 430,
    "start_time": "2023-11-30T05:24:36.220Z"
   },
   {
    "duration": 81,
    "start_time": "2023-11-30T05:24:36.651Z"
   },
   {
    "duration": 15,
    "start_time": "2023-11-30T05:24:36.733Z"
   },
   {
    "duration": 75,
    "start_time": "2023-11-30T05:24:36.750Z"
   },
   {
    "duration": 496,
    "start_time": "2023-11-30T05:24:36.827Z"
   },
   {
    "duration": 493,
    "start_time": "2023-11-30T05:24:37.325Z"
   },
   {
    "duration": 209,
    "start_time": "2023-11-30T05:24:37.819Z"
   },
   {
    "duration": 24,
    "start_time": "2023-11-30T05:24:38.030Z"
   },
   {
    "duration": 405,
    "start_time": "2023-11-30T05:24:38.056Z"
   },
   {
    "duration": 5,
    "start_time": "2023-11-30T05:24:38.515Z"
   },
   {
    "duration": 19,
    "start_time": "2023-11-30T05:24:38.522Z"
   },
   {
    "duration": 15,
    "start_time": "2023-11-30T05:24:38.542Z"
   },
   {
    "duration": 58,
    "start_time": "2023-11-30T05:24:38.558Z"
   },
   {
    "duration": 28,
    "start_time": "2023-11-30T05:24:38.617Z"
   },
   {
    "duration": 70,
    "start_time": "2023-11-30T05:24:38.647Z"
   },
   {
    "duration": 17,
    "start_time": "2023-11-30T05:37:45.265Z"
   },
   {
    "duration": 99,
    "start_time": "2023-11-30T05:38:18.068Z"
   },
   {
    "duration": 1570,
    "start_time": "2023-11-30T07:09:11.640Z"
   },
   {
    "duration": 305,
    "start_time": "2023-11-30T07:10:41.903Z"
   },
   {
    "duration": 12,
    "start_time": "2023-11-30T07:10:45.597Z"
   },
   {
    "duration": 13,
    "start_time": "2023-11-30T07:10:46.585Z"
   },
   {
    "duration": 16,
    "start_time": "2023-11-30T07:10:47.354Z"
   },
   {
    "duration": 5,
    "start_time": "2023-11-30T07:10:48.037Z"
   },
   {
    "duration": 9,
    "start_time": "2023-11-30T07:10:53.477Z"
   },
   {
    "duration": 17,
    "start_time": "2023-11-30T07:10:55.134Z"
   },
   {
    "duration": 26,
    "start_time": "2023-11-30T07:10:57.173Z"
   },
   {
    "duration": 13,
    "start_time": "2023-11-30T07:10:59.358Z"
   },
   {
    "duration": 23,
    "start_time": "2023-11-30T07:11:02.230Z"
   },
   {
    "duration": 12,
    "start_time": "2023-11-30T07:11:05.315Z"
   },
   {
    "duration": 13,
    "start_time": "2023-11-30T07:11:21.814Z"
   },
   {
    "duration": 9,
    "start_time": "2023-11-30T07:11:22.025Z"
   },
   {
    "duration": 20,
    "start_time": "2023-11-30T07:11:22.545Z"
   },
   {
    "duration": 8,
    "start_time": "2023-11-30T07:11:26.700Z"
   },
   {
    "duration": 9,
    "start_time": "2023-11-30T07:11:27.528Z"
   },
   {
    "duration": 9,
    "start_time": "2023-11-30T07:11:27.857Z"
   },
   {
    "duration": 6,
    "start_time": "2023-11-30T07:11:28.035Z"
   },
   {
    "duration": 5,
    "start_time": "2023-11-30T07:11:28.566Z"
   },
   {
    "duration": 10,
    "start_time": "2023-11-30T07:11:30.930Z"
   },
   {
    "duration": 134,
    "start_time": "2023-11-30T07:39:55.878Z"
   },
   {
    "duration": 188,
    "start_time": "2023-11-30T07:40:04.714Z"
   },
   {
    "duration": 169,
    "start_time": "2023-11-30T07:44:51.323Z"
   },
   {
    "duration": 250,
    "start_time": "2023-11-30T07:45:04.682Z"
   },
   {
    "duration": 106,
    "start_time": "2023-11-30T07:45:30.251Z"
   },
   {
    "duration": 235,
    "start_time": "2023-11-30T08:09:05.067Z"
   },
   {
    "duration": 10,
    "start_time": "2023-11-30T08:25:54.407Z"
   },
   {
    "duration": 12,
    "start_time": "2023-11-30T08:25:58.564Z"
   },
   {
    "duration": 49,
    "start_time": "2023-11-30T08:26:37.272Z"
   },
   {
    "duration": 19,
    "start_time": "2023-11-30T08:26:38.943Z"
   },
   {
    "duration": 18,
    "start_time": "2023-11-30T08:26:39.759Z"
   },
   {
    "duration": 285,
    "start_time": "2023-11-30T08:26:40.895Z"
   },
   {
    "duration": 293,
    "start_time": "2023-11-30T08:26:41.460Z"
   },
   {
    "duration": 25,
    "start_time": "2023-11-30T08:28:53.741Z"
   },
   {
    "duration": 6,
    "start_time": "2023-11-30T08:29:07.771Z"
   },
   {
    "duration": 9,
    "start_time": "2023-11-30T08:29:08.235Z"
   },
   {
    "duration": 9,
    "start_time": "2023-11-30T08:29:08.571Z"
   },
   {
    "duration": 6,
    "start_time": "2023-11-30T08:29:08.799Z"
   },
   {
    "duration": 5,
    "start_time": "2023-11-30T08:29:09.771Z"
   },
   {
    "duration": 103,
    "start_time": "2023-11-30T08:29:12.483Z"
   },
   {
    "duration": 13,
    "start_time": "2023-11-30T08:29:13.801Z"
   },
   {
    "duration": 22,
    "start_time": "2023-11-30T08:29:41.715Z"
   },
   {
    "duration": 31,
    "start_time": "2023-11-30T08:29:49.483Z"
   },
   {
    "duration": 6,
    "start_time": "2023-11-30T08:30:10.675Z"
   },
   {
    "duration": 1126,
    "start_time": "2023-11-30T16:44:32.471Z"
   },
   {
    "duration": 188,
    "start_time": "2023-11-30T16:44:33.827Z"
   },
   {
    "duration": 10,
    "start_time": "2023-11-30T16:44:37.063Z"
   },
   {
    "duration": 10,
    "start_time": "2023-11-30T16:44:37.564Z"
   },
   {
    "duration": 13,
    "start_time": "2023-11-30T16:44:37.955Z"
   },
   {
    "duration": 3,
    "start_time": "2023-11-30T16:44:38.484Z"
   },
   {
    "duration": 9,
    "start_time": "2023-11-30T16:44:39.895Z"
   },
   {
    "duration": 9,
    "start_time": "2023-11-30T16:44:40.123Z"
   },
   {
    "duration": 14,
    "start_time": "2023-11-30T16:44:42.919Z"
   },
   {
    "duration": 8,
    "start_time": "2023-11-30T16:44:44.719Z"
   },
   {
    "duration": 5,
    "start_time": "2023-11-30T16:44:44.903Z"
   },
   {
    "duration": 13,
    "start_time": "2023-11-30T16:44:45.171Z"
   },
   {
    "duration": 5,
    "start_time": "2023-11-30T16:44:47.331Z"
   },
   {
    "duration": 8,
    "start_time": "2023-11-30T16:44:47.727Z"
   },
   {
    "duration": 8,
    "start_time": "2023-11-30T16:44:47.863Z"
   },
   {
    "duration": 4,
    "start_time": "2023-11-30T16:44:48.019Z"
   },
   {
    "duration": 4,
    "start_time": "2023-11-30T16:44:48.331Z"
   },
   {
    "duration": 8,
    "start_time": "2023-11-30T16:44:49.208Z"
   },
   {
    "duration": 9,
    "start_time": "2023-11-30T16:44:49.831Z"
   },
   {
    "duration": 155,
    "start_time": "2023-11-30T16:44:50.920Z"
   },
   {
    "duration": 162,
    "start_time": "2023-11-30T16:44:51.576Z"
   },
   {
    "duration": 145,
    "start_time": "2023-11-30T16:44:52.439Z"
   },
   {
    "duration": 187,
    "start_time": "2023-11-30T16:44:53.076Z"
   },
   {
    "duration": 158,
    "start_time": "2023-11-30T16:44:53.687Z"
   },
   {
    "duration": 25,
    "start_time": "2023-11-30T16:44:54.484Z"
   },
   {
    "duration": 14,
    "start_time": "2023-11-30T16:44:55.115Z"
   },
   {
    "duration": 12,
    "start_time": "2023-11-30T16:44:55.435Z"
   },
   {
    "duration": 198,
    "start_time": "2023-11-30T16:44:55.915Z"
   },
   {
    "duration": 196,
    "start_time": "2023-11-30T16:44:56.116Z"
   },
   {
    "duration": 82,
    "start_time": "2023-11-30T16:44:57.080Z"
   },
   {
    "duration": 22,
    "start_time": "2023-11-30T16:44:57.735Z"
   },
   {
    "duration": 167,
    "start_time": "2023-11-30T16:44:57.904Z"
   },
   {
    "duration": 5,
    "start_time": "2023-11-30T16:44:59.111Z"
   },
   {
    "duration": 4,
    "start_time": "2023-11-30T16:44:59.459Z"
   },
   {
    "duration": 5,
    "start_time": "2023-11-30T16:45:00.151Z"
   },
   {
    "duration": 3,
    "start_time": "2023-11-30T16:45:00.698Z"
   },
   {
    "duration": 8,
    "start_time": "2023-11-30T16:45:01.448Z"
   },
   {
    "duration": 3,
    "start_time": "2023-11-30T16:45:01.996Z"
   },
   {
    "duration": 81,
    "start_time": "2023-11-30T16:46:27.651Z"
   },
   {
    "duration": 82,
    "start_time": "2023-11-30T16:46:53.243Z"
   },
   {
    "duration": 1243,
    "start_time": "2023-11-30T16:47:37.795Z"
   },
   {
    "duration": 7,
    "start_time": "2023-11-30T16:47:54.347Z"
   },
   {
    "duration": 12,
    "start_time": "2023-11-30T16:48:16.663Z"
   },
   {
    "duration": 1219,
    "start_time": "2023-11-30T16:48:19.267Z"
   },
   {
    "duration": 8,
    "start_time": "2023-11-30T16:51:52.363Z"
   },
   {
    "duration": 80,
    "start_time": "2023-11-30T16:52:00.100Z"
   },
   {
    "duration": 76,
    "start_time": "2023-11-30T16:52:03.784Z"
   },
   {
    "duration": 5,
    "start_time": "2023-11-30T16:54:28.811Z"
   },
   {
    "duration": 4,
    "start_time": "2023-11-30T16:55:40.403Z"
   },
   {
    "duration": 4,
    "start_time": "2023-11-30T16:56:03.455Z"
   },
   {
    "duration": 4,
    "start_time": "2023-11-30T16:56:11.895Z"
   },
   {
    "duration": 8,
    "start_time": "2023-11-30T16:58:12.815Z"
   },
   {
    "duration": 5,
    "start_time": "2023-11-30T16:59:37.379Z"
   },
   {
    "duration": 960,
    "start_time": "2023-11-30T17:08:44.548Z"
   },
   {
    "duration": 64,
    "start_time": "2023-11-30T17:08:45.509Z"
   },
   {
    "duration": 9,
    "start_time": "2023-11-30T17:08:45.575Z"
   },
   {
    "duration": 9,
    "start_time": "2023-11-30T17:08:45.586Z"
   },
   {
    "duration": 12,
    "start_time": "2023-11-30T17:08:45.596Z"
   },
   {
    "duration": 3,
    "start_time": "2023-11-30T17:08:45.610Z"
   },
   {
    "duration": 7,
    "start_time": "2023-11-30T17:08:45.614Z"
   },
   {
    "duration": 14,
    "start_time": "2023-11-30T17:08:45.622Z"
   },
   {
    "duration": 14,
    "start_time": "2023-11-30T17:08:45.637Z"
   },
   {
    "duration": 8,
    "start_time": "2023-11-30T17:08:45.653Z"
   },
   {
    "duration": 8,
    "start_time": "2023-11-30T17:08:45.662Z"
   },
   {
    "duration": 12,
    "start_time": "2023-11-30T17:08:45.671Z"
   },
   {
    "duration": 4,
    "start_time": "2023-11-30T17:08:45.684Z"
   },
   {
    "duration": 30,
    "start_time": "2023-11-30T17:08:45.689Z"
   },
   {
    "duration": 6,
    "start_time": "2023-11-30T17:08:45.721Z"
   },
   {
    "duration": 3,
    "start_time": "2023-11-30T17:08:45.728Z"
   },
   {
    "duration": 9,
    "start_time": "2023-11-30T17:08:45.732Z"
   },
   {
    "duration": 7,
    "start_time": "2023-11-30T17:08:45.742Z"
   },
   {
    "duration": 8,
    "start_time": "2023-11-30T17:08:45.750Z"
   },
   {
    "duration": 179,
    "start_time": "2023-11-30T17:08:45.759Z"
   },
   {
    "duration": 6,
    "start_time": "2023-11-30T17:08:45.939Z"
   },
   {
    "duration": 84,
    "start_time": "2023-11-30T17:08:45.946Z"
   },
   {
    "duration": 153,
    "start_time": "2023-11-30T17:08:46.032Z"
   },
   {
    "duration": 175,
    "start_time": "2023-11-30T17:08:46.186Z"
   },
   {
    "duration": 170,
    "start_time": "2023-11-30T17:08:46.363Z"
   },
   {
    "duration": 25,
    "start_time": "2023-11-30T17:08:46.534Z"
   },
   {
    "duration": 12,
    "start_time": "2023-11-30T17:08:46.561Z"
   },
   {
    "duration": 11,
    "start_time": "2023-11-30T17:08:46.576Z"
   },
   {
    "duration": 1139,
    "start_time": "2023-11-30T17:26:17.289Z"
   },
   {
    "duration": 71,
    "start_time": "2023-11-30T17:26:18.430Z"
   },
   {
    "duration": 12,
    "start_time": "2023-11-30T17:26:18.502Z"
   },
   {
    "duration": 24,
    "start_time": "2023-11-30T17:26:18.516Z"
   },
   {
    "duration": 15,
    "start_time": "2023-11-30T17:26:18.543Z"
   },
   {
    "duration": 5,
    "start_time": "2023-11-30T17:26:18.560Z"
   },
   {
    "duration": 17,
    "start_time": "2023-11-30T17:26:18.566Z"
   },
   {
    "duration": 12,
    "start_time": "2023-11-30T17:26:18.584Z"
   },
   {
    "duration": 18,
    "start_time": "2023-11-30T17:26:18.598Z"
   },
   {
    "duration": 10,
    "start_time": "2023-11-30T17:26:18.617Z"
   },
   {
    "duration": 11,
    "start_time": "2023-11-30T17:26:18.629Z"
   },
   {
    "duration": 53,
    "start_time": "2023-11-30T17:26:18.642Z"
   },
   {
    "duration": 11,
    "start_time": "2023-11-30T17:26:18.697Z"
   },
   {
    "duration": 16,
    "start_time": "2023-11-30T17:26:18.711Z"
   },
   {
    "duration": 18,
    "start_time": "2023-11-30T17:26:18.729Z"
   },
   {
    "duration": 4,
    "start_time": "2023-11-30T17:26:18.748Z"
   },
   {
    "duration": 28,
    "start_time": "2023-11-30T17:26:18.754Z"
   },
   {
    "duration": 11,
    "start_time": "2023-11-30T17:26:18.783Z"
   },
   {
    "duration": 16,
    "start_time": "2023-11-30T17:26:18.795Z"
   },
   {
    "duration": 247,
    "start_time": "2023-11-30T17:26:18.813Z"
   },
   {
    "duration": 7,
    "start_time": "2023-11-30T17:26:19.062Z"
   },
   {
    "duration": 102,
    "start_time": "2023-11-30T17:26:19.071Z"
   },
   {
    "duration": 208,
    "start_time": "2023-11-30T17:26:19.175Z"
   },
   {
    "duration": 212,
    "start_time": "2023-11-30T17:26:19.384Z"
   },
   {
    "duration": 219,
    "start_time": "2023-11-30T17:26:19.598Z"
   },
   {
    "duration": 39,
    "start_time": "2023-11-30T17:26:19.819Z"
   },
   {
    "duration": 34,
    "start_time": "2023-11-30T17:26:19.860Z"
   },
   {
    "duration": 14,
    "start_time": "2023-11-30T17:26:19.896Z"
   },
   {
    "duration": 265,
    "start_time": "2023-11-30T17:26:19.912Z"
   },
   {
    "duration": 263,
    "start_time": "2023-11-30T17:26:20.179Z"
   },
   {
    "duration": 112,
    "start_time": "2023-11-30T17:26:20.443Z"
   },
   {
    "duration": 33,
    "start_time": "2023-11-30T17:26:20.556Z"
   },
   {
    "duration": 216,
    "start_time": "2023-11-30T17:26:20.591Z"
   },
   {
    "duration": 6,
    "start_time": "2023-11-30T17:26:20.809Z"
   },
   {
    "duration": 12,
    "start_time": "2023-11-30T17:26:20.816Z"
   },
   {
    "duration": 6,
    "start_time": "2023-11-30T17:26:20.829Z"
   },
   {
    "duration": 8,
    "start_time": "2023-11-30T17:26:20.837Z"
   },
   {
    "duration": 9,
    "start_time": "2023-11-30T17:26:20.847Z"
   },
   {
    "duration": 25,
    "start_time": "2023-11-30T17:26:20.858Z"
   }
  ],
  "kernelspec": {
   "display_name": "Python 3 (ipykernel)",
   "language": "python",
   "name": "python3"
  },
  "language_info": {
   "codemirror_mode": {
    "name": "ipython",
    "version": 3
   },
   "file_extension": ".py",
   "mimetype": "text/x-python",
   "name": "python",
   "nbconvert_exporter": "python",
   "pygments_lexer": "ipython3",
   "version": "3.9.5"
  },
  "toc": {
   "base_numbering": 1,
   "nav_menu": {},
   "number_sections": false,
   "sideBar": true,
   "skip_h1_title": true,
   "title_cell": "Table of Contents",
   "title_sidebar": "Contents",
   "toc_cell": false,
   "toc_position": {},
   "toc_section_display": true,
   "toc_window_display": false
  }
 },
 "nbformat": 4,
 "nbformat_minor": 5
}
