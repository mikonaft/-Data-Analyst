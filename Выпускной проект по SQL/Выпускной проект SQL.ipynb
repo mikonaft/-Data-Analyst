{
 "cells": [
  {
   "cell_type": "markdown",
   "metadata": {},
   "source": [
    "# Проект по SQL"
   ]
  },
  {
   "cell_type": "markdown",
   "metadata": {},
   "source": [
    "## Описание проекта"
   ]
  },
  {
   "cell_type": "markdown",
   "metadata": {},
   "source": [
    "Коронавирус застал мир врасплох, изменив привычный порядок вещей. На какое-то время жители городов перестали выходить на улицу, посещать кафе и торговые центры. Зато стало больше времени для книг. Это заметили стартаперы — и бросились создавать приложения для тех, кто любит читать.\n",
    "Ваша компания решила быть на волне и купила крупный сервис для чтения книг по подписке. "
   ]
  },
  {
   "cell_type": "markdown",
   "metadata": {},
   "source": [
    "## Цель исследования"
   ]
  },
  {
   "cell_type": "markdown",
   "metadata": {},
   "source": [
    "Ваша первая задача как аналитика — проанализировать базу данных.\n",
    "В ней — информация о книгах, издательствах, авторах, а также пользовательские обзоры книг. Эти данные помогут сформулировать ценностное предложение для нового продукта."
   ]
  },
  {
   "cell_type": "markdown",
   "metadata": {},
   "source": [
    "## Описание данных"
   ]
  },
  {
   "cell_type": "markdown",
   "metadata": {},
   "source": [
    "1. Таблица `books`\n",
    "Содержит данные о книгах:\n",
    "   - `book_id` — идентификатор книги;\n",
    "   - `author_id` — идентификатор автора;\n",
    "   - `title` — название книги;\n",
    "   - `num_pages` — количество страниц;\n",
    "   - `publication_date` — дата публикации книги;\n",
    "   - `publisher_id` — идентификатор издателя.\n",
    "\n",
    "\n",
    "2. Таблица `authors`\n",
    "Содержит данные об авторах:\n",
    "   - `author_id` — идентификатор автора;\n",
    "   - `author` — имя автора.\n",
    "   \n",
    "3. Таблица `publishers`\n",
    "Содержит данные об издательствах:\n",
    "   - `publisher_id` — идентификатор издательства;\n",
    "   - `publisher` — название издательства;\n",
    "\n",
    "\n",
    "4. Таблица `ratings`\n",
    "Содержит данные о пользовательских оценках книг:\n",
    "   - `rating_id` — идентификатор оценки;\n",
    "   - `book_id` — идентификатор книги;\n",
    "   - `username` — имя пользователя, оставившего оценку;\n",
    "   - `rating` — оценка книги.\n",
    "   \n",
    "   \n",
    "5. Таблица `reviews`\n",
    "Содержит данные о пользовательских обзорах:\n",
    "   - `review_id` — идентификатор обзора;\n",
    "   - `book_id` — идентификатор книги;\n",
    "   - `username` — имя автора обзора;\n",
    "   - `text` — текст обзора."
   ]
  },
  {
   "cell_type": "code",
   "execution_count": 1,
   "metadata": {},
   "outputs": [],
   "source": [
    "# импортируем библиотеки\n",
    "import pandas as pd\n",
    "import sqlalchemy as sa\n",
    "from sqlalchemy import text, create_engine"
   ]
  },
  {
   "cell_type": "code",
   "execution_count": 2,
   "metadata": {},
   "outputs": [],
   "source": [
    "# устанавливаем параметры\n",
    "db_config = {'user': 'praktikum_student', # имя пользователя\n",
    "'pwd': 'Sdf4$2;d-d30pp', # пароль\n",
    "'host': 'rc1b-wcoijxj3yxfsf3fs.mdb.yandexcloud.net',\n",
    "'port': 6432, # порт подключения\n",
    "'db': 'data-analyst-final-project-db'} # название базы данных\n",
    "connection_string = 'postgresql://{user}:{pwd}@{host}:{port}/{db}'.format(**db_config)"
   ]
  },
  {
   "cell_type": "code",
   "execution_count": 3,
   "metadata": {},
   "outputs": [],
   "source": [
    "# сохраняем коннектор\n",
    "engine = create_engine(connection_string, connect_args={'sslmode':'require'})"
   ]
  },
  {
   "cell_type": "code",
   "execution_count": 4,
   "metadata": {},
   "outputs": [],
   "source": [
    "def get_sql_data(query:str, engine:sa.engine.base.Engine=engine) -> pd.DataFrame:\n",
    "  with engine.connect() as con:\n",
    "    return pd.read_sql(sql=sa.text(query), con = con)"
   ]
  },
  {
   "cell_type": "markdown",
   "metadata": {},
   "source": [
    "## Просмотр таблиц и данных"
   ]
  },
  {
   "cell_type": "markdown",
   "metadata": {},
   "source": [
    "### Таблица `books`"
   ]
  },
  {
   "cell_type": "code",
   "execution_count": 5,
   "metadata": {},
   "outputs": [],
   "source": [
    "query_books = '''SELECT * FROM books LIMIT 5'''"
   ]
  },
  {
   "cell_type": "code",
   "execution_count": 6,
   "metadata": {},
   "outputs": [
    {
     "data": {
      "text/html": [
       "<div>\n",
       "<style scoped>\n",
       "    .dataframe tbody tr th:only-of-type {\n",
       "        vertical-align: middle;\n",
       "    }\n",
       "\n",
       "    .dataframe tbody tr th {\n",
       "        vertical-align: top;\n",
       "    }\n",
       "\n",
       "    .dataframe thead th {\n",
       "        text-align: right;\n",
       "    }\n",
       "</style>\n",
       "<table border=\"1\" class=\"dataframe\">\n",
       "  <thead>\n",
       "    <tr style=\"text-align: right;\">\n",
       "      <th></th>\n",
       "      <th>book_id</th>\n",
       "      <th>author_id</th>\n",
       "      <th>title</th>\n",
       "      <th>num_pages</th>\n",
       "      <th>publication_date</th>\n",
       "      <th>publisher_id</th>\n",
       "    </tr>\n",
       "  </thead>\n",
       "  <tbody>\n",
       "    <tr>\n",
       "      <th>0</th>\n",
       "      <td>1</td>\n",
       "      <td>546</td>\n",
       "      <td>'Salem's Lot</td>\n",
       "      <td>594</td>\n",
       "      <td>2005-11-01</td>\n",
       "      <td>93</td>\n",
       "    </tr>\n",
       "    <tr>\n",
       "      <th>1</th>\n",
       "      <td>2</td>\n",
       "      <td>465</td>\n",
       "      <td>1 000 Places to See Before You Die</td>\n",
       "      <td>992</td>\n",
       "      <td>2003-05-22</td>\n",
       "      <td>336</td>\n",
       "    </tr>\n",
       "    <tr>\n",
       "      <th>2</th>\n",
       "      <td>3</td>\n",
       "      <td>407</td>\n",
       "      <td>13 Little Blue Envelopes (Little Blue Envelope...</td>\n",
       "      <td>322</td>\n",
       "      <td>2010-12-21</td>\n",
       "      <td>135</td>\n",
       "    </tr>\n",
       "    <tr>\n",
       "      <th>3</th>\n",
       "      <td>4</td>\n",
       "      <td>82</td>\n",
       "      <td>1491: New Revelations of the Americas Before C...</td>\n",
       "      <td>541</td>\n",
       "      <td>2006-10-10</td>\n",
       "      <td>309</td>\n",
       "    </tr>\n",
       "    <tr>\n",
       "      <th>4</th>\n",
       "      <td>5</td>\n",
       "      <td>125</td>\n",
       "      <td>1776</td>\n",
       "      <td>386</td>\n",
       "      <td>2006-07-04</td>\n",
       "      <td>268</td>\n",
       "    </tr>\n",
       "  </tbody>\n",
       "</table>\n",
       "</div>"
      ],
      "text/plain": [
       "   book_id  author_id                                              title  \\\n",
       "0        1        546                                       'Salem's Lot   \n",
       "1        2        465                 1 000 Places to See Before You Die   \n",
       "2        3        407  13 Little Blue Envelopes (Little Blue Envelope...   \n",
       "3        4         82  1491: New Revelations of the Americas Before C...   \n",
       "4        5        125                                               1776   \n",
       "\n",
       "   num_pages publication_date  publisher_id  \n",
       "0        594       2005-11-01            93  \n",
       "1        992       2003-05-22           336  \n",
       "2        322       2010-12-21           135  \n",
       "3        541       2006-10-10           309  \n",
       "4        386       2006-07-04           268  "
      ]
     },
     "execution_count": 6,
     "metadata": {},
     "output_type": "execute_result"
    }
   ],
   "source": [
    "get_sql_data(query_books)"
   ]
  },
  {
   "cell_type": "code",
   "execution_count": 7,
   "metadata": {},
   "outputs": [
    {
     "name": "stdout",
     "output_type": "stream",
     "text": [
      "<class 'pandas.core.frame.DataFrame'>\n",
      "RangeIndex: 1000 entries, 0 to 999\n",
      "Data columns (total 6 columns):\n",
      " #   Column            Non-Null Count  Dtype \n",
      "---  ------            --------------  ----- \n",
      " 0   book_id           1000 non-null   int64 \n",
      " 1   author_id         1000 non-null   int64 \n",
      " 2   title             1000 non-null   object\n",
      " 3   num_pages         1000 non-null   int64 \n",
      " 4   publication_date  1000 non-null   object\n",
      " 5   publisher_id      1000 non-null   int64 \n",
      "dtypes: int64(4), object(2)\n",
      "memory usage: 47.0+ KB\n",
      "None\n"
     ]
    }
   ],
   "source": [
    "query_t = ''' SELECT * FROM books '''\n",
    "test = get_sql_data(query_t)\n",
    "print(test.info())"
   ]
  },
  {
   "cell_type": "markdown",
   "metadata": {},
   "source": [
    "Таблица `books` содержит 6 колонок и 1000 строк. Пропущенных значений нет."
   ]
  },
  {
   "cell_type": "markdown",
   "metadata": {},
   "source": [
    "### Таблица `authors`"
   ]
  },
  {
   "cell_type": "code",
   "execution_count": 8,
   "metadata": {},
   "outputs": [
    {
     "data": {
      "text/html": [
       "<div>\n",
       "<style scoped>\n",
       "    .dataframe tbody tr th:only-of-type {\n",
       "        vertical-align: middle;\n",
       "    }\n",
       "\n",
       "    .dataframe tbody tr th {\n",
       "        vertical-align: top;\n",
       "    }\n",
       "\n",
       "    .dataframe thead th {\n",
       "        text-align: right;\n",
       "    }\n",
       "</style>\n",
       "<table border=\"1\" class=\"dataframe\">\n",
       "  <thead>\n",
       "    <tr style=\"text-align: right;\">\n",
       "      <th></th>\n",
       "      <th>author_id</th>\n",
       "      <th>author</th>\n",
       "    </tr>\n",
       "  </thead>\n",
       "  <tbody>\n",
       "    <tr>\n",
       "      <th>0</th>\n",
       "      <td>1</td>\n",
       "      <td>A.S. Byatt</td>\n",
       "    </tr>\n",
       "    <tr>\n",
       "      <th>1</th>\n",
       "      <td>2</td>\n",
       "      <td>Aesop/Laura Harris/Laura Gibbs</td>\n",
       "    </tr>\n",
       "    <tr>\n",
       "      <th>2</th>\n",
       "      <td>3</td>\n",
       "      <td>Agatha Christie</td>\n",
       "    </tr>\n",
       "    <tr>\n",
       "      <th>3</th>\n",
       "      <td>4</td>\n",
       "      <td>Alan Brennert</td>\n",
       "    </tr>\n",
       "    <tr>\n",
       "      <th>4</th>\n",
       "      <td>5</td>\n",
       "      <td>Alan Moore/David   Lloyd</td>\n",
       "    </tr>\n",
       "  </tbody>\n",
       "</table>\n",
       "</div>"
      ],
      "text/plain": [
       "   author_id                          author\n",
       "0          1                      A.S. Byatt\n",
       "1          2  Aesop/Laura Harris/Laura Gibbs\n",
       "2          3                 Agatha Christie\n",
       "3          4                   Alan Brennert\n",
       "4          5        Alan Moore/David   Lloyd"
      ]
     },
     "execution_count": 8,
     "metadata": {},
     "output_type": "execute_result"
    }
   ],
   "source": [
    "query_authors = '''SELECT * FROM authors LIMIT 5'''\n",
    "get_sql_data(query_authors)"
   ]
  },
  {
   "cell_type": "code",
   "execution_count": 9,
   "metadata": {},
   "outputs": [
    {
     "name": "stdout",
     "output_type": "stream",
     "text": [
      "<class 'pandas.core.frame.DataFrame'>\n",
      "RangeIndex: 636 entries, 0 to 635\n",
      "Data columns (total 2 columns):\n",
      " #   Column     Non-Null Count  Dtype \n",
      "---  ------     --------------  ----- \n",
      " 0   author_id  636 non-null    int64 \n",
      " 1   author     636 non-null    object\n",
      "dtypes: int64(1), object(1)\n",
      "memory usage: 10.1+ KB\n",
      "None\n"
     ]
    }
   ],
   "source": [
    "query_a = '''SELECT * FROM authors'''\n",
    "test_2 = get_sql_data(query_a)\n",
    "print(test_2.info())"
   ]
  },
  {
   "cell_type": "markdown",
   "metadata": {},
   "source": [
    "Таблица `authors` содержит сведения об авторах, количество столбцов 2, количество строк - 636. Пропущенных значений нет. "
   ]
  },
  {
   "cell_type": "markdown",
   "metadata": {},
   "source": [
    "### Таблица `publishers`"
   ]
  },
  {
   "cell_type": "code",
   "execution_count": 10,
   "metadata": {},
   "outputs": [
    {
     "data": {
      "text/html": [
       "<div>\n",
       "<style scoped>\n",
       "    .dataframe tbody tr th:only-of-type {\n",
       "        vertical-align: middle;\n",
       "    }\n",
       "\n",
       "    .dataframe tbody tr th {\n",
       "        vertical-align: top;\n",
       "    }\n",
       "\n",
       "    .dataframe thead th {\n",
       "        text-align: right;\n",
       "    }\n",
       "</style>\n",
       "<table border=\"1\" class=\"dataframe\">\n",
       "  <thead>\n",
       "    <tr style=\"text-align: right;\">\n",
       "      <th></th>\n",
       "      <th>publisher_id</th>\n",
       "      <th>publisher</th>\n",
       "    </tr>\n",
       "  </thead>\n",
       "  <tbody>\n",
       "    <tr>\n",
       "      <th>0</th>\n",
       "      <td>1</td>\n",
       "      <td>Ace</td>\n",
       "    </tr>\n",
       "    <tr>\n",
       "      <th>1</th>\n",
       "      <td>2</td>\n",
       "      <td>Ace Book</td>\n",
       "    </tr>\n",
       "    <tr>\n",
       "      <th>2</th>\n",
       "      <td>3</td>\n",
       "      <td>Ace Books</td>\n",
       "    </tr>\n",
       "    <tr>\n",
       "      <th>3</th>\n",
       "      <td>4</td>\n",
       "      <td>Ace Hardcover</td>\n",
       "    </tr>\n",
       "    <tr>\n",
       "      <th>4</th>\n",
       "      <td>5</td>\n",
       "      <td>Addison Wesley Publishing Company</td>\n",
       "    </tr>\n",
       "  </tbody>\n",
       "</table>\n",
       "</div>"
      ],
      "text/plain": [
       "   publisher_id                          publisher\n",
       "0             1                                Ace\n",
       "1             2                           Ace Book\n",
       "2             3                          Ace Books\n",
       "3             4                      Ace Hardcover\n",
       "4             5  Addison Wesley Publishing Company"
      ]
     },
     "execution_count": 10,
     "metadata": {},
     "output_type": "execute_result"
    }
   ],
   "source": [
    "query_publ = '''SELECT * FROM publishers LIMIT 5'''\n",
    "get_sql_data(query_publ)"
   ]
  },
  {
   "cell_type": "code",
   "execution_count": 11,
   "metadata": {},
   "outputs": [
    {
     "name": "stdout",
     "output_type": "stream",
     "text": [
      "<class 'pandas.core.frame.DataFrame'>\n",
      "RangeIndex: 340 entries, 0 to 339\n",
      "Data columns (total 2 columns):\n",
      " #   Column        Non-Null Count  Dtype \n",
      "---  ------        --------------  ----- \n",
      " 0   publisher_id  340 non-null    int64 \n",
      " 1   publisher     340 non-null    object\n",
      "dtypes: int64(1), object(1)\n",
      "memory usage: 5.4+ KB\n"
     ]
    }
   ],
   "source": [
    "(get_sql_data('''SELECT * FROM publishers''')).info()"
   ]
  },
  {
   "cell_type": "markdown",
   "metadata": {},
   "source": [
    "Таблица `publishers` содержит сведения об издательствах. Количество столбцов - 2, количество строк - 340. Пропущенных значений нет."
   ]
  },
  {
   "cell_type": "markdown",
   "metadata": {},
   "source": [
    "### Таблица `ratings`"
   ]
  },
  {
   "cell_type": "code",
   "execution_count": 12,
   "metadata": {},
   "outputs": [
    {
     "data": {
      "text/html": [
       "<div>\n",
       "<style scoped>\n",
       "    .dataframe tbody tr th:only-of-type {\n",
       "        vertical-align: middle;\n",
       "    }\n",
       "\n",
       "    .dataframe tbody tr th {\n",
       "        vertical-align: top;\n",
       "    }\n",
       "\n",
       "    .dataframe thead th {\n",
       "        text-align: right;\n",
       "    }\n",
       "</style>\n",
       "<table border=\"1\" class=\"dataframe\">\n",
       "  <thead>\n",
       "    <tr style=\"text-align: right;\">\n",
       "      <th></th>\n",
       "      <th>rating_id</th>\n",
       "      <th>book_id</th>\n",
       "      <th>username</th>\n",
       "      <th>rating</th>\n",
       "    </tr>\n",
       "  </thead>\n",
       "  <tbody>\n",
       "    <tr>\n",
       "      <th>0</th>\n",
       "      <td>1</td>\n",
       "      <td>1</td>\n",
       "      <td>ryanfranco</td>\n",
       "      <td>4</td>\n",
       "    </tr>\n",
       "    <tr>\n",
       "      <th>1</th>\n",
       "      <td>2</td>\n",
       "      <td>1</td>\n",
       "      <td>grantpatricia</td>\n",
       "      <td>2</td>\n",
       "    </tr>\n",
       "    <tr>\n",
       "      <th>2</th>\n",
       "      <td>3</td>\n",
       "      <td>1</td>\n",
       "      <td>brandtandrea</td>\n",
       "      <td>5</td>\n",
       "    </tr>\n",
       "    <tr>\n",
       "      <th>3</th>\n",
       "      <td>4</td>\n",
       "      <td>2</td>\n",
       "      <td>lorichen</td>\n",
       "      <td>3</td>\n",
       "    </tr>\n",
       "    <tr>\n",
       "      <th>4</th>\n",
       "      <td>5</td>\n",
       "      <td>2</td>\n",
       "      <td>mariokeller</td>\n",
       "      <td>2</td>\n",
       "    </tr>\n",
       "  </tbody>\n",
       "</table>\n",
       "</div>"
      ],
      "text/plain": [
       "   rating_id  book_id       username  rating\n",
       "0          1        1     ryanfranco       4\n",
       "1          2        1  grantpatricia       2\n",
       "2          3        1   brandtandrea       5\n",
       "3          4        2       lorichen       3\n",
       "4          5        2    mariokeller       2"
      ]
     },
     "execution_count": 12,
     "metadata": {},
     "output_type": "execute_result"
    }
   ],
   "source": [
    "query_ratings = '''SELECT * FROM ratings LIMIT 5'''\n",
    "get_sql_data(query_ratings)"
   ]
  },
  {
   "cell_type": "code",
   "execution_count": 13,
   "metadata": {},
   "outputs": [
    {
     "name": "stdout",
     "output_type": "stream",
     "text": [
      "<class 'pandas.core.frame.DataFrame'>\n",
      "RangeIndex: 6456 entries, 0 to 6455\n",
      "Data columns (total 4 columns):\n",
      " #   Column     Non-Null Count  Dtype \n",
      "---  ------     --------------  ----- \n",
      " 0   rating_id  6456 non-null   int64 \n",
      " 1   book_id    6456 non-null   int64 \n",
      " 2   username   6456 non-null   object\n",
      " 3   rating     6456 non-null   int64 \n",
      "dtypes: int64(3), object(1)\n",
      "memory usage: 201.9+ KB\n"
     ]
    }
   ],
   "source": [
    "(get_sql_data('''SELECT * FROM ratings''')).info()"
   ]
  },
  {
   "cell_type": "markdown",
   "metadata": {},
   "source": [
    "Таблица `ratings` содержит информацию о пользовательских оценках книг. Количество столбцов - 4, количество строк - 6456. Пропусков нет."
   ]
  },
  {
   "cell_type": "markdown",
   "metadata": {},
   "source": [
    "### Таблица `reviews`"
   ]
  },
  {
   "cell_type": "code",
   "execution_count": 14,
   "metadata": {},
   "outputs": [
    {
     "data": {
      "text/html": [
       "<div>\n",
       "<style scoped>\n",
       "    .dataframe tbody tr th:only-of-type {\n",
       "        vertical-align: middle;\n",
       "    }\n",
       "\n",
       "    .dataframe tbody tr th {\n",
       "        vertical-align: top;\n",
       "    }\n",
       "\n",
       "    .dataframe thead th {\n",
       "        text-align: right;\n",
       "    }\n",
       "</style>\n",
       "<table border=\"1\" class=\"dataframe\">\n",
       "  <thead>\n",
       "    <tr style=\"text-align: right;\">\n",
       "      <th></th>\n",
       "      <th>review_id</th>\n",
       "      <th>book_id</th>\n",
       "      <th>username</th>\n",
       "      <th>text</th>\n",
       "    </tr>\n",
       "  </thead>\n",
       "  <tbody>\n",
       "    <tr>\n",
       "      <th>0</th>\n",
       "      <td>1</td>\n",
       "      <td>1</td>\n",
       "      <td>brandtandrea</td>\n",
       "      <td>Mention society tell send professor analysis. ...</td>\n",
       "    </tr>\n",
       "    <tr>\n",
       "      <th>1</th>\n",
       "      <td>2</td>\n",
       "      <td>1</td>\n",
       "      <td>ryanfranco</td>\n",
       "      <td>Foot glass pretty audience hit themselves. Amo...</td>\n",
       "    </tr>\n",
       "    <tr>\n",
       "      <th>2</th>\n",
       "      <td>3</td>\n",
       "      <td>2</td>\n",
       "      <td>lorichen</td>\n",
       "      <td>Listen treat keep worry. Miss husband tax but ...</td>\n",
       "    </tr>\n",
       "    <tr>\n",
       "      <th>3</th>\n",
       "      <td>4</td>\n",
       "      <td>3</td>\n",
       "      <td>johnsonamanda</td>\n",
       "      <td>Finally month interesting blue could nature cu...</td>\n",
       "    </tr>\n",
       "    <tr>\n",
       "      <th>4</th>\n",
       "      <td>5</td>\n",
       "      <td>3</td>\n",
       "      <td>scotttamara</td>\n",
       "      <td>Nation purpose heavy give wait song will. List...</td>\n",
       "    </tr>\n",
       "  </tbody>\n",
       "</table>\n",
       "</div>"
      ],
      "text/plain": [
       "   review_id  book_id       username  \\\n",
       "0          1        1   brandtandrea   \n",
       "1          2        1     ryanfranco   \n",
       "2          3        2       lorichen   \n",
       "3          4        3  johnsonamanda   \n",
       "4          5        3    scotttamara   \n",
       "\n",
       "                                                text  \n",
       "0  Mention society tell send professor analysis. ...  \n",
       "1  Foot glass pretty audience hit themselves. Amo...  \n",
       "2  Listen treat keep worry. Miss husband tax but ...  \n",
       "3  Finally month interesting blue could nature cu...  \n",
       "4  Nation purpose heavy give wait song will. List...  "
      ]
     },
     "execution_count": 14,
     "metadata": {},
     "output_type": "execute_result"
    }
   ],
   "source": [
    "get_sql_data('''SELECT * FROM reviews LIMIT 5''')"
   ]
  },
  {
   "cell_type": "code",
   "execution_count": 15,
   "metadata": {},
   "outputs": [
    {
     "name": "stdout",
     "output_type": "stream",
     "text": [
      "<class 'pandas.core.frame.DataFrame'>\n",
      "RangeIndex: 2793 entries, 0 to 2792\n",
      "Data columns (total 4 columns):\n",
      " #   Column     Non-Null Count  Dtype \n",
      "---  ------     --------------  ----- \n",
      " 0   review_id  2793 non-null   int64 \n",
      " 1   book_id    2793 non-null   int64 \n",
      " 2   username   2793 non-null   object\n",
      " 3   text       2793 non-null   object\n",
      "dtypes: int64(2), object(2)\n",
      "memory usage: 87.4+ KB\n"
     ]
    }
   ],
   "source": [
    "(get_sql_data('''SELECT * FROM reviews''')).info()"
   ]
  },
  {
   "cell_type": "markdown",
   "metadata": {},
   "source": [
    "Таблица `reviews` содержит информацию о  о пользовательских обзорах на книги. Количество столбцов - 4, количество строк - 2793, пропущенных значений нет. "
   ]
  },
  {
   "cell_type": "markdown",
   "metadata": {},
   "source": [
    "## Задание 1: Посчитайте, сколько книг вышло после 1 января 2000 года"
   ]
  },
  {
   "cell_type": "code",
   "execution_count": 16,
   "metadata": {},
   "outputs": [
    {
     "name": "stdout",
     "output_type": "stream",
     "text": [
      "Количество книг, выпущенных после 01.01.2000г., составляет 819 шт.\n"
     ]
    }
   ],
   "source": [
    "books_count = '''SELECT COUNT(DISTINCT book_id)\n",
    "                 FROM books\n",
    "                 WHERE publication_date > '2000-01-01'; '''\n",
    "books_count_ans = get_sql_data(books_count)\n",
    "print('Количество книг, выпущенных после 01.01.2000г., составляет {} шт.'.format(books_count_ans['count'][0]))"
   ]
  },
  {
   "cell_type": "markdown",
   "metadata": {},
   "source": [
    "### Вывод\n",
    "После 1 января 2000 года вышло 819 книг."
   ]
  },
  {
   "cell_type": "markdown",
   "metadata": {},
   "source": [
    "## Задание 2: Для каждой книги посчитайте количество обзоров и среднюю оценку"
   ]
  },
  {
   "cell_type": "code",
   "execution_count": 17,
   "metadata": {},
   "outputs": [
    {
     "data": {
      "text/html": [
       "<div>\n",
       "<style scoped>\n",
       "    .dataframe tbody tr th:only-of-type {\n",
       "        vertical-align: middle;\n",
       "    }\n",
       "\n",
       "    .dataframe tbody tr th {\n",
       "        vertical-align: top;\n",
       "    }\n",
       "\n",
       "    .dataframe thead th {\n",
       "        text-align: right;\n",
       "    }\n",
       "</style>\n",
       "<table border=\"1\" class=\"dataframe\">\n",
       "  <thead>\n",
       "    <tr style=\"text-align: right;\">\n",
       "      <th></th>\n",
       "      <th>book_id</th>\n",
       "      <th>title</th>\n",
       "      <th>review_amount</th>\n",
       "      <th>avg_rating</th>\n",
       "    </tr>\n",
       "  </thead>\n",
       "  <tbody>\n",
       "    <tr>\n",
       "      <th>0</th>\n",
       "      <td>1</td>\n",
       "      <td>'Salem's Lot</td>\n",
       "      <td>2</td>\n",
       "      <td>3.67</td>\n",
       "    </tr>\n",
       "    <tr>\n",
       "      <th>1</th>\n",
       "      <td>2</td>\n",
       "      <td>1 000 Places to See Before You Die</td>\n",
       "      <td>1</td>\n",
       "      <td>2.50</td>\n",
       "    </tr>\n",
       "    <tr>\n",
       "      <th>2</th>\n",
       "      <td>3</td>\n",
       "      <td>13 Little Blue Envelopes (Little Blue Envelope...</td>\n",
       "      <td>3</td>\n",
       "      <td>4.67</td>\n",
       "    </tr>\n",
       "    <tr>\n",
       "      <th>3</th>\n",
       "      <td>4</td>\n",
       "      <td>1491: New Revelations of the Americas Before C...</td>\n",
       "      <td>2</td>\n",
       "      <td>4.50</td>\n",
       "    </tr>\n",
       "    <tr>\n",
       "      <th>4</th>\n",
       "      <td>5</td>\n",
       "      <td>1776</td>\n",
       "      <td>4</td>\n",
       "      <td>4.00</td>\n",
       "    </tr>\n",
       "    <tr>\n",
       "      <th>...</th>\n",
       "      <td>...</td>\n",
       "      <td>...</td>\n",
       "      <td>...</td>\n",
       "      <td>...</td>\n",
       "    </tr>\n",
       "    <tr>\n",
       "      <th>995</th>\n",
       "      <td>996</td>\n",
       "      <td>Wyrd Sisters (Discworld  #6; Witches #2)</td>\n",
       "      <td>3</td>\n",
       "      <td>3.67</td>\n",
       "    </tr>\n",
       "    <tr>\n",
       "      <th>996</th>\n",
       "      <td>997</td>\n",
       "      <td>Xenocide (Ender's Saga  #3)</td>\n",
       "      <td>3</td>\n",
       "      <td>3.40</td>\n",
       "    </tr>\n",
       "    <tr>\n",
       "      <th>997</th>\n",
       "      <td>998</td>\n",
       "      <td>Year of Wonders</td>\n",
       "      <td>4</td>\n",
       "      <td>3.20</td>\n",
       "    </tr>\n",
       "    <tr>\n",
       "      <th>998</th>\n",
       "      <td>999</td>\n",
       "      <td>You Suck (A Love Story  #2)</td>\n",
       "      <td>2</td>\n",
       "      <td>4.50</td>\n",
       "    </tr>\n",
       "    <tr>\n",
       "      <th>999</th>\n",
       "      <td>1000</td>\n",
       "      <td>Zen and the Art of Motorcycle Maintenance: An ...</td>\n",
       "      <td>4</td>\n",
       "      <td>3.83</td>\n",
       "    </tr>\n",
       "  </tbody>\n",
       "</table>\n",
       "<p>1000 rows × 4 columns</p>\n",
       "</div>"
      ],
      "text/plain": [
       "     book_id                                              title  \\\n",
       "0          1                                       'Salem's Lot   \n",
       "1          2                 1 000 Places to See Before You Die   \n",
       "2          3  13 Little Blue Envelopes (Little Blue Envelope...   \n",
       "3          4  1491: New Revelations of the Americas Before C...   \n",
       "4          5                                               1776   \n",
       "..       ...                                                ...   \n",
       "995      996           Wyrd Sisters (Discworld  #6; Witches #2)   \n",
       "996      997                        Xenocide (Ender's Saga  #3)   \n",
       "997      998                                    Year of Wonders   \n",
       "998      999                        You Suck (A Love Story  #2)   \n",
       "999     1000  Zen and the Art of Motorcycle Maintenance: An ...   \n",
       "\n",
       "     review_amount  avg_rating  \n",
       "0                2        3.67  \n",
       "1                1        2.50  \n",
       "2                3        4.67  \n",
       "3                2        4.50  \n",
       "4                4        4.00  \n",
       "..             ...         ...  \n",
       "995              3        3.67  \n",
       "996              3        3.40  \n",
       "997              4        3.20  \n",
       "998              2        4.50  \n",
       "999              4        3.83  \n",
       "\n",
       "[1000 rows x 4 columns]"
      ]
     },
     "metadata": {},
     "output_type": "display_data"
    }
   ],
   "source": [
    "reviews_rating = '''WITH brev AS (SELECT b.book_id,\n",
    "                                         b.title,\n",
    "                                         COUNT(rev.review_id) AS review_amount\n",
    "                                FROM books AS b\n",
    "                                LEFT JOIN reviews AS rev ON b.book_id = rev.book_id\n",
    "                                GROUP BY b.book_id),\n",
    "                         br AS (SELECT b.book_id,\n",
    "                                      b.title,\n",
    "                                      AVG(r.rating) AS avg_rating\n",
    "                               FROM books AS b\n",
    "                               LEFT JOIN ratings AS r ON b.book_id = r.book_id\n",
    "                               GROUP BY b.book_id)\n",
    "                     SELECT brev.book_id,\n",
    "                            brev.title,\n",
    "                            brev.review_amount,\n",
    "                            ROUND(br.avg_rating, 2) AS avg_rating\n",
    "                     FROM brev\n",
    "                     INNER JOIN br ON brev.book_id = br.book_id\n",
    "                     GROUP BY brev.book_id, brev.title, brev.review_amount, br.avg_rating\n",
    "                     ORDER BY brev.book_id;'''\n",
    "data_reviews_ratings = get_sql_data(reviews_rating)\n",
    "display(data_reviews_ratings)"
   ]
  },
  {
   "cell_type": "markdown",
   "metadata": {},
   "source": [
    "### Вывод\n",
    "\n",
    "Выше представлена таблица из всех 1000 книг, с ID, названием книги, количеством обзоров и среднюю оценку для каждой книги."
   ]
  },
  {
   "cell_type": "markdown",
   "metadata": {},
   "source": [
    "## Задание 3: Определите издательство, которое выпустило наибольшее число книг толще 50 страниц — так вы исключите из анализа брошюры"
   ]
  },
  {
   "cell_type": "code",
   "execution_count": 18,
   "metadata": {},
   "outputs": [
    {
     "name": "stdout",
     "output_type": "stream",
     "text": [
      "   publisher_id      publisher  books_amount\n",
      "0           212  Penguin Books            42\n"
     ]
    }
   ],
   "source": [
    "publisher = '''WITH pb AS (SELECT publisher_id,\n",
    "                                  COUNT(book_id) AS books_amount\n",
    "                           FROM books\n",
    "                           WHERE num_pages > 50\n",
    "                           GROUP BY publisher_id\n",
    "                           ORDER BY books_amount DESC\n",
    "                           LIMIT 1)\n",
    "                SELECT pb.publisher_id,\n",
    "                       p.publisher,\n",
    "                       pb.books_amount\n",
    "                FROM pb\n",
    "                JOIN publishers AS p ON pb.publisher_id = p.publisher_id'''\n",
    "print(get_sql_data(publisher))"
   ]
  },
  {
   "cell_type": "markdown",
   "metadata": {},
   "source": [
    "### Вывод\n",
    "\n",
    "Наибольшее число книг, толщиной более 50 страниц, выпустило издательство `Penguin Books (id 212)`. Количество выпущенных книг - 42."
   ]
  },
  {
   "cell_type": "markdown",
   "metadata": {},
   "source": [
    "## Задание 4: Определите автора с самой высокой средней оценкой книг — учитывайте только книги с 50 и более оценками"
   ]
  },
  {
   "cell_type": "code",
   "execution_count": 19,
   "metadata": {},
   "outputs": [
    {
     "name": "stdout",
     "output_type": "stream",
     "text": [
      "                       author  avg_rating_author\n",
      "0  J.K. Rowling/Mary GrandPré              4.287\n"
     ]
    }
   ],
   "source": [
    "author_1 = '''WITH t1 AS (SELECT book_id,\n",
    "                                 COUNT(rating_id) OVER (PARTITION BY book_id) AS ratings_count,\n",
    "                                 rating\n",
    "                          FROM ratings),\n",
    "              t2 AS (SELECT b.author_id,\n",
    "                            b.book_id,\n",
    "                            a.author\n",
    "                     FROM books AS b\n",
    "                     LEFT JOIN authors AS a ON b.author_id=a.author_id)\n",
    "              SELECT t2.author,\n",
    "                     ROUND(AVG(t1.rating), 3) AS avg_rating_author\n",
    "              FROM t1\n",
    "              LEFT JOIN t2 ON t1.book_id=t2.book_id\n",
    "              WHERE t1.ratings_count >= 50\n",
    "              GROUP BY t2.author\n",
    "              ORDER BY avg_rating_author DESC\n",
    "              Limit 1'''\n",
    "print(get_sql_data(author_1))"
   ]
  },
  {
   "cell_type": "markdown",
   "metadata": {},
   "source": [
    "### Вывод\n",
    "\n",
    "Автор с самой высокой средней оценкой книг - J.K. Rowling/Mary GrandPre"
   ]
  },
  {
   "cell_type": "markdown",
   "metadata": {},
   "source": [
    "## Задание 5: Посчитайте среднее количество обзоров от пользователей, которые поставили больше 48 оценок"
   ]
  },
  {
   "cell_type": "code",
   "execution_count": 20,
   "metadata": {},
   "outputs": [
    {
     "name": "stdout",
     "output_type": "stream",
     "text": [
      "Среднее количество обзоров от пользователей, которые поставили больше 48 оценок, составляет 24.0\n"
     ]
    }
   ],
   "source": [
    "reviews = '''WITH users AS (SELECT r.username,\n",
    "                                   COUNT(rev.review_id) AS reviews_amount\n",
    "                            FROM (SELECT username,\n",
    "                                         COUNT(rating_id)\n",
    "                                  FROM ratings\n",
    "                                  GROUP BY username\n",
    "                                  HAVING COUNT(rating_id) > 48) AS r\n",
    "                            LEFT JOIN reviews AS rev ON r.username = rev.username\n",
    "                            GROUP BY r.username)\n",
    "              SELECT AVG(reviews_amount)\n",
    "              FROM users;'''\n",
    "\n",
    "print('Среднее количество обзоров от пользователей, которые поставили больше 48 оценок, составляет {}'.format(get_sql_data(reviews)['avg'][0]))"
   ]
  },
  {
   "cell_type": "markdown",
   "metadata": {},
   "source": [
    "### Вывод\n",
    "\n",
    "Среднее количество обзоров от пользователей, которые поставили больше 48 оценок - **24**"
   ]
  },
  {
   "cell_type": "markdown",
   "metadata": {},
   "source": [
    "## Вывод\n",
    "\n",
    "Проведен анализ баз данных по поставленным задачам.\n",
    "Основные выводы:\n",
    "\n",
    "1. После 01.01.2000г. вышло **819 книг**;\n",
    "2. Для каждой книги рассчитаны количество обзоров и средняя оценка. Результаты сохранены в датасете **data_reviews_ratings**;\n",
    "3. Издательство, выпустившее наибольшее количество книг толщиной больше 50 страниц - **Penguin Books** (id 212, количество выпущенных книг 42);\n",
    "4. Автором с самой высокой средней оценкой книг является J**.K. Rowling/Mary GrandPre** (учитывались только книги с количеством оценок 50 и выше);\n",
    "5. Среднее количество обзоров от пользователей, которые поставили больше 48 оценок - **24**"
   ]
  }
 ],
 "metadata": {
  "ExecuteTimeLog": [
   {
    "duration": 7054,
    "start_time": "2024-05-19T06:26:41.255Z"
   },
   {
    "duration": 152,
    "start_time": "2024-05-19T06:30:31.753Z"
   },
   {
    "duration": 61,
    "start_time": "2024-05-19T06:30:46.831Z"
   },
   {
    "duration": 72,
    "start_time": "2024-05-19T06:30:50.386Z"
   },
   {
    "duration": 2,
    "start_time": "2024-05-19T06:32:25.024Z"
   },
   {
    "duration": 237,
    "start_time": "2024-05-19T06:32:26.344Z"
   },
   {
    "duration": 4,
    "start_time": "2024-05-19T06:41:51.635Z"
   },
   {
    "duration": 3,
    "start_time": "2024-05-19T06:42:14.236Z"
   },
   {
    "duration": 240,
    "start_time": "2024-05-19T06:42:17.951Z"
   },
   {
    "duration": 10,
    "start_time": "2024-05-19T06:43:14.292Z"
   },
   {
    "duration": 4,
    "start_time": "2024-05-19T06:43:36.696Z"
   },
   {
    "duration": 3,
    "start_time": "2024-05-19T06:43:39.803Z"
   },
   {
    "duration": 3,
    "start_time": "2024-05-19T06:44:07.036Z"
   },
   {
    "duration": 130,
    "start_time": "2024-05-19T06:44:15.611Z"
   },
   {
    "duration": 4,
    "start_time": "2024-05-19T06:44:31.794Z"
   },
   {
    "duration": 76,
    "start_time": "2024-05-19T06:44:57.389Z"
   },
   {
    "duration": 3,
    "start_time": "2024-05-19T06:46:01.788Z"
   },
   {
    "duration": 50,
    "start_time": "2024-05-19T06:46:04.112Z"
   },
   {
    "duration": 70,
    "start_time": "2024-05-19T06:46:12.976Z"
   },
   {
    "duration": 3,
    "start_time": "2024-05-19T06:47:08.054Z"
   },
   {
    "duration": 51,
    "start_time": "2024-05-19T06:47:08.619Z"
   },
   {
    "duration": 81,
    "start_time": "2024-05-19T06:47:10.664Z"
   },
   {
    "duration": 52,
    "start_time": "2024-05-19T06:47:57.322Z"
   },
   {
    "duration": 68,
    "start_time": "2024-05-19T06:47:59.085Z"
   },
   {
    "duration": 50,
    "start_time": "2024-05-19T06:48:25.966Z"
   },
   {
    "duration": 56,
    "start_time": "2024-05-19T06:48:33.025Z"
   },
   {
    "duration": 53,
    "start_time": "2024-05-19T06:48:53.357Z"
   },
   {
    "duration": 116,
    "start_time": "2024-05-19T06:49:27.268Z"
   },
   {
    "duration": 51,
    "start_time": "2024-05-19T06:49:51.702Z"
   },
   {
    "duration": 100,
    "start_time": "2024-05-19T06:50:23.124Z"
   },
   {
    "duration": 48,
    "start_time": "2024-05-19T06:51:01.155Z"
   },
   {
    "duration": 93,
    "start_time": "2024-05-19T06:52:26.536Z"
   },
   {
    "duration": 51,
    "start_time": "2024-05-19T06:53:13.650Z"
   },
   {
    "duration": 54,
    "start_time": "2024-05-19T06:55:16.878Z"
   },
   {
    "duration": 54,
    "start_time": "2024-05-19T06:56:13.892Z"
   },
   {
    "duration": 519,
    "start_time": "2024-05-19T06:56:48.312Z"
   },
   {
    "duration": 3,
    "start_time": "2024-05-19T06:56:48.833Z"
   },
   {
    "duration": 5974,
    "start_time": "2024-05-19T06:56:48.838Z"
   },
   {
    "duration": 4,
    "start_time": "2024-05-19T06:56:54.813Z"
   },
   {
    "duration": 18,
    "start_time": "2024-05-19T06:56:54.819Z"
   },
   {
    "duration": 231,
    "start_time": "2024-05-19T06:56:54.838Z"
   },
   {
    "duration": 79,
    "start_time": "2024-05-19T06:56:55.070Z"
   },
   {
    "duration": 53,
    "start_time": "2024-05-19T06:56:55.152Z"
   },
   {
    "duration": 59,
    "start_time": "2024-05-19T06:56:55.207Z"
   },
   {
    "duration": 50,
    "start_time": "2024-05-19T06:56:55.269Z"
   },
   {
    "duration": 53,
    "start_time": "2024-05-19T06:56:55.321Z"
   },
   {
    "duration": 52,
    "start_time": "2024-05-19T06:56:55.376Z"
   },
   {
    "duration": 92,
    "start_time": "2024-05-19T06:56:55.430Z"
   },
   {
    "duration": 51,
    "start_time": "2024-05-19T06:56:55.524Z"
   },
   {
    "duration": 69,
    "start_time": "2024-05-19T06:56:55.577Z"
   },
   {
    "duration": 51,
    "start_time": "2024-05-19T06:56:55.648Z"
   },
   {
    "duration": 64,
    "start_time": "2024-05-19T06:56:55.701Z"
   },
   {
    "duration": 50,
    "start_time": "2024-05-19T06:56:55.768Z"
   },
   {
    "duration": 53,
    "start_time": "2024-05-19T06:56:55.820Z"
   },
   {
    "duration": 53,
    "start_time": "2024-05-19T06:56:55.875Z"
   },
   {
    "duration": 533,
    "start_time": "2024-05-20T05:05:36.892Z"
   },
   {
    "duration": 5,
    "start_time": "2024-05-20T05:05:37.427Z"
   },
   {
    "duration": 6830,
    "start_time": "2024-05-20T05:05:37.434Z"
   },
   {
    "duration": 3,
    "start_time": "2024-05-20T05:05:44.266Z"
   },
   {
    "duration": 13,
    "start_time": "2024-05-20T05:05:44.270Z"
   },
   {
    "duration": 262,
    "start_time": "2024-05-20T05:05:44.285Z"
   },
   {
    "duration": 82,
    "start_time": "2024-05-20T05:05:44.548Z"
   },
   {
    "duration": 54,
    "start_time": "2024-05-20T05:05:44.632Z"
   },
   {
    "duration": 58,
    "start_time": "2024-05-20T05:05:44.688Z"
   },
   {
    "duration": 54,
    "start_time": "2024-05-20T05:05:44.748Z"
   },
   {
    "duration": 57,
    "start_time": "2024-05-20T05:05:44.804Z"
   },
   {
    "duration": 54,
    "start_time": "2024-05-20T05:05:44.863Z"
   },
   {
    "duration": 89,
    "start_time": "2024-05-20T05:05:44.919Z"
   },
   {
    "duration": 54,
    "start_time": "2024-05-20T05:05:45.011Z"
   },
   {
    "duration": 72,
    "start_time": "2024-05-20T05:05:45.067Z"
   },
   {
    "duration": 52,
    "start_time": "2024-05-20T05:05:45.140Z"
   },
   {
    "duration": 68,
    "start_time": "2024-05-20T05:05:45.194Z"
   },
   {
    "duration": 52,
    "start_time": "2024-05-20T05:05:45.264Z"
   },
   {
    "duration": 65,
    "start_time": "2024-05-20T05:05:45.318Z"
   },
   {
    "duration": 52,
    "start_time": "2024-05-20T05:05:45.384Z"
   }
  ],
  "kernelspec": {
   "display_name": "Python 3 (ipykernel)",
   "language": "python",
   "name": "python3"
  },
  "language_info": {
   "codemirror_mode": {
    "name": "ipython",
    "version": 3
   },
   "file_extension": ".py",
   "mimetype": "text/x-python",
   "name": "python",
   "nbconvert_exporter": "python",
   "pygments_lexer": "ipython3",
   "version": "3.9.5"
  },
  "toc": {
   "base_numbering": 1,
   "nav_menu": {},
   "number_sections": false,
   "sideBar": true,
   "skip_h1_title": true,
   "title_cell": "Table of Contents",
   "title_sidebar": "Contents",
   "toc_cell": false,
   "toc_position": {},
   "toc_section_display": true,
   "toc_window_display": false
  }
 },
 "nbformat": 4,
 "nbformat_minor": 2
}
